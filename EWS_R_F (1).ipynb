{
 "cells": [
  {
   "cell_type": "code",
   "execution_count": 65,
   "id": "b5fceea9",
   "metadata": {},
   "outputs": [],
   "source": [
    "# Imports\n",
    "\n",
    "import warnings\n",
    "\n",
    "warnings.filterwarnings(\"ignore\")\n",
    "\n",
    "import pandas as pd\n",
    "import numpy as np\n",
    "import datetime as dt\n",
    "from collections import Counter  \n",
    "import calendar\n",
    "from dateutil import relativedelta\n",
    "import operator\n",
    "import os\n",
    "import random\n",
    "from functools import reduce\n",
    "import matplotlib.pyplot as plt\n",
    "import seaborn as sns\n",
    "from itertools import combinations\n",
    "import warnings\n",
    "import matplotlib.ticker as ticker\n",
    "warnings.filterwarnings('ignore')\n",
    "pd.set_option('display.max_columns', None)\n",
    "pd.set_option('display.max_rows', None)\n",
    "pd.set_option('display.float_format', lambda x: f'%.{len(str(x%1))-2}f' % x)\n",
    "pd.set_option('display.max_colwidth', None)\n",
    "%matplotlib inline"
   ]
  },
  {
   "cell_type": "code",
   "execution_count": 370,
   "id": "a27437ed",
   "metadata": {},
   "outputs": [],
   "source": [
    "detail = pd.read_csv('CS_DETAIL_RETAIL.csv',converters={'CIF_ID':str})\n",
    "non_loan = pd.read_csv('CS_NON_LOAN_ACC_RETAIL_2_2_1.csv',converters={'CIF_ID':str})\n",
    "loan = pd.read_csv('CS_LOAN_ACC_RETAIL_2_2_1.csv',converters={'CIF_ID':str})\n",
    "trans = pd.read_csv('CS_TRANS_RETAIL_2.csv',converters={'CIF_ID':str})\n",
    "eod = pd.read_csv('CS_EOD_RETAIL.csv',converters={'CIF_ID':str})\n",
    "otg = pd.read_csv('CS_OTG_RETAIL.csv',converters={'CIF_ID':str})"
   ]
  },
  {
   "cell_type": "code",
   "execution_count": 371,
   "id": "b4175413",
   "metadata": {},
   "outputs": [
    {
     "data": {
      "text/plain": [
       "Index(['CIF_ID', 'LOAN_ACCOUNTS'], dtype='object')"
      ]
     },
     "execution_count": 371,
     "metadata": {},
     "output_type": "execute_result"
    }
   ],
   "source": [
    "loan.columns"
   ]
  },
  {
   "cell_type": "code",
   "execution_count": 67,
   "id": "18755b1e",
   "metadata": {},
   "outputs": [
    {
     "name": "stdout",
     "output_type": "stream",
     "text": [
      "DataFrame 1 - Shape: (852, 22), Unique IDs: 537\n",
      "DataFrame 2 - Shape: (681, 2), Unique IDs: 681\n",
      "DataFrame 3 - Shape: (582, 2), Unique IDs: 582\n",
      "DataFrame 4 - Shape: (319562, 8), Unique IDs: 533\n",
      "DataFrame 5 - Shape: (9297, 3), Unique IDs: 679\n",
      "DataFrame 6 - Shape: (6671, 6), Unique IDs: 686\n"
     ]
    }
   ],
   "source": [
    "dfs = [detail, non_loan, loan, trans, eod, otg ]\n",
    "\n",
    "for i, df in enumerate(dfs, start=1):\n",
    "    print(f\"DataFrame {i} - Shape: {df.shape}, Unique IDs: {df['CIF_ID'].nunique()}\")"
   ]
  },
  {
   "cell_type": "code",
   "execution_count": 68,
   "id": "1bbafec9",
   "metadata": {},
   "outputs": [],
   "source": [
    "columns_to_drop = ['CUSTOMERINCOME', 'SECTOR', 'SUBSECTOR', 'SECURED_FLG', 'PHYSICALADDRESS']\n",
    "detail.drop(columns=columns_to_drop, inplace=True)"
   ]
  },
  {
   "cell_type": "code",
   "execution_count": 69,
   "id": "4ae6a9ec",
   "metadata": {},
   "outputs": [],
   "source": [
    "# detail['FLOW_AMT'] == 0 are new loans and have not paid instalments on their loans yet \n",
    "detail = detail[~((detail['FLOW_ID'] == 'INDEM') & (detail['FLOW_AMT'] == 0))]\n"
   ]
  },
  {
   "cell_type": "code",
   "execution_count": 70,
   "id": "005a73f8",
   "metadata": {},
   "outputs": [
    {
     "name": "stdout",
     "output_type": "stream",
     "text": [
      "Number of 0's (DPD_CNTR < 60): 597\n",
      "Number of 1's (DPD_CNTR >= 60): 62\n"
     ]
    }
   ],
   "source": [
    "# Default on a loan has been described as 60 days past instalment payment date\n",
    "detail['DEFAULT_STATUS'] = (detail['DPD_CNTR'] >= 60).astype(int)\n",
    "default_status_counts = detail['DEFAULT_STATUS'].value_counts()\n",
    "\n",
    "print(\"Number of 0's (DPD_CNTR < 60):\", default_status_counts[0])\n",
    "print(\"Number of 1's (DPD_CNTR >= 60):\", default_status_counts[1])"
   ]
  },
  {
   "cell_type": "markdown",
   "id": "6b1057c6",
   "metadata": {},
   "source": [
    "## TRANSACTIONS"
   ]
  },
  {
   "cell_type": "code",
   "execution_count": 71,
   "id": "2c3ce2a1",
   "metadata": {},
   "outputs": [],
   "source": [
    "detail.drop('ACID', inplace=True,axis=1)\n",
    "trans.drop('ACID',inplace=True,axis=1)"
   ]
  },
  {
   "cell_type": "code",
   "execution_count": 72,
   "id": "df93cf44",
   "metadata": {},
   "outputs": [],
   "source": [
    "df_detail_trans = pd.merge(detail,trans,on='CIF_ID', how='left')"
   ]
  },
  {
   "cell_type": "code",
   "execution_count": 73,
   "id": "33a81309",
   "metadata": {},
   "outputs": [
    {
     "data": {
      "text/plain": [
       "537"
      ]
     },
     "execution_count": 73,
     "metadata": {},
     "output_type": "execute_result"
    }
   ],
   "source": [
    "df_detail_trans['CIF_ID'].nunique()"
   ]
  },
  {
   "cell_type": "code",
   "execution_count": 74,
   "id": "690ecfd6",
   "metadata": {},
   "outputs": [],
   "source": [
    "# df_detail_trans.drop(['SEGMENTATION_CLASS', 'SCHM_CODE'], axis=1, inplace=True)"
   ]
  },
  {
   "cell_type": "code",
   "execution_count": 75,
   "id": "4dc907fd",
   "metadata": {},
   "outputs": [
    {
     "data": {
      "text/plain": [
       "BL03    513\n",
       "BL05    146\n",
       "Name: SEGMENTATION_CLASS, dtype: int64"
      ]
     },
     "execution_count": 75,
     "metadata": {},
     "output_type": "execute_result"
    }
   ],
   "source": [
    "detail.SEGMENTATION_CLASS.value_counts()"
   ]
  },
  {
   "cell_type": "code",
   "execution_count": 76,
   "id": "1aea3233",
   "metadata": {},
   "outputs": [],
   "source": [
    "schm_code_counts = detail['SCHM_CODE'].value_counts()\n"
   ]
  },
  {
   "cell_type": "code",
   "execution_count": 77,
   "id": "0c2adda4",
   "metadata": {},
   "outputs": [
    {
     "data": {
      "application/vnd.plotly.v1+json": {
       "config": {
        "plotlyServerURL": "https://plot.ly"
       },
       "data": [
        {
         "alignmentgroup": "True",
         "hovertemplate": "index=%{x}<br>y=%{y}<extra></extra>",
         "legendgroup": "",
         "marker": {
          "color": "#636efa",
          "pattern": {
           "shape": ""
          }
         },
         "name": "",
         "offsetgroup": "",
         "orientation": "v",
         "showlegend": false,
         "textposition": "auto",
         "type": "bar",
         "x": [
          "LAL32",
          "LAL03",
          "LAL27",
          "LAL02",
          "LAL06",
          "LAL30",
          "LAF06",
          "LAL10",
          "LAL21",
          "LAF01"
         ],
         "xaxis": "x",
         "y": [
          154,
          148,
          128,
          111,
          57,
          48,
          5,
          5,
          2,
          1
         ],
         "yaxis": "y"
        }
       ],
       "layout": {
        "barmode": "relative",
        "legend": {
         "tracegroupgap": 0
        },
        "template": {
         "data": {
          "bar": [
           {
            "error_x": {
             "color": "#2a3f5f"
            },
            "error_y": {
             "color": "#2a3f5f"
            },
            "marker": {
             "line": {
              "color": "#E5ECF6",
              "width": 0.5
             },
             "pattern": {
              "fillmode": "overlay",
              "size": 10,
              "solidity": 0.2
             }
            },
            "type": "bar"
           }
          ],
          "barpolar": [
           {
            "marker": {
             "line": {
              "color": "#E5ECF6",
              "width": 0.5
             },
             "pattern": {
              "fillmode": "overlay",
              "size": 10,
              "solidity": 0.2
             }
            },
            "type": "barpolar"
           }
          ],
          "carpet": [
           {
            "aaxis": {
             "endlinecolor": "#2a3f5f",
             "gridcolor": "white",
             "linecolor": "white",
             "minorgridcolor": "white",
             "startlinecolor": "#2a3f5f"
            },
            "baxis": {
             "endlinecolor": "#2a3f5f",
             "gridcolor": "white",
             "linecolor": "white",
             "minorgridcolor": "white",
             "startlinecolor": "#2a3f5f"
            },
            "type": "carpet"
           }
          ],
          "choropleth": [
           {
            "colorbar": {
             "outlinewidth": 0,
             "ticks": ""
            },
            "type": "choropleth"
           }
          ],
          "contour": [
           {
            "colorbar": {
             "outlinewidth": 0,
             "ticks": ""
            },
            "colorscale": [
             [
              0,
              "#0d0887"
             ],
             [
              0.1111111111111111,
              "#46039f"
             ],
             [
              0.2222222222222222,
              "#7201a8"
             ],
             [
              0.3333333333333333,
              "#9c179e"
             ],
             [
              0.4444444444444444,
              "#bd3786"
             ],
             [
              0.5555555555555556,
              "#d8576b"
             ],
             [
              0.6666666666666666,
              "#ed7953"
             ],
             [
              0.7777777777777778,
              "#fb9f3a"
             ],
             [
              0.8888888888888888,
              "#fdca26"
             ],
             [
              1,
              "#f0f921"
             ]
            ],
            "type": "contour"
           }
          ],
          "contourcarpet": [
           {
            "colorbar": {
             "outlinewidth": 0,
             "ticks": ""
            },
            "type": "contourcarpet"
           }
          ],
          "heatmap": [
           {
            "colorbar": {
             "outlinewidth": 0,
             "ticks": ""
            },
            "colorscale": [
             [
              0,
              "#0d0887"
             ],
             [
              0.1111111111111111,
              "#46039f"
             ],
             [
              0.2222222222222222,
              "#7201a8"
             ],
             [
              0.3333333333333333,
              "#9c179e"
             ],
             [
              0.4444444444444444,
              "#bd3786"
             ],
             [
              0.5555555555555556,
              "#d8576b"
             ],
             [
              0.6666666666666666,
              "#ed7953"
             ],
             [
              0.7777777777777778,
              "#fb9f3a"
             ],
             [
              0.8888888888888888,
              "#fdca26"
             ],
             [
              1,
              "#f0f921"
             ]
            ],
            "type": "heatmap"
           }
          ],
          "heatmapgl": [
           {
            "colorbar": {
             "outlinewidth": 0,
             "ticks": ""
            },
            "colorscale": [
             [
              0,
              "#0d0887"
             ],
             [
              0.1111111111111111,
              "#46039f"
             ],
             [
              0.2222222222222222,
              "#7201a8"
             ],
             [
              0.3333333333333333,
              "#9c179e"
             ],
             [
              0.4444444444444444,
              "#bd3786"
             ],
             [
              0.5555555555555556,
              "#d8576b"
             ],
             [
              0.6666666666666666,
              "#ed7953"
             ],
             [
              0.7777777777777778,
              "#fb9f3a"
             ],
             [
              0.8888888888888888,
              "#fdca26"
             ],
             [
              1,
              "#f0f921"
             ]
            ],
            "type": "heatmapgl"
           }
          ],
          "histogram": [
           {
            "marker": {
             "pattern": {
              "fillmode": "overlay",
              "size": 10,
              "solidity": 0.2
             }
            },
            "type": "histogram"
           }
          ],
          "histogram2d": [
           {
            "colorbar": {
             "outlinewidth": 0,
             "ticks": ""
            },
            "colorscale": [
             [
              0,
              "#0d0887"
             ],
             [
              0.1111111111111111,
              "#46039f"
             ],
             [
              0.2222222222222222,
              "#7201a8"
             ],
             [
              0.3333333333333333,
              "#9c179e"
             ],
             [
              0.4444444444444444,
              "#bd3786"
             ],
             [
              0.5555555555555556,
              "#d8576b"
             ],
             [
              0.6666666666666666,
              "#ed7953"
             ],
             [
              0.7777777777777778,
              "#fb9f3a"
             ],
             [
              0.8888888888888888,
              "#fdca26"
             ],
             [
              1,
              "#f0f921"
             ]
            ],
            "type": "histogram2d"
           }
          ],
          "histogram2dcontour": [
           {
            "colorbar": {
             "outlinewidth": 0,
             "ticks": ""
            },
            "colorscale": [
             [
              0,
              "#0d0887"
             ],
             [
              0.1111111111111111,
              "#46039f"
             ],
             [
              0.2222222222222222,
              "#7201a8"
             ],
             [
              0.3333333333333333,
              "#9c179e"
             ],
             [
              0.4444444444444444,
              "#bd3786"
             ],
             [
              0.5555555555555556,
              "#d8576b"
             ],
             [
              0.6666666666666666,
              "#ed7953"
             ],
             [
              0.7777777777777778,
              "#fb9f3a"
             ],
             [
              0.8888888888888888,
              "#fdca26"
             ],
             [
              1,
              "#f0f921"
             ]
            ],
            "type": "histogram2dcontour"
           }
          ],
          "mesh3d": [
           {
            "colorbar": {
             "outlinewidth": 0,
             "ticks": ""
            },
            "type": "mesh3d"
           }
          ],
          "parcoords": [
           {
            "line": {
             "colorbar": {
              "outlinewidth": 0,
              "ticks": ""
             }
            },
            "type": "parcoords"
           }
          ],
          "pie": [
           {
            "automargin": true,
            "type": "pie"
           }
          ],
          "scatter": [
           {
            "marker": {
             "colorbar": {
              "outlinewidth": 0,
              "ticks": ""
             }
            },
            "type": "scatter"
           }
          ],
          "scatter3d": [
           {
            "line": {
             "colorbar": {
              "outlinewidth": 0,
              "ticks": ""
             }
            },
            "marker": {
             "colorbar": {
              "outlinewidth": 0,
              "ticks": ""
             }
            },
            "type": "scatter3d"
           }
          ],
          "scattercarpet": [
           {
            "marker": {
             "colorbar": {
              "outlinewidth": 0,
              "ticks": ""
             }
            },
            "type": "scattercarpet"
           }
          ],
          "scattergeo": [
           {
            "marker": {
             "colorbar": {
              "outlinewidth": 0,
              "ticks": ""
             }
            },
            "type": "scattergeo"
           }
          ],
          "scattergl": [
           {
            "marker": {
             "colorbar": {
              "outlinewidth": 0,
              "ticks": ""
             }
            },
            "type": "scattergl"
           }
          ],
          "scattermapbox": [
           {
            "marker": {
             "colorbar": {
              "outlinewidth": 0,
              "ticks": ""
             }
            },
            "type": "scattermapbox"
           }
          ],
          "scatterpolar": [
           {
            "marker": {
             "colorbar": {
              "outlinewidth": 0,
              "ticks": ""
             }
            },
            "type": "scatterpolar"
           }
          ],
          "scatterpolargl": [
           {
            "marker": {
             "colorbar": {
              "outlinewidth": 0,
              "ticks": ""
             }
            },
            "type": "scatterpolargl"
           }
          ],
          "scatterternary": [
           {
            "marker": {
             "colorbar": {
              "outlinewidth": 0,
              "ticks": ""
             }
            },
            "type": "scatterternary"
           }
          ],
          "surface": [
           {
            "colorbar": {
             "outlinewidth": 0,
             "ticks": ""
            },
            "colorscale": [
             [
              0,
              "#0d0887"
             ],
             [
              0.1111111111111111,
              "#46039f"
             ],
             [
              0.2222222222222222,
              "#7201a8"
             ],
             [
              0.3333333333333333,
              "#9c179e"
             ],
             [
              0.4444444444444444,
              "#bd3786"
             ],
             [
              0.5555555555555556,
              "#d8576b"
             ],
             [
              0.6666666666666666,
              "#ed7953"
             ],
             [
              0.7777777777777778,
              "#fb9f3a"
             ],
             [
              0.8888888888888888,
              "#fdca26"
             ],
             [
              1,
              "#f0f921"
             ]
            ],
            "type": "surface"
           }
          ],
          "table": [
           {
            "cells": {
             "fill": {
              "color": "#EBF0F8"
             },
             "line": {
              "color": "white"
             }
            },
            "header": {
             "fill": {
              "color": "#C8D4E3"
             },
             "line": {
              "color": "white"
             }
            },
            "type": "table"
           }
          ]
         },
         "layout": {
          "annotationdefaults": {
           "arrowcolor": "#2a3f5f",
           "arrowhead": 0,
           "arrowwidth": 1
          },
          "autotypenumbers": "strict",
          "coloraxis": {
           "colorbar": {
            "outlinewidth": 0,
            "ticks": ""
           }
          },
          "colorscale": {
           "diverging": [
            [
             0,
             "#8e0152"
            ],
            [
             0.1,
             "#c51b7d"
            ],
            [
             0.2,
             "#de77ae"
            ],
            [
             0.3,
             "#f1b6da"
            ],
            [
             0.4,
             "#fde0ef"
            ],
            [
             0.5,
             "#f7f7f7"
            ],
            [
             0.6,
             "#e6f5d0"
            ],
            [
             0.7,
             "#b8e186"
            ],
            [
             0.8,
             "#7fbc41"
            ],
            [
             0.9,
             "#4d9221"
            ],
            [
             1,
             "#276419"
            ]
           ],
           "sequential": [
            [
             0,
             "#0d0887"
            ],
            [
             0.1111111111111111,
             "#46039f"
            ],
            [
             0.2222222222222222,
             "#7201a8"
            ],
            [
             0.3333333333333333,
             "#9c179e"
            ],
            [
             0.4444444444444444,
             "#bd3786"
            ],
            [
             0.5555555555555556,
             "#d8576b"
            ],
            [
             0.6666666666666666,
             "#ed7953"
            ],
            [
             0.7777777777777778,
             "#fb9f3a"
            ],
            [
             0.8888888888888888,
             "#fdca26"
            ],
            [
             1,
             "#f0f921"
            ]
           ],
           "sequentialminus": [
            [
             0,
             "#0d0887"
            ],
            [
             0.1111111111111111,
             "#46039f"
            ],
            [
             0.2222222222222222,
             "#7201a8"
            ],
            [
             0.3333333333333333,
             "#9c179e"
            ],
            [
             0.4444444444444444,
             "#bd3786"
            ],
            [
             0.5555555555555556,
             "#d8576b"
            ],
            [
             0.6666666666666666,
             "#ed7953"
            ],
            [
             0.7777777777777778,
             "#fb9f3a"
            ],
            [
             0.8888888888888888,
             "#fdca26"
            ],
            [
             1,
             "#f0f921"
            ]
           ]
          },
          "colorway": [
           "#636efa",
           "#EF553B",
           "#00cc96",
           "#ab63fa",
           "#FFA15A",
           "#19d3f3",
           "#FF6692",
           "#B6E880",
           "#FF97FF",
           "#FECB52"
          ],
          "font": {
           "color": "#2a3f5f"
          },
          "geo": {
           "bgcolor": "white",
           "lakecolor": "white",
           "landcolor": "#E5ECF6",
           "showlakes": true,
           "showland": true,
           "subunitcolor": "white"
          },
          "hoverlabel": {
           "align": "left"
          },
          "hovermode": "closest",
          "mapbox": {
           "style": "light"
          },
          "paper_bgcolor": "white",
          "plot_bgcolor": "#E5ECF6",
          "polar": {
           "angularaxis": {
            "gridcolor": "white",
            "linecolor": "white",
            "ticks": ""
           },
           "bgcolor": "#E5ECF6",
           "radialaxis": {
            "gridcolor": "white",
            "linecolor": "white",
            "ticks": ""
           }
          },
          "scene": {
           "xaxis": {
            "backgroundcolor": "#E5ECF6",
            "gridcolor": "white",
            "gridwidth": 2,
            "linecolor": "white",
            "showbackground": true,
            "ticks": "",
            "zerolinecolor": "white"
           },
           "yaxis": {
            "backgroundcolor": "#E5ECF6",
            "gridcolor": "white",
            "gridwidth": 2,
            "linecolor": "white",
            "showbackground": true,
            "ticks": "",
            "zerolinecolor": "white"
           },
           "zaxis": {
            "backgroundcolor": "#E5ECF6",
            "gridcolor": "white",
            "gridwidth": 2,
            "linecolor": "white",
            "showbackground": true,
            "ticks": "",
            "zerolinecolor": "white"
           }
          },
          "shapedefaults": {
           "line": {
            "color": "#2a3f5f"
           }
          },
          "ternary": {
           "aaxis": {
            "gridcolor": "white",
            "linecolor": "white",
            "ticks": ""
           },
           "baxis": {
            "gridcolor": "white",
            "linecolor": "white",
            "ticks": ""
           },
           "bgcolor": "#E5ECF6",
           "caxis": {
            "gridcolor": "white",
            "linecolor": "white",
            "ticks": ""
           }
          },
          "title": {
           "x": 0.05
          },
          "xaxis": {
           "automargin": true,
           "gridcolor": "white",
           "linecolor": "white",
           "ticks": "",
           "title": {
            "standoff": 15
           },
           "zerolinecolor": "white",
           "zerolinewidth": 2
          },
          "yaxis": {
           "automargin": true,
           "gridcolor": "white",
           "linecolor": "white",
           "ticks": "",
           "title": {
            "standoff": 15
           },
           "zerolinecolor": "white",
           "zerolinewidth": 2
          }
         }
        },
        "title": {
         "text": "Value Counts of Scheme Codes"
        },
        "xaxis": {
         "anchor": "y",
         "domain": [
          0,
          1
         ],
         "title": {
          "text": "index"
         }
        },
        "yaxis": {
         "anchor": "x",
         "domain": [
          0,
          1
         ],
         "title": {
          "text": "y"
         }
        }
       }
      },
      "text/html": [
       "<div>                            <div id=\"aa35c535-dc0a-4fd2-8f17-cb9dd0806583\" class=\"plotly-graph-div\" style=\"height:525px; width:100%;\"></div>            <script type=\"text/javascript\">                require([\"plotly\"], function(Plotly) {                    window.PLOTLYENV=window.PLOTLYENV || {};                                    if (document.getElementById(\"aa35c535-dc0a-4fd2-8f17-cb9dd0806583\")) {                    Plotly.newPlot(                        \"aa35c535-dc0a-4fd2-8f17-cb9dd0806583\",                        [{\"alignmentgroup\":\"True\",\"hovertemplate\":\"index=%{x}<br>y=%{y}<extra></extra>\",\"legendgroup\":\"\",\"marker\":{\"color\":\"#636efa\",\"pattern\":{\"shape\":\"\"}},\"name\":\"\",\"offsetgroup\":\"\",\"orientation\":\"v\",\"showlegend\":false,\"textposition\":\"auto\",\"x\":[\"LAL32\",\"LAL03\",\"LAL27\",\"LAL02\",\"LAL06\",\"LAL30\",\"LAF06\",\"LAL10\",\"LAL21\",\"LAF01\"],\"xaxis\":\"x\",\"y\":[154,148,128,111,57,48,5,5,2,1],\"yaxis\":\"y\",\"type\":\"bar\"}],                        {\"template\":{\"data\":{\"bar\":[{\"error_x\":{\"color\":\"#2a3f5f\"},\"error_y\":{\"color\":\"#2a3f5f\"},\"marker\":{\"line\":{\"color\":\"#E5ECF6\",\"width\":0.5},\"pattern\":{\"fillmode\":\"overlay\",\"size\":10,\"solidity\":0.2}},\"type\":\"bar\"}],\"barpolar\":[{\"marker\":{\"line\":{\"color\":\"#E5ECF6\",\"width\":0.5},\"pattern\":{\"fillmode\":\"overlay\",\"size\":10,\"solidity\":0.2}},\"type\":\"barpolar\"}],\"carpet\":[{\"aaxis\":{\"endlinecolor\":\"#2a3f5f\",\"gridcolor\":\"white\",\"linecolor\":\"white\",\"minorgridcolor\":\"white\",\"startlinecolor\":\"#2a3f5f\"},\"baxis\":{\"endlinecolor\":\"#2a3f5f\",\"gridcolor\":\"white\",\"linecolor\":\"white\",\"minorgridcolor\":\"white\",\"startlinecolor\":\"#2a3f5f\"},\"type\":\"carpet\"}],\"choropleth\":[{\"colorbar\":{\"outlinewidth\":0,\"ticks\":\"\"},\"type\":\"choropleth\"}],\"contour\":[{\"colorbar\":{\"outlinewidth\":0,\"ticks\":\"\"},\"colorscale\":[[0.0,\"#0d0887\"],[0.1111111111111111,\"#46039f\"],[0.2222222222222222,\"#7201a8\"],[0.3333333333333333,\"#9c179e\"],[0.4444444444444444,\"#bd3786\"],[0.5555555555555556,\"#d8576b\"],[0.6666666666666666,\"#ed7953\"],[0.7777777777777778,\"#fb9f3a\"],[0.8888888888888888,\"#fdca26\"],[1.0,\"#f0f921\"]],\"type\":\"contour\"}],\"contourcarpet\":[{\"colorbar\":{\"outlinewidth\":0,\"ticks\":\"\"},\"type\":\"contourcarpet\"}],\"heatmap\":[{\"colorbar\":{\"outlinewidth\":0,\"ticks\":\"\"},\"colorscale\":[[0.0,\"#0d0887\"],[0.1111111111111111,\"#46039f\"],[0.2222222222222222,\"#7201a8\"],[0.3333333333333333,\"#9c179e\"],[0.4444444444444444,\"#bd3786\"],[0.5555555555555556,\"#d8576b\"],[0.6666666666666666,\"#ed7953\"],[0.7777777777777778,\"#fb9f3a\"],[0.8888888888888888,\"#fdca26\"],[1.0,\"#f0f921\"]],\"type\":\"heatmap\"}],\"heatmapgl\":[{\"colorbar\":{\"outlinewidth\":0,\"ticks\":\"\"},\"colorscale\":[[0.0,\"#0d0887\"],[0.1111111111111111,\"#46039f\"],[0.2222222222222222,\"#7201a8\"],[0.3333333333333333,\"#9c179e\"],[0.4444444444444444,\"#bd3786\"],[0.5555555555555556,\"#d8576b\"],[0.6666666666666666,\"#ed7953\"],[0.7777777777777778,\"#fb9f3a\"],[0.8888888888888888,\"#fdca26\"],[1.0,\"#f0f921\"]],\"type\":\"heatmapgl\"}],\"histogram\":[{\"marker\":{\"pattern\":{\"fillmode\":\"overlay\",\"size\":10,\"solidity\":0.2}},\"type\":\"histogram\"}],\"histogram2d\":[{\"colorbar\":{\"outlinewidth\":0,\"ticks\":\"\"},\"colorscale\":[[0.0,\"#0d0887\"],[0.1111111111111111,\"#46039f\"],[0.2222222222222222,\"#7201a8\"],[0.3333333333333333,\"#9c179e\"],[0.4444444444444444,\"#bd3786\"],[0.5555555555555556,\"#d8576b\"],[0.6666666666666666,\"#ed7953\"],[0.7777777777777778,\"#fb9f3a\"],[0.8888888888888888,\"#fdca26\"],[1.0,\"#f0f921\"]],\"type\":\"histogram2d\"}],\"histogram2dcontour\":[{\"colorbar\":{\"outlinewidth\":0,\"ticks\":\"\"},\"colorscale\":[[0.0,\"#0d0887\"],[0.1111111111111111,\"#46039f\"],[0.2222222222222222,\"#7201a8\"],[0.3333333333333333,\"#9c179e\"],[0.4444444444444444,\"#bd3786\"],[0.5555555555555556,\"#d8576b\"],[0.6666666666666666,\"#ed7953\"],[0.7777777777777778,\"#fb9f3a\"],[0.8888888888888888,\"#fdca26\"],[1.0,\"#f0f921\"]],\"type\":\"histogram2dcontour\"}],\"mesh3d\":[{\"colorbar\":{\"outlinewidth\":0,\"ticks\":\"\"},\"type\":\"mesh3d\"}],\"parcoords\":[{\"line\":{\"colorbar\":{\"outlinewidth\":0,\"ticks\":\"\"}},\"type\":\"parcoords\"}],\"pie\":[{\"automargin\":true,\"type\":\"pie\"}],\"scatter\":[{\"marker\":{\"colorbar\":{\"outlinewidth\":0,\"ticks\":\"\"}},\"type\":\"scatter\"}],\"scatter3d\":[{\"line\":{\"colorbar\":{\"outlinewidth\":0,\"ticks\":\"\"}},\"marker\":{\"colorbar\":{\"outlinewidth\":0,\"ticks\":\"\"}},\"type\":\"scatter3d\"}],\"scattercarpet\":[{\"marker\":{\"colorbar\":{\"outlinewidth\":0,\"ticks\":\"\"}},\"type\":\"scattercarpet\"}],\"scattergeo\":[{\"marker\":{\"colorbar\":{\"outlinewidth\":0,\"ticks\":\"\"}},\"type\":\"scattergeo\"}],\"scattergl\":[{\"marker\":{\"colorbar\":{\"outlinewidth\":0,\"ticks\":\"\"}},\"type\":\"scattergl\"}],\"scattermapbox\":[{\"marker\":{\"colorbar\":{\"outlinewidth\":0,\"ticks\":\"\"}},\"type\":\"scattermapbox\"}],\"scatterpolar\":[{\"marker\":{\"colorbar\":{\"outlinewidth\":0,\"ticks\":\"\"}},\"type\":\"scatterpolar\"}],\"scatterpolargl\":[{\"marker\":{\"colorbar\":{\"outlinewidth\":0,\"ticks\":\"\"}},\"type\":\"scatterpolargl\"}],\"scatterternary\":[{\"marker\":{\"colorbar\":{\"outlinewidth\":0,\"ticks\":\"\"}},\"type\":\"scatterternary\"}],\"surface\":[{\"colorbar\":{\"outlinewidth\":0,\"ticks\":\"\"},\"colorscale\":[[0.0,\"#0d0887\"],[0.1111111111111111,\"#46039f\"],[0.2222222222222222,\"#7201a8\"],[0.3333333333333333,\"#9c179e\"],[0.4444444444444444,\"#bd3786\"],[0.5555555555555556,\"#d8576b\"],[0.6666666666666666,\"#ed7953\"],[0.7777777777777778,\"#fb9f3a\"],[0.8888888888888888,\"#fdca26\"],[1.0,\"#f0f921\"]],\"type\":\"surface\"}],\"table\":[{\"cells\":{\"fill\":{\"color\":\"#EBF0F8\"},\"line\":{\"color\":\"white\"}},\"header\":{\"fill\":{\"color\":\"#C8D4E3\"},\"line\":{\"color\":\"white\"}},\"type\":\"table\"}]},\"layout\":{\"annotationdefaults\":{\"arrowcolor\":\"#2a3f5f\",\"arrowhead\":0,\"arrowwidth\":1},\"autotypenumbers\":\"strict\",\"coloraxis\":{\"colorbar\":{\"outlinewidth\":0,\"ticks\":\"\"}},\"colorscale\":{\"diverging\":[[0,\"#8e0152\"],[0.1,\"#c51b7d\"],[0.2,\"#de77ae\"],[0.3,\"#f1b6da\"],[0.4,\"#fde0ef\"],[0.5,\"#f7f7f7\"],[0.6,\"#e6f5d0\"],[0.7,\"#b8e186\"],[0.8,\"#7fbc41\"],[0.9,\"#4d9221\"],[1,\"#276419\"]],\"sequential\":[[0.0,\"#0d0887\"],[0.1111111111111111,\"#46039f\"],[0.2222222222222222,\"#7201a8\"],[0.3333333333333333,\"#9c179e\"],[0.4444444444444444,\"#bd3786\"],[0.5555555555555556,\"#d8576b\"],[0.6666666666666666,\"#ed7953\"],[0.7777777777777778,\"#fb9f3a\"],[0.8888888888888888,\"#fdca26\"],[1.0,\"#f0f921\"]],\"sequentialminus\":[[0.0,\"#0d0887\"],[0.1111111111111111,\"#46039f\"],[0.2222222222222222,\"#7201a8\"],[0.3333333333333333,\"#9c179e\"],[0.4444444444444444,\"#bd3786\"],[0.5555555555555556,\"#d8576b\"],[0.6666666666666666,\"#ed7953\"],[0.7777777777777778,\"#fb9f3a\"],[0.8888888888888888,\"#fdca26\"],[1.0,\"#f0f921\"]]},\"colorway\":[\"#636efa\",\"#EF553B\",\"#00cc96\",\"#ab63fa\",\"#FFA15A\",\"#19d3f3\",\"#FF6692\",\"#B6E880\",\"#FF97FF\",\"#FECB52\"],\"font\":{\"color\":\"#2a3f5f\"},\"geo\":{\"bgcolor\":\"white\",\"lakecolor\":\"white\",\"landcolor\":\"#E5ECF6\",\"showlakes\":true,\"showland\":true,\"subunitcolor\":\"white\"},\"hoverlabel\":{\"align\":\"left\"},\"hovermode\":\"closest\",\"mapbox\":{\"style\":\"light\"},\"paper_bgcolor\":\"white\",\"plot_bgcolor\":\"#E5ECF6\",\"polar\":{\"angularaxis\":{\"gridcolor\":\"white\",\"linecolor\":\"white\",\"ticks\":\"\"},\"bgcolor\":\"#E5ECF6\",\"radialaxis\":{\"gridcolor\":\"white\",\"linecolor\":\"white\",\"ticks\":\"\"}},\"scene\":{\"xaxis\":{\"backgroundcolor\":\"#E5ECF6\",\"gridcolor\":\"white\",\"gridwidth\":2,\"linecolor\":\"white\",\"showbackground\":true,\"ticks\":\"\",\"zerolinecolor\":\"white\"},\"yaxis\":{\"backgroundcolor\":\"#E5ECF6\",\"gridcolor\":\"white\",\"gridwidth\":2,\"linecolor\":\"white\",\"showbackground\":true,\"ticks\":\"\",\"zerolinecolor\":\"white\"},\"zaxis\":{\"backgroundcolor\":\"#E5ECF6\",\"gridcolor\":\"white\",\"gridwidth\":2,\"linecolor\":\"white\",\"showbackground\":true,\"ticks\":\"\",\"zerolinecolor\":\"white\"}},\"shapedefaults\":{\"line\":{\"color\":\"#2a3f5f\"}},\"ternary\":{\"aaxis\":{\"gridcolor\":\"white\",\"linecolor\":\"white\",\"ticks\":\"\"},\"baxis\":{\"gridcolor\":\"white\",\"linecolor\":\"white\",\"ticks\":\"\"},\"bgcolor\":\"#E5ECF6\",\"caxis\":{\"gridcolor\":\"white\",\"linecolor\":\"white\",\"ticks\":\"\"}},\"title\":{\"x\":0.05},\"xaxis\":{\"automargin\":true,\"gridcolor\":\"white\",\"linecolor\":\"white\",\"ticks\":\"\",\"title\":{\"standoff\":15},\"zerolinecolor\":\"white\",\"zerolinewidth\":2},\"yaxis\":{\"automargin\":true,\"gridcolor\":\"white\",\"linecolor\":\"white\",\"ticks\":\"\",\"title\":{\"standoff\":15},\"zerolinecolor\":\"white\",\"zerolinewidth\":2}}},\"xaxis\":{\"anchor\":\"y\",\"domain\":[0.0,1.0],\"title\":{\"text\":\"index\"}},\"yaxis\":{\"anchor\":\"x\",\"domain\":[0.0,1.0],\"title\":{\"text\":\"y\"}},\"legend\":{\"tracegroupgap\":0},\"title\":{\"text\":\"Value Counts of Scheme Codes\"},\"barmode\":\"relative\"},                        {\"responsive\": true}                    ).then(function(){\n",
       "                            \n",
       "var gd = document.getElementById('aa35c535-dc0a-4fd2-8f17-cb9dd0806583');\n",
       "var x = new MutationObserver(function (mutations, observer) {{\n",
       "        var display = window.getComputedStyle(gd).display;\n",
       "        if (!display || display === 'none') {{\n",
       "            console.log([gd, 'removed!']);\n",
       "            Plotly.purge(gd);\n",
       "            observer.disconnect();\n",
       "        }}\n",
       "}});\n",
       "\n",
       "// Listen for the removal of the full notebook cells\n",
       "var notebookContainer = gd.closest('#notebook-container');\n",
       "if (notebookContainer) {{\n",
       "    x.observe(notebookContainer, {childList: true});\n",
       "}}\n",
       "\n",
       "// Listen for the clearing of the current output cell\n",
       "var outputEl = gd.closest('.output');\n",
       "if (outputEl) {{\n",
       "    x.observe(outputEl, {childList: true});\n",
       "}}\n",
       "\n",
       "                        })                };                });            </script>        </div>"
      ]
     },
     "metadata": {},
     "output_type": "display_data"
    }
   ],
   "source": [
    "import plotly.express as px\n",
    "fig = px.bar(schm_code_counts, x=schm_code_counts.index, y=schm_code_counts.values, \n",
    "             labels={'SCHM_CODE': 'Scheme Code', 'count': 'Count'},\n",
    "             title='Value Counts of Scheme Codes')\n",
    "\n",
    "fig.show()"
   ]
  },
  {
   "cell_type": "code",
   "execution_count": 78,
   "id": "e11e1a99",
   "metadata": {},
   "outputs": [
    {
     "data": {
      "text/plain": [
       "array([154, 148, 128, 111,  57,  48,   5,   5,   2,   1])"
      ]
     },
     "execution_count": 78,
     "metadata": {},
     "output_type": "execute_result"
    }
   ],
   "source": [
    "schm_code_counts.values"
   ]
  },
  {
   "cell_type": "code",
   "execution_count": 79,
   "id": "e11e5766",
   "metadata": {},
   "outputs": [],
   "source": [
    "df_detail_trans['TRAN_DATE'] = pd.to_datetime(df_detail_trans['TRAN_DATE'])\n",
    "df_detail_trans['DISB_DATE'] = pd.to_datetime(df_detail_trans['DISB_DATE'])\n",
    "df_detail_trans['DISB_DATE_3WK'] = pd.to_datetime(df_detail_trans['DISB_DATE_3WK'])\n",
    "df_detail_trans['DISB_DATE'] = pd.to_datetime(df_detail_trans['DISB_DATE'])"
   ]
  },
  {
   "cell_type": "code",
   "execution_count": 80,
   "id": "ff862ed0",
   "metadata": {},
   "outputs": [],
   "source": [
    "df_detail_trans['TRAN_WEEK'] = df_detail_trans['TRAN_DATE'].dt.isocalendar().week"
   ]
  },
  {
   "cell_type": "code",
   "execution_count": 81,
   "id": "d0be73a1",
   "metadata": {},
   "outputs": [],
   "source": [
    "filtered_trans = df_detail_trans[\n",
    "    (df_detail_trans['TRAN_DATE'] >= df_detail_trans['DISB_DATE']) &\n",
    "    (df_detail_trans['TRAN_DATE'] <= df_detail_trans['DISB_DATE_3WK'])\n",
    "]"
   ]
  },
  {
   "cell_type": "code",
   "execution_count": 82,
   "id": "1b0bef68",
   "metadata": {},
   "outputs": [
    {
     "data": {
      "text/plain": [
       "Timestamp('2023-07-21 00:00:00')"
      ]
     },
     "execution_count": 82,
     "metadata": {},
     "output_type": "execute_result"
    }
   ],
   "source": [
    "filtered_trans['TRAN_DATE'].max()"
   ]
  },
  {
   "cell_type": "code",
   "execution_count": 83,
   "id": "c25ecf37",
   "metadata": {},
   "outputs": [
    {
     "data": {
      "text/plain": [
       "Timestamp('2023-07-21 00:00:00')"
      ]
     },
     "execution_count": 83,
     "metadata": {},
     "output_type": "execute_result"
    }
   ],
   "source": [
    "df_detail_trans['TRAN_DATE'].max()"
   ]
  },
  {
   "cell_type": "code",
   "execution_count": 84,
   "id": "c5d8a4af",
   "metadata": {},
   "outputs": [],
   "source": [
    "debit_trans = filtered_trans[filtered_trans['PART_TRAN_TYPE'] == 'D']\n",
    "credit_trans = filtered_trans[filtered_trans['PART_TRAN_TYPE'] == 'C']\n"
   ]
  },
  {
   "cell_type": "code",
   "execution_count": 85,
   "id": "f0c1b101",
   "metadata": {},
   "outputs": [],
   "source": [
    "credit_trans['UNIQUE_ID'] = [x + '_' + y for x,y in zip(credit_trans['CIF_ID'],credit_trans['TRAN_ID'])]\n",
    "debit_trans['UNIQUE_ID'] = [x + '_' + y for x,y in zip(debit_trans['CIF_ID'],debit_trans['TRAN_ID'])]\n",
    "credit_trans = credit_trans[~credit_trans['UNIQUE_ID'].isin(debit_trans['UNIQUE_ID'])]"
   ]
  },
  {
   "cell_type": "code",
   "execution_count": 86,
   "id": "7af986c6",
   "metadata": {},
   "outputs": [],
   "source": [
    "grouped_debits = debit_trans.groupby(['CIF_ID', 'TRAN_WEEK']).size().reset_index(name='DEBIT_COUNT')\n",
    "grouped_credits = credit_trans.groupby(['CIF_ID', 'TRAN_WEEK']).size().reset_index(name='CREDIT_COUNT')"
   ]
  },
  {
   "cell_type": "code",
   "execution_count": 88,
   "id": "d24bba46",
   "metadata": {},
   "outputs": [],
   "source": [
    "merged_df = grouped_debits.merge(grouped_credits, on=['CIF_ID', 'TRAN_WEEK'], how='left').fillna(0)"
   ]
  },
  {
   "cell_type": "code",
   "execution_count": 89,
   "id": "d5352df4",
   "metadata": {},
   "outputs": [
    {
     "data": {
      "text/html": [
       "<div>\n",
       "<style scoped>\n",
       "    .dataframe tbody tr th:only-of-type {\n",
       "        vertical-align: middle;\n",
       "    }\n",
       "\n",
       "    .dataframe tbody tr th {\n",
       "        vertical-align: top;\n",
       "    }\n",
       "\n",
       "    .dataframe thead th {\n",
       "        text-align: right;\n",
       "    }\n",
       "</style>\n",
       "<table border=\"1\" class=\"dataframe\">\n",
       "  <thead>\n",
       "    <tr style=\"text-align: right;\">\n",
       "      <th></th>\n",
       "      <th>CIF_ID</th>\n",
       "      <th>TRAN_WEEK</th>\n",
       "      <th>DEBIT_COUNT</th>\n",
       "      <th>CREDIT_COUNT</th>\n",
       "    </tr>\n",
       "  </thead>\n",
       "  <tbody>\n",
       "    <tr>\n",
       "      <th>411</th>\n",
       "      <td>0183670</td>\n",
       "      <td>37</td>\n",
       "      <td>5</td>\n",
       "      <td>0.0</td>\n",
       "    </tr>\n",
       "  </tbody>\n",
       "</table>\n",
       "</div>"
      ],
      "text/plain": [
       "      CIF_ID  TRAN_WEEK  DEBIT_COUNT  CREDIT_COUNT\n",
       "411  0183670         37            5           0.0"
      ]
     },
     "execution_count": 89,
     "metadata": {},
     "output_type": "execute_result"
    }
   ],
   "source": [
    "merged_df.sample()"
   ]
  },
  {
   "cell_type": "code",
   "execution_count": 90,
   "id": "c03cb4d2",
   "metadata": {},
   "outputs": [],
   "source": [
    "merged_df['WEEKLY_DEBIT_CREDIT_COUNT_RATIO'] = merged_df['DEBIT_COUNT'] / merged_df['CREDIT_COUNT'].replace(0, 1)\n"
   ]
  },
  {
   "cell_type": "code",
   "execution_count": 91,
   "id": "9927283c",
   "metadata": {},
   "outputs": [
    {
     "data": {
      "text/html": [
       "<div>\n",
       "<style scoped>\n",
       "    .dataframe tbody tr th:only-of-type {\n",
       "        vertical-align: middle;\n",
       "    }\n",
       "\n",
       "    .dataframe tbody tr th {\n",
       "        vertical-align: top;\n",
       "    }\n",
       "\n",
       "    .dataframe thead th {\n",
       "        text-align: right;\n",
       "    }\n",
       "</style>\n",
       "<table border=\"1\" class=\"dataframe\">\n",
       "  <thead>\n",
       "    <tr style=\"text-align: right;\">\n",
       "      <th></th>\n",
       "      <th>CIF_ID</th>\n",
       "      <th>TRAN_WEEK</th>\n",
       "      <th>DEBIT_COUNT</th>\n",
       "      <th>CREDIT_COUNT</th>\n",
       "      <th>WEEKLY_DEBIT_CREDIT_COUNT_RATIO</th>\n",
       "    </tr>\n",
       "  </thead>\n",
       "  <tbody>\n",
       "    <tr>\n",
       "      <th>720</th>\n",
       "      <td>0373061</td>\n",
       "      <td>6</td>\n",
       "      <td>4</td>\n",
       "      <td>0.0</td>\n",
       "      <td>4.0</td>\n",
       "    </tr>\n",
       "  </tbody>\n",
       "</table>\n",
       "</div>"
      ],
      "text/plain": [
       "      CIF_ID  TRAN_WEEK  DEBIT_COUNT  CREDIT_COUNT  \\\n",
       "720  0373061          6            4           0.0   \n",
       "\n",
       "     WEEKLY_DEBIT_CREDIT_COUNT_RATIO  \n",
       "720                              4.0  "
      ]
     },
     "execution_count": 91,
     "metadata": {},
     "output_type": "execute_result"
    }
   ],
   "source": [
    "merged_df.sample()"
   ]
  },
  {
   "cell_type": "code",
   "execution_count": 92,
   "id": "6e7c039c",
   "metadata": {},
   "outputs": [],
   "source": [
    "summary_df = merged_df.groupby('CIF_ID')['WEEKLY_DEBIT_CREDIT_COUNT_RATIO'].agg(['mean', 'median']).reset_index()\n",
    "summary_df.rename(columns={'mean': 'AVG_WEEKLY_DEBIT_CREDIT_COUNT_RATIO', 'median': 'MEDIAN_WEEKLY_DEBIT_CREDIT_COUNT_RATIO'}, inplace=True)\n"
   ]
  },
  {
   "cell_type": "code",
   "execution_count": 99,
   "id": "3e680663",
   "metadata": {},
   "outputs": [
    {
     "data": {
      "text/html": [
       "<div>\n",
       "<style scoped>\n",
       "    .dataframe tbody tr th:only-of-type {\n",
       "        vertical-align: middle;\n",
       "    }\n",
       "\n",
       "    .dataframe tbody tr th {\n",
       "        vertical-align: top;\n",
       "    }\n",
       "\n",
       "    .dataframe thead th {\n",
       "        text-align: right;\n",
       "    }\n",
       "</style>\n",
       "<table border=\"1\" class=\"dataframe\">\n",
       "  <thead>\n",
       "    <tr style=\"text-align: right;\">\n",
       "      <th></th>\n",
       "      <th>CIF_ID</th>\n",
       "      <th>AVG_WEEKLY_DEBIT_CREDIT_COUNT_RATIO</th>\n",
       "      <th>MEDIAN_WEEKLY_DEBIT_CREDIT_COUNT_RATIO</th>\n",
       "    </tr>\n",
       "  </thead>\n",
       "  <tbody>\n",
       "    <tr>\n",
       "      <th>276</th>\n",
       "      <td>0380011</td>\n",
       "      <td>3.25</td>\n",
       "      <td>4.0</td>\n",
       "    </tr>\n",
       "  </tbody>\n",
       "</table>\n",
       "</div>"
      ],
      "text/plain": [
       "      CIF_ID  AVG_WEEKLY_DEBIT_CREDIT_COUNT_RATIO  \\\n",
       "276  0380011                                 3.25   \n",
       "\n",
       "     MEDIAN_WEEKLY_DEBIT_CREDIT_COUNT_RATIO  \n",
       "276                                     4.0  "
      ]
     },
     "execution_count": 99,
     "metadata": {},
     "output_type": "execute_result"
    }
   ],
   "source": [
    "summary_df.sample()"
   ]
  },
  {
   "cell_type": "code",
   "execution_count": 100,
   "id": "ce14698f",
   "metadata": {},
   "outputs": [],
   "source": [
    "trans_cr = trans[trans['PART_TRAN_TYPE'] == 'C']\n",
    "trans_dr = trans[trans['PART_TRAN_TYPE'] == 'D']"
   ]
  },
  {
   "cell_type": "code",
   "execution_count": 101,
   "id": "b957c334",
   "metadata": {},
   "outputs": [],
   "source": [
    "trans_cr['UNIQUE_ID'] = [x + '_' + y for x,y in zip(trans_cr['CIF_ID'],trans_cr['TRAN_ID'])]\n",
    "trans_dr['UNIQUE_ID'] = [x + '_' + y for x,y in zip(trans_dr['CIF_ID'],trans_dr['TRAN_ID'])]\n",
    "trans_cr = trans_cr[~trans_cr['UNIQUE_ID'].isin(trans_dr['UNIQUE_ID'])]"
   ]
  },
  {
   "cell_type": "code",
   "execution_count": 102,
   "id": "940bed0b",
   "metadata": {},
   "outputs": [],
   "source": [
    "trans_cr = pd.merge(trans_cr,detail[['CIF_ID','DISB_DATE_3WK','DISB_DATE']],\n",
    "                   how='left',on='CIF_ID')\n",
    "trans_dr = pd.merge(trans_dr,detail[['CIF_ID','DISB_DATE_3WK','DISB_DATE']],\n",
    "                   how='left',on='CIF_ID')"
   ]
  },
  {
   "cell_type": "code",
   "execution_count": 103,
   "id": "66cbe2f1",
   "metadata": {},
   "outputs": [
    {
     "data": {
      "text/html": [
       "<div>\n",
       "<style scoped>\n",
       "    .dataframe tbody tr th:only-of-type {\n",
       "        vertical-align: middle;\n",
       "    }\n",
       "\n",
       "    .dataframe tbody tr th {\n",
       "        vertical-align: top;\n",
       "    }\n",
       "\n",
       "    .dataframe thead th {\n",
       "        text-align: right;\n",
       "    }\n",
       "</style>\n",
       "<table border=\"1\" class=\"dataframe\">\n",
       "  <thead>\n",
       "    <tr style=\"text-align: right;\">\n",
       "      <th></th>\n",
       "      <th>CIF_ID</th>\n",
       "      <th>TRAN_ID</th>\n",
       "      <th>PART_TRAN_TYPE</th>\n",
       "      <th>TRAN_CRNCY_CODE</th>\n",
       "      <th>TRAN_DATE</th>\n",
       "      <th>ORIGINAL_AMOUNT</th>\n",
       "      <th>CONVERTED_AMOUNT</th>\n",
       "      <th>UNIQUE_ID</th>\n",
       "      <th>DISB_DATE_3WK</th>\n",
       "      <th>DISB_DATE</th>\n",
       "    </tr>\n",
       "  </thead>\n",
       "  <tbody>\n",
       "    <tr>\n",
       "      <th>338066</th>\n",
       "      <td>0371732</td>\n",
       "      <td>017126</td>\n",
       "      <td>D</td>\n",
       "      <td>KES</td>\n",
       "      <td>19-DEC-22</td>\n",
       "      <td>82.5</td>\n",
       "      <td>82.5</td>\n",
       "      <td>0371732_   017126</td>\n",
       "      <td>02-FEB-23</td>\n",
       "      <td>12-JAN-23</td>\n",
       "    </tr>\n",
       "  </tbody>\n",
       "</table>\n",
       "</div>"
      ],
      "text/plain": [
       "         CIF_ID    TRAN_ID PART_TRAN_TYPE TRAN_CRNCY_CODE  TRAN_DATE  \\\n",
       "338066  0371732     017126              D             KES  19-DEC-22   \n",
       "\n",
       "        ORIGINAL_AMOUNT  CONVERTED_AMOUNT          UNIQUE_ID DISB_DATE_3WK  \\\n",
       "338066             82.5              82.5  0371732_   017126     02-FEB-23   \n",
       "\n",
       "        DISB_DATE  \n",
       "338066  12-JAN-23  "
      ]
     },
     "execution_count": 103,
     "metadata": {},
     "output_type": "execute_result"
    }
   ],
   "source": [
    "trans_dr.sample()"
   ]
  },
  {
   "cell_type": "code",
   "execution_count": 104,
   "id": "baa93762",
   "metadata": {},
   "outputs": [],
   "source": [
    "trans_cr['TRAN_DATE'] = pd.to_datetime(trans_cr['TRAN_DATE'])\n",
    "trans_cr['DISB_DATE_3WK'] = pd.to_datetime(trans_cr['DISB_DATE_3WK'])\n",
    "trans_cr['DISB_DATE'] = pd.to_datetime(trans_cr['DISB_DATE'])\n",
    "trans_dr['DISB_DATE_3WK'] = pd.to_datetime(trans_dr['DISB_DATE_3WK'])\n",
    "trans_dr['TRAN_DATE'] = pd.to_datetime(trans_dr['TRAN_DATE'])\n",
    "trans_dr['DISB_DATE'] = pd.to_datetime(trans_dr['DISB_DATE'])"
   ]
  },
  {
   "cell_type": "code",
   "execution_count": 105,
   "id": "45a98f07",
   "metadata": {},
   "outputs": [],
   "source": [
    "trans_cr_unique = trans_cr[['CIF_ID','DISB_DATE_3WK','DISB_DATE']]\n",
    "trans_cr_unique.drop_duplicates(keep='first',inplace=True)\n",
    "trans_dr_unique = trans_dr[['CIF_ID','DISB_DATE_3WK','DISB_DATE']]\n",
    "trans_dr_unique.drop_duplicates(keep='first',inplace=True)"
   ]
  },
  {
   "cell_type": "code",
   "execution_count": 106,
   "id": "962abc2b",
   "metadata": {},
   "outputs": [
    {
     "data": {
      "text/plain": [
       "((653, 3), (654, 3))"
      ]
     },
     "execution_count": 106,
     "metadata": {},
     "output_type": "execute_result"
    }
   ],
   "source": [
    "trans_cr_unique.shape, trans_dr_unique.shape"
   ]
  },
  {
   "cell_type": "markdown",
   "id": "43aed521",
   "metadata": {},
   "source": [
    "## CREDIT AGGREGATIONS"
   ]
  },
  {
   "cell_type": "code",
   "execution_count": 107,
   "id": "1c0c32b6",
   "metadata": {},
   "outputs": [],
   "source": [
    "def in_3_week_period(row, DISB_DATE, DISB_DATE_3WK):\n",
    "    return row['TRAN_DATE'] >= DISB_DATE and row['TRAN_DATE'] <= DISB_DATE_3WK\n",
    "\n",
    "filtered_dfs = []\n",
    "for _, unique_row in trans_cr_unique.iterrows():\n",
    "    filtered_df = trans_cr[trans_cr['CIF_ID'] == unique_row['CIF_ID']]\n",
    "    filtered_df = filtered_df[filtered_df.apply(in_3_week_period, args=(unique_row['DISB_DATE'], unique_row['DISB_DATE_3WK']), axis=1)]\n",
    "    filtered_dfs.append(filtered_df)\n",
    "    \n",
    "trans_cr_filtered = pd.concat(filtered_dfs)\n",
    "\n",
    "\n",
    "trans_cr_filtered['TRAN_WEEK'] = trans_cr_filtered['TRAN_DATE'].dt.strftime('%U')\n",
    "\n",
    "grouped_cr_weekly = trans_cr_filtered.groupby(['CIF_ID', 'TRAN_WEEK']).agg({\n",
    "    'CONVERTED_AMOUNT': ['sum', 'count']\n",
    "}).reset_index()\n",
    "grouped_cr_weekly.columns = ['_'.join(col).strip() for col in grouped_cr_weekly.columns.values]\n",
    "grouped_cr_weekly.rename(columns={'CIF_ID_': 'CIF_ID', 'TRAN_WEEK_': 'TRAN_WEEK'}, inplace=True)\n",
    "\n",
    "grouped_cr_mean_median = grouped_cr_weekly.groupby('CIF_ID').agg({\n",
    "    'CONVERTED_AMOUNT_sum': ['mean', 'median'],\n",
    "    'CONVERTED_AMOUNT_count': 'mean'\n",
    "}).reset_index()\n",
    "grouped_cr_mean_median.columns = ['_'.join(col).strip() for col in grouped_cr_mean_median.columns.values]\n",
    "\n",
    "grouped_cr_mean_median.rename(columns={\n",
    "    'CIF_ID_': 'CIF_ID',\n",
    "    'CONVERTED_AMOUNT_sum_mean': 'avg_cred_amt_3_weeks',\n",
    "    'CONVERTED_AMOUNT_sum_median': 'median_cred_amt_3_weeks',\n",
    "    'CONVERTED_AMOUNT_count_mean': 'avg_weekly_cred_count_3_weeks'\n",
    "}, inplace=True)\n"
   ]
  },
  {
   "cell_type": "code",
   "execution_count": 108,
   "id": "0a1e0a70",
   "metadata": {},
   "outputs": [
    {
     "data": {
      "text/html": [
       "<div>\n",
       "<style scoped>\n",
       "    .dataframe tbody tr th:only-of-type {\n",
       "        vertical-align: middle;\n",
       "    }\n",
       "\n",
       "    .dataframe tbody tr th {\n",
       "        vertical-align: top;\n",
       "    }\n",
       "\n",
       "    .dataframe thead th {\n",
       "        text-align: right;\n",
       "    }\n",
       "</style>\n",
       "<table border=\"1\" class=\"dataframe\">\n",
       "  <thead>\n",
       "    <tr style=\"text-align: right;\">\n",
       "      <th></th>\n",
       "      <th>CIF_ID</th>\n",
       "      <th>avg_cred_amt_3_weeks</th>\n",
       "      <th>median_cred_amt_3_weeks</th>\n",
       "      <th>avg_weekly_cred_count_3_weeks</th>\n",
       "    </tr>\n",
       "  </thead>\n",
       "  <tbody>\n",
       "    <tr>\n",
       "      <th>513</th>\n",
       "      <td>0406690</td>\n",
       "      <td>148118.5200000000186265</td>\n",
       "      <td>148118.5200000000186265</td>\n",
       "      <td>1.5</td>\n",
       "    </tr>\n",
       "  </tbody>\n",
       "</table>\n",
       "</div>"
      ],
      "text/plain": [
       "      CIF_ID    avg_cred_amt_3_weeks  median_cred_amt_3_weeks  \\\n",
       "513  0406690 148118.5200000000186265  148118.5200000000186265   \n",
       "\n",
       "     avg_weekly_cred_count_3_weeks  \n",
       "513                            1.5  "
      ]
     },
     "execution_count": 108,
     "metadata": {},
     "output_type": "execute_result"
    }
   ],
   "source": [
    "grouped_cr_mean_median.sample()"
   ]
  },
  {
   "cell_type": "code",
   "execution_count": 109,
   "id": "6882dd04",
   "metadata": {},
   "outputs": [],
   "source": [
    "grouped_cr_min_max = trans_cr.groupby('CIF_ID').agg({'CONVERTED_AMOUNT':['min','max']}).reset_index()\n",
    "grouped_cr_min_max.columns = [x1+'_'+x2 for x1,x2 in grouped_cr_min_max.columns]\n",
    "grouped_cr_min_max.rename(columns = {'CIF_ID_':'CIF_ID',\n",
    "                            'CONVERTED_AMOUNT_min': 'min_cred_amt_3_weeks',\n",
    "                            'CONVERTED_AMOUNT_max': 'max_cred_amt_3_weeks'},inplace=True)"
   ]
  },
  {
   "cell_type": "code",
   "execution_count": 110,
   "id": "93ea537c",
   "metadata": {},
   "outputs": [],
   "source": [
    "trans_cr_unique = pd.merge(trans_cr_unique,grouped_cr_mean_median,how='left',on='CIF_ID')"
   ]
  },
  {
   "cell_type": "code",
   "execution_count": 111,
   "id": "a0381bce",
   "metadata": {},
   "outputs": [],
   "source": [
    "trans_cr_unique = pd.merge(trans_cr_unique,grouped_cr_min_max,how='left',on='CIF_ID')"
   ]
  },
  {
   "cell_type": "code",
   "execution_count": 112,
   "id": "5275fcbe",
   "metadata": {},
   "outputs": [
    {
     "data": {
      "text/html": [
       "<div>\n",
       "<style scoped>\n",
       "    .dataframe tbody tr th:only-of-type {\n",
       "        vertical-align: middle;\n",
       "    }\n",
       "\n",
       "    .dataframe tbody tr th {\n",
       "        vertical-align: top;\n",
       "    }\n",
       "\n",
       "    .dataframe thead th {\n",
       "        text-align: right;\n",
       "    }\n",
       "</style>\n",
       "<table border=\"1\" class=\"dataframe\">\n",
       "  <thead>\n",
       "    <tr style=\"text-align: right;\">\n",
       "      <th></th>\n",
       "      <th>CIF_ID</th>\n",
       "      <th>DISB_DATE_3WK</th>\n",
       "      <th>DISB_DATE</th>\n",
       "      <th>avg_cred_amt_3_weeks</th>\n",
       "      <th>median_cred_amt_3_weeks</th>\n",
       "      <th>avg_weekly_cred_count_3_weeks</th>\n",
       "      <th>min_cred_amt_3_weeks</th>\n",
       "      <th>max_cred_amt_3_weeks</th>\n",
       "    </tr>\n",
       "  </thead>\n",
       "  <tbody>\n",
       "    <tr>\n",
       "      <th>322</th>\n",
       "      <td>0377735</td>\n",
       "      <td>2023-06-14</td>\n",
       "      <td>2023-05-24</td>\n",
       "      <td>4237413.3333333330228925</td>\n",
       "      <td>5351240.0</td>\n",
       "      <td>42.6666666666666643</td>\n",
       "      <td>100.0</td>\n",
       "      <td>773500.0</td>\n",
       "    </tr>\n",
       "  </tbody>\n",
       "</table>\n",
       "</div>"
      ],
      "text/plain": [
       "      CIF_ID DISB_DATE_3WK  DISB_DATE     avg_cred_amt_3_weeks  \\\n",
       "322  0377735    2023-06-14 2023-05-24 4237413.3333333330228925   \n",
       "\n",
       "     median_cred_amt_3_weeks  avg_weekly_cred_count_3_weeks  \\\n",
       "322                5351240.0            42.6666666666666643   \n",
       "\n",
       "     min_cred_amt_3_weeks  max_cred_amt_3_weeks  \n",
       "322                 100.0              773500.0  "
      ]
     },
     "execution_count": 112,
     "metadata": {},
     "output_type": "execute_result"
    }
   ],
   "source": [
    "trans_cr_unique.sample()"
   ]
  },
  {
   "cell_type": "code",
   "execution_count": 113,
   "id": "36228b06",
   "metadata": {},
   "outputs": [],
   "source": [
    "del trans_cr_unique['DISB_DATE_3WK']\n",
    "del trans_cr_unique['DISB_DATE']"
   ]
  },
  {
   "cell_type": "markdown",
   "id": "4f7093ba",
   "metadata": {},
   "source": [
    "## DEBIT AGGREGATIONS"
   ]
  },
  {
   "cell_type": "code",
   "execution_count": 114,
   "id": "9ab43700",
   "metadata": {},
   "outputs": [],
   "source": [
    "def in_3_week_period(row, DISB_DATE, DISB_DATE_3WK):\n",
    "    return row['TRAN_DATE'] >= DISB_DATE and row['TRAN_DATE'] <= DISB_DATE_3WK\n",
    "\n",
    "filtered_dfs = []\n",
    "for _, unique_row in trans_dr_unique.iterrows():\n",
    "    filtered_df = trans_dr[trans_dr['CIF_ID'] == unique_row['CIF_ID']]\n",
    "    filtered_df = filtered_df[filtered_df.apply(in_3_week_period, args=(unique_row['DISB_DATE'], unique_row['DISB_DATE_3WK']), axis=1)]\n",
    "    filtered_dfs.append(filtered_df)\n",
    "    \n",
    "trans_dr_filtered = pd.concat(filtered_dfs)\n",
    "\n",
    "trans_dr_filtered['TRAN_WEEK'] = trans_dr_filtered['TRAN_DATE'].dt.strftime('%U')\n",
    "\n",
    "grouped_dr_weekly = trans_dr_filtered.groupby(['CIF_ID', 'TRAN_WEEK']).agg({\n",
    "    'CONVERTED_AMOUNT': ['sum', 'count']\n",
    "}).reset_index()\n",
    "grouped_dr_weekly.columns = ['_'.join(col).strip() for col in grouped_dr_weekly.columns.values]\n",
    "grouped_dr_weekly.rename(columns={'CIF_ID_': 'CIF_ID', 'TRAN_WEEK_': 'TRAN_WEEK'}, inplace=True)\n",
    "\n",
    "\n",
    "grouped_dr_mean_median = grouped_dr_weekly.groupby('CIF_ID').agg({\n",
    "    'CONVERTED_AMOUNT_sum': ['mean', 'median'],\n",
    "    'CONVERTED_AMOUNT_count': 'mean'\n",
    "}).reset_index()\n",
    "grouped_dr_mean_median.columns = ['_'.join(col).strip() for col in grouped_dr_mean_median.columns.values]\n",
    "\n",
    "grouped_dr_mean_median.rename(columns={\n",
    "    'CIF_ID_': 'CIF_ID',\n",
    "    'CONVERTED_AMOUNT_sum_mean': 'avg_debit_amt_3_weeks',\n",
    "    'CONVERTED_AMOUNT_sum_median': 'median_debit_amt_3_weeks',\n",
    "    'CONVERTED_AMOUNT_count_mean': 'avg_weekly_debit_count_3_weeks'\n",
    "}, inplace=True)"
   ]
  },
  {
   "cell_type": "code",
   "execution_count": 115,
   "id": "4946f147",
   "metadata": {},
   "outputs": [],
   "source": [
    "grouped_dr_min_max = trans_dr.groupby('CIF_ID').agg({'CONVERTED_AMOUNT':['min','max']}).reset_index()\n",
    "grouped_dr_min_max.columns = [x1+'_'+x2 for x1,x2 in grouped_dr_min_max.columns]\n",
    "grouped_dr_min_max.rename(columns = {'CIF_ID_':'CIF_ID',\n",
    "                            'CONVERTED_AMOUNT_min': 'min_debit_amt_3_weeks',\n",
    "                            'CONVERTED_AMOUNT_max': 'max_debit_amt_3_weeks'},inplace=True)"
   ]
  },
  {
   "cell_type": "code",
   "execution_count": 116,
   "id": "51494a63",
   "metadata": {},
   "outputs": [],
   "source": [
    "trans_dr_unique = pd.merge(trans_dr_unique,grouped_dr_mean_median,how='left',on='CIF_ID')"
   ]
  },
  {
   "cell_type": "code",
   "execution_count": 117,
   "id": "e193d7c3",
   "metadata": {},
   "outputs": [],
   "source": [
    "trans_dr_unique = pd.merge(trans_dr_unique,grouped_dr_min_max,how='left',on='CIF_ID')"
   ]
  },
  {
   "cell_type": "code",
   "execution_count": 118,
   "id": "f532605b",
   "metadata": {},
   "outputs": [],
   "source": [
    "del trans_dr_unique['DISB_DATE_3WK']\n",
    "del trans_dr_unique['DISB_DATE']"
   ]
  },
  {
   "cell_type": "markdown",
   "id": "a11c422b",
   "metadata": {},
   "source": [
    "## End of Day Balances(EOD)"
   ]
  },
  {
   "cell_type": "code",
   "execution_count": 119,
   "id": "79f6f810",
   "metadata": {},
   "outputs": [
    {
     "data": {
      "text/plain": [
       "Index(['CIF_ID', 'EOD_DATE', 'TRAN_DATE_BAL'], dtype='object')"
      ]
     },
     "execution_count": 119,
     "metadata": {},
     "output_type": "execute_result"
    }
   ],
   "source": [
    "eod.columns"
   ]
  },
  {
   "cell_type": "code",
   "execution_count": 120,
   "id": "fbc5fd9b",
   "metadata": {},
   "outputs": [],
   "source": [
    "eod['EOD_DATE'] = pd.to_datetime(eod['EOD_DATE'])\n",
    "\n",
    "eod['TRAN_WEEK'] = eod['EOD_DATE'].dt.strftime('%U')\n",
    "\n",
    "grouped_eod_weekly = eod.groupby(['CIF_ID', 'TRAN_WEEK']).agg({'TRAN_DATE_BAL': ['mean', 'median']}).reset_index()\n",
    "grouped_eod_weekly.columns = ['_'.join(col).strip() for col in grouped_eod_weekly.columns.values]\n",
    "grouped_eod_weekly.rename(columns={'CIF_ID_': 'CIF_ID', 'TRAN_WEEK_': 'TRAN_WEEK'}, inplace=True)\n",
    "\n",
    "grouped_eod_mean_median = grouped_eod_weekly.groupby('CIF_ID').agg({\n",
    "    'TRAN_DATE_BAL_mean': ['mean', 'median']\n",
    "}).reset_index()\n",
    "grouped_eod_mean_median.columns = ['_'.join(col).strip() for col in grouped_eod_mean_median.columns.values]\n",
    "\n",
    "grouped_eod_mean_median.rename(columns={\n",
    "    'CIF_ID_': 'CIF_ID',\n",
    "    'TRAN_DATE_BAL_mean_mean': 'avg_eod_bal_3_weeks',\n",
    "    'TRAN_DATE_BAL_mean_median': 'median_eod_bal_3_weeks'\n",
    "}, inplace=True)"
   ]
  },
  {
   "cell_type": "code",
   "execution_count": 121,
   "id": "1f0979c9",
   "metadata": {},
   "outputs": [],
   "source": [
    "trans_cr_unique = pd.merge(trans_cr_unique, grouped_eod_mean_median, on='CIF_ID', how='left')"
   ]
  },
  {
   "cell_type": "code",
   "execution_count": 122,
   "id": "fce9b604",
   "metadata": {},
   "outputs": [],
   "source": [
    "trans_cr_dr_eod = pd.merge(trans_dr_unique,trans_cr_unique,how='left', on = 'CIF_ID')"
   ]
  },
  {
   "cell_type": "code",
   "execution_count": 125,
   "id": "953b636d",
   "metadata": {},
   "outputs": [
    {
     "data": {
      "text/html": [
       "<div>\n",
       "<style scoped>\n",
       "    .dataframe tbody tr th:only-of-type {\n",
       "        vertical-align: middle;\n",
       "    }\n",
       "\n",
       "    .dataframe tbody tr th {\n",
       "        vertical-align: top;\n",
       "    }\n",
       "\n",
       "    .dataframe thead th {\n",
       "        text-align: right;\n",
       "    }\n",
       "</style>\n",
       "<table border=\"1\" class=\"dataframe\">\n",
       "  <thead>\n",
       "    <tr style=\"text-align: right;\">\n",
       "      <th></th>\n",
       "      <th>CIF_ID</th>\n",
       "      <th>avg_cred_amt_3_weeks</th>\n",
       "      <th>median_cred_amt_3_weeks</th>\n",
       "      <th>avg_weekly_cred_count_3_weeks</th>\n",
       "      <th>min_cred_amt_3_weeks</th>\n",
       "      <th>max_cred_amt_3_weeks</th>\n",
       "      <th>avg_eod_bal_3_weeks</th>\n",
       "      <th>median_eod_bal_3_weeks</th>\n",
       "    </tr>\n",
       "  </thead>\n",
       "  <tbody>\n",
       "    <tr>\n",
       "      <th>432</th>\n",
       "      <td>0383593</td>\n",
       "      <td>520917.7900000000372529</td>\n",
       "      <td>520917.7900000000372529</td>\n",
       "      <td>2.0</td>\n",
       "      <td>0.51</td>\n",
       "      <td>520917.2800000000279397</td>\n",
       "      <td>0.0</td>\n",
       "      <td>0.0</td>\n",
       "    </tr>\n",
       "  </tbody>\n",
       "</table>\n",
       "</div>"
      ],
      "text/plain": [
       "      CIF_ID    avg_cred_amt_3_weeks  median_cred_amt_3_weeks  \\\n",
       "432  0383593 520917.7900000000372529  520917.7900000000372529   \n",
       "\n",
       "     avg_weekly_cred_count_3_weeks  min_cred_amt_3_weeks  \\\n",
       "432                            2.0                  0.51   \n",
       "\n",
       "       max_cred_amt_3_weeks  avg_eod_bal_3_weeks  median_eod_bal_3_weeks  \n",
       "432 520917.2800000000279397                  0.0                     0.0  "
      ]
     },
     "execution_count": 125,
     "metadata": {},
     "output_type": "execute_result"
    }
   ],
   "source": [
    "trans_cr_unique.sample()"
   ]
  },
  {
   "cell_type": "markdown",
   "id": "7c2fe1c1",
   "metadata": {},
   "source": [
    "## Loan and Non Loan "
   ]
  },
  {
   "cell_type": "code",
   "execution_count": 126,
   "id": "c6a5bfb8",
   "metadata": {},
   "outputs": [],
   "source": [
    "loan = loan.rename(columns={'LOAN_ACCOUNTS': 'no_of_loan_accounts'})"
   ]
  },
  {
   "cell_type": "code",
   "execution_count": 127,
   "id": "2816f210",
   "metadata": {},
   "outputs": [
    {
     "data": {
      "text/html": [
       "<div>\n",
       "<style scoped>\n",
       "    .dataframe tbody tr th:only-of-type {\n",
       "        vertical-align: middle;\n",
       "    }\n",
       "\n",
       "    .dataframe tbody tr th {\n",
       "        vertical-align: top;\n",
       "    }\n",
       "\n",
       "    .dataframe thead th {\n",
       "        text-align: right;\n",
       "    }\n",
       "</style>\n",
       "<table border=\"1\" class=\"dataframe\">\n",
       "  <thead>\n",
       "    <tr style=\"text-align: right;\">\n",
       "      <th></th>\n",
       "      <th>CIF_ID</th>\n",
       "      <th>no_of_loan_accounts</th>\n",
       "    </tr>\n",
       "  </thead>\n",
       "  <tbody>\n",
       "    <tr>\n",
       "      <th>450</th>\n",
       "      <td>0164885</td>\n",
       "      <td>1</td>\n",
       "    </tr>\n",
       "  </tbody>\n",
       "</table>\n",
       "</div>"
      ],
      "text/plain": [
       "      CIF_ID  no_of_loan_accounts\n",
       "450  0164885                    1"
      ]
     },
     "execution_count": 127,
     "metadata": {},
     "output_type": "execute_result"
    }
   ],
   "source": [
    "loan.sample()"
   ]
  },
  {
   "cell_type": "code",
   "execution_count": 131,
   "id": "2f46bb14",
   "metadata": {},
   "outputs": [
    {
     "data": {
      "text/plain": [
       "CIF_ID                 0\n",
       "no_of_loan_accounts    0\n",
       "dtype: int64"
      ]
     },
     "execution_count": 131,
     "metadata": {},
     "output_type": "execute_result"
    }
   ],
   "source": [
    "loan.isna().sum()"
   ]
  },
  {
   "cell_type": "code",
   "execution_count": 128,
   "id": "63cf45db",
   "metadata": {},
   "outputs": [],
   "source": [
    "non_loan = non_loan.rename(columns={'NO_OF_NON_LOAN_ACCOUNTS': 'no_of_non_loan_accounts'})"
   ]
  },
  {
   "cell_type": "code",
   "execution_count": 129,
   "id": "1c464595",
   "metadata": {},
   "outputs": [],
   "source": [
    "loans_df = pd.merge(loan,non_loan,how='left', on='CIF_ID')"
   ]
  },
  {
   "cell_type": "code",
   "execution_count": 130,
   "id": "2b7d79c7",
   "metadata": {},
   "outputs": [],
   "source": [
    "loans_df.fillna(0, inplace=True)"
   ]
  },
  {
   "cell_type": "code",
   "execution_count": 132,
   "id": "f0ca7915",
   "metadata": {},
   "outputs": [],
   "source": [
    "loans_df.drop_duplicates(keep='first', inplace=True)"
   ]
  },
  {
   "cell_type": "markdown",
   "id": "f6085680",
   "metadata": {},
   "source": [
    "## OTG"
   ]
  },
  {
   "cell_type": "code",
   "execution_count": 133,
   "id": "9a07620b",
   "metadata": {},
   "outputs": [],
   "source": [
    "def otg_aggregates(CIF_ID, DISB_DATE, df):\n",
    "    aggr_df = df[(df['CIF_ID'] == CIF_ID) & (df['TRAN_DATE'] > DISB_DATE)]\n",
    "    if aggr_df.empty:\n",
    "        return np.nan, np.nan, np.nan, np.nan, np.nan, np.nan\n",
    "\n",
    "    date1 = pd.to_datetime(aggr_df['DISB_DATE'].values[0])\n",
    "    date2 = pd.to_datetime(aggr_df['TRAN_DATE'].values[0])\n",
    "    r = relativedelta.relativedelta(date2, date1)\n",
    "    weeks_difference = r.years * 52 + r.months * 4 + r.days // 7\n",
    "    weeks_in_between = pd.date_range(date1, date2, freq='W-MON').strftime('%Y-%U').tolist()\n",
    "    tran_weeks = aggr_df['tran_week'].unique()\n",
    "    active_weeks = len([x for x in weeks_in_between if x in tran_weeks])\n",
    "    inactive_weeks = weeks_difference - active_weeks\n",
    "\n",
    "    grouped_df = aggr_df.groupby('tran_week').count().reset_index()\n",
    "    return weeks_difference, active_weeks, np.mean(aggr_df['TRAN_AMOUNT']), np.median(aggr_df['TRAN_AMOUNT']), \\\n",
    "           np.mean(grouped_df['TRAN_AMOUNT']), inactive_weeks\n",
    "\n",
    "otg['TRAN_DATE'] = pd.to_datetime(otg['TRAN_DATE'])\n",
    "otg['DISB_DATE'] = pd.to_datetime(otg['DISB_DATE'])\n",
    "otg.sort_values(by=['CIF_ID', 'TRAN_DATE'], inplace=True)\n",
    "otg['tran_week'] = otg['TRAN_DATE'].dt.strftime('%Y-%U')\n",
    "\n",
    "otg_unique = otg.drop_duplicates(subset=['CIF_ID']).copy()\n",
    "otg_unique['first_otg_trans'], otg_unique['number_of_weeks_active_otg'], otg_unique['avg_otg_tran_amt'], \\\n",
    "    otg_unique['median_otg_tran_amount'], otg_unique['avg_weekly_otg_trans_count'], \\\n",
    "    otg_unique['number_of_inactive_weeks_otg'] = zip(*otg_unique.apply(lambda x: otg_aggregates(x.CIF_ID, x.DISB_DATE, otg), axis=1))\n"
   ]
  },
  {
   "cell_type": "code",
   "execution_count": 134,
   "id": "518bc934",
   "metadata": {},
   "outputs": [],
   "source": [
    "columns_to_drop = ['TRAN_ID', 'DISB_DATE', 'TRAN_DATE', 'TRAN_MONTH', 'TRAN_AMOUNT', 'tran_week']\n",
    "otg_unique = otg_unique.drop(columns=columns_to_drop)"
   ]
  },
  {
   "cell_type": "code",
   "execution_count": 143,
   "id": "cf8f054a",
   "metadata": {},
   "outputs": [
    {
     "data": {
      "text/plain": [
       "count                 272.0\n",
       "mean    0.36764705882352944\n",
       "std      0.6743461890764597\n",
       "min                     0.0\n",
       "25%                     0.0\n",
       "50%                     0.0\n",
       "75%                     1.0\n",
       "max                     3.0\n",
       "Name: first_otg_trans, dtype: float64"
      ]
     },
     "execution_count": 143,
     "metadata": {},
     "output_type": "execute_result"
    }
   ],
   "source": [
    "otg_unique[\"first_otg_trans\"].describe()"
   ]
  },
  {
   "cell_type": "code",
   "execution_count": 144,
   "id": "d71a305b",
   "metadata": {},
   "outputs": [
    {
     "data": {
      "text/plain": [
       "414"
      ]
     },
     "execution_count": 144,
     "metadata": {},
     "output_type": "execute_result"
    }
   ],
   "source": [
    "otg_unique[\"first_otg_trans\"].isna().sum()"
   ]
  },
  {
   "cell_type": "code",
   "execution_count": 146,
   "id": "8a80a2c7",
   "metadata": {},
   "outputs": [
    {
     "data": {
      "text/html": [
       "<div>\n",
       "<style scoped>\n",
       "    .dataframe tbody tr th:only-of-type {\n",
       "        vertical-align: middle;\n",
       "    }\n",
       "\n",
       "    .dataframe tbody tr th {\n",
       "        vertical-align: top;\n",
       "    }\n",
       "\n",
       "    .dataframe thead th {\n",
       "        text-align: right;\n",
       "    }\n",
       "</style>\n",
       "<table border=\"1\" class=\"dataframe\">\n",
       "  <thead>\n",
       "    <tr style=\"text-align: right;\">\n",
       "      <th></th>\n",
       "      <th>CIF_ID</th>\n",
       "      <th>first_otg_trans</th>\n",
       "      <th>number_of_weeks_active_otg</th>\n",
       "      <th>avg_otg_tran_amt</th>\n",
       "      <th>median_otg_tran_amount</th>\n",
       "      <th>avg_weekly_otg_trans_count</th>\n",
       "      <th>number_of_inactive_weeks_otg</th>\n",
       "    </tr>\n",
       "  </thead>\n",
       "  <tbody>\n",
       "    <tr>\n",
       "      <th>6654</th>\n",
       "      <td>0407260</td>\n",
       "      <td>NaN</td>\n",
       "      <td>NaN</td>\n",
       "      <td>NaN</td>\n",
       "      <td>NaN</td>\n",
       "      <td>NaN</td>\n",
       "      <td>NaN</td>\n",
       "    </tr>\n",
       "    <tr>\n",
       "      <th>5574</th>\n",
       "      <td>0407428</td>\n",
       "      <td>NaN</td>\n",
       "      <td>NaN</td>\n",
       "      <td>NaN</td>\n",
       "      <td>NaN</td>\n",
       "      <td>NaN</td>\n",
       "      <td>NaN</td>\n",
       "    </tr>\n",
       "  </tbody>\n",
       "</table>\n",
       "</div>"
      ],
      "text/plain": [
       "       CIF_ID  first_otg_trans  number_of_weeks_active_otg  avg_otg_tran_amt  \\\n",
       "6654  0407260              NaN                         NaN               NaN   \n",
       "5574  0407428              NaN                         NaN               NaN   \n",
       "\n",
       "      median_otg_tran_amount  avg_weekly_otg_trans_count  \\\n",
       "6654                     NaN                         NaN   \n",
       "5574                     NaN                         NaN   \n",
       "\n",
       "      number_of_inactive_weeks_otg  \n",
       "6654                           NaN  \n",
       "5574                           NaN  "
      ]
     },
     "execution_count": 146,
     "metadata": {},
     "output_type": "execute_result"
    }
   ],
   "source": [
    "otg_unique.tail(2)"
   ]
  },
  {
   "cell_type": "markdown",
   "id": "24a32cda",
   "metadata": {},
   "source": [
    "## Merging files "
   ]
  },
  {
   "cell_type": "code",
   "execution_count": 147,
   "id": "a0e8c6fd",
   "metadata": {},
   "outputs": [],
   "source": [
    "final_df_0 = pd.merge(trans_dr_unique,trans_cr_unique,how='left', on = 'CIF_ID')"
   ]
  },
  {
   "cell_type": "code",
   "execution_count": 148,
   "id": "ce094f9f",
   "metadata": {},
   "outputs": [
    {
     "data": {
      "text/plain": [
       "2326"
      ]
     },
     "execution_count": 148,
     "metadata": {},
     "output_type": "execute_result"
    }
   ],
   "source": [
    "len(final_df_0)"
   ]
  },
  {
   "cell_type": "code",
   "execution_count": 149,
   "id": "fee041ea",
   "metadata": {},
   "outputs": [],
   "source": [
    "columns_to_drop = ['DISB_DATE_3WK', 'DISB_DATE']\n",
    "detail = detail.drop(columns=columns_to_drop)"
   ]
  },
  {
   "cell_type": "code",
   "execution_count": 150,
   "id": "962bf218",
   "metadata": {},
   "outputs": [],
   "source": [
    "final_df_1 = pd.merge(detail,trans_cr_dr_eod,how='left', on = 'CIF_ID')"
   ]
  },
  {
   "cell_type": "code",
   "execution_count": 151,
   "id": "00de8af0",
   "metadata": {},
   "outputs": [],
   "source": [
    "final_df_2 = pd.merge(final_df_1, summary_df, how='left', on = 'CIF_ID')"
   ]
  },
  {
   "cell_type": "code",
   "execution_count": 152,
   "id": "ec023642",
   "metadata": {},
   "outputs": [],
   "source": [
    "final_df_3 = pd.merge(final_df_2, loans_df, how='left', on = 'CIF_ID')"
   ]
  },
  {
   "cell_type": "code",
   "execution_count": 153,
   "id": "6d06b75f",
   "metadata": {},
   "outputs": [],
   "source": [
    "merged_df = pd.merge(final_df_3, otg_unique, how='left', on = 'CIF_ID')"
   ]
  },
  {
   "cell_type": "code",
   "execution_count": 154,
   "id": "3207b797",
   "metadata": {},
   "outputs": [],
   "source": [
    "merged_df.drop_duplicates(keep='first', inplace=True)"
   ]
  },
  {
   "cell_type": "markdown",
   "id": "0ee8490e",
   "metadata": {},
   "source": [
    "# EDA"
   ]
  },
  {
   "cell_type": "code",
   "execution_count": 155,
   "id": "8b9f3659",
   "metadata": {},
   "outputs": [],
   "source": [
    "merged_df['DEFAULT_STATUS'] = merged_df['DEFAULT_STATUS'].map({0: 'performing', 1: 'non_performing'})"
   ]
  },
  {
   "cell_type": "code",
   "execution_count": 156,
   "id": "59038a1a",
   "metadata": {},
   "outputs": [
    {
     "data": {
      "text/plain": [
       "performing        565\n",
       "non_performing     62\n",
       "Name: DEFAULT_STATUS, dtype: int64"
      ]
     },
     "execution_count": 156,
     "metadata": {},
     "output_type": "execute_result"
    }
   ],
   "source": [
    "merged_df['DEFAULT_STATUS'].value_counts()"
   ]
  },
  {
   "cell_type": "code",
   "execution_count": 157,
   "id": "440e69e1",
   "metadata": {},
   "outputs": [],
   "source": [
    "def age_group(age):\n",
    "    if age <= 17:  \n",
    "        return \"Minor\"\n",
    "    elif age <= 27: \n",
    "        return \"Young Adult\"\n",
    "    elif age <= 34:  \n",
    "        return \"Adult\"\n",
    "    elif age <= 45: \n",
    "        return \"Mid-aged\"\n",
    "    \n",
    "    elif age <= 64:  \n",
    "        return \"Senior\"\n",
    "    else:  \n",
    "        return \"Elderly\"\n",
    "\n",
    "merged_df['AGE_GROUP'] = merged_df['CUST_AGE'].apply(lambda x: age_group(x))"
   ]
  },
  {
   "cell_type": "code",
   "execution_count": 158,
   "id": "60ccc807",
   "metadata": {},
   "outputs": [],
   "source": [
    "feature2_cols = [\"OTG_TRANSACTING\"]"
   ]
  },
  {
   "cell_type": "code",
   "execution_count": 159,
   "id": "365f4064",
   "metadata": {},
   "outputs": [
    {
     "name": "stdout",
     "output_type": "stream",
     "text": [
      "OTG_TRANSACTING    N    Y\n",
      "AGE_GROUP                \n",
      "Adult             62  109\n",
      "Elderly           14    8\n",
      "Mid-aged         119  109\n",
      "Senior            95   68\n",
      "Young Adult       17   26\n"
     ]
    }
   ],
   "source": [
    "age_otg_analysis = merged_df.groupby(['AGE_GROUP', 'OTG_TRANSACTING'])['CIF_ID'].count().unstack()\n",
    "\n",
    "print(age_otg_analysis)"
   ]
  },
  {
   "cell_type": "code",
   "execution_count": 160,
   "id": "2c91cd47",
   "metadata": {},
   "outputs": [],
   "source": [
    "columns_of_interest = ['min_cred_amt_3_weeks', 'max_cred_amt_3_weeks', 'avg_cred_amt_3_weeks',\n",
    "                       'median_cred_amt_3_weeks', 'avg_weekly_cred_count_3_weeks',\n",
    "                       'avg_eod_bal_3_weeks', 'median_eod_bal_3_weeks', 'min_debit_amt_3_weeks',\n",
    "                       'max_debit_amt_3_weeks', 'avg_debit_amt_3_weeks', 'median_debit_amt_3_weeks',\n",
    "                       'avg_weekly_debit_count_3_weeks','AVG_WEEKLY_DEBIT_CREDIT_COUNT_RATIO',\n",
    "                       'MEDIAN_WEEKLY_DEBIT_CREDIT_COUNT_RATIO']\n"
   ]
  },
  {
   "cell_type": "markdown",
   "id": "f1711805",
   "metadata": {},
   "source": [
    "### CREDIT TO DEBIT RATIO"
   ]
  },
  {
   "cell_type": "code",
   "execution_count": 161,
   "id": "c49266fd",
   "metadata": {},
   "outputs": [],
   "source": [
    "merged_df['avg_credit_to_debit_amt_ratio_3_weeks'] = merged_df['avg_cred_amt_3_weeks'] / merged_df['avg_debit_amt_3_weeks']\n",
    "merged_df['median_credit_to_debit_ratio_3_weeks'] = merged_df['median_cred_amt_3_weeks'] / merged_df['median_debit_amt_3_weeks']"
   ]
  },
  {
   "cell_type": "code",
   "execution_count": 162,
   "id": "3e0e4f60",
   "metadata": {},
   "outputs": [
    {
     "data": {
      "text/plain": [
       "(3.0, 0.0)"
      ]
     },
     "execution_count": 162,
     "metadata": {},
     "output_type": "execute_result"
    }
   ],
   "source": [
    "merged_df['first_otg_trans'].max(),merged_df['first_otg_trans'].min()"
   ]
  },
  {
   "cell_type": "code",
   "execution_count": 164,
   "id": "668b0c46",
   "metadata": {},
   "outputs": [],
   "source": [
    "merged_df['first_otg_trans_bin'] = pd.cut(merged_df['first_otg_trans'],bins=2,labels=['0-1','2-3'])"
   ]
  },
  {
   "cell_type": "code",
   "execution_count": 166,
   "id": "1da5330a",
   "metadata": {},
   "outputs": [
    {
     "data": {
      "text/plain": [
       "[NaN, (-1.003, 0.0], (0.0, 1.0], (1.0, 2.0]]\n",
       "Categories (3, interval[float64, right]): [(-1.003, 0.0] < (0.0, 1.0] < (1.0, 2.0]]"
      ]
     },
     "execution_count": 166,
     "metadata": {},
     "output_type": "execute_result"
    }
   ],
   "source": [
    "pd.cut(merged_df['number_of_inactive_weeks_otg'],bins=3).unique()"
   ]
  },
  {
   "cell_type": "code",
   "execution_count": 167,
   "id": "3367e3ef",
   "metadata": {},
   "outputs": [],
   "source": [
    "merged_df['number_of_inactive_weeks_otg_bin'] = pd.cut(merged_df['number_of_inactive_weeks_otg'],\n",
    "                                                   bins=2,labels=['0-1', '1- 2'])"
   ]
  },
  {
   "cell_type": "code",
   "execution_count": 173,
   "id": "22970139",
   "metadata": {},
   "outputs": [],
   "source": [
    "status_mapping = {'performing': 0, 'non_performing': 1}\n",
    "\n",
    "merged_df['DEFAULT_STATUS_ENCODED'] = merged_df['DEFAULT_STATUS'].map(status_mapping)\n"
   ]
  },
  {
   "cell_type": "code",
   "execution_count": 174,
   "id": "f1586454",
   "metadata": {},
   "outputs": [
    {
     "data": {
      "text/plain": [
       "0    565\n",
       "1     62\n",
       "Name: DEFAULT_STATUS_ENCODED, dtype: int64"
      ]
     },
     "execution_count": 174,
     "metadata": {},
     "output_type": "execute_result"
    }
   ],
   "source": [
    "merged_df['DEFAULT_STATUS_ENCODED'].value_counts()"
   ]
  },
  {
   "cell_type": "code",
   "execution_count": 175,
   "id": "0fe0132d",
   "metadata": {},
   "outputs": [],
   "source": [
    "## Helper Functions\n",
    "\n",
    "def transformDate(df, datecol): \n",
    "\n",
    "    \"\"\"\n",
    "    function to transform the datefield into a datetime object, and generate associated date elements such as day,week,month,year etc.\n",
    "    Args: Dataframe, datefield\n",
    "    returns: Dataframe\n",
    "    \"\"\"\n",
    "    df[datecol] = pd.to_datetime(df[datecol])\n",
    "    df['Day'] = df[datecol].dt.day_name()\n",
    "    df['Week'] = df[datecol].dt.week\n",
    "    df['MonthName'] = df[datecol].dt.month_name()\n",
    "    df['Year'] = df[datecol].dt.year\n",
    "\n",
    "    return df\n",
    "\n",
    "## Distribution plots for categorical variables\n",
    "def univ_analysis(categ_cols, data):\n",
    "    \"\"\"\n",
    "    Function to generate countplot of categorical variables.\n",
    "    Args: categ_cols (a list of all the categorical fields), & the corresponding dataframe\n",
    "    returns: countplots of all the categorical fields passed in.\n",
    "    \"\"\"\n",
    "    for i in categ_cols:\n",
    "        plt.figure(figsize=(12,6))\n",
    "        if data[i].nunique()>10:\n",
    "      # data[i].value_counts()[:10].plot(kind = 'bar')\n",
    "            ax = (data[i].value_counts(ascending=False)[:10]/data[i].notnull().sum()*100).plot(kind='bar')\n",
    "            ax.set_yticks(np.arange(0,110,10))\n",
    "            ax2 = ax.twinx()\n",
    "            ax2.set_yticks(np.arange(0,110,10)*data[i].notnull().sum()/100)\n",
    "\n",
    "            for p in ax.patches:\n",
    "                ax.annotate('{:.2f}%'.format(p.get_height()), (p.get_x()+0.15, p.get_height()+1))\n",
    "\n",
    "            plt.title(i+'_Distribution')\n",
    "            plt.show()\n",
    "            plt.savefig(i+'_Distribution.png')\n",
    "\n",
    "        else:\n",
    "            ncount = data[i].notnull().sum()\n",
    "            ax = sns.countplot(x=i, data=data)\n",
    "            plt.xticks(rotation=90)\n",
    "            plt.title(i + '_Distribution')\n",
    "\n",
    "            # Make twin axis\n",
    "            ax2=ax.twinx()\n",
    "\n",
    "            # Switch so count axis is on right, frequency on left\n",
    "            ax2.yaxis.tick_left()\n",
    "            ax.yaxis.tick_right()\n",
    "\n",
    "            # Also switch the labels over\n",
    "            ax.yaxis.set_label_position('right')\n",
    "            ax2.yaxis.set_label_position('left')\n",
    "\n",
    "            for p in ax.patches:\n",
    "                x=p.get_bbox().get_points()[:,0]\n",
    "                y=p.get_bbox().get_points()[1,1]\n",
    "                ax.annotate('{:.1f}%'.format(100.*y/ncount), (x.mean(), y), \n",
    "                        ha='center', va='bottom') # set the alignment of the text\n",
    "\n",
    "            # Use a LinearLocator to ensure the correct number of ticks\n",
    "            ax.yaxis.set_major_locator(ticker.LinearLocator(11))\n",
    "\n",
    "            # Fix the frequency range to 0-100\n",
    "            ax2.set_ylim(0,100)\n",
    "            ax.set_ylim(0,ncount)\n",
    "\n",
    "            # And use a MultipleLocator to ensure a tick spacing of 10\n",
    "            ax2.yaxis.set_major_locator(ticker.MultipleLocator(10))\n",
    "\n",
    "            # Need to turn the grid on ax2 off, otherwise the gridlines end up on top of the bars\n",
    "            ax2.grid(None)\n",
    "            plt.show()\n",
    "\n",
    "            # fig = plt.figure()\n",
    "            # return fig\n",
    "\n",
    "\n",
    "## Continuous Variables Distribution Plots\n",
    "\n",
    "def hist_plot(df, vals):\n",
    "    \"\"\"\n",
    "      Function to generate density plot.\n",
    "      Args: dataframe, & variable (continuous)\n",
    "      returns: density plot.\n",
    "    \"\"\"\n",
    "    # sns.set(style=\"whitegrid\", palette='Blues_r')\n",
    "    sns.histplot(df[vals])\n",
    "    plt.title('Histogram of ' + vals)\n",
    "    plt.show()"
   ]
  },
  {
   "cell_type": "code",
   "execution_count": 176,
   "id": "74cfea6c",
   "metadata": {},
   "outputs": [
    {
     "data": {
      "text/plain": [
       "(82, 20)"
      ]
     },
     "execution_count": 176,
     "metadata": {},
     "output_type": "execute_result"
    }
   ],
   "source": [
    "merged_df['CUST_AGE'].max(), merged_df['CUST_AGE'].min()"
   ]
  },
  {
   "cell_type": "code",
   "execution_count": 177,
   "id": "678fb88f",
   "metadata": {},
   "outputs": [],
   "source": [
    "merged_df['cust_age_bin_tmp'] = pd.cut(merged_df['CUST_AGE'], bins=6)\n",
    "bin_edges = merged_df['cust_age_bin_tmp'].cat.categories\n",
    "labels = [f\"{int(bin.left) + 1}-{int(bin.right)}\" for bin in bin_edges]\n",
    "merged_df['cust_age_bin'] = pd.cut(merged_df['CUST_AGE'], bins=6, labels=labels)\n",
    "merged_df.drop('cust_age_bin_tmp', axis=1, inplace=True)"
   ]
  },
  {
   "cell_type": "code",
   "execution_count": 178,
   "id": "2a060b96",
   "metadata": {},
   "outputs": [
    {
     "data": {
      "text/plain": [
       "['62-71', '41-51', '31-40', '72-82', '52-61', '20-30']\n",
       "Categories (6, object): ['20-30' < '31-40' < '41-51' < '52-61' < '62-71' < '72-82']"
      ]
     },
     "execution_count": 178,
     "metadata": {},
     "output_type": "execute_result"
    }
   ],
   "source": [
    "merged_df['cust_age_bin'].unique()"
   ]
  },
  {
   "cell_type": "code",
   "execution_count": 179,
   "id": "0fad2b6e",
   "metadata": {},
   "outputs": [],
   "source": [
    "categ_cols = ['first_otg_trans_bin', 'number_of_inactive_weeks_otg_bin',\n",
    "              'MARITALSTATUS','OTG_TRANSACTING', 'AGE_GROUP','cust_age_bin','age_with_bank_bin']"
   ]
  },
  {
   "cell_type": "markdown",
   "id": "fcb2afb8",
   "metadata": {},
   "source": [
    "# Modelling"
   ]
  },
  {
   "cell_type": "code",
   "execution_count": 276,
   "id": "3f37964c",
   "metadata": {},
   "outputs": [],
   "source": [
    "df = merged_df.copy()"
   ]
  },
  {
   "cell_type": "code",
   "execution_count": 277,
   "id": "e4296eb6",
   "metadata": {},
   "outputs": [
    {
     "data": {
      "text/plain": [
       "Index(['CIF_ID', 'CUST_AGE', 'AGE_WITH_BANK', 'SEGMENTATION_CLASS',\n",
       "       'MARITALSTATUS', 'OTG_TRANSACTING', 'SCHM_CODE', 'SCHM_DESC', 'DIS_AMT',\n",
       "       'REP_PERD_MTHS', 'DPD_CNTR', 'FLOW_ID', 'FLOW_AMT',\n",
       "       'NO_OF_INSTALLMENTS', 'DEFAULT_STATUS', 'avg_debit_amt_3_weeks',\n",
       "       'median_debit_amt_3_weeks', 'avg_weekly_debit_count_3_weeks',\n",
       "       'min_debit_amt_3_weeks', 'max_debit_amt_3_weeks',\n",
       "       'avg_cred_amt_3_weeks', 'median_cred_amt_3_weeks',\n",
       "       'avg_weekly_cred_count_3_weeks', 'min_cred_amt_3_weeks',\n",
       "       'max_cred_amt_3_weeks', 'avg_eod_bal_3_weeks', 'median_eod_bal_3_weeks',\n",
       "       'AVG_WEEKLY_DEBIT_CREDIT_COUNT_RATIO',\n",
       "       'MEDIAN_WEEKLY_DEBIT_CREDIT_COUNT_RATIO', 'no_of_loan_accounts',\n",
       "       'no_of_non_loan_accounts', 'first_otg_trans',\n",
       "       'number_of_weeks_active_otg', 'avg_otg_tran_amt',\n",
       "       'median_otg_tran_amount', 'avg_weekly_otg_trans_count',\n",
       "       'number_of_inactive_weeks_otg', 'AGE_GROUP',\n",
       "       'avg_credit_to_debit_amt_ratio_3_weeks',\n",
       "       'median_credit_to_debit_ratio_3_weeks', 'first_otg_trans_bin',\n",
       "       'number_of_inactive_weeks_otg_bin', 'DEFAULT_STATUS_ENCODED',\n",
       "       'cust_age_bin'],\n",
       "      dtype='object')"
      ]
     },
     "execution_count": 277,
     "metadata": {},
     "output_type": "execute_result"
    }
   ],
   "source": [
    "df.columns"
   ]
  },
  {
   "cell_type": "code",
   "execution_count": 278,
   "id": "f5d5a3ae",
   "metadata": {},
   "outputs": [
    {
     "data": {
      "text/plain": [
       "(627, 44)"
      ]
     },
     "execution_count": 278,
     "metadata": {},
     "output_type": "execute_result"
    }
   ],
   "source": [
    "df.shape"
   ]
  },
  {
   "cell_type": "code",
   "execution_count": 279,
   "id": "776ac0dd",
   "metadata": {},
   "outputs": [
    {
     "name": "stdout",
     "output_type": "stream",
     "text": [
      "Number of duplicate CIF_IDs: 90\n"
     ]
    }
   ],
   "source": [
    "duplicates = df['CIF_ID'].duplicated()\n",
    "\n",
    "duplicate_cif_ids = df.loc[duplicates, 'CIF_ID']\n",
    "\n",
    "if duplicate_cif_ids.empty:\n",
    "    print(\"No duplicate CIF_IDs found.\")\n",
    "else:\n",
    "    print(f\"Number of duplicate CIF_IDs: {len(duplicate_cif_ids)}\")"
   ]
  },
  {
   "cell_type": "code",
   "execution_count": 280,
   "id": "91a6a5a6",
   "metadata": {},
   "outputs": [],
   "source": [
    "df = df.drop_duplicates(subset='CIF_ID',keep='first')"
   ]
  },
  {
   "cell_type": "code",
   "execution_count": 281,
   "id": "b6cffced",
   "metadata": {},
   "outputs": [
    {
     "data": {
      "text/plain": [
       "0"
      ]
     },
     "execution_count": 281,
     "metadata": {},
     "output_type": "execute_result"
    }
   ],
   "source": [
    "df.OTG_TRANSACTING.isna().sum()"
   ]
  },
  {
   "cell_type": "code",
   "execution_count": 282,
   "id": "6b71f1f0",
   "metadata": {},
   "outputs": [],
   "source": [
    "df.drop(columns = ['MARITALSTATUS','DPD_CNTR','SCHM_CODE','FLOW_ID','DEFAULT_STATUS',\n",
    "                   'AGE_GROUP','cust_age_bin','first_otg_trans_bin','number_of_inactive_weeks_otg_bin'], inplace =True)"
   ]
  },
  {
   "cell_type": "code",
   "execution_count": 283,
   "id": "491abf1b",
   "metadata": {},
   "outputs": [
    {
     "data": {
      "text/html": [
       "<div>\n",
       "<style scoped>\n",
       "    .dataframe tbody tr th:only-of-type {\n",
       "        vertical-align: middle;\n",
       "    }\n",
       "\n",
       "    .dataframe tbody tr th {\n",
       "        vertical-align: top;\n",
       "    }\n",
       "\n",
       "    .dataframe thead th {\n",
       "        text-align: right;\n",
       "    }\n",
       "</style>\n",
       "<table border=\"1\" class=\"dataframe\">\n",
       "  <thead>\n",
       "    <tr style=\"text-align: right;\">\n",
       "      <th></th>\n",
       "      <th>CIF_ID</th>\n",
       "      <th>CUST_AGE</th>\n",
       "      <th>AGE_WITH_BANK</th>\n",
       "      <th>SEGMENTATION_CLASS</th>\n",
       "      <th>OTG_TRANSACTING</th>\n",
       "      <th>SCHM_DESC</th>\n",
       "      <th>DIS_AMT</th>\n",
       "      <th>REP_PERD_MTHS</th>\n",
       "      <th>FLOW_AMT</th>\n",
       "      <th>NO_OF_INSTALLMENTS</th>\n",
       "      <th>avg_debit_amt_3_weeks</th>\n",
       "      <th>median_debit_amt_3_weeks</th>\n",
       "      <th>avg_weekly_debit_count_3_weeks</th>\n",
       "      <th>min_debit_amt_3_weeks</th>\n",
       "      <th>max_debit_amt_3_weeks</th>\n",
       "      <th>avg_cred_amt_3_weeks</th>\n",
       "      <th>median_cred_amt_3_weeks</th>\n",
       "      <th>avg_weekly_cred_count_3_weeks</th>\n",
       "      <th>min_cred_amt_3_weeks</th>\n",
       "      <th>max_cred_amt_3_weeks</th>\n",
       "      <th>avg_eod_bal_3_weeks</th>\n",
       "      <th>median_eod_bal_3_weeks</th>\n",
       "      <th>AVG_WEEKLY_DEBIT_CREDIT_COUNT_RATIO</th>\n",
       "      <th>MEDIAN_WEEKLY_DEBIT_CREDIT_COUNT_RATIO</th>\n",
       "      <th>no_of_loan_accounts</th>\n",
       "      <th>no_of_non_loan_accounts</th>\n",
       "      <th>first_otg_trans</th>\n",
       "      <th>number_of_weeks_active_otg</th>\n",
       "      <th>avg_otg_tran_amt</th>\n",
       "      <th>median_otg_tran_amount</th>\n",
       "      <th>avg_weekly_otg_trans_count</th>\n",
       "      <th>number_of_inactive_weeks_otg</th>\n",
       "      <th>avg_credit_to_debit_amt_ratio_3_weeks</th>\n",
       "      <th>median_credit_to_debit_ratio_3_weeks</th>\n",
       "      <th>DEFAULT_STATUS_ENCODED</th>\n",
       "    </tr>\n",
       "  </thead>\n",
       "  <tbody>\n",
       "    <tr>\n",
       "      <th>15429</th>\n",
       "      <td>0194233</td>\n",
       "      <td>42</td>\n",
       "      <td>4</td>\n",
       "      <td>BL05</td>\n",
       "      <td>N</td>\n",
       "      <td>TERM LOAN- EMI- LCY</td>\n",
       "      <td>2150000.0</td>\n",
       "      <td>84</td>\n",
       "      <td>39113.0</td>\n",
       "      <td>1</td>\n",
       "      <td>NaN</td>\n",
       "      <td>NaN</td>\n",
       "      <td>NaN</td>\n",
       "      <td>2137.5100000000002183</td>\n",
       "      <td>2814.5799999999999272</td>\n",
       "      <td>NaN</td>\n",
       "      <td>NaN</td>\n",
       "      <td>NaN</td>\n",
       "      <td>92.6200000000000045</td>\n",
       "      <td>42000.0</td>\n",
       "      <td>NaN</td>\n",
       "      <td>NaN</td>\n",
       "      <td>NaN</td>\n",
       "      <td>NaN</td>\n",
       "      <td>1</td>\n",
       "      <td>1.0</td>\n",
       "      <td>NaN</td>\n",
       "      <td>NaN</td>\n",
       "      <td>NaN</td>\n",
       "      <td>NaN</td>\n",
       "      <td>NaN</td>\n",
       "      <td>NaN</td>\n",
       "      <td>NaN</td>\n",
       "      <td>NaN</td>\n",
       "      <td>1</td>\n",
       "    </tr>\n",
       "  </tbody>\n",
       "</table>\n",
       "</div>"
      ],
      "text/plain": [
       "        CIF_ID  CUST_AGE  AGE_WITH_BANK SEGMENTATION_CLASS OTG_TRANSACTING  \\\n",
       "15429  0194233        42              4               BL05               N   \n",
       "\n",
       "                 SCHM_DESC   DIS_AMT  REP_PERD_MTHS  FLOW_AMT  \\\n",
       "15429  TERM LOAN- EMI- LCY 2150000.0             84   39113.0   \n",
       "\n",
       "       NO_OF_INSTALLMENTS  avg_debit_amt_3_weeks  median_debit_amt_3_weeks  \\\n",
       "15429                   1                    NaN                       NaN   \n",
       "\n",
       "       avg_weekly_debit_count_3_weeks  min_debit_amt_3_weeks  \\\n",
       "15429                             NaN  2137.5100000000002183   \n",
       "\n",
       "       max_debit_amt_3_weeks  avg_cred_amt_3_weeks  median_cred_amt_3_weeks  \\\n",
       "15429  2814.5799999999999272                   NaN                      NaN   \n",
       "\n",
       "       avg_weekly_cred_count_3_weeks  min_cred_amt_3_weeks  \\\n",
       "15429                            NaN   92.6200000000000045   \n",
       "\n",
       "       max_cred_amt_3_weeks  avg_eod_bal_3_weeks  median_eod_bal_3_weeks  \\\n",
       "15429               42000.0                  NaN                     NaN   \n",
       "\n",
       "       AVG_WEEKLY_DEBIT_CREDIT_COUNT_RATIO  \\\n",
       "15429                                  NaN   \n",
       "\n",
       "       MEDIAN_WEEKLY_DEBIT_CREDIT_COUNT_RATIO  no_of_loan_accounts  \\\n",
       "15429                                     NaN                    1   \n",
       "\n",
       "       no_of_non_loan_accounts  first_otg_trans  number_of_weeks_active_otg  \\\n",
       "15429                      1.0              NaN                         NaN   \n",
       "\n",
       "       avg_otg_tran_amt  median_otg_tran_amount  avg_weekly_otg_trans_count  \\\n",
       "15429               NaN                     NaN                         NaN   \n",
       "\n",
       "       number_of_inactive_weeks_otg  avg_credit_to_debit_amt_ratio_3_weeks  \\\n",
       "15429                           NaN                                    NaN   \n",
       "\n",
       "       median_credit_to_debit_ratio_3_weeks  DEFAULT_STATUS_ENCODED  \n",
       "15429                                   NaN                       1  "
      ]
     },
     "execution_count": 283,
     "metadata": {},
     "output_type": "execute_result"
    }
   ],
   "source": [
    "df.sample()"
   ]
  },
  {
   "cell_type": "code",
   "execution_count": 284,
   "id": "fcae443a",
   "metadata": {},
   "outputs": [],
   "source": [
    "otg_columns = ['first_otg_trans', 'number_of_weeks_active_otg', 'avg_otg_tran_amt', \n",
    "               'median_otg_tran_amount', 'avg_weekly_otg_trans_count', \n",
    "               'number_of_inactive_weeks_otg']"
   ]
  },
  {
   "cell_type": "code",
   "execution_count": 285,
   "id": "547794ec",
   "metadata": {},
   "outputs": [
    {
     "name": "stdout",
     "output_type": "stream",
     "text": [
      "<class 'pandas.core.frame.DataFrame'>\n",
      "Int64Index: 537 entries, 0 to 41050\n",
      "Data columns (total 6 columns):\n",
      " #   Column                        Non-Null Count  Dtype  \n",
      "---  ------                        --------------  -----  \n",
      " 0   first_otg_trans               247 non-null    float64\n",
      " 1   number_of_weeks_active_otg    247 non-null    float64\n",
      " 2   avg_otg_tran_amt              247 non-null    float64\n",
      " 3   median_otg_tran_amount        247 non-null    float64\n",
      " 4   avg_weekly_otg_trans_count    247 non-null    float64\n",
      " 5   number_of_inactive_weeks_otg  247 non-null    float64\n",
      "dtypes: float64(6)\n",
      "memory usage: 29.4 KB\n"
     ]
    }
   ],
   "source": [
    "df[otg_columns].info()"
   ]
  },
  {
   "cell_type": "code",
   "execution_count": 286,
   "id": "990d351d",
   "metadata": {},
   "outputs": [
    {
     "data": {
      "text/plain": [
       "avg_debit_amt_3_weeks                      8\n",
       "median_debit_amt_3_weeks                   8\n",
       "avg_weekly_debit_count_3_weeks             8\n",
       "min_debit_amt_3_weeks                      4\n",
       "max_debit_amt_3_weeks                      4\n",
       "avg_cred_amt_3_weeks                      22\n",
       "median_cred_amt_3_weeks                   22\n",
       "avg_weekly_cred_count_3_weeks             22\n",
       "min_cred_amt_3_weeks                       5\n",
       "max_cred_amt_3_weeks                       5\n",
       "avg_eod_bal_3_weeks                        8\n",
       "median_eod_bal_3_weeks                     8\n",
       "AVG_WEEKLY_DEBIT_CREDIT_COUNT_RATIO        8\n",
       "MEDIAN_WEEKLY_DEBIT_CREDIT_COUNT_RATIO     8\n",
       "avg_credit_to_debit_amt_ratio_3_weeks     23\n",
       "median_credit_to_debit_ratio_3_weeks      23\n",
       "dtype: int64"
      ]
     },
     "execution_count": 286,
     "metadata": {},
     "output_type": "execute_result"
    }
   ],
   "source": [
    "df[otg_columns] = df[otg_columns].fillna(0)\n",
    "\n",
    "remaining_missing_values = df.isnull().sum()\n",
    "remaining_missing_values = remaining_missing_values[remaining_missing_values > 0]\n",
    "\n",
    "remaining_missing_values\n"
   ]
  },
  {
   "cell_type": "code",
   "execution_count": 287,
   "id": "b564656a",
   "metadata": {},
   "outputs": [],
   "source": [
    "def map_schm(x):\n",
    "    key_list = ['TERM LOAN- EMI- LCY', 'SHORT TERM LOAN - LCY',\n",
    "       'WORK PLACE BANKING FACILITY', 'HOUSING LOAN - GEN PUBLIC - LCY',\n",
    "       'HOUSING LOAN - GEN PUBLIC - FCY', 'STOCK FINANCE LOAN - LCY',\n",
    "       'ASSET FINANCE PUBLIC- EMI - LCY',\n",
    "       'GOVERNMENT SCHEME WORK PLACE BANKING FACILITY',\n",
    "       'HIRE PURCHASE -GROUP COMPANIES - LCY', 'TERM LOAN- NON EMI - FCY']\n",
    "    value_list = [1, 2, 3, 4, 5, 6, 7, 8, 9, 10]\n",
    "\n",
    "    if x in key_list:\n",
    "        value_index = key_list.index(x)\n",
    "        return value_list[value_index]\n",
    "    else:\n",
    "        return 12 \n",
    "\n",
    "df['schm_code_encoded'] = df['SCHM_DESC'].map(lambda x: map_schm(x))\n"
   ]
  },
  {
   "cell_type": "code",
   "execution_count": 288,
   "id": "17dd7111",
   "metadata": {},
   "outputs": [
    {
     "data": {
      "text/html": [
       "<div>\n",
       "<style scoped>\n",
       "    .dataframe tbody tr th:only-of-type {\n",
       "        vertical-align: middle;\n",
       "    }\n",
       "\n",
       "    .dataframe tbody tr th {\n",
       "        vertical-align: top;\n",
       "    }\n",
       "\n",
       "    .dataframe thead th {\n",
       "        text-align: right;\n",
       "    }\n",
       "</style>\n",
       "<table border=\"1\" class=\"dataframe\">\n",
       "  <thead>\n",
       "    <tr style=\"text-align: right;\">\n",
       "      <th></th>\n",
       "      <th>CIF_ID</th>\n",
       "      <th>CUST_AGE</th>\n",
       "      <th>AGE_WITH_BANK</th>\n",
       "      <th>SEGMENTATION_CLASS</th>\n",
       "      <th>OTG_TRANSACTING</th>\n",
       "      <th>SCHM_DESC</th>\n",
       "      <th>DIS_AMT</th>\n",
       "      <th>REP_PERD_MTHS</th>\n",
       "      <th>FLOW_AMT</th>\n",
       "      <th>NO_OF_INSTALLMENTS</th>\n",
       "      <th>avg_debit_amt_3_weeks</th>\n",
       "      <th>median_debit_amt_3_weeks</th>\n",
       "      <th>avg_weekly_debit_count_3_weeks</th>\n",
       "      <th>min_debit_amt_3_weeks</th>\n",
       "      <th>max_debit_amt_3_weeks</th>\n",
       "      <th>avg_cred_amt_3_weeks</th>\n",
       "      <th>median_cred_amt_3_weeks</th>\n",
       "      <th>avg_weekly_cred_count_3_weeks</th>\n",
       "      <th>min_cred_amt_3_weeks</th>\n",
       "      <th>max_cred_amt_3_weeks</th>\n",
       "      <th>avg_eod_bal_3_weeks</th>\n",
       "      <th>median_eod_bal_3_weeks</th>\n",
       "      <th>AVG_WEEKLY_DEBIT_CREDIT_COUNT_RATIO</th>\n",
       "      <th>MEDIAN_WEEKLY_DEBIT_CREDIT_COUNT_RATIO</th>\n",
       "      <th>no_of_loan_accounts</th>\n",
       "      <th>no_of_non_loan_accounts</th>\n",
       "      <th>first_otg_trans</th>\n",
       "      <th>number_of_weeks_active_otg</th>\n",
       "      <th>avg_otg_tran_amt</th>\n",
       "      <th>median_otg_tran_amount</th>\n",
       "      <th>avg_weekly_otg_trans_count</th>\n",
       "      <th>number_of_inactive_weeks_otg</th>\n",
       "      <th>avg_credit_to_debit_amt_ratio_3_weeks</th>\n",
       "      <th>median_credit_to_debit_ratio_3_weeks</th>\n",
       "      <th>DEFAULT_STATUS_ENCODED</th>\n",
       "      <th>schm_code_encoded</th>\n",
       "    </tr>\n",
       "  </thead>\n",
       "  <tbody>\n",
       "    <tr>\n",
       "      <th>4443</th>\n",
       "      <td>0380104</td>\n",
       "      <td>28</td>\n",
       "      <td>0</td>\n",
       "      <td>BL03</td>\n",
       "      <td>Y</td>\n",
       "      <td>WORK PLACE BANKING FACILITY</td>\n",
       "      <td>835000.0</td>\n",
       "      <td>48</td>\n",
       "      <td>45636.0</td>\n",
       "      <td>2</td>\n",
       "      <td>211454.8999999999941792</td>\n",
       "      <td>66783.0</td>\n",
       "      <td>6.75</td>\n",
       "      <td>2.0</td>\n",
       "      <td>600000.0</td>\n",
       "      <td>447154.5</td>\n",
       "      <td>447154.5</td>\n",
       "      <td>1.0</td>\n",
       "      <td>50.0</td>\n",
       "      <td>835000.0</td>\n",
       "      <td>125614.7583333333313931</td>\n",
       "      <td>72487.8833333333313931</td>\n",
       "      <td>6.75</td>\n",
       "      <td>7.0</td>\n",
       "      <td>1</td>\n",
       "      <td>2.0</td>\n",
       "      <td>0.0</td>\n",
       "      <td>0.0</td>\n",
       "      <td>40436.5</td>\n",
       "      <td>3250.0</td>\n",
       "      <td>5.0</td>\n",
       "      <td>0.0</td>\n",
       "      <td>2.11465660053278492</td>\n",
       "      <td>6.695633619334262</td>\n",
       "      <td>0</td>\n",
       "      <td>3</td>\n",
       "    </tr>\n",
       "  </tbody>\n",
       "</table>\n",
       "</div>"
      ],
      "text/plain": [
       "       CIF_ID  CUST_AGE  AGE_WITH_BANK SEGMENTATION_CLASS OTG_TRANSACTING  \\\n",
       "4443  0380104        28              0               BL03               Y   \n",
       "\n",
       "                        SCHM_DESC  DIS_AMT  REP_PERD_MTHS  FLOW_AMT  \\\n",
       "4443  WORK PLACE BANKING FACILITY 835000.0             48   45636.0   \n",
       "\n",
       "      NO_OF_INSTALLMENTS   avg_debit_amt_3_weeks  median_debit_amt_3_weeks  \\\n",
       "4443                   2 211454.8999999999941792                   66783.0   \n",
       "\n",
       "      avg_weekly_debit_count_3_weeks  min_debit_amt_3_weeks  \\\n",
       "4443                            6.75                    2.0   \n",
       "\n",
       "      max_debit_amt_3_weeks  avg_cred_amt_3_weeks  median_cred_amt_3_weeks  \\\n",
       "4443               600000.0              447154.5                 447154.5   \n",
       "\n",
       "      avg_weekly_cred_count_3_weeks  min_cred_amt_3_weeks  \\\n",
       "4443                            1.0                  50.0   \n",
       "\n",
       "      max_cred_amt_3_weeks     avg_eod_bal_3_weeks  median_eod_bal_3_weeks  \\\n",
       "4443              835000.0 125614.7583333333313931  72487.8833333333313931   \n",
       "\n",
       "      AVG_WEEKLY_DEBIT_CREDIT_COUNT_RATIO  \\\n",
       "4443                                 6.75   \n",
       "\n",
       "      MEDIAN_WEEKLY_DEBIT_CREDIT_COUNT_RATIO  no_of_loan_accounts  \\\n",
       "4443                                     7.0                    1   \n",
       "\n",
       "      no_of_non_loan_accounts  first_otg_trans  number_of_weeks_active_otg  \\\n",
       "4443                      2.0              0.0                         0.0   \n",
       "\n",
       "      avg_otg_tran_amt  median_otg_tran_amount  avg_weekly_otg_trans_count  \\\n",
       "4443           40436.5                  3250.0                         5.0   \n",
       "\n",
       "      number_of_inactive_weeks_otg  avg_credit_to_debit_amt_ratio_3_weeks  \\\n",
       "4443                           0.0                    2.11465660053278492   \n",
       "\n",
       "      median_credit_to_debit_ratio_3_weeks  DEFAULT_STATUS_ENCODED  \\\n",
       "4443                     6.695633619334262                       0   \n",
       "\n",
       "      schm_code_encoded  \n",
       "4443                  3  "
      ]
     },
     "execution_count": 288,
     "metadata": {},
     "output_type": "execute_result"
    }
   ],
   "source": [
    "df.sample()"
   ]
  },
  {
   "cell_type": "code",
   "execution_count": 289,
   "id": "0c66c74f",
   "metadata": {},
   "outputs": [],
   "source": [
    "del df['SCHM_DESC']"
   ]
  },
  {
   "cell_type": "code",
   "execution_count": 290,
   "id": "7492f710",
   "metadata": {},
   "outputs": [],
   "source": [
    "mapping = {'BL05': 1, 'BL03': 0}\n",
    "\n",
    "df['SEGMENTATION_CLASS_ENCODED'] = df['SEGMENTATION_CLASS'].map(mapping)\n"
   ]
  },
  {
   "cell_type": "code",
   "execution_count": 291,
   "id": "a819dd5c",
   "metadata": {},
   "outputs": [],
   "source": [
    "del df['SEGMENTATION_CLASS']"
   ]
  },
  {
   "cell_type": "code",
   "execution_count": 292,
   "id": "a3c9c194",
   "metadata": {},
   "outputs": [],
   "source": [
    "mapping = {'N': 0, 'Y': 1}\n",
    "\n",
    "df['OTG_TRANSACTING_ENCODED'] = df['OTG_TRANSACTING'].map(mapping)\n"
   ]
  },
  {
   "cell_type": "code",
   "execution_count": 293,
   "id": "0c274fe7",
   "metadata": {},
   "outputs": [],
   "source": [
    "del df['OTG_TRANSACTING']"
   ]
  },
  {
   "cell_type": "code",
   "execution_count": 294,
   "id": "4d601525",
   "metadata": {},
   "outputs": [],
   "source": [
    "df = df.fillna(0)"
   ]
  },
  {
   "cell_type": "code",
   "execution_count": 323,
   "id": "e1823a41",
   "metadata": {},
   "outputs": [],
   "source": [
    "df_correct = df.copy()"
   ]
  },
  {
   "cell_type": "code",
   "execution_count": 324,
   "id": "04276754",
   "metadata": {},
   "outputs": [],
   "source": [
    "df_correct.drop(columns=['avg_debit_amt_3_weeks', 'avg_cred_amt_3_weeks', 'median_debit_amt_3_weeks',\n",
    "                         'avg_weekly_debit_count_3_weeks', 'avg_weekly_cred_count_3_weeks',\n",
    "                        'MEDIAN_WEEKLY_DEBIT_CREDIT_COUNT_RATIO','median_eod_bal_3_weeks','max_debit_amt_3_weeks',\n",
    "                        'max_cred_amt_3_weeks','median_otg_tran_amount'],inplace = True)\n"
   ]
  },
  {
   "cell_type": "code",
   "execution_count": 325,
   "id": "ba3b7d8f",
   "metadata": {},
   "outputs": [],
   "source": [
    "from sklearn.ensemble import RandomForestClassifier\n",
    "from sklearn.model_selection import train_test_split\n",
    "from sklearn.metrics import classification_report, accuracy_score\n",
    "import numpy as np\n",
    "\n",
    "X = df_correct.drop('DEFAULT_STATUS_ENCODED', axis=1)\n",
    "y = df_correct['DEFAULT_STATUS_ENCODED']\n",
    "\n",
    "X = pd.get_dummies(X)\n",
    "\n",
    "X_train, X_test, y_train, y_test = train_test_split(X, y, test_size=0.2, random_state=42)\n"
   ]
  },
  {
   "cell_type": "code",
   "execution_count": 326,
   "id": "f06d55f0",
   "metadata": {},
   "outputs": [
    {
     "data": {
      "text/plain": [
       "REP_PERD_MTHS                            0.08941946456944264\n",
       "DIS_AMT                                  0.07379849324203108\n",
       "avg_eod_bal_3_weeks                      0.06329200549563889\n",
       "schm_code_encoded                        0.05661268960526865\n",
       "median_cred_amt_3_weeks                  0.04885318524446638\n",
       "FLOW_AMT                                   0.045984346947612\n",
       "median_credit_to_debit_ratio_3_weeks    0.043751172403092585\n",
       "min_cred_amt_3_weeks                     0.04215457976365192\n",
       "no_of_non_loan_accounts                  0.04075503628617584\n",
       "avg_credit_to_debit_amt_ratio_3_weeks   0.040720962372727036\n",
       "AVG_WEEKLY_DEBIT_CREDIT_COUNT_RATIO      0.03947224715473269\n",
       "min_debit_amt_3_weeks                    0.03806213037373425\n",
       "CUST_AGE                                0.030613061381817366\n",
       "AGE_WITH_BANK                            0.02860085406025264\n",
       "no_of_loan_accounts                     0.026050912947342485\n",
       "NO_OF_INSTALLMENTS                       0.01968958794387616\n",
       "avg_otg_tran_amt                        0.014610975270421801\n",
       "avg_weekly_otg_trans_count               0.01166727068041764\n",
       "OTG_TRANSACTING_ENCODED                 0.011605873339657504\n",
       "SEGMENTATION_CLASS_ENCODED              0.010633515910314965\n",
       "dtype: float64"
      ]
     },
     "execution_count": 326,
     "metadata": {},
     "output_type": "execute_result"
    }
   ],
   "source": [
    "rf_model = RandomForestClassifier(n_estimators=100, random_state=42)\n",
    "\n",
    "rf_model.fit(X_train, y_train)\n",
    "\n",
    "feature_importances = rf_model.feature_importances_\n",
    "\n",
    "feature_importance_series = pd.Series(feature_importances, index=X.columns)\n",
    "sorted_feature_importance = feature_importance_series.sort_values(ascending=False)\n",
    "\n",
    "sorted_feature_importance.head(20)\n"
   ]
  },
  {
   "cell_type": "code",
   "execution_count": 327,
   "id": "e772cbae",
   "metadata": {},
   "outputs": [
    {
     "data": {
      "image/png": "[encoded data removed]",
      "text/plain": [
       "<Figure size 1296x1008 with 2 Axes>"
      ]
     },
     "metadata": {
      "needs_background": "light"
     },
     "output_type": "display_data"
    }
   ],
   "source": [
    "top_features = sorted_feature_importance.head(20).index\n",
    "\n",
    "correlation_matrix = df_correct[top_features].corr()\n",
    "\n",
    "\n",
    "plt.figure(figsize=(18, 14))\n",
    "sns.heatmap(correlation_matrix, annot=True, fmt='.2f', cmap='coolwarm')\n",
    "plt.title(\"Correlation Matrix of Top Features\")\n",
    "plt.show()\n"
   ]
  },
  {
   "cell_type": "code",
   "execution_count": 328,
   "id": "6cb51406",
   "metadata": {},
   "outputs": [
    {
     "name": "stdout",
     "output_type": "stream",
     "text": [
      "no_of_loan_accounts         median_cred_amt_3_weeks                0.6310804538000897\n",
      "avg_weekly_otg_trans_count  AVG_WEEKLY_DEBIT_CREDIT_COUNT_RATIO     0.576101919467566\n",
      "SEGMENTATION_CLASS_ENCODED  AGE_WITH_BANK                          0.5740092309452345\n",
      "OTG_TRANSACTING_ENCODED     avg_weekly_otg_trans_count             0.5068055062481839\n",
      "AGE_WITH_BANK               schm_code_encoded                      0.4824333129178632\n",
      "NO_OF_INSTALLMENTS          schm_code_encoded                     0.46023749241882816\n",
      "SEGMENTATION_CLASS_ENCODED  DIS_AMT                               0.44862682489369865\n",
      "NO_OF_INSTALLMENTS          AGE_WITH_BANK                          0.4387625442982076\n",
      "DIS_AMT                     REP_PERD_MTHS                         0.43468835491116337\n",
      "SEGMENTATION_CLASS_ENCODED  NO_OF_INSTALLMENTS                    0.43318485468337653\n",
      "dtype: float64\n"
     ]
    }
   ],
   "source": [
    "upper_triangle = correlation_matrix.where(np.triu(np.ones(correlation_matrix.shape), k=1).astype(bool))\n",
    "top_correlations = upper_triangle.unstack().dropna().abs().sort_values(ascending=False).head(10)\n",
    "print(top_correlations)\n"
   ]
  },
  {
   "cell_type": "code",
   "execution_count": 330,
   "id": "0c67b367",
   "metadata": {},
   "outputs": [],
   "source": [
    "numerical_columns = df_correct.select_dtypes(include=['int64', 'float64', 'uint64']).columns\n",
    "numerical_columns = numerical_columns.drop('DEFAULT_STATUS_ENCODED')\n"
   ]
  },
  {
   "cell_type": "code",
   "execution_count": 329,
   "id": "022c4bc2",
   "metadata": {},
   "outputs": [
    {
     "name": "stdout",
     "output_type": "stream",
     "text": [
      "<class 'pandas.core.frame.DataFrame'>\n",
      "Int64Index: 537 entries, 0 to 41050\n",
      "Data columns (total 25 columns):\n",
      " #   Column                                 Non-Null Count  Dtype  \n",
      "---  ------                                 --------------  -----  \n",
      " 0   CIF_ID                                 537 non-null    object \n",
      " 1   CUST_AGE                               537 non-null    int64  \n",
      " 2   AGE_WITH_BANK                          537 non-null    int64  \n",
      " 3   DIS_AMT                                537 non-null    float64\n",
      " 4   REP_PERD_MTHS                          537 non-null    int64  \n",
      " 5   FLOW_AMT                               537 non-null    float64\n",
      " 6   NO_OF_INSTALLMENTS                     537 non-null    int64  \n",
      " 7   min_debit_amt_3_weeks                  537 non-null    float64\n",
      " 8   median_cred_amt_3_weeks                537 non-null    float64\n",
      " 9   min_cred_amt_3_weeks                   537 non-null    float64\n",
      " 10  avg_eod_bal_3_weeks                    537 non-null    float64\n",
      " 11  AVG_WEEKLY_DEBIT_CREDIT_COUNT_RATIO    537 non-null    float64\n",
      " 12  no_of_loan_accounts                    537 non-null    int64  \n",
      " 13  no_of_non_loan_accounts                537 non-null    float64\n",
      " 14  first_otg_trans                        537 non-null    float64\n",
      " 15  number_of_weeks_active_otg             537 non-null    float64\n",
      " 16  avg_otg_tran_amt                       537 non-null    float64\n",
      " 17  avg_weekly_otg_trans_count             537 non-null    float64\n",
      " 18  number_of_inactive_weeks_otg           537 non-null    float64\n",
      " 19  avg_credit_to_debit_amt_ratio_3_weeks  537 non-null    float64\n",
      " 20  median_credit_to_debit_ratio_3_weeks   537 non-null    float64\n",
      " 21  DEFAULT_STATUS_ENCODED                 537 non-null    int64  \n",
      " 22  schm_code_encoded                      537 non-null    int64  \n",
      " 23  SEGMENTATION_CLASS_ENCODED             537 non-null    int64  \n",
      " 24  OTG_TRANSACTING_ENCODED                537 non-null    int64  \n",
      "dtypes: float64(15), int64(9), object(1)\n",
      "memory usage: 109.1+ KB\n"
     ]
    }
   ],
   "source": [
    "df_correct.info()"
   ]
  },
  {
   "cell_type": "code",
   "execution_count": 331,
   "id": "8af1687e",
   "metadata": {},
   "outputs": [],
   "source": [
    "y_true = df_correct['DEFAULT_STATUS_ENCODED']"
   ]
  },
  {
   "cell_type": "code",
   "execution_count": 332,
   "id": "2cec8acf",
   "metadata": {},
   "outputs": [],
   "source": [
    "df2 = df_correct.copy()"
   ]
  },
  {
   "cell_type": "code",
   "execution_count": 333,
   "id": "58df863f",
   "metadata": {},
   "outputs": [
    {
     "data": {
      "image/png": "[encoded data removed]",
      "text/plain": [
       "<Figure size 432x288 with 1 Axes>"
      ]
     },
     "metadata": {
      "needs_background": "light"
     },
     "output_type": "display_data"
    }
   ],
   "source": [
    "from sklearn.ensemble import RandomForestClassifier\n",
    "\n",
    "X = df2[numerical_columns].fillna(0)\n",
    "y = df2['DEFAULT_STATUS_ENCODED']\n",
    "\n",
    "rf = RandomForestClassifier(n_estimators=100, random_state=42)\n",
    "rf.fit(X, y)\n",
    "\n",
    "feature_importances = rf.feature_importances_\n",
    "\n",
    "features = pd.DataFrame({\n",
    "    'Feature': X.columns,\n",
    "    'Importance': feature_importances\n",
    "}).sort_values(by='Importance', ascending=False)\n",
    "\n",
    "sns.barplot(x='Importance', y='Feature', data=features)\n",
    "plt.title('Feature Importance')\n",
    "plt.show()\n"
   ]
  },
  {
   "cell_type": "code",
   "execution_count": 337,
   "id": "0990d468",
   "metadata": {},
   "outputs": [
    {
     "data": {
      "text/html": [
       "<div>\n",
       "<style scoped>\n",
       "    .dataframe tbody tr th:only-of-type {\n",
       "        vertical-align: middle;\n",
       "    }\n",
       "\n",
       "    .dataframe tbody tr th {\n",
       "        vertical-align: top;\n",
       "    }\n",
       "\n",
       "    .dataframe thead th {\n",
       "        text-align: right;\n",
       "    }\n",
       "</style>\n",
       "<table border=\"1\" class=\"dataframe\">\n",
       "  <thead>\n",
       "    <tr style=\"text-align: right;\">\n",
       "      <th></th>\n",
       "      <th>Feature</th>\n",
       "      <th>Importance</th>\n",
       "    </tr>\n",
       "  </thead>\n",
       "  <tbody>\n",
       "    <tr>\n",
       "      <th>3</th>\n",
       "      <td>REP_PERD_MTHS</td>\n",
       "      <td>0.12493163009244075</td>\n",
       "    </tr>\n",
       "    <tr>\n",
       "      <th>2</th>\n",
       "      <td>DIS_AMT</td>\n",
       "      <td>0.09683117718817878</td>\n",
       "    </tr>\n",
       "    <tr>\n",
       "      <th>20</th>\n",
       "      <td>schm_code_encoded</td>\n",
       "      <td>0.09391515461783707</td>\n",
       "    </tr>\n",
       "    <tr>\n",
       "      <th>9</th>\n",
       "      <td>avg_eod_bal_3_weeks</td>\n",
       "      <td>0.08802479714778909</td>\n",
       "    </tr>\n",
       "    <tr>\n",
       "      <th>4</th>\n",
       "      <td>FLOW_AMT</td>\n",
       "      <td>0.06684225195312399</td>\n",
       "    </tr>\n",
       "    <tr>\n",
       "      <th>7</th>\n",
       "      <td>median_cred_amt_3_weeks</td>\n",
       "      <td>0.058149465369375354</td>\n",
       "    </tr>\n",
       "    <tr>\n",
       "      <th>6</th>\n",
       "      <td>min_debit_amt_3_weeks</td>\n",
       "      <td>0.05594168185989446</td>\n",
       "    </tr>\n",
       "    <tr>\n",
       "      <th>10</th>\n",
       "      <td>AVG_WEEKLY_DEBIT_CREDIT_COUNT_RATIO</td>\n",
       "      <td>0.046633371578600355</td>\n",
       "    </tr>\n",
       "    <tr>\n",
       "      <th>12</th>\n",
       "      <td>no_of_non_loan_accounts</td>\n",
       "      <td>0.042817821406070086</td>\n",
       "    </tr>\n",
       "    <tr>\n",
       "      <th>8</th>\n",
       "      <td>min_cred_amt_3_weeks</td>\n",
       "      <td>0.04062752499866164</td>\n",
       "    </tr>\n",
       "    <tr>\n",
       "      <th>18</th>\n",
       "      <td>avg_credit_to_debit_amt_ratio_3_weeks</td>\n",
       "      <td>0.03964333722309802</td>\n",
       "    </tr>\n",
       "    <tr>\n",
       "      <th>0</th>\n",
       "      <td>CUST_AGE</td>\n",
       "      <td>0.035572286084411</td>\n",
       "    </tr>\n",
       "    <tr>\n",
       "      <th>19</th>\n",
       "      <td>median_credit_to_debit_ratio_3_weeks</td>\n",
       "      <td>0.035523054655071724</td>\n",
       "    </tr>\n",
       "    <tr>\n",
       "      <th>11</th>\n",
       "      <td>no_of_loan_accounts</td>\n",
       "      <td>0.03480894393813324</td>\n",
       "    </tr>\n",
       "    <tr>\n",
       "      <th>1</th>\n",
       "      <td>AGE_WITH_BANK</td>\n",
       "      <td>0.03446790314430791</td>\n",
       "    </tr>\n",
       "    <tr>\n",
       "      <th>5</th>\n",
       "      <td>NO_OF_INSTALLMENTS</td>\n",
       "      <td>0.028941603679806797</td>\n",
       "    </tr>\n",
       "    <tr>\n",
       "      <th>16</th>\n",
       "      <td>avg_weekly_otg_trans_count</td>\n",
       "      <td>0.017754555318252933</td>\n",
       "    </tr>\n",
       "    <tr>\n",
       "      <th>22</th>\n",
       "      <td>OTG_TRANSACTING_ENCODED</td>\n",
       "      <td>0.016630399152857363</td>\n",
       "    </tr>\n",
       "    <tr>\n",
       "      <th>15</th>\n",
       "      <td>avg_otg_tran_amt</td>\n",
       "      <td>0.014697782298759007</td>\n",
       "    </tr>\n",
       "    <tr>\n",
       "      <th>21</th>\n",
       "      <td>SEGMENTATION_CLASS_ENCODED</td>\n",
       "      <td>0.012307946623819946</td>\n",
       "    </tr>\n",
       "  </tbody>\n",
       "</table>\n",
       "</div>"
      ],
      "text/plain": [
       "                                  Feature           Importance\n",
       "3                           REP_PERD_MTHS  0.12493163009244075\n",
       "2                                 DIS_AMT  0.09683117718817878\n",
       "20                      schm_code_encoded  0.09391515461783707\n",
       "9                     avg_eod_bal_3_weeks  0.08802479714778909\n",
       "4                                FLOW_AMT  0.06684225195312399\n",
       "7                 median_cred_amt_3_weeks 0.058149465369375354\n",
       "6                   min_debit_amt_3_weeks  0.05594168185989446\n",
       "10    AVG_WEEKLY_DEBIT_CREDIT_COUNT_RATIO 0.046633371578600355\n",
       "12                no_of_non_loan_accounts 0.042817821406070086\n",
       "8                    min_cred_amt_3_weeks  0.04062752499866164\n",
       "18  avg_credit_to_debit_amt_ratio_3_weeks  0.03964333722309802\n",
       "0                                CUST_AGE    0.035572286084411\n",
       "19   median_credit_to_debit_ratio_3_weeks 0.035523054655071724\n",
       "11                    no_of_loan_accounts  0.03480894393813324\n",
       "1                           AGE_WITH_BANK  0.03446790314430791\n",
       "5                      NO_OF_INSTALLMENTS 0.028941603679806797\n",
       "16             avg_weekly_otg_trans_count 0.017754555318252933\n",
       "22                OTG_TRANSACTING_ENCODED 0.016630399152857363\n",
       "15                       avg_otg_tran_amt 0.014697782298759007\n",
       "21             SEGMENTATION_CLASS_ENCODED 0.012307946623819946"
      ]
     },
     "execution_count": 337,
     "metadata": {},
     "output_type": "execute_result"
    }
   ],
   "source": [
    "features.head(20)"
   ]
  },
  {
   "cell_type": "code",
   "execution_count": 338,
   "id": "ccd5f3b0",
   "metadata": {},
   "outputs": [],
   "source": [
    "X = df2.drop(['DEFAULT_STATUS_ENCODED'], axis=1) \n",
    "y = df2['DEFAULT_STATUS_ENCODED'] \n",
    "top_features = features.head(20)['Feature'].tolist()"
   ]
  },
  {
   "cell_type": "code",
   "execution_count": 339,
   "id": "068d95f2",
   "metadata": {},
   "outputs": [
    {
     "data": {
      "text/plain": [
       "0    478\n",
       "1     59\n",
       "Name: DEFAULT_STATUS_ENCODED, dtype: int64"
      ]
     },
     "execution_count": 339,
     "metadata": {},
     "output_type": "execute_result"
    }
   ],
   "source": [
    "df2.DEFAULT_STATUS_ENCODED.value_counts()"
   ]
  },
  {
   "cell_type": "code",
   "execution_count": 354,
   "id": "968bc457",
   "metadata": {},
   "outputs": [
    {
     "name": "stdout",
     "output_type": "stream",
     "text": [
      "0    100\n",
      "1     54\n",
      "Name: DEFAULT_STATUS_ENCODED, dtype: int64\n"
     ]
    }
   ],
   "source": [
    "df_majority = df2[df2.DEFAULT_STATUS_ENCODED == 0]\n",
    "df_minority = df2[df2.DEFAULT_STATUS_ENCODED == 1]\n",
    "\n",
    "df_majority_sampled = df_majority.sample(n=100, random_state=123)\n",
    "df_minority_sampled = df_minority.sample(n=54, random_state=123)\n",
    "\n",
    "df_sampled = pd.concat([df_majority_sampled, df_minority_sampled])\n",
    "\n",
    "print(df_sampled.DEFAULT_STATUS_ENCODED.value_counts())"
   ]
  },
  {
   "cell_type": "code",
   "execution_count": 355,
   "id": "2615c74e",
   "metadata": {},
   "outputs": [],
   "source": [
    "cif_ids = df_sampled['CIF_ID']"
   ]
  },
  {
   "cell_type": "code",
   "execution_count": 356,
   "id": "8149812a",
   "metadata": {},
   "outputs": [],
   "source": [
    "df_sampled.set_index('CIF_ID', inplace=True)"
   ]
  },
  {
   "cell_type": "code",
   "execution_count": 357,
   "id": "5bdf3493",
   "metadata": {},
   "outputs": [
    {
     "data": {
      "text/plain": [
       "Index(['CUST_AGE', 'AGE_WITH_BANK', 'DIS_AMT', 'REP_PERD_MTHS', 'FLOW_AMT',\n",
       "       'NO_OF_INSTALLMENTS', 'min_debit_amt_3_weeks',\n",
       "       'median_cred_amt_3_weeks', 'min_cred_amt_3_weeks',\n",
       "       'avg_eod_bal_3_weeks', 'AVG_WEEKLY_DEBIT_CREDIT_COUNT_RATIO',\n",
       "       'no_of_loan_accounts', 'no_of_non_loan_accounts', 'first_otg_trans',\n",
       "       'number_of_weeks_active_otg', 'avg_otg_tran_amt',\n",
       "       'avg_weekly_otg_trans_count', 'number_of_inactive_weeks_otg',\n",
       "       'avg_credit_to_debit_amt_ratio_3_weeks',\n",
       "       'median_credit_to_debit_ratio_3_weeks', 'DEFAULT_STATUS_ENCODED',\n",
       "       'schm_code_encoded', 'SEGMENTATION_CLASS_ENCODED',\n",
       "       'OTG_TRANSACTING_ENCODED'],\n",
       "      dtype='object')"
      ]
     },
     "execution_count": 357,
     "metadata": {},
     "output_type": "execute_result"
    }
   ],
   "source": [
    "df_sampled.columns"
   ]
  },
  {
   "cell_type": "code",
   "execution_count": 358,
   "id": "9b32f6b1",
   "metadata": {},
   "outputs": [],
   "source": [
    "df_sampled.fillna(0, inplace=True)\n",
    "X_selected = df_sampled[top_features]\n",
    "y_selected = df_sampled['DEFAULT_STATUS_ENCODED']\n",
    "from sklearn.model_selection import train_test_split\n",
    "\n",
    "X_train, X_test, y_train, y_test = train_test_split(X_selected, y_selected, test_size=0.20, random_state=42, stratify=y_selected)\n"
   ]
  },
  {
   "cell_type": "code",
   "execution_count": 359,
   "id": "c1a61e96",
   "metadata": {},
   "outputs": [
    {
     "data": {
      "text/html": [
       "<style>#sk-container-id-2 {color: black;background-color: white;}#sk-container-id-2 pre{padding: 0;}#sk-container-id-2 div.sk-toggleable {background-color: white;}#sk-container-id-2 label.sk-toggleable__label {cursor: pointer;display: block;width: 100%;margin-bottom: 0;padding: 0.3em;box-sizing: border-box;text-align: center;}#sk-container-id-2 label.sk-toggleable__label-arrow:before {content: \"▸\";float: left;margin-right: 0.25em;color: #696969;}#sk-container-id-2 label.sk-toggleable__label-arrow:hover:before {color: black;}#sk-container-id-2 div.sk-estimator:hover label.sk-toggleable__label-arrow:before {color: black;}#sk-container-id-2 div.sk-toggleable__content {max-height: 0;max-width: 0;overflow: hidden;text-align: left;background-color: #f0f8ff;}#sk-container-id-2 div.sk-toggleable__content pre {margin: 0.2em;color: black;border-radius: 0.25em;background-color: #f0f8ff;}#sk-container-id-2 input.sk-toggleable__control:checked~div.sk-toggleable__content {max-height: 200px;max-width: 100%;overflow: auto;}#sk-container-id-2 input.sk-toggleable__control:checked~label.sk-toggleable__label-arrow:before {content: \"▾\";}#sk-container-id-2 div.sk-estimator input.sk-toggleable__control:checked~label.sk-toggleable__label {background-color: #d4ebff;}#sk-container-id-2 div.sk-label input.sk-toggleable__control:checked~label.sk-toggleable__label {background-color: #d4ebff;}#sk-container-id-2 input.sk-hidden--visually {border: 0;clip: rect(1px 1px 1px 1px);clip: rect(1px, 1px, 1px, 1px);height: 1px;margin: -1px;overflow: hidden;padding: 0;position: absolute;width: 1px;}#sk-container-id-2 div.sk-estimator {font-family: monospace;background-color: #f0f8ff;border: 1px dotted black;border-radius: 0.25em;box-sizing: border-box;margin-bottom: 0.5em;}#sk-container-id-2 div.sk-estimator:hover {background-color: #d4ebff;}#sk-container-id-2 div.sk-parallel-item::after {content: \"\";width: 100%;border-bottom: 1px solid gray;flex-grow: 1;}#sk-container-id-2 div.sk-label:hover label.sk-toggleable__label {background-color: #d4ebff;}#sk-container-id-2 div.sk-serial::before {content: \"\";position: absolute;border-left: 1px solid gray;box-sizing: border-box;top: 0;bottom: 0;left: 50%;z-index: 0;}#sk-container-id-2 div.sk-serial {display: flex;flex-direction: column;align-items: center;background-color: white;padding-right: 0.2em;padding-left: 0.2em;position: relative;}#sk-container-id-2 div.sk-item {position: relative;z-index: 1;}#sk-container-id-2 div.sk-parallel {display: flex;align-items: stretch;justify-content: center;background-color: white;position: relative;}#sk-container-id-2 div.sk-item::before, #sk-container-id-2 div.sk-parallel-item::before {content: \"\";position: absolute;border-left: 1px solid gray;box-sizing: border-box;top: 0;bottom: 0;left: 50%;z-index: -1;}#sk-container-id-2 div.sk-parallel-item {display: flex;flex-direction: column;z-index: 1;position: relative;background-color: white;}#sk-container-id-2 div.sk-parallel-item:first-child::after {align-self: flex-end;width: 50%;}#sk-container-id-2 div.sk-parallel-item:last-child::after {align-self: flex-start;width: 50%;}#sk-container-id-2 div.sk-parallel-item:only-child::after {width: 0;}#sk-container-id-2 div.sk-dashed-wrapped {border: 1px dashed gray;margin: 0 0.4em 0.5em 0.4em;box-sizing: border-box;padding-bottom: 0.4em;background-color: white;}#sk-container-id-2 div.sk-label label {font-family: monospace;font-weight: bold;display: inline-block;line-height: 1.2em;}#sk-container-id-2 div.sk-label-container {text-align: center;}#sk-container-id-2 div.sk-container {/* jupyter's `normalize.less` sets `[hidden] { display: none; }` but bootstrap.min.css set `[hidden] { display: none !important; }` so we also need the `!important` here to be able to override the default hidden behavior on the sphinx rendered scikit-learn.org. See: https://github.com/scikit-learn/scikit-learn/issues/21755 */display: inline-block !important;position: relative;}#sk-container-id-2 div.sk-text-repr-fallback {display: none;}</style><div id=\"sk-container-id-2\" class=\"sk-top-container\"><div class=\"sk-text-repr-fallback\"><pre>RandomForestClassifier(random_state=42)</pre><b>In a Jupyter environment, please rerun this cell to show the HTML representation or trust the notebook. <br />On GitHub, the HTML representation is unable to render, please try loading this page with nbviewer.org.</b></div><div class=\"sk-container\" hidden><div class=\"sk-item\"><div class=\"sk-estimator sk-toggleable\"><input class=\"sk-toggleable__control sk-hidden--visually\" id=\"sk-estimator-id-2\" type=\"checkbox\" checked><label for=\"sk-estimator-id-2\" class=\"sk-toggleable__label sk-toggleable__label-arrow\">RandomForestClassifier</label><div class=\"sk-toggleable__content\"><pre>RandomForestClassifier(random_state=42)</pre></div></div></div></div></div>"
      ],
      "text/plain": [
       "RandomForestClassifier(random_state=42)"
      ]
     },
     "execution_count": 359,
     "metadata": {},
     "output_type": "execute_result"
    }
   ],
   "source": [
    "from sklearn.ensemble import RandomForestClassifier\n",
    "from sklearn.metrics import classification_report, confusion_matrix, accuracy_score\n",
    "X_train = X_train.fillna(0)\n",
    "X_test = X_test.fillna(0)\n",
    "rf_clf = RandomForestClassifier(n_estimators=100, random_state=42)\n",
    "\n",
    "rf_clf.fit(X_train, y_train)"
   ]
  },
  {
   "cell_type": "code",
   "execution_count": 360,
   "id": "d28ae296",
   "metadata": {},
   "outputs": [
    {
     "name": "stdout",
     "output_type": "stream",
     "text": [
      "Accuracy: 0.9354838709677419\n",
      "              precision    recall  f1-score   support\n",
      "\n",
      "           0       0.95      0.95      0.95        20\n",
      "           1       0.91      0.91      0.91        11\n",
      "\n",
      "    accuracy                           0.94        31\n",
      "   macro avg       0.93      0.93      0.93        31\n",
      "weighted avg       0.94      0.94      0.94        31\n",
      "\n",
      "[[19  1]\n",
      " [ 1 10]]\n"
     ]
    }
   ],
   "source": [
    "\n",
    "y_pred = rf_clf.predict(X_test)\n",
    "\n",
    "print(\"Accuracy:\", accuracy_score(y_test, y_pred))\n",
    "print(classification_report(y_test, y_pred))\n",
    "print(confusion_matrix(y_test, y_pred))\n"
   ]
  },
  {
   "cell_type": "code",
   "execution_count": 361,
   "id": "10608d9b",
   "metadata": {},
   "outputs": [
    {
     "data": {
      "image/png": "[encoded data removed]",
      "text/plain": [
       "<Figure size 576x432 with 2 Axes>"
      ]
     },
     "metadata": {
      "needs_background": "light"
     },
     "output_type": "display_data"
    }
   ],
   "source": [
    "from sklearn.metrics import confusion_matrix\n",
    "\n",
    "cm = confusion_matrix(y_test, y_pred)\n",
    "\n",
    "# Create a heatmap for the confusion matrix\n",
    "plt.figure(figsize=(8, 6))\n",
    "sns.heatmap(cm, annot=True, cmap='Blues', fmt='d')\n",
    "plt.title('Confusion Matrix')\n",
    "plt.xlabel('Predicted Labels')\n",
    "plt.ylabel('True Labels')\n",
    "plt.show()"
   ]
  },
  {
   "cell_type": "code",
   "execution_count": 362,
   "id": "895c7b6e",
   "metadata": {},
   "outputs": [],
   "source": [
    "import pickle\n",
    "filename = 'Nohyperparameter9.sav'\n",
    "pickle.dump(rf_clf, open(filename, 'wb'))\n"
   ]
  },
  {
   "cell_type": "markdown",
   "id": "1f88e065",
   "metadata": {},
   "source": [
    "# HYPERPARAMETER TUNING "
   ]
  },
  {
   "cell_type": "code",
   "execution_count": 363,
   "id": "b8c6308a",
   "metadata": {},
   "outputs": [
    {
     "name": "stderr",
     "output_type": "stream",
     "text": [
      "/Users/asha.anab/opt/anaconda3/lib/python3.9/site-packages/sklearn/ensemble/_forest.py:424: FutureWarning: `max_features='auto'` has been deprecated in 1.1 and will be removed in 1.3. To keep the past behaviour, explicitly set `max_features='sqrt'` or remove this parameter as it is also the default value for RandomForestClassifiers and ExtraTreesClassifiers.\n",
      "  warn(\n",
      "/Users/asha.anab/opt/anaconda3/lib/python3.9/site-packages/sklearn/ensemble/_forest.py:424: FutureWarning: `max_features='auto'` has been deprecated in 1.1 and will be removed in 1.3. To keep the past behaviour, explicitly set `max_features='sqrt'` or remove this parameter as it is also the default value for RandomForestClassifiers and ExtraTreesClassifiers.\n",
      "  warn(\n",
      "/Users/asha.anab/opt/anaconda3/lib/python3.9/site-packages/sklearn/ensemble/_forest.py:424: FutureWarning: `max_features='auto'` has been deprecated in 1.1 and will be removed in 1.3. To keep the past behaviour, explicitly set `max_features='sqrt'` or remove this parameter as it is also the default value for RandomForestClassifiers and ExtraTreesClassifiers.\n",
      "  warn(\n",
      "/Users/asha.anab/opt/anaconda3/lib/python3.9/site-packages/sklearn/ensemble/_forest.py:424: FutureWarning: `max_features='auto'` has been deprecated in 1.1 and will be removed in 1.3. To keep the past behaviour, explicitly set `max_features='sqrt'` or remove this parameter as it is also the default value for RandomForestClassifiers and ExtraTreesClassifiers.\n",
      "  warn(\n",
      "/Users/asha.anab/opt/anaconda3/lib/python3.9/site-packages/sklearn/ensemble/_forest.py:424: FutureWarning: `max_features='auto'` has been deprecated in 1.1 and will be removed in 1.3. To keep the past behaviour, explicitly set `max_features='sqrt'` or remove this parameter as it is also the default value for RandomForestClassifiers and ExtraTreesClassifiers.\n",
      "  warn(\n",
      "/Users/asha.anab/opt/anaconda3/lib/python3.9/site-packages/sklearn/ensemble/_forest.py:424: FutureWarning: `max_features='auto'` has been deprecated in 1.1 and will be removed in 1.3. To keep the past behaviour, explicitly set `max_features='sqrt'` or remove this parameter as it is also the default value for RandomForestClassifiers and ExtraTreesClassifiers.\n",
      "  warn(\n",
      "/Users/asha.anab/opt/anaconda3/lib/python3.9/site-packages/sklearn/ensemble/_forest.py:424: FutureWarning: `max_features='auto'` has been deprecated in 1.1 and will be removed in 1.3. To keep the past behaviour, explicitly set `max_features='sqrt'` or remove this parameter as it is also the default value for RandomForestClassifiers and ExtraTreesClassifiers.\n",
      "  warn(\n",
      "/Users/asha.anab/opt/anaconda3/lib/python3.9/site-packages/sklearn/ensemble/_forest.py:424: FutureWarning: `max_features='auto'` has been deprecated in 1.1 and will be removed in 1.3. To keep the past behaviour, explicitly set `max_features='sqrt'` or remove this parameter as it is also the default value for RandomForestClassifiers and ExtraTreesClassifiers.\n",
      "  warn(\n",
      "/Users/asha.anab/opt/anaconda3/lib/python3.9/site-packages/sklearn/ensemble/_forest.py:424: FutureWarning: `max_features='auto'` has been deprecated in 1.1 and will be removed in 1.3. To keep the past behaviour, explicitly set `max_features='sqrt'` or remove this parameter as it is also the default value for RandomForestClassifiers and ExtraTreesClassifiers.\n",
      "  warn(\n",
      "/Users/asha.anab/opt/anaconda3/lib/python3.9/site-packages/sklearn/ensemble/_forest.py:424: FutureWarning: `max_features='auto'` has been deprecated in 1.1 and will be removed in 1.3. To keep the past behaviour, explicitly set `max_features='sqrt'` or remove this parameter as it is also the default value for RandomForestClassifiers and ExtraTreesClassifiers.\n",
      "  warn(\n",
      "/Users/asha.anab/opt/anaconda3/lib/python3.9/site-packages/sklearn/ensemble/_forest.py:424: FutureWarning: `max_features='auto'` has been deprecated in 1.1 and will be removed in 1.3. To keep the past behaviour, explicitly set `max_features='sqrt'` or remove this parameter as it is also the default value for RandomForestClassifiers and ExtraTreesClassifiers.\n",
      "  warn(\n",
      "/Users/asha.anab/opt/anaconda3/lib/python3.9/site-packages/sklearn/ensemble/_forest.py:424: FutureWarning: `max_features='auto'` has been deprecated in 1.1 and will be removed in 1.3. To keep the past behaviour, explicitly set `max_features='sqrt'` or remove this parameter as it is also the default value for RandomForestClassifiers and ExtraTreesClassifiers.\n",
      "  warn(\n",
      "/Users/asha.anab/opt/anaconda3/lib/python3.9/site-packages/sklearn/ensemble/_forest.py:424: FutureWarning: `max_features='auto'` has been deprecated in 1.1 and will be removed in 1.3. To keep the past behaviour, explicitly set `max_features='sqrt'` or remove this parameter as it is also the default value for RandomForestClassifiers and ExtraTreesClassifiers.\n",
      "  warn(\n",
      "/Users/asha.anab/opt/anaconda3/lib/python3.9/site-packages/sklearn/ensemble/_forest.py:424: FutureWarning: `max_features='auto'` has been deprecated in 1.1 and will be removed in 1.3. To keep the past behaviour, explicitly set `max_features='sqrt'` or remove this parameter as it is also the default value for RandomForestClassifiers and ExtraTreesClassifiers.\n",
      "  warn(\n",
      "/Users/asha.anab/opt/anaconda3/lib/python3.9/site-packages/sklearn/ensemble/_forest.py:424: FutureWarning: `max_features='auto'` has been deprecated in 1.1 and will be removed in 1.3. To keep the past behaviour, explicitly set `max_features='sqrt'` or remove this parameter as it is also the default value for RandomForestClassifiers and ExtraTreesClassifiers.\n",
      "  warn(\n",
      "/Users/asha.anab/opt/anaconda3/lib/python3.9/site-packages/sklearn/ensemble/_forest.py:424: FutureWarning: `max_features='auto'` has been deprecated in 1.1 and will be removed in 1.3. To keep the past behaviour, explicitly set `max_features='sqrt'` or remove this parameter as it is also the default value for RandomForestClassifiers and ExtraTreesClassifiers.\n",
      "  warn(\n",
      "/Users/asha.anab/opt/anaconda3/lib/python3.9/site-packages/sklearn/ensemble/_forest.py:424: FutureWarning: `max_features='auto'` has been deprecated in 1.1 and will be removed in 1.3. To keep the past behaviour, explicitly set `max_features='sqrt'` or remove this parameter as it is also the default value for RandomForestClassifiers and ExtraTreesClassifiers.\n",
      "  warn(\n",
      "/Users/asha.anab/opt/anaconda3/lib/python3.9/site-packages/sklearn/ensemble/_forest.py:424: FutureWarning: `max_features='auto'` has been deprecated in 1.1 and will be removed in 1.3. To keep the past behaviour, explicitly set `max_features='sqrt'` or remove this parameter as it is also the default value for RandomForestClassifiers and ExtraTreesClassifiers.\n",
      "  warn(\n",
      "/Users/asha.anab/opt/anaconda3/lib/python3.9/site-packages/sklearn/ensemble/_forest.py:424: FutureWarning: `max_features='auto'` has been deprecated in 1.1 and will be removed in 1.3. To keep the past behaviour, explicitly set `max_features='sqrt'` or remove this parameter as it is also the default value for RandomForestClassifiers and ExtraTreesClassifiers.\n",
      "  warn(\n",
      "/Users/asha.anab/opt/anaconda3/lib/python3.9/site-packages/sklearn/ensemble/_forest.py:424: FutureWarning: `max_features='auto'` has been deprecated in 1.1 and will be removed in 1.3. To keep the past behaviour, explicitly set `max_features='sqrt'` or remove this parameter as it is also the default value for RandomForestClassifiers and ExtraTreesClassifiers.\n",
      "  warn(\n",
      "/Users/asha.anab/opt/anaconda3/lib/python3.9/site-packages/sklearn/ensemble/_forest.py:424: FutureWarning: `max_features='auto'` has been deprecated in 1.1 and will be removed in 1.3. To keep the past behaviour, explicitly set `max_features='sqrt'` or remove this parameter as it is also the default value for RandomForestClassifiers and ExtraTreesClassifiers.\n",
      "  warn(\n",
      "/Users/asha.anab/opt/anaconda3/lib/python3.9/site-packages/sklearn/ensemble/_forest.py:424: FutureWarning: `max_features='auto'` has been deprecated in 1.1 and will be removed in 1.3. To keep the past behaviour, explicitly set `max_features='sqrt'` or remove this parameter as it is also the default value for RandomForestClassifiers and ExtraTreesClassifiers.\n",
      "  warn(\n",
      "/Users/asha.anab/opt/anaconda3/lib/python3.9/site-packages/sklearn/ensemble/_forest.py:424: FutureWarning: `max_features='auto'` has been deprecated in 1.1 and will be removed in 1.3. To keep the past behaviour, explicitly set `max_features='sqrt'` or remove this parameter as it is also the default value for RandomForestClassifiers and ExtraTreesClassifiers.\n",
      "  warn(\n",
      "/Users/asha.anab/opt/anaconda3/lib/python3.9/site-packages/sklearn/ensemble/_forest.py:424: FutureWarning: `max_features='auto'` has been deprecated in 1.1 and will be removed in 1.3. To keep the past behaviour, explicitly set `max_features='sqrt'` or remove this parameter as it is also the default value for RandomForestClassifiers and ExtraTreesClassifiers.\n",
      "  warn(\n",
      "/Users/asha.anab/opt/anaconda3/lib/python3.9/site-packages/sklearn/ensemble/_forest.py:424: FutureWarning: `max_features='auto'` has been deprecated in 1.1 and will be removed in 1.3. To keep the past behaviour, explicitly set `max_features='sqrt'` or remove this parameter as it is also the default value for RandomForestClassifiers and ExtraTreesClassifiers.\n",
      "  warn(\n",
      "/Users/asha.anab/opt/anaconda3/lib/python3.9/site-packages/sklearn/ensemble/_forest.py:424: FutureWarning: `max_features='auto'` has been deprecated in 1.1 and will be removed in 1.3. To keep the past behaviour, explicitly set `max_features='sqrt'` or remove this parameter as it is also the default value for RandomForestClassifiers and ExtraTreesClassifiers.\n",
      "  warn(\n",
      "/Users/asha.anab/opt/anaconda3/lib/python3.9/site-packages/sklearn/ensemble/_forest.py:424: FutureWarning: `max_features='auto'` has been deprecated in 1.1 and will be removed in 1.3. To keep the past behaviour, explicitly set `max_features='sqrt'` or remove this parameter as it is also the default value for RandomForestClassifiers and ExtraTreesClassifiers.\n",
      "  warn(\n",
      "/Users/asha.anab/opt/anaconda3/lib/python3.9/site-packages/sklearn/ensemble/_forest.py:424: FutureWarning: `max_features='auto'` has been deprecated in 1.1 and will be removed in 1.3. To keep the past behaviour, explicitly set `max_features='sqrt'` or remove this parameter as it is also the default value for RandomForestClassifiers and ExtraTreesClassifiers.\n",
      "  warn(\n",
      "/Users/asha.anab/opt/anaconda3/lib/python3.9/site-packages/sklearn/ensemble/_forest.py:424: FutureWarning: `max_features='auto'` has been deprecated in 1.1 and will be removed in 1.3. To keep the past behaviour, explicitly set `max_features='sqrt'` or remove this parameter as it is also the default value for RandomForestClassifiers and ExtraTreesClassifiers.\n",
      "  warn(\n",
      "/Users/asha.anab/opt/anaconda3/lib/python3.9/site-packages/sklearn/ensemble/_forest.py:424: FutureWarning: `max_features='auto'` has been deprecated in 1.1 and will be removed in 1.3. To keep the past behaviour, explicitly set `max_features='sqrt'` or remove this parameter as it is also the default value for RandomForestClassifiers and ExtraTreesClassifiers.\n",
      "  warn(\n",
      "/Users/asha.anab/opt/anaconda3/lib/python3.9/site-packages/sklearn/ensemble/_forest.py:424: FutureWarning: `max_features='auto'` has been deprecated in 1.1 and will be removed in 1.3. To keep the past behaviour, explicitly set `max_features='sqrt'` or remove this parameter as it is also the default value for RandomForestClassifiers and ExtraTreesClassifiers.\n",
      "  warn(\n",
      "/Users/asha.anab/opt/anaconda3/lib/python3.9/site-packages/sklearn/ensemble/_forest.py:424: FutureWarning: `max_features='auto'` has been deprecated in 1.1 and will be removed in 1.3. To keep the past behaviour, explicitly set `max_features='sqrt'` or remove this parameter as it is also the default value for RandomForestClassifiers and ExtraTreesClassifiers.\n",
      "  warn(\n",
      "/Users/asha.anab/opt/anaconda3/lib/python3.9/site-packages/sklearn/ensemble/_forest.py:424: FutureWarning: `max_features='auto'` has been deprecated in 1.1 and will be removed in 1.3. To keep the past behaviour, explicitly set `max_features='sqrt'` or remove this parameter as it is also the default value for RandomForestClassifiers and ExtraTreesClassifiers.\n",
      "  warn(\n",
      "/Users/asha.anab/opt/anaconda3/lib/python3.9/site-packages/sklearn/ensemble/_forest.py:424: FutureWarning: `max_features='auto'` has been deprecated in 1.1 and will be removed in 1.3. To keep the past behaviour, explicitly set `max_features='sqrt'` or remove this parameter as it is also the default value for RandomForestClassifiers and ExtraTreesClassifiers.\n",
      "  warn(\n",
      "/Users/asha.anab/opt/anaconda3/lib/python3.9/site-packages/sklearn/ensemble/_forest.py:424: FutureWarning: `max_features='auto'` has been deprecated in 1.1 and will be removed in 1.3. To keep the past behaviour, explicitly set `max_features='sqrt'` or remove this parameter as it is also the default value for RandomForestClassifiers and ExtraTreesClassifiers.\n",
      "  warn(\n",
      "/Users/asha.anab/opt/anaconda3/lib/python3.9/site-packages/sklearn/ensemble/_forest.py:424: FutureWarning: `max_features='auto'` has been deprecated in 1.1 and will be removed in 1.3. To keep the past behaviour, explicitly set `max_features='sqrt'` or remove this parameter as it is also the default value for RandomForestClassifiers and ExtraTreesClassifiers.\n",
      "  warn(\n",
      "/Users/asha.anab/opt/anaconda3/lib/python3.9/site-packages/sklearn/ensemble/_forest.py:424: FutureWarning: `max_features='auto'` has been deprecated in 1.1 and will be removed in 1.3. To keep the past behaviour, explicitly set `max_features='sqrt'` or remove this parameter as it is also the default value for RandomForestClassifiers and ExtraTreesClassifiers.\n",
      "  warn(\n",
      "/Users/asha.anab/opt/anaconda3/lib/python3.9/site-packages/sklearn/ensemble/_forest.py:424: FutureWarning: `max_features='auto'` has been deprecated in 1.1 and will be removed in 1.3. To keep the past behaviour, explicitly set `max_features='sqrt'` or remove this parameter as it is also the default value for RandomForestClassifiers and ExtraTreesClassifiers.\n",
      "  warn(\n",
      "/Users/asha.anab/opt/anaconda3/lib/python3.9/site-packages/sklearn/ensemble/_forest.py:424: FutureWarning: `max_features='auto'` has been deprecated in 1.1 and will be removed in 1.3. To keep the past behaviour, explicitly set `max_features='sqrt'` or remove this parameter as it is also the default value for RandomForestClassifiers and ExtraTreesClassifiers.\n",
      "  warn(\n",
      "/Users/asha.anab/opt/anaconda3/lib/python3.9/site-packages/sklearn/ensemble/_forest.py:424: FutureWarning: `max_features='auto'` has been deprecated in 1.1 and will be removed in 1.3. To keep the past behaviour, explicitly set `max_features='sqrt'` or remove this parameter as it is also the default value for RandomForestClassifiers and ExtraTreesClassifiers.\n",
      "  warn(\n",
      "/Users/asha.anab/opt/anaconda3/lib/python3.9/site-packages/sklearn/ensemble/_forest.py:424: FutureWarning: `max_features='auto'` has been deprecated in 1.1 and will be removed in 1.3. To keep the past behaviour, explicitly set `max_features='sqrt'` or remove this parameter as it is also the default value for RandomForestClassifiers and ExtraTreesClassifiers.\n",
      "  warn(\n",
      "/Users/asha.anab/opt/anaconda3/lib/python3.9/site-packages/sklearn/ensemble/_forest.py:424: FutureWarning: `max_features='auto'` has been deprecated in 1.1 and will be removed in 1.3. To keep the past behaviour, explicitly set `max_features='sqrt'` or remove this parameter as it is also the default value for RandomForestClassifiers and ExtraTreesClassifiers.\n",
      "  warn(\n",
      "/Users/asha.anab/opt/anaconda3/lib/python3.9/site-packages/sklearn/ensemble/_forest.py:424: FutureWarning: `max_features='auto'` has been deprecated in 1.1 and will be removed in 1.3. To keep the past behaviour, explicitly set `max_features='sqrt'` or remove this parameter as it is also the default value for RandomForestClassifiers and ExtraTreesClassifiers.\n",
      "  warn(\n",
      "/Users/asha.anab/opt/anaconda3/lib/python3.9/site-packages/sklearn/ensemble/_forest.py:424: FutureWarning: `max_features='auto'` has been deprecated in 1.1 and will be removed in 1.3. To keep the past behaviour, explicitly set `max_features='sqrt'` or remove this parameter as it is also the default value for RandomForestClassifiers and ExtraTreesClassifiers.\n",
      "  warn(\n",
      "/Users/asha.anab/opt/anaconda3/lib/python3.9/site-packages/sklearn/ensemble/_forest.py:424: FutureWarning: `max_features='auto'` has been deprecated in 1.1 and will be removed in 1.3. To keep the past behaviour, explicitly set `max_features='sqrt'` or remove this parameter as it is also the default value for RandomForestClassifiers and ExtraTreesClassifiers.\n",
      "  warn(\n",
      "/Users/asha.anab/opt/anaconda3/lib/python3.9/site-packages/sklearn/ensemble/_forest.py:424: FutureWarning: `max_features='auto'` has been deprecated in 1.1 and will be removed in 1.3. To keep the past behaviour, explicitly set `max_features='sqrt'` or remove this parameter as it is also the default value for RandomForestClassifiers and ExtraTreesClassifiers.\n",
      "  warn(\n",
      "/Users/asha.anab/opt/anaconda3/lib/python3.9/site-packages/sklearn/ensemble/_forest.py:424: FutureWarning: `max_features='auto'` has been deprecated in 1.1 and will be removed in 1.3. To keep the past behaviour, explicitly set `max_features='sqrt'` or remove this parameter as it is also the default value for RandomForestClassifiers and ExtraTreesClassifiers.\n",
      "  warn(\n",
      "/Users/asha.anab/opt/anaconda3/lib/python3.9/site-packages/sklearn/ensemble/_forest.py:424: FutureWarning: `max_features='auto'` has been deprecated in 1.1 and will be removed in 1.3. To keep the past behaviour, explicitly set `max_features='sqrt'` or remove this parameter as it is also the default value for RandomForestClassifiers and ExtraTreesClassifiers.\n",
      "  warn(\n",
      "/Users/asha.anab/opt/anaconda3/lib/python3.9/site-packages/sklearn/ensemble/_forest.py:424: FutureWarning: `max_features='auto'` has been deprecated in 1.1 and will be removed in 1.3. To keep the past behaviour, explicitly set `max_features='sqrt'` or remove this parameter as it is also the default value for RandomForestClassifiers and ExtraTreesClassifiers.\n",
      "  warn(\n",
      "/Users/asha.anab/opt/anaconda3/lib/python3.9/site-packages/sklearn/ensemble/_forest.py:424: FutureWarning: `max_features='auto'` has been deprecated in 1.1 and will be removed in 1.3. To keep the past behaviour, explicitly set `max_features='sqrt'` or remove this parameter as it is also the default value for RandomForestClassifiers and ExtraTreesClassifiers.\n",
      "  warn(\n",
      "/Users/asha.anab/opt/anaconda3/lib/python3.9/site-packages/sklearn/ensemble/_forest.py:424: FutureWarning: `max_features='auto'` has been deprecated in 1.1 and will be removed in 1.3. To keep the past behaviour, explicitly set `max_features='sqrt'` or remove this parameter as it is also the default value for RandomForestClassifiers and ExtraTreesClassifiers.\n",
      "  warn(\n",
      "/Users/asha.anab/opt/anaconda3/lib/python3.9/site-packages/sklearn/ensemble/_forest.py:424: FutureWarning: `max_features='auto'` has been deprecated in 1.1 and will be removed in 1.3. To keep the past behaviour, explicitly set `max_features='sqrt'` or remove this parameter as it is also the default value for RandomForestClassifiers and ExtraTreesClassifiers.\n",
      "  warn(\n",
      "/Users/asha.anab/opt/anaconda3/lib/python3.9/site-packages/sklearn/ensemble/_forest.py:424: FutureWarning: `max_features='auto'` has been deprecated in 1.1 and will be removed in 1.3. To keep the past behaviour, explicitly set `max_features='sqrt'` or remove this parameter as it is also the default value for RandomForestClassifiers and ExtraTreesClassifiers.\n",
      "  warn(\n",
      "/Users/asha.anab/opt/anaconda3/lib/python3.9/site-packages/sklearn/ensemble/_forest.py:424: FutureWarning: `max_features='auto'` has been deprecated in 1.1 and will be removed in 1.3. To keep the past behaviour, explicitly set `max_features='sqrt'` or remove this parameter as it is also the default value for RandomForestClassifiers and ExtraTreesClassifiers.\n",
      "  warn(\n",
      "/Users/asha.anab/opt/anaconda3/lib/python3.9/site-packages/sklearn/ensemble/_forest.py:424: FutureWarning: `max_features='auto'` has been deprecated in 1.1 and will be removed in 1.3. To keep the past behaviour, explicitly set `max_features='sqrt'` or remove this parameter as it is also the default value for RandomForestClassifiers and ExtraTreesClassifiers.\n",
      "  warn(\n",
      "/Users/asha.anab/opt/anaconda3/lib/python3.9/site-packages/sklearn/ensemble/_forest.py:424: FutureWarning: `max_features='auto'` has been deprecated in 1.1 and will be removed in 1.3. To keep the past behaviour, explicitly set `max_features='sqrt'` or remove this parameter as it is also the default value for RandomForestClassifiers and ExtraTreesClassifiers.\n",
      "  warn(\n",
      "/Users/asha.anab/opt/anaconda3/lib/python3.9/site-packages/sklearn/ensemble/_forest.py:424: FutureWarning: `max_features='auto'` has been deprecated in 1.1 and will be removed in 1.3. To keep the past behaviour, explicitly set `max_features='sqrt'` or remove this parameter as it is also the default value for RandomForestClassifiers and ExtraTreesClassifiers.\n",
      "  warn(\n",
      "/Users/asha.anab/opt/anaconda3/lib/python3.9/site-packages/sklearn/ensemble/_forest.py:424: FutureWarning: `max_features='auto'` has been deprecated in 1.1 and will be removed in 1.3. To keep the past behaviour, explicitly set `max_features='sqrt'` or remove this parameter as it is also the default value for RandomForestClassifiers and ExtraTreesClassifiers.\n",
      "  warn(\n",
      "/Users/asha.anab/opt/anaconda3/lib/python3.9/site-packages/sklearn/ensemble/_forest.py:424: FutureWarning: `max_features='auto'` has been deprecated in 1.1 and will be removed in 1.3. To keep the past behaviour, explicitly set `max_features='sqrt'` or remove this parameter as it is also the default value for RandomForestClassifiers and ExtraTreesClassifiers.\n",
      "  warn(\n",
      "/Users/asha.anab/opt/anaconda3/lib/python3.9/site-packages/sklearn/ensemble/_forest.py:424: FutureWarning: `max_features='auto'` has been deprecated in 1.1 and will be removed in 1.3. To keep the past behaviour, explicitly set `max_features='sqrt'` or remove this parameter as it is also the default value for RandomForestClassifiers and ExtraTreesClassifiers.\n",
      "  warn(\n",
      "/Users/asha.anab/opt/anaconda3/lib/python3.9/site-packages/sklearn/ensemble/_forest.py:424: FutureWarning: `max_features='auto'` has been deprecated in 1.1 and will be removed in 1.3. To keep the past behaviour, explicitly set `max_features='sqrt'` or remove this parameter as it is also the default value for RandomForestClassifiers and ExtraTreesClassifiers.\n",
      "  warn(\n",
      "/Users/asha.anab/opt/anaconda3/lib/python3.9/site-packages/sklearn/ensemble/_forest.py:424: FutureWarning: `max_features='auto'` has been deprecated in 1.1 and will be removed in 1.3. To keep the past behaviour, explicitly set `max_features='sqrt'` or remove this parameter as it is also the default value for RandomForestClassifiers and ExtraTreesClassifiers.\n",
      "  warn(\n",
      "/Users/asha.anab/opt/anaconda3/lib/python3.9/site-packages/sklearn/ensemble/_forest.py:424: FutureWarning: `max_features='auto'` has been deprecated in 1.1 and will be removed in 1.3. To keep the past behaviour, explicitly set `max_features='sqrt'` or remove this parameter as it is also the default value for RandomForestClassifiers and ExtraTreesClassifiers.\n",
      "  warn(\n",
      "/Users/asha.anab/opt/anaconda3/lib/python3.9/site-packages/sklearn/ensemble/_forest.py:424: FutureWarning: `max_features='auto'` has been deprecated in 1.1 and will be removed in 1.3. To keep the past behaviour, explicitly set `max_features='sqrt'` or remove this parameter as it is also the default value for RandomForestClassifiers and ExtraTreesClassifiers.\n",
      "  warn(\n",
      "/Users/asha.anab/opt/anaconda3/lib/python3.9/site-packages/sklearn/ensemble/_forest.py:424: FutureWarning: `max_features='auto'` has been deprecated in 1.1 and will be removed in 1.3. To keep the past behaviour, explicitly set `max_features='sqrt'` or remove this parameter as it is also the default value for RandomForestClassifiers and ExtraTreesClassifiers.\n",
      "  warn(\n",
      "/Users/asha.anab/opt/anaconda3/lib/python3.9/site-packages/sklearn/ensemble/_forest.py:424: FutureWarning: `max_features='auto'` has been deprecated in 1.1 and will be removed in 1.3. To keep the past behaviour, explicitly set `max_features='sqrt'` or remove this parameter as it is also the default value for RandomForestClassifiers and ExtraTreesClassifiers.\n",
      "  warn(\n",
      "/Users/asha.anab/opt/anaconda3/lib/python3.9/site-packages/sklearn/ensemble/_forest.py:424: FutureWarning: `max_features='auto'` has been deprecated in 1.1 and will be removed in 1.3. To keep the past behaviour, explicitly set `max_features='sqrt'` or remove this parameter as it is also the default value for RandomForestClassifiers and ExtraTreesClassifiers.\n",
      "  warn(\n",
      "/Users/asha.anab/opt/anaconda3/lib/python3.9/site-packages/sklearn/ensemble/_forest.py:424: FutureWarning: `max_features='auto'` has been deprecated in 1.1 and will be removed in 1.3. To keep the past behaviour, explicitly set `max_features='sqrt'` or remove this parameter as it is also the default value for RandomForestClassifiers and ExtraTreesClassifiers.\n",
      "  warn(\n",
      "/Users/asha.anab/opt/anaconda3/lib/python3.9/site-packages/sklearn/ensemble/_forest.py:424: FutureWarning: `max_features='auto'` has been deprecated in 1.1 and will be removed in 1.3. To keep the past behaviour, explicitly set `max_features='sqrt'` or remove this parameter as it is also the default value for RandomForestClassifiers and ExtraTreesClassifiers.\n",
      "  warn(\n",
      "/Users/asha.anab/opt/anaconda3/lib/python3.9/site-packages/sklearn/ensemble/_forest.py:424: FutureWarning: `max_features='auto'` has been deprecated in 1.1 and will be removed in 1.3. To keep the past behaviour, explicitly set `max_features='sqrt'` or remove this parameter as it is also the default value for RandomForestClassifiers and ExtraTreesClassifiers.\n",
      "  warn(\n",
      "/Users/asha.anab/opt/anaconda3/lib/python3.9/site-packages/sklearn/ensemble/_forest.py:424: FutureWarning: `max_features='auto'` has been deprecated in 1.1 and will be removed in 1.3. To keep the past behaviour, explicitly set `max_features='sqrt'` or remove this parameter as it is also the default value for RandomForestClassifiers and ExtraTreesClassifiers.\n",
      "  warn(\n",
      "/Users/asha.anab/opt/anaconda3/lib/python3.9/site-packages/sklearn/ensemble/_forest.py:424: FutureWarning: `max_features='auto'` has been deprecated in 1.1 and will be removed in 1.3. To keep the past behaviour, explicitly set `max_features='sqrt'` or remove this parameter as it is also the default value for RandomForestClassifiers and ExtraTreesClassifiers.\n",
      "  warn(\n",
      "/Users/asha.anab/opt/anaconda3/lib/python3.9/site-packages/sklearn/ensemble/_forest.py:424: FutureWarning: `max_features='auto'` has been deprecated in 1.1 and will be removed in 1.3. To keep the past behaviour, explicitly set `max_features='sqrt'` or remove this parameter as it is also the default value for RandomForestClassifiers and ExtraTreesClassifiers.\n",
      "  warn(\n",
      "/Users/asha.anab/opt/anaconda3/lib/python3.9/site-packages/sklearn/ensemble/_forest.py:424: FutureWarning: `max_features='auto'` has been deprecated in 1.1 and will be removed in 1.3. To keep the past behaviour, explicitly set `max_features='sqrt'` or remove this parameter as it is also the default value for RandomForestClassifiers and ExtraTreesClassifiers.\n",
      "  warn(\n",
      "/Users/asha.anab/opt/anaconda3/lib/python3.9/site-packages/sklearn/ensemble/_forest.py:424: FutureWarning: `max_features='auto'` has been deprecated in 1.1 and will be removed in 1.3. To keep the past behaviour, explicitly set `max_features='sqrt'` or remove this parameter as it is also the default value for RandomForestClassifiers and ExtraTreesClassifiers.\n",
      "  warn(\n",
      "/Users/asha.anab/opt/anaconda3/lib/python3.9/site-packages/sklearn/ensemble/_forest.py:424: FutureWarning: `max_features='auto'` has been deprecated in 1.1 and will be removed in 1.3. To keep the past behaviour, explicitly set `max_features='sqrt'` or remove this parameter as it is also the default value for RandomForestClassifiers and ExtraTreesClassifiers.\n",
      "  warn(\n",
      "/Users/asha.anab/opt/anaconda3/lib/python3.9/site-packages/sklearn/ensemble/_forest.py:424: FutureWarning: `max_features='auto'` has been deprecated in 1.1 and will be removed in 1.3. To keep the past behaviour, explicitly set `max_features='sqrt'` or remove this parameter as it is also the default value for RandomForestClassifiers and ExtraTreesClassifiers.\n",
      "  warn(\n",
      "/Users/asha.anab/opt/anaconda3/lib/python3.9/site-packages/sklearn/ensemble/_forest.py:424: FutureWarning: `max_features='auto'` has been deprecated in 1.1 and will be removed in 1.3. To keep the past behaviour, explicitly set `max_features='sqrt'` or remove this parameter as it is also the default value for RandomForestClassifiers and ExtraTreesClassifiers.\n",
      "  warn(\n",
      "/Users/asha.anab/opt/anaconda3/lib/python3.9/site-packages/sklearn/ensemble/_forest.py:424: FutureWarning: `max_features='auto'` has been deprecated in 1.1 and will be removed in 1.3. To keep the past behaviour, explicitly set `max_features='sqrt'` or remove this parameter as it is also the default value for RandomForestClassifiers and ExtraTreesClassifiers.\n",
      "  warn(\n",
      "/Users/asha.anab/opt/anaconda3/lib/python3.9/site-packages/sklearn/ensemble/_forest.py:424: FutureWarning: `max_features='auto'` has been deprecated in 1.1 and will be removed in 1.3. To keep the past behaviour, explicitly set `max_features='sqrt'` or remove this parameter as it is also the default value for RandomForestClassifiers and ExtraTreesClassifiers.\n",
      "  warn(\n",
      "/Users/asha.anab/opt/anaconda3/lib/python3.9/site-packages/sklearn/ensemble/_forest.py:424: FutureWarning: `max_features='auto'` has been deprecated in 1.1 and will be removed in 1.3. To keep the past behaviour, explicitly set `max_features='sqrt'` or remove this parameter as it is also the default value for RandomForestClassifiers and ExtraTreesClassifiers.\n",
      "  warn(\n",
      "/Users/asha.anab/opt/anaconda3/lib/python3.9/site-packages/sklearn/ensemble/_forest.py:424: FutureWarning: `max_features='auto'` has been deprecated in 1.1 and will be removed in 1.3. To keep the past behaviour, explicitly set `max_features='sqrt'` or remove this parameter as it is also the default value for RandomForestClassifiers and ExtraTreesClassifiers.\n",
      "  warn(\n",
      "/Users/asha.anab/opt/anaconda3/lib/python3.9/site-packages/sklearn/ensemble/_forest.py:424: FutureWarning: `max_features='auto'` has been deprecated in 1.1 and will be removed in 1.3. To keep the past behaviour, explicitly set `max_features='sqrt'` or remove this parameter as it is also the default value for RandomForestClassifiers and ExtraTreesClassifiers.\n",
      "  warn(\n",
      "/Users/asha.anab/opt/anaconda3/lib/python3.9/site-packages/sklearn/ensemble/_forest.py:424: FutureWarning: `max_features='auto'` has been deprecated in 1.1 and will be removed in 1.3. To keep the past behaviour, explicitly set `max_features='sqrt'` or remove this parameter as it is also the default value for RandomForestClassifiers and ExtraTreesClassifiers.\n",
      "  warn(\n",
      "/Users/asha.anab/opt/anaconda3/lib/python3.9/site-packages/sklearn/ensemble/_forest.py:424: FutureWarning: `max_features='auto'` has been deprecated in 1.1 and will be removed in 1.3. To keep the past behaviour, explicitly set `max_features='sqrt'` or remove this parameter as it is also the default value for RandomForestClassifiers and ExtraTreesClassifiers.\n",
      "  warn(\n",
      "/Users/asha.anab/opt/anaconda3/lib/python3.9/site-packages/sklearn/ensemble/_forest.py:424: FutureWarning: `max_features='auto'` has been deprecated in 1.1 and will be removed in 1.3. To keep the past behaviour, explicitly set `max_features='sqrt'` or remove this parameter as it is also the default value for RandomForestClassifiers and ExtraTreesClassifiers.\n",
      "  warn(\n",
      "/Users/asha.anab/opt/anaconda3/lib/python3.9/site-packages/sklearn/ensemble/_forest.py:424: FutureWarning: `max_features='auto'` has been deprecated in 1.1 and will be removed in 1.3. To keep the past behaviour, explicitly set `max_features='sqrt'` or remove this parameter as it is also the default value for RandomForestClassifiers and ExtraTreesClassifiers.\n",
      "  warn(\n",
      "/Users/asha.anab/opt/anaconda3/lib/python3.9/site-packages/sklearn/ensemble/_forest.py:424: FutureWarning: `max_features='auto'` has been deprecated in 1.1 and will be removed in 1.3. To keep the past behaviour, explicitly set `max_features='sqrt'` or remove this parameter as it is also the default value for RandomForestClassifiers and ExtraTreesClassifiers.\n",
      "  warn(\n",
      "/Users/asha.anab/opt/anaconda3/lib/python3.9/site-packages/sklearn/ensemble/_forest.py:424: FutureWarning: `max_features='auto'` has been deprecated in 1.1 and will be removed in 1.3. To keep the past behaviour, explicitly set `max_features='sqrt'` or remove this parameter as it is also the default value for RandomForestClassifiers and ExtraTreesClassifiers.\n",
      "  warn(\n",
      "/Users/asha.anab/opt/anaconda3/lib/python3.9/site-packages/sklearn/ensemble/_forest.py:424: FutureWarning: `max_features='auto'` has been deprecated in 1.1 and will be removed in 1.3. To keep the past behaviour, explicitly set `max_features='sqrt'` or remove this parameter as it is also the default value for RandomForestClassifiers and ExtraTreesClassifiers.\n",
      "  warn(\n",
      "/Users/asha.anab/opt/anaconda3/lib/python3.9/site-packages/sklearn/ensemble/_forest.py:424: FutureWarning: `max_features='auto'` has been deprecated in 1.1 and will be removed in 1.3. To keep the past behaviour, explicitly set `max_features='sqrt'` or remove this parameter as it is also the default value for RandomForestClassifiers and ExtraTreesClassifiers.\n",
      "  warn(\n",
      "/Users/asha.anab/opt/anaconda3/lib/python3.9/site-packages/sklearn/ensemble/_forest.py:424: FutureWarning: `max_features='auto'` has been deprecated in 1.1 and will be removed in 1.3. To keep the past behaviour, explicitly set `max_features='sqrt'` or remove this parameter as it is also the default value for RandomForestClassifiers and ExtraTreesClassifiers.\n",
      "  warn(\n",
      "/Users/asha.anab/opt/anaconda3/lib/python3.9/site-packages/sklearn/ensemble/_forest.py:424: FutureWarning: `max_features='auto'` has been deprecated in 1.1 and will be removed in 1.3. To keep the past behaviour, explicitly set `max_features='sqrt'` or remove this parameter as it is also the default value for RandomForestClassifiers and ExtraTreesClassifiers.\n",
      "  warn(\n",
      "/Users/asha.anab/opt/anaconda3/lib/python3.9/site-packages/sklearn/ensemble/_forest.py:424: FutureWarning: `max_features='auto'` has been deprecated in 1.1 and will be removed in 1.3. To keep the past behaviour, explicitly set `max_features='sqrt'` or remove this parameter as it is also the default value for RandomForestClassifiers and ExtraTreesClassifiers.\n",
      "  warn(\n",
      "/Users/asha.anab/opt/anaconda3/lib/python3.9/site-packages/sklearn/ensemble/_forest.py:424: FutureWarning: `max_features='auto'` has been deprecated in 1.1 and will be removed in 1.3. To keep the past behaviour, explicitly set `max_features='sqrt'` or remove this parameter as it is also the default value for RandomForestClassifiers and ExtraTreesClassifiers.\n",
      "  warn(\n",
      "/Users/asha.anab/opt/anaconda3/lib/python3.9/site-packages/sklearn/ensemble/_forest.py:424: FutureWarning: `max_features='auto'` has been deprecated in 1.1 and will be removed in 1.3. To keep the past behaviour, explicitly set `max_features='sqrt'` or remove this parameter as it is also the default value for RandomForestClassifiers and ExtraTreesClassifiers.\n",
      "  warn(\n",
      "/Users/asha.anab/opt/anaconda3/lib/python3.9/site-packages/sklearn/ensemble/_forest.py:424: FutureWarning: `max_features='auto'` has been deprecated in 1.1 and will be removed in 1.3. To keep the past behaviour, explicitly set `max_features='sqrt'` or remove this parameter as it is also the default value for RandomForestClassifiers and ExtraTreesClassifiers.\n",
      "  warn(\n",
      "/Users/asha.anab/opt/anaconda3/lib/python3.9/site-packages/sklearn/ensemble/_forest.py:424: FutureWarning: `max_features='auto'` has been deprecated in 1.1 and will be removed in 1.3. To keep the past behaviour, explicitly set `max_features='sqrt'` or remove this parameter as it is also the default value for RandomForestClassifiers and ExtraTreesClassifiers.\n",
      "  warn(\n",
      "/Users/asha.anab/opt/anaconda3/lib/python3.9/site-packages/sklearn/ensemble/_forest.py:424: FutureWarning: `max_features='auto'` has been deprecated in 1.1 and will be removed in 1.3. To keep the past behaviour, explicitly set `max_features='sqrt'` or remove this parameter as it is also the default value for RandomForestClassifiers and ExtraTreesClassifiers.\n",
      "  warn(\n",
      "/Users/asha.anab/opt/anaconda3/lib/python3.9/site-packages/sklearn/ensemble/_forest.py:424: FutureWarning: `max_features='auto'` has been deprecated in 1.1 and will be removed in 1.3. To keep the past behaviour, explicitly set `max_features='sqrt'` or remove this parameter as it is also the default value for RandomForestClassifiers and ExtraTreesClassifiers.\n",
      "  warn(\n"
     ]
    },
    {
     "name": "stdout",
     "output_type": "stream",
     "text": [
      "Best parameters: {'class_weight': {0: 0.2, 1: 0.8}, 'max_depth': 7, 'max_features': None, 'min_samples_leaf': 3, 'min_samples_split': 2, 'n_estimators': 267}\n",
      "Best CV score: 0.8383333333333333\n"
     ]
    }
   ],
   "source": [
    "from sklearn.model_selection import RandomizedSearchCV\n",
    "from sklearn.ensemble import RandomForestClassifier\n",
    "from scipy.stats import randint\n",
    "\n",
    "param_distributions = {\n",
    "    'n_estimators': randint(100, 500),\n",
    "    'max_depth': randint(3, 20),\n",
    "    'min_samples_split': randint(2, 11),\n",
    "    'min_samples_leaf': randint(1, 6),\n",
    "    'class_weight': [{0: 0.4, 1: 0.6}, {0: 0.3, 1: 0.7}, {0: 0.2, 1: 0.8}],\n",
    "    'max_features': ['auto', 'sqrt', 'log2', None]\n",
    "}\n",
    "\n",
    "rf = RandomForestClassifier(random_state=42)\n",
    "\n",
    "random_search = RandomizedSearchCV(rf, param_distributions=param_distributions, n_iter=100, cv=5, verbose=0, random_state=42, n_jobs=-1, scoring='accuracy')\n",
    "\n",
    "random_search.fit(X_train, y_train)\n",
    "\n",
    "print(f\"Best parameters: {random_search.best_params_}\")\n",
    "print(f\"Best CV score: {random_search.best_score_}\")\n"
   ]
  },
  {
   "cell_type": "code",
   "execution_count": 365,
   "id": "ec74ede3",
   "metadata": {},
   "outputs": [
    {
     "name": "stdout",
     "output_type": "stream",
     "text": [
      "Optimized Model Accuracy: 0.8709677419354839\n",
      "Optimized Classification Report:\n",
      "              precision    recall  f1-score   support\n",
      "\n",
      "           0       0.94      0.85      0.89        20\n",
      "           1       0.77      0.91      0.83        11\n",
      "\n",
      "    accuracy                           0.87        31\n",
      "   macro avg       0.86      0.88      0.86        31\n",
      "weighted avg       0.88      0.87      0.87        31\n",
      "\n",
      "Optimized Confusion Matrix:\n",
      "[[17  3]\n",
      " [ 1 10]]\n"
     ]
    }
   ],
   "source": [
    "rf_optimized = RandomForestClassifier(\n",
    "    n_estimators=267,\n",
    "    max_depth=7,\n",
    "    min_samples_split=2,\n",
    "    class_weight = {0: 0.2, 1: 0.8},\n",
    "    min_samples_leaf=3,\n",
    "    max_features= None,\n",
    "    random_state=42\n",
    ")\n",
    "\n",
    "\n",
    "rf_optimized.fit(X_train, y_train)\n",
    "\n",
    "\n",
    "y_pred_optimized = rf_optimized.predict(X_test)\n",
    "\n",
    "\n",
    "accuracy_optimized = accuracy_score(y_test, y_pred_optimized)\n",
    "class_report_optimized = classification_report(y_test, y_pred_optimized)\n",
    "conf_matrix_optimized = confusion_matrix(y_test, y_pred_optimized)\n",
    "\n",
    "print(f\"Optimized Model Accuracy: {accuracy_optimized}\")\n",
    "print(\"Optimized Classification Report:\")\n",
    "print(class_report_optimized)\n",
    "print(\"Optimized Confusion Matrix:\")\n",
    "print(conf_matrix_optimized)\n"
   ]
  },
  {
   "cell_type": "code",
   "execution_count": 351,
   "id": "fb62d10a",
   "metadata": {},
   "outputs": [],
   "source": [
    "df_sampled.fillna(0, inplace=True)\n",
    "predictions = rf_optimized.predict(X_selected)\n",
    "probabilities = rf_optimized.predict_proba(X_selected)\n"
   ]
  },
  {
   "cell_type": "code",
   "execution_count": 352,
   "id": "1dfeac3a",
   "metadata": {},
   "outputs": [],
   "source": [
    "results = pd.DataFrame({\n",
    "    'CIF_ID': cif_ids,\n",
    "    'Predictions': predictions,\n",
    "    'Probabilities': probabilities[:, 1],  \n",
    "    #'y_true': y_true \n",
    "})"
   ]
  },
  {
   "cell_type": "code",
   "execution_count": 366,
   "id": "0cd9d791",
   "metadata": {},
   "outputs": [],
   "source": [
    "import pickle\n",
    "filename = 'hyperperameterw3.sav'\n",
    "pickle.dump(rf_optimized, open(filename, 'wb'))"
   ]
  },
  {
   "cell_type": "code",
   "execution_count": null,
   "id": "e83a60c3",
   "metadata": {},
   "outputs": [],
   "source": []
  }
 ],
 "metadata": {
  "kernelspec": {
   "display_name": "Python 3 (ipykernel)",
   "language": "python",
   "name": "python3"
  },
  "language_info": {
   "codemirror_mode": {
    "name": "ipython",
    "version": 3
   },
   "file_extension": ".py",
   "mimetype": "text/x-python",
   "name": "python",
   "nbconvert_exporter": "python",
   "pygments_lexer": "ipython3",
   "version": "3.9.12"
  }
 },
 "nbformat": 4,
 "nbformat_minor": 5
}
