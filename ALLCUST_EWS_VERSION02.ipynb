{
 "cells": [
  {
   "cell_type": "code",
   "execution_count": 1,
   "id": "1a0a7b5a",
   "metadata": {},
   "outputs": [],
   "source": [
    "# Imports\n",
    "\n",
    "import warnings\n",
    "\n",
    "warnings.filterwarnings(\"ignore\")\n",
    "\n",
    "import pandas as pd\n",
    "import numpy as np\n",
    "import datetime as dt\n",
    "from collections import Counter  \n",
    "from sklearn.metrics import confusion_matrix\n",
    "import calendar\n",
    "from dateutil import relativedelta\n",
    "import operator\n",
    "import os\n",
    "import random\n",
    "from functools import reduce\n",
    "import matplotlib.pyplot as plt\n",
    "import seaborn as sns\n",
    "from itertools import combinations\n",
    "import warnings\n",
    "import matplotlib.ticker as ticker\n",
    "warnings.filterwarnings('ignore')\n",
    "pd.set_option('display.max_columns', None)\n",
    "pd.set_option('display.max_rows', None)\n",
    "pd.set_option('display.float_format', lambda x: f'%.{len(str(x%1))-2}f' % x)\n",
    "pd.set_option('display.max_colwidth', None)\n",
    "%matplotlib inline"
   ]
  },
  {
   "cell_type": "code",
   "execution_count": 2,
   "id": "3ba3d302",
   "metadata": {},
   "outputs": [],
   "source": [
    "detail = pd.read_csv('BASE_CUSTS.csv',converters={'CIF_ID':str})\n",
    "non_loan = pd.read_csv('ALLCUST_NONLOAN.csv',converters={'CIF_ID':str})\n",
    "loan = pd.read_csv('ALLCUST_LOAN.csv',converters={'CIF_ID':str})\n",
    "trans = pd.read_csv('ALLCUST_TRANSACTIONS.csv',converters={'CIF_ID':str})\n",
    "eod = pd.read_csv('ALLCUSTEOD.csv',converters={'CIF_ID':str})\n",
    "otg = pd.read_csv('ALLCUSTOTG.csv',converters={'CIF_ID':str})"
   ]
  },
  {
   "cell_type": "code",
   "execution_count": 3,
   "id": "433f413c",
   "metadata": {},
   "outputs": [
    {
     "data": {
      "text/plain": [
       "(11758, 7)"
      ]
     },
     "execution_count": 3,
     "metadata": {},
     "output_type": "execute_result"
    }
   ],
   "source": [
    "trans.shape"
   ]
  },
  {
   "cell_type": "code",
   "execution_count": 4,
   "id": "d91bb195",
   "metadata": {},
   "outputs": [
    {
     "name": "stdout",
     "output_type": "stream",
     "text": [
      "DataFrame 1 - Shape: (1654, 22), Unique IDs: 1517\n",
      "DataFrame 2 - Shape: (1503, 2), Unique IDs: 1503\n",
      "DataFrame 3 - Shape: (1517, 2), Unique IDs: 1517\n",
      "DataFrame 4 - Shape: (11758, 7), Unique IDs: 1514\n",
      "DataFrame 5 - Shape: (1620, 3), Unique IDs: 366\n",
      "DataFrame 6 - Shape: (1620, 6), Unique IDs: 139\n"
     ]
    }
   ],
   "source": [
    "dfs = [detail, non_loan, loan, trans, eod, otg ]\n",
    "\n",
    "for i, df in enumerate(dfs, start=1):\n",
    "    print(f\"DataFrame {i} - Shape: {df.shape}, Unique IDs: {df['CIF_ID'].nunique()}\")"
   ]
  },
  {
   "cell_type": "code",
   "execution_count": 5,
   "id": "65765a20",
   "metadata": {},
   "outputs": [
    {
     "data": {
      "text/html": [
       "<div>\n",
       "<style scoped>\n",
       "    .dataframe tbody tr th:only-of-type {\n",
       "        vertical-align: middle;\n",
       "    }\n",
       "\n",
       "    .dataframe tbody tr th {\n",
       "        vertical-align: top;\n",
       "    }\n",
       "\n",
       "    .dataframe thead th {\n",
       "        text-align: right;\n",
       "    }\n",
       "</style>\n",
       "<table border=\"1\" class=\"dataframe\">\n",
       "  <thead>\n",
       "    <tr style=\"text-align: right;\">\n",
       "      <th></th>\n",
       "      <th>CIF_ID</th>\n",
       "      <th>ACID</th>\n",
       "      <th>CUST_AGE</th>\n",
       "      <th>AGE_WITH_BANK</th>\n",
       "      <th>SEGMENTATION_CLASS</th>\n",
       "      <th>CUSTOMERINCOME</th>\n",
       "      <th>SECTOR</th>\n",
       "      <th>SUBSECTOR</th>\n",
       "      <th>SECURED_FLG</th>\n",
       "      <th>PHYSICALADDRESS</th>\n",
       "      <th>MARITALSTATUS</th>\n",
       "      <th>OTG_TRANSACTING</th>\n",
       "      <th>SCHM_CODE</th>\n",
       "      <th>SCHM_DESC</th>\n",
       "      <th>DIS_AMT</th>\n",
       "      <th>DISB_DATE_3WK</th>\n",
       "      <th>DISB_DATE</th>\n",
       "      <th>REP_PERD_MTHS</th>\n",
       "      <th>DPD_CNTR</th>\n",
       "      <th>FLOW_ID</th>\n",
       "      <th>FLOW_AMT</th>\n",
       "      <th>NO_OF_INSTALLMENTS</th>\n",
       "    </tr>\n",
       "  </thead>\n",
       "  <tbody>\n",
       "    <tr>\n",
       "      <th>1409</th>\n",
       "      <td>0418841</td>\n",
       "      <td>IM21807888</td>\n",
       "      <td>51</td>\n",
       "      <td>0</td>\n",
       "      <td>BL03</td>\n",
       "      <td>0.0</td>\n",
       "      <td>ANY OTHER ACTIVITIES</td>\n",
       "      <td>ALL OTHER ACTIVITIES NOT UNDER  ENTPR OR SCPS</td>\n",
       "      <td>N</td>\n",
       "      <td>BROWN APARTMENT L3</td>\n",
       "      <td>MARRIED</td>\n",
       "      <td>N</td>\n",
       "      <td>LAL06</td>\n",
       "      <td>HOUSING LOAN - GEN PUBLIC - LCY</td>\n",
       "      <td>11200000.0</td>\n",
       "      <td>18-SEP-23</td>\n",
       "      <td>28-AUG-23</td>\n",
       "      <td>120</td>\n",
       "      <td>0</td>\n",
       "      <td>EIDEM</td>\n",
       "      <td>183930.0</td>\n",
       "      <td>1</td>\n",
       "    </tr>\n",
       "  </tbody>\n",
       "</table>\n",
       "</div>"
      ],
      "text/plain": [
       "       CIF_ID        ACID  CUST_AGE  AGE_WITH_BANK SEGMENTATION_CLASS  \\\n",
       "1409  0418841  IM21807888        51              0               BL03   \n",
       "\n",
       "      CUSTOMERINCOME                SECTOR  \\\n",
       "1409             0.0  ANY OTHER ACTIVITIES   \n",
       "\n",
       "                                          SUBSECTOR SECURED_FLG  \\\n",
       "1409  ALL OTHER ACTIVITIES NOT UNDER  ENTPR OR SCPS           N   \n",
       "\n",
       "         PHYSICALADDRESS MARITALSTATUS OTG_TRANSACTING SCHM_CODE  \\\n",
       "1409  BROWN APARTMENT L3       MARRIED               N     LAL06   \n",
       "\n",
       "                            SCHM_DESC    DIS_AMT DISB_DATE_3WK  DISB_DATE  \\\n",
       "1409  HOUSING LOAN - GEN PUBLIC - LCY 11200000.0     18-SEP-23  28-AUG-23   \n",
       "\n",
       "      REP_PERD_MTHS  DPD_CNTR FLOW_ID  FLOW_AMT  NO_OF_INSTALLMENTS  \n",
       "1409            120         0   EIDEM  183930.0                   1  "
      ]
     },
     "execution_count": 5,
     "metadata": {},
     "output_type": "execute_result"
    }
   ],
   "source": [
    "detail.sample()"
   ]
  },
  {
   "cell_type": "code",
   "execution_count": 6,
   "id": "5e987b53",
   "metadata": {},
   "outputs": [],
   "source": [
    "columns_to_drop = ['CUSTOMERINCOME', 'SECTOR', 'SUBSECTOR', 'SECURED_FLG', \n",
    "                   'PHYSICALADDRESS','MARITALSTATUS','DISB_DATE_3WK']\n",
    "detail.drop(columns=columns_to_drop, inplace=True)"
   ]
  },
  {
   "cell_type": "code",
   "execution_count": 7,
   "id": "8af3d1af",
   "metadata": {},
   "outputs": [
    {
     "data": {
      "text/html": [
       "<div>\n",
       "<style scoped>\n",
       "    .dataframe tbody tr th:only-of-type {\n",
       "        vertical-align: middle;\n",
       "    }\n",
       "\n",
       "    .dataframe tbody tr th {\n",
       "        vertical-align: top;\n",
       "    }\n",
       "\n",
       "    .dataframe thead th {\n",
       "        text-align: right;\n",
       "    }\n",
       "</style>\n",
       "<table border=\"1\" class=\"dataframe\">\n",
       "  <thead>\n",
       "    <tr style=\"text-align: right;\">\n",
       "      <th></th>\n",
       "      <th>CIF_ID</th>\n",
       "      <th>ACID</th>\n",
       "      <th>CUST_AGE</th>\n",
       "      <th>AGE_WITH_BANK</th>\n",
       "      <th>SEGMENTATION_CLASS</th>\n",
       "      <th>OTG_TRANSACTING</th>\n",
       "      <th>SCHM_CODE</th>\n",
       "      <th>SCHM_DESC</th>\n",
       "      <th>DIS_AMT</th>\n",
       "      <th>DISB_DATE</th>\n",
       "      <th>REP_PERD_MTHS</th>\n",
       "      <th>DPD_CNTR</th>\n",
       "      <th>FLOW_ID</th>\n",
       "      <th>FLOW_AMT</th>\n",
       "      <th>NO_OF_INSTALLMENTS</th>\n",
       "    </tr>\n",
       "  </thead>\n",
       "  <tbody>\n",
       "    <tr>\n",
       "      <th>1294</th>\n",
       "      <td>0196345</td>\n",
       "      <td>IM21671980</td>\n",
       "      <td>49</td>\n",
       "      <td>4</td>\n",
       "      <td>BL03</td>\n",
       "      <td>N</td>\n",
       "      <td>LAL02</td>\n",
       "      <td>TERM LOAN- EMI- LCY</td>\n",
       "      <td>5830000.0</td>\n",
       "      <td>10-JUN-22</td>\n",
       "      <td>48</td>\n",
       "      <td>89</td>\n",
       "      <td>EIDEM</td>\n",
       "      <td>174750.0</td>\n",
       "      <td>1</td>\n",
       "    </tr>\n",
       "  </tbody>\n",
       "</table>\n",
       "</div>"
      ],
      "text/plain": [
       "       CIF_ID        ACID  CUST_AGE  AGE_WITH_BANK SEGMENTATION_CLASS  \\\n",
       "1294  0196345  IM21671980        49              4               BL03   \n",
       "\n",
       "     OTG_TRANSACTING SCHM_CODE            SCHM_DESC   DIS_AMT  DISB_DATE  \\\n",
       "1294               N     LAL02  TERM LOAN- EMI- LCY 5830000.0  10-JUN-22   \n",
       "\n",
       "      REP_PERD_MTHS  DPD_CNTR FLOW_ID  FLOW_AMT  NO_OF_INSTALLMENTS  \n",
       "1294             48        89   EIDEM  174750.0                   1  "
      ]
     },
     "execution_count": 7,
     "metadata": {},
     "output_type": "execute_result"
    }
   ],
   "source": [
    "detail.sample()"
   ]
  },
  {
   "cell_type": "code",
   "execution_count": 8,
   "id": "e226e8fb",
   "metadata": {},
   "outputs": [],
   "source": [
    "# detail['FLOW_AMT'] == 0 are new loans and have not paid instalments on their loans yet \n",
    "detail = detail[~(detail['FLOW_AMT'] == 0)]\n"
   ]
  },
  {
   "cell_type": "code",
   "execution_count": 9,
   "id": "1dcb5d60",
   "metadata": {},
   "outputs": [
    {
     "name": "stdout",
     "output_type": "stream",
     "text": [
      "Number of 0's (DPD_CNTR < 60): 1448\n",
      "Number of 1's (DPD_CNTR >= 60): 206\n"
     ]
    }
   ],
   "source": [
    "# Default on a loan has been described as 60 days past instalment payment date\n",
    "detail['DEFAULT_STATUS'] = (detail['DPD_CNTR'] >= 60).astype(int)\n",
    "default_status_counts = detail['DEFAULT_STATUS'].value_counts()\n",
    "\n",
    "print(\"Number of 0's (DPD_CNTR < 60):\", default_status_counts[0])\n",
    "print(\"Number of 1's (DPD_CNTR >= 60):\", default_status_counts[1])"
   ]
  },
  {
   "cell_type": "markdown",
   "id": "0a9885fe",
   "metadata": {},
   "source": [
    "## TRANSACTIONS"
   ]
  },
  {
   "cell_type": "code",
   "execution_count": 10,
   "id": "4567209a",
   "metadata": {},
   "outputs": [],
   "source": [
    "detail.drop('ACID', inplace=True,axis=1)\n",
    "trans.drop('ACID',inplace=True,axis=1)"
   ]
  },
  {
   "cell_type": "code",
   "execution_count": 11,
   "id": "9bc5d7c9",
   "metadata": {},
   "outputs": [
    {
     "data": {
      "text/html": [
       "<div>\n",
       "<style scoped>\n",
       "    .dataframe tbody tr th:only-of-type {\n",
       "        vertical-align: middle;\n",
       "    }\n",
       "\n",
       "    .dataframe tbody tr th {\n",
       "        vertical-align: top;\n",
       "    }\n",
       "\n",
       "    .dataframe thead th {\n",
       "        text-align: right;\n",
       "    }\n",
       "</style>\n",
       "<table border=\"1\" class=\"dataframe\">\n",
       "  <thead>\n",
       "    <tr style=\"text-align: right;\">\n",
       "      <th></th>\n",
       "      <th>CIF_ID</th>\n",
       "      <th>TRAN_ID</th>\n",
       "      <th>PART_TRAN_TYPE</th>\n",
       "      <th>TRAN_CRNCY_CODE</th>\n",
       "      <th>TRAN_DATE</th>\n",
       "      <th>CONVERTED_AMOUNT</th>\n",
       "    </tr>\n",
       "  </thead>\n",
       "  <tbody>\n",
       "    <tr>\n",
       "      <th>7843</th>\n",
       "      <td>0377083</td>\n",
       "      <td>S5991</td>\n",
       "      <td>D</td>\n",
       "      <td>KES</td>\n",
       "      <td>24-JAN-24</td>\n",
       "      <td>15.0</td>\n",
       "    </tr>\n",
       "  </tbody>\n",
       "</table>\n",
       "</div>"
      ],
      "text/plain": [
       "       CIF_ID    TRAN_ID PART_TRAN_TYPE TRAN_CRNCY_CODE  TRAN_DATE  \\\n",
       "7843  0377083      S5991              D             KES  24-JAN-24   \n",
       "\n",
       "      CONVERTED_AMOUNT  \n",
       "7843              15.0  "
      ]
     },
     "execution_count": 11,
     "metadata": {},
     "output_type": "execute_result"
    }
   ],
   "source": [
    "trans.sample()"
   ]
  },
  {
   "cell_type": "code",
   "execution_count": 12,
   "id": "cafe2664",
   "metadata": {},
   "outputs": [],
   "source": [
    "df_detail_trans = pd.merge(detail,trans,on='CIF_ID', how='left')"
   ]
  },
  {
   "cell_type": "code",
   "execution_count": 13,
   "id": "70d63abf",
   "metadata": {},
   "outputs": [],
   "source": [
    "# df_detail_trans.drop(['SEGMENTATION_CLASS', 'SCHM_CODE'], axis=1, inplace=True)"
   ]
  },
  {
   "cell_type": "code",
   "execution_count": 14,
   "id": "e7e3efd3",
   "metadata": {},
   "outputs": [
    {
     "data": {
      "text/plain": [
       "BL03    1090\n",
       "BL05     564\n",
       "Name: SEGMENTATION_CLASS, dtype: int64"
      ]
     },
     "execution_count": 14,
     "metadata": {},
     "output_type": "execute_result"
    }
   ],
   "source": [
    "detail.SEGMENTATION_CLASS.value_counts()"
   ]
  },
  {
   "cell_type": "code",
   "execution_count": 15,
   "id": "b66fbb7e",
   "metadata": {},
   "outputs": [],
   "source": [
    "schm_code_counts = detail['SCHM_CODE'].value_counts()\n"
   ]
  },
  {
   "cell_type": "code",
   "execution_count": 16,
   "id": "c34d455d",
   "metadata": {
    "scrolled": false
   },
   "outputs": [],
   "source": [
    "# import plotly.express as px\n",
    "# fig = px.bar(schm_code_counts, x=schm_code_counts.index, y=schm_code_counts.values, \n",
    "#              labels={'SCHM_CODE': 'Scheme Code', 'count': 'Count'},\n",
    "#              title='Value Counts of Scheme Codes')\n",
    "\n",
    "# fig.show()"
   ]
  },
  {
   "cell_type": "code",
   "execution_count": 17,
   "id": "79a580e2",
   "metadata": {},
   "outputs": [
    {
     "data": {
      "text/plain": [
       "array([569, 322, 317, 207, 170,  30,  22,   9,   5,   3])"
      ]
     },
     "execution_count": 17,
     "metadata": {},
     "output_type": "execute_result"
    }
   ],
   "source": [
    "schm_code_counts.values"
   ]
  },
  {
   "cell_type": "code",
   "execution_count": 18,
   "id": "07de792b",
   "metadata": {},
   "outputs": [],
   "source": [
    "debit_trans = trans[trans['PART_TRAN_TYPE'] == 'D']\n",
    "credit_trans = trans[trans['PART_TRAN_TYPE'] == 'C']\n"
   ]
  },
  {
   "cell_type": "code",
   "execution_count": 19,
   "id": "bb935844",
   "metadata": {},
   "outputs": [
    {
     "data": {
      "text/plain": [
       "(3715, 6)"
      ]
     },
     "execution_count": 19,
     "metadata": {},
     "output_type": "execute_result"
    }
   ],
   "source": [
    "debit_trans.shape"
   ]
  },
  {
   "cell_type": "code",
   "execution_count": 20,
   "id": "ee6e1997",
   "metadata": {},
   "outputs": [],
   "source": [
    "credit_trans['UNIQUE_ID'] = [x + '_' + y for x,y in zip(credit_trans['CIF_ID'],credit_trans['TRAN_ID'])]\n",
    "debit_trans['UNIQUE_ID'] = [x + '_' + y for x,y in zip(debit_trans['CIF_ID'],debit_trans['TRAN_ID'])]\n",
    "credit_trans = credit_trans[~credit_trans['UNIQUE_ID'].isin(debit_trans['UNIQUE_ID'])]"
   ]
  },
  {
   "cell_type": "code",
   "execution_count": 21,
   "id": "84306854",
   "metadata": {},
   "outputs": [],
   "source": [
    "credit_trans.drop('UNIQUE_ID',inplace=True,axis=1)\n"
   ]
  },
  {
   "cell_type": "code",
   "execution_count": 22,
   "id": "c29e387c",
   "metadata": {},
   "outputs": [],
   "source": [
    "grouped_debits = debit_trans.groupby(['CIF_ID']).size().reset_index(name='DEBIT_COUNT')\n",
    "grouped_credits = credit_trans.groupby(['CIF_ID']).size().reset_index(name='CREDIT_COUNT')"
   ]
  },
  {
   "cell_type": "code",
   "execution_count": 23,
   "id": "08234a24",
   "metadata": {},
   "outputs": [
    {
     "data": {
      "text/plain": [
       "(348, 2)"
      ]
     },
     "execution_count": 23,
     "metadata": {},
     "output_type": "execute_result"
    }
   ],
   "source": [
    "grouped_debits.shape"
   ]
  },
  {
   "cell_type": "code",
   "execution_count": 24,
   "id": "3d19343e",
   "metadata": {},
   "outputs": [
    {
     "data": {
      "text/html": [
       "<div>\n",
       "<style scoped>\n",
       "    .dataframe tbody tr th:only-of-type {\n",
       "        vertical-align: middle;\n",
       "    }\n",
       "\n",
       "    .dataframe tbody tr th {\n",
       "        vertical-align: top;\n",
       "    }\n",
       "\n",
       "    .dataframe thead th {\n",
       "        text-align: right;\n",
       "    }\n",
       "</style>\n",
       "<table border=\"1\" class=\"dataframe\">\n",
       "  <thead>\n",
       "    <tr style=\"text-align: right;\">\n",
       "      <th></th>\n",
       "      <th>CIF_ID</th>\n",
       "      <th>DEBIT_COUNT</th>\n",
       "    </tr>\n",
       "  </thead>\n",
       "  <tbody>\n",
       "    <tr>\n",
       "      <th>204</th>\n",
       "      <td>0380966</td>\n",
       "      <td>1</td>\n",
       "    </tr>\n",
       "  </tbody>\n",
       "</table>\n",
       "</div>"
      ],
      "text/plain": [
       "      CIF_ID  DEBIT_COUNT\n",
       "204  0380966            1"
      ]
     },
     "execution_count": 24,
     "metadata": {},
     "output_type": "execute_result"
    }
   ],
   "source": [
    "grouped_debits.sample()"
   ]
  },
  {
   "cell_type": "code",
   "execution_count": 25,
   "id": "c57bdeac",
   "metadata": {},
   "outputs": [],
   "source": [
    "merged_df = grouped_debits.merge(grouped_credits, on=['CIF_ID'], how='left').fillna(0)"
   ]
  },
  {
   "cell_type": "code",
   "execution_count": 26,
   "id": "687064c0",
   "metadata": {},
   "outputs": [
    {
     "data": {
      "text/plain": [
       "(348, 3)"
      ]
     },
     "execution_count": 26,
     "metadata": {},
     "output_type": "execute_result"
    }
   ],
   "source": [
    "merged_df.shape"
   ]
  },
  {
   "cell_type": "code",
   "execution_count": 27,
   "id": "db7658a9",
   "metadata": {},
   "outputs": [
    {
     "data": {
      "text/html": [
       "<div>\n",
       "<style scoped>\n",
       "    .dataframe tbody tr th:only-of-type {\n",
       "        vertical-align: middle;\n",
       "    }\n",
       "\n",
       "    .dataframe tbody tr th {\n",
       "        vertical-align: top;\n",
       "    }\n",
       "\n",
       "    .dataframe thead th {\n",
       "        text-align: right;\n",
       "    }\n",
       "</style>\n",
       "<table border=\"1\" class=\"dataframe\">\n",
       "  <thead>\n",
       "    <tr style=\"text-align: right;\">\n",
       "      <th></th>\n",
       "      <th>CIF_ID</th>\n",
       "      <th>DEBIT_COUNT</th>\n",
       "      <th>CREDIT_COUNT</th>\n",
       "    </tr>\n",
       "  </thead>\n",
       "  <tbody>\n",
       "    <tr>\n",
       "      <th>234</th>\n",
       "      <td>0383601</td>\n",
       "      <td>1</td>\n",
       "      <td>2.0</td>\n",
       "    </tr>\n",
       "  </tbody>\n",
       "</table>\n",
       "</div>"
      ],
      "text/plain": [
       "      CIF_ID  DEBIT_COUNT  CREDIT_COUNT\n",
       "234  0383601            1           2.0"
      ]
     },
     "execution_count": 27,
     "metadata": {},
     "output_type": "execute_result"
    }
   ],
   "source": [
    "merged_df.sample()"
   ]
  },
  {
   "cell_type": "code",
   "execution_count": 28,
   "id": "13a72f61",
   "metadata": {},
   "outputs": [],
   "source": [
    "pd.set_option('display.float_format', '{:.1f}'.format)\n",
    "merged_df['DEBIT_CREDIT_COUNT_RATIO_3weeks'] = merged_df['DEBIT_COUNT'] / merged_df['CREDIT_COUNT'].replace(0, 1)\n"
   ]
  },
  {
   "cell_type": "code",
   "execution_count": 29,
   "id": "7bff74ea",
   "metadata": {},
   "outputs": [
    {
     "data": {
      "text/html": [
       "<div>\n",
       "<style scoped>\n",
       "    .dataframe tbody tr th:only-of-type {\n",
       "        vertical-align: middle;\n",
       "    }\n",
       "\n",
       "    .dataframe tbody tr th {\n",
       "        vertical-align: top;\n",
       "    }\n",
       "\n",
       "    .dataframe thead th {\n",
       "        text-align: right;\n",
       "    }\n",
       "</style>\n",
       "<table border=\"1\" class=\"dataframe\">\n",
       "  <thead>\n",
       "    <tr style=\"text-align: right;\">\n",
       "      <th></th>\n",
       "      <th>CIF_ID</th>\n",
       "      <th>DEBIT_COUNT</th>\n",
       "      <th>CREDIT_COUNT</th>\n",
       "      <th>DEBIT_CREDIT_COUNT_RATIO_3weeks</th>\n",
       "    </tr>\n",
       "  </thead>\n",
       "  <tbody>\n",
       "    <tr>\n",
       "      <th>174</th>\n",
       "      <td>0377892</td>\n",
       "      <td>1</td>\n",
       "      <td>1.0</td>\n",
       "      <td>1.0</td>\n",
       "    </tr>\n",
       "  </tbody>\n",
       "</table>\n",
       "</div>"
      ],
      "text/plain": [
       "      CIF_ID  DEBIT_COUNT  CREDIT_COUNT  DEBIT_CREDIT_COUNT_RATIO_3weeks\n",
       "174  0377892            1           1.0                              1.0"
      ]
     },
     "execution_count": 29,
     "metadata": {},
     "output_type": "execute_result"
    }
   ],
   "source": [
    "merged_df.sample()"
   ]
  },
  {
   "cell_type": "code",
   "execution_count": 30,
   "id": "e8dd872b",
   "metadata": {},
   "outputs": [],
   "source": [
    "summary_df = merged_df.groupby('CIF_ID')['DEBIT_CREDIT_COUNT_RATIO_3weeks'].agg(['mean', 'median']).reset_index()\n",
    "summary_df.rename(columns={'mean': 'AVG_DEBIT_CREDIT_COUNT_RATIO', 'median': 'MEDIAN_DEBIT_CREDIT_COUNT_RATIO'}, inplace=True)\n"
   ]
  },
  {
   "cell_type": "code",
   "execution_count": 31,
   "id": "61507823",
   "metadata": {},
   "outputs": [
    {
     "data": {
      "text/html": [
       "<div>\n",
       "<style scoped>\n",
       "    .dataframe tbody tr th:only-of-type {\n",
       "        vertical-align: middle;\n",
       "    }\n",
       "\n",
       "    .dataframe tbody tr th {\n",
       "        vertical-align: top;\n",
       "    }\n",
       "\n",
       "    .dataframe thead th {\n",
       "        text-align: right;\n",
       "    }\n",
       "</style>\n",
       "<table border=\"1\" class=\"dataframe\">\n",
       "  <thead>\n",
       "    <tr style=\"text-align: right;\">\n",
       "      <th></th>\n",
       "      <th>CIF_ID</th>\n",
       "      <th>AVG_DEBIT_CREDIT_COUNT_RATIO</th>\n",
       "      <th>MEDIAN_DEBIT_CREDIT_COUNT_RATIO</th>\n",
       "    </tr>\n",
       "  </thead>\n",
       "  <tbody>\n",
       "    <tr>\n",
       "      <th>314</th>\n",
       "      <td>0397020</td>\n",
       "      <td>3.0</td>\n",
       "      <td>3.0</td>\n",
       "    </tr>\n",
       "  </tbody>\n",
       "</table>\n",
       "</div>"
      ],
      "text/plain": [
       "      CIF_ID  AVG_DEBIT_CREDIT_COUNT_RATIO  MEDIAN_DEBIT_CREDIT_COUNT_RATIO\n",
       "314  0397020                           3.0                              3.0"
      ]
     },
     "execution_count": 31,
     "metadata": {},
     "output_type": "execute_result"
    }
   ],
   "source": [
    "summary_df.sample()"
   ]
  },
  {
   "cell_type": "code",
   "execution_count": 32,
   "id": "beb30a6d",
   "metadata": {},
   "outputs": [
    {
     "data": {
      "text/plain": [
       "(348, 3)"
      ]
     },
     "execution_count": 32,
     "metadata": {},
     "output_type": "execute_result"
    }
   ],
   "source": [
    "summary_df.shape"
   ]
  },
  {
   "cell_type": "code",
   "execution_count": 33,
   "id": "30e5b0a7",
   "metadata": {},
   "outputs": [],
   "source": [
    "trans_cr = trans[trans['PART_TRAN_TYPE'] == 'C']\n",
    "trans_dr = trans[trans['PART_TRAN_TYPE'] == 'D']"
   ]
  },
  {
   "cell_type": "code",
   "execution_count": 34,
   "id": "7dc27d26",
   "metadata": {},
   "outputs": [],
   "source": [
    "trans_cr['UNIQUE_ID'] = [x + '_' + y for x,y in zip(trans_cr['CIF_ID'],trans_cr['TRAN_ID'])]\n",
    "trans_dr['UNIQUE_ID'] = [x + '_' + y for x,y in zip(trans_dr['CIF_ID'],trans_dr['TRAN_ID'])]\n",
    "trans_cr = trans_cr[~trans_cr['UNIQUE_ID'].isin(trans_dr['UNIQUE_ID'])]"
   ]
  },
  {
   "cell_type": "code",
   "execution_count": 35,
   "id": "2c29f62d",
   "metadata": {},
   "outputs": [],
   "source": [
    "trans_cr.drop('UNIQUE_ID',inplace=True,axis=1)\n",
    "trans_dr.drop('UNIQUE_ID',inplace=True,axis=1)"
   ]
  },
  {
   "cell_type": "code",
   "execution_count": 36,
   "id": "51090263",
   "metadata": {},
   "outputs": [
    {
     "data": {
      "text/plain": [
       "(3715, 6)"
      ]
     },
     "execution_count": 36,
     "metadata": {},
     "output_type": "execute_result"
    }
   ],
   "source": [
    "trans_dr.shape"
   ]
  },
  {
   "cell_type": "code",
   "execution_count": 37,
   "id": "17a1d818",
   "metadata": {},
   "outputs": [
    {
     "data": {
      "text/html": [
       "<div>\n",
       "<style scoped>\n",
       "    .dataframe tbody tr th:only-of-type {\n",
       "        vertical-align: middle;\n",
       "    }\n",
       "\n",
       "    .dataframe tbody tr th {\n",
       "        vertical-align: top;\n",
       "    }\n",
       "\n",
       "    .dataframe thead th {\n",
       "        text-align: right;\n",
       "    }\n",
       "</style>\n",
       "<table border=\"1\" class=\"dataframe\">\n",
       "  <thead>\n",
       "    <tr style=\"text-align: right;\">\n",
       "      <th></th>\n",
       "      <th>CIF_ID</th>\n",
       "      <th>CUST_AGE</th>\n",
       "      <th>AGE_WITH_BANK</th>\n",
       "      <th>SEGMENTATION_CLASS</th>\n",
       "      <th>OTG_TRANSACTING</th>\n",
       "      <th>SCHM_CODE</th>\n",
       "      <th>SCHM_DESC</th>\n",
       "      <th>DIS_AMT</th>\n",
       "      <th>DISB_DATE</th>\n",
       "      <th>REP_PERD_MTHS</th>\n",
       "      <th>DPD_CNTR</th>\n",
       "      <th>FLOW_ID</th>\n",
       "      <th>FLOW_AMT</th>\n",
       "      <th>NO_OF_INSTALLMENTS</th>\n",
       "      <th>DEFAULT_STATUS</th>\n",
       "    </tr>\n",
       "  </thead>\n",
       "  <tbody>\n",
       "    <tr>\n",
       "      <th>963</th>\n",
       "      <td>0416061</td>\n",
       "      <td>37</td>\n",
       "      <td>0</td>\n",
       "      <td>BL03</td>\n",
       "      <td>N</td>\n",
       "      <td>LAL30</td>\n",
       "      <td>STOCK FINANCE LOAN - LCY</td>\n",
       "      <td>600.0</td>\n",
       "      <td>23-NOV-23</td>\n",
       "      <td>0</td>\n",
       "      <td>62</td>\n",
       "      <td>PRDEM</td>\n",
       "      <td>600.0</td>\n",
       "      <td>1</td>\n",
       "      <td>1</td>\n",
       "    </tr>\n",
       "  </tbody>\n",
       "</table>\n",
       "</div>"
      ],
      "text/plain": [
       "      CIF_ID  CUST_AGE  AGE_WITH_BANK SEGMENTATION_CLASS OTG_TRANSACTING  \\\n",
       "963  0416061        37              0               BL03               N   \n",
       "\n",
       "    SCHM_CODE                 SCHM_DESC  DIS_AMT  DISB_DATE  REP_PERD_MTHS  \\\n",
       "963     LAL30  STOCK FINANCE LOAN - LCY    600.0  23-NOV-23              0   \n",
       "\n",
       "     DPD_CNTR FLOW_ID  FLOW_AMT  NO_OF_INSTALLMENTS  DEFAULT_STATUS  \n",
       "963        62   PRDEM     600.0                   1               1  "
      ]
     },
     "execution_count": 37,
     "metadata": {},
     "output_type": "execute_result"
    }
   ],
   "source": [
    "detail.sample()"
   ]
  },
  {
   "cell_type": "code",
   "execution_count": 38,
   "id": "c494237e",
   "metadata": {},
   "outputs": [],
   "source": [
    "trans_cr = pd.merge(trans_cr,detail[['CIF_ID']],\n",
    "                   how='left',on='CIF_ID')\n",
    "trans_dr = pd.merge(trans_dr,detail[['CIF_ID']],\n",
    "                   how='left',on='CIF_ID')"
   ]
  },
  {
   "cell_type": "code",
   "execution_count": null,
   "id": "a7034849",
   "metadata": {},
   "outputs": [],
   "source": []
  },
  {
   "cell_type": "markdown",
   "id": "7a0cb340",
   "metadata": {},
   "source": [
    "## CREDIT AGGREGATIONS"
   ]
  },
  {
   "cell_type": "code",
   "execution_count": 39,
   "id": "20b848f2",
   "metadata": {},
   "outputs": [
    {
     "data": {
      "text/plain": [
       "(4789, 6)"
      ]
     },
     "execution_count": 39,
     "metadata": {},
     "output_type": "execute_result"
    }
   ],
   "source": [
    "trans_cr.shape"
   ]
  },
  {
   "cell_type": "code",
   "execution_count": 40,
   "id": "1e031bf4",
   "metadata": {},
   "outputs": [
    {
     "data": {
      "text/html": [
       "<div>\n",
       "<style scoped>\n",
       "    .dataframe tbody tr th:only-of-type {\n",
       "        vertical-align: middle;\n",
       "    }\n",
       "\n",
       "    .dataframe tbody tr th {\n",
       "        vertical-align: top;\n",
       "    }\n",
       "\n",
       "    .dataframe thead th {\n",
       "        text-align: right;\n",
       "    }\n",
       "</style>\n",
       "<table border=\"1\" class=\"dataframe\">\n",
       "  <thead>\n",
       "    <tr style=\"text-align: right;\">\n",
       "      <th></th>\n",
       "      <th>CIF_ID</th>\n",
       "      <th>Credit_sum</th>\n",
       "      <th>Credit_count</th>\n",
       "      <th>Credit_median</th>\n",
       "      <th>Credit_mean</th>\n",
       "      <th>min_cred_amt_3_weeks</th>\n",
       "      <th>max_cred_amt_3_weeks</th>\n",
       "    </tr>\n",
       "  </thead>\n",
       "  <tbody>\n",
       "    <tr>\n",
       "      <th>241</th>\n",
       "      <td>0390227</td>\n",
       "      <td>97766.0</td>\n",
       "      <td>5</td>\n",
       "      <td>2000.0</td>\n",
       "      <td>19553.2</td>\n",
       "      <td>1000.0</td>\n",
       "      <td>74338.0</td>\n",
       "    </tr>\n",
       "    <tr>\n",
       "      <th>223</th>\n",
       "      <td>0387131</td>\n",
       "      <td>126782.0</td>\n",
       "      <td>1</td>\n",
       "      <td>126782.0</td>\n",
       "      <td>126782.0</td>\n",
       "      <td>126782.0</td>\n",
       "      <td>126782.0</td>\n",
       "    </tr>\n",
       "    <tr>\n",
       "      <th>131</th>\n",
       "      <td>0376459</td>\n",
       "      <td>458550.0</td>\n",
       "      <td>8</td>\n",
       "      <td>6000.0</td>\n",
       "      <td>57318.8</td>\n",
       "      <td>6000.0</td>\n",
       "      <td>410550.0</td>\n",
       "    </tr>\n",
       "    <tr>\n",
       "      <th>146</th>\n",
       "      <td>0380064</td>\n",
       "      <td>11312.0</td>\n",
       "      <td>2</td>\n",
       "      <td>5656.0</td>\n",
       "      <td>5656.0</td>\n",
       "      <td>5656.0</td>\n",
       "      <td>5656.0</td>\n",
       "    </tr>\n",
       "  </tbody>\n",
       "</table>\n",
       "</div>"
      ],
      "text/plain": [
       "      CIF_ID  Credit_sum  Credit_count  Credit_median  Credit_mean  \\\n",
       "241  0390227     97766.0             5         2000.0      19553.2   \n",
       "223  0387131    126782.0             1       126782.0     126782.0   \n",
       "131  0376459    458550.0             8         6000.0      57318.8   \n",
       "146  0380064     11312.0             2         5656.0       5656.0   \n",
       "\n",
       "     min_cred_amt_3_weeks  max_cred_amt_3_weeks  \n",
       "241                1000.0               74338.0  \n",
       "223              126782.0              126782.0  \n",
       "131                6000.0              410550.0  \n",
       "146                5656.0                5656.0  "
      ]
     },
     "execution_count": 40,
     "metadata": {},
     "output_type": "execute_result"
    }
   ],
   "source": [
    "grouped_cr_weekly = trans_cr.groupby(['CIF_ID']).agg({\n",
    "    'CONVERTED_AMOUNT': ['sum', 'count','median','mean','min','max']\n",
    "}).reset_index()\n",
    "grouped_cr_weekly.columns = ['_'.join(col).strip() for col in grouped_cr_weekly.columns.values]\n",
    "grouped_cr_weekly.rename(columns={'CIF_ID_': 'CIF_ID','CONVERTED_AMOUNT_sum':'Credit_sum' ,\n",
    "                                 'CONVERTED_AMOUNT_count':'Credit_count', 'CONVERTED_AMOUNT_median':'Credit_median',\n",
    "                                 'CONVERTED_AMOUNT_mean':'Credit_mean', 'CONVERTED_AMOUNT_min': 'min_cred_amt_3_weeks',\n",
    "                            'CONVERTED_AMOUNT_max': 'max_cred_amt_3_weeks'}, inplace=True)\n",
    "\n",
    "grouped_cr_weekly.sample(4)"
   ]
  },
  {
   "cell_type": "code",
   "execution_count": 41,
   "id": "424f16ce",
   "metadata": {},
   "outputs": [
    {
     "data": {
      "text/plain": [
       "(313, 7)"
      ]
     },
     "execution_count": 41,
     "metadata": {},
     "output_type": "execute_result"
    }
   ],
   "source": [
    "grouped_cr_weekly.shape"
   ]
  },
  {
   "cell_type": "code",
   "execution_count": 42,
   "id": "4bec9c85",
   "metadata": {},
   "outputs": [],
   "source": [
    "grouped_cr_weekly.drop_duplicates(keep='first',inplace=True)"
   ]
  },
  {
   "cell_type": "code",
   "execution_count": 43,
   "id": "935600d1",
   "metadata": {},
   "outputs": [
    {
     "data": {
      "text/plain": [
       "(313, 7)"
      ]
     },
     "execution_count": 43,
     "metadata": {},
     "output_type": "execute_result"
    }
   ],
   "source": [
    "grouped_cr_weekly.shape"
   ]
  },
  {
   "cell_type": "markdown",
   "id": "0a3a666d",
   "metadata": {},
   "source": [
    "## DEBIT AGGREGATIONS"
   ]
  },
  {
   "cell_type": "code",
   "execution_count": 44,
   "id": "64437d27",
   "metadata": {},
   "outputs": [
    {
     "data": {
      "text/html": [
       "<div>\n",
       "<style scoped>\n",
       "    .dataframe tbody tr th:only-of-type {\n",
       "        vertical-align: middle;\n",
       "    }\n",
       "\n",
       "    .dataframe tbody tr th {\n",
       "        vertical-align: top;\n",
       "    }\n",
       "\n",
       "    .dataframe thead th {\n",
       "        text-align: right;\n",
       "    }\n",
       "</style>\n",
       "<table border=\"1\" class=\"dataframe\">\n",
       "  <thead>\n",
       "    <tr style=\"text-align: right;\">\n",
       "      <th></th>\n",
       "      <th>CIF_ID</th>\n",
       "      <th>Debit_sum</th>\n",
       "      <th>Debit_count</th>\n",
       "      <th>Debit_mean</th>\n",
       "      <th>Debit_median</th>\n",
       "      <th>min_debit_amt_3_weeks</th>\n",
       "      <th>max_debit_amt_3_weeks</th>\n",
       "    </tr>\n",
       "  </thead>\n",
       "  <tbody>\n",
       "    <tr>\n",
       "      <th>235</th>\n",
       "      <td>0383679</td>\n",
       "      <td>17420.7</td>\n",
       "      <td>18</td>\n",
       "      <td>967.8</td>\n",
       "      <td>80.0</td>\n",
       "      <td>1.0</td>\n",
       "      <td>7000.0</td>\n",
       "    </tr>\n",
       "  </tbody>\n",
       "</table>\n",
       "</div>"
      ],
      "text/plain": [
       "      CIF_ID  Debit_sum  Debit_count  Debit_mean  Debit_median  \\\n",
       "235  0383679    17420.7           18       967.8          80.0   \n",
       "\n",
       "     min_debit_amt_3_weeks  max_debit_amt_3_weeks  \n",
       "235                    1.0                 7000.0  "
      ]
     },
     "execution_count": 44,
     "metadata": {},
     "output_type": "execute_result"
    }
   ],
   "source": [
    "grouped_dr_weekly = trans_dr.groupby(['CIF_ID']).agg({\n",
    "    'CONVERTED_AMOUNT': ['sum', 'count', 'mean','median','min','max']\n",
    "}).reset_index()\n",
    "grouped_dr_weekly.columns = ['_'.join(col).strip() for col in grouped_dr_weekly.columns.values]\n",
    "grouped_dr_weekly.rename(columns={'CIF_ID_': 'CIF_ID','CONVERTED_AMOUNT_sum':'Debit_sum', \n",
    "                                 'CONVERTED_AMOUNT_count': 'Debit_count', 'CONVERTED_AMOUNT_mean':'Debit_mean',\n",
    "                                 'CONVERTED_AMOUNT_median':'Debit_median','CONVERTED_AMOUNT_min': 'min_debit_amt_3_weeks',\n",
    "                            'CONVERTED_AMOUNT_max': 'max_debit_amt_3_weeks'}, inplace=True)\n",
    "\n",
    "grouped_dr_weekly.sample()"
   ]
  },
  {
   "cell_type": "code",
   "execution_count": 45,
   "id": "fab21d3a",
   "metadata": {},
   "outputs": [
    {
     "data": {
      "text/plain": [
       "(348, 7)"
      ]
     },
     "execution_count": 45,
     "metadata": {},
     "output_type": "execute_result"
    }
   ],
   "source": [
    "grouped_dr_weekly.shape"
   ]
  },
  {
   "cell_type": "code",
   "execution_count": 46,
   "id": "1c0da0bd",
   "metadata": {},
   "outputs": [],
   "source": [
    "grouped_dr_weekly.drop_duplicates(keep='first',inplace=True)"
   ]
  },
  {
   "cell_type": "code",
   "execution_count": 47,
   "id": "a24ec4a1",
   "metadata": {},
   "outputs": [
    {
     "data": {
      "text/plain": [
       "(348, 7)"
      ]
     },
     "execution_count": 47,
     "metadata": {},
     "output_type": "execute_result"
    }
   ],
   "source": [
    "grouped_dr_weekly.shape"
   ]
  },
  {
   "cell_type": "markdown",
   "id": "f340e582",
   "metadata": {},
   "source": [
    "## End of Day Balances(EOD)"
   ]
  },
  {
   "cell_type": "code",
   "execution_count": 48,
   "id": "6ed96ea4",
   "metadata": {},
   "outputs": [
    {
     "data": {
      "text/plain": [
       "Index(['CIF_ID', 'EOD_DATE', 'TRAN_DATE_BAL'], dtype='object')"
      ]
     },
     "execution_count": 48,
     "metadata": {},
     "output_type": "execute_result"
    }
   ],
   "source": [
    "eod.columns"
   ]
  },
  {
   "cell_type": "code",
   "execution_count": 49,
   "id": "135408ca",
   "metadata": {},
   "outputs": [
    {
     "data": {
      "text/html": [
       "<div>\n",
       "<style scoped>\n",
       "    .dataframe tbody tr th:only-of-type {\n",
       "        vertical-align: middle;\n",
       "    }\n",
       "\n",
       "    .dataframe tbody tr th {\n",
       "        vertical-align: top;\n",
       "    }\n",
       "\n",
       "    .dataframe thead th {\n",
       "        text-align: right;\n",
       "    }\n",
       "</style>\n",
       "<table border=\"1\" class=\"dataframe\">\n",
       "  <thead>\n",
       "    <tr style=\"text-align: right;\">\n",
       "      <th></th>\n",
       "      <th>CIF_ID</th>\n",
       "      <th>EOD_DATE</th>\n",
       "      <th>TRAN_DATE_BAL</th>\n",
       "    </tr>\n",
       "  </thead>\n",
       "  <tbody>\n",
       "    <tr>\n",
       "      <th>417</th>\n",
       "      <td>0395048</td>\n",
       "      <td>14-JAN-24</td>\n",
       "      <td>21007.4</td>\n",
       "    </tr>\n",
       "  </tbody>\n",
       "</table>\n",
       "</div>"
      ],
      "text/plain": [
       "      CIF_ID   EOD_DATE  TRAN_DATE_BAL\n",
       "417  0395048  14-JAN-24        21007.4"
      ]
     },
     "execution_count": 49,
     "metadata": {},
     "output_type": "execute_result"
    }
   ],
   "source": [
    "eod.sample()"
   ]
  },
  {
   "cell_type": "code",
   "execution_count": 50,
   "id": "6f022e31",
   "metadata": {},
   "outputs": [],
   "source": [
    "eod['EOD_DATE'] = pd.to_datetime(eod['EOD_DATE'])\n",
    "\n",
    "# eod['TRAN_WEEK'] = eod['EOD_DATE'].dt.strftime('%U')\n",
    "\n"
   ]
  },
  {
   "cell_type": "code",
   "execution_count": 51,
   "id": "cd6241c7",
   "metadata": {},
   "outputs": [],
   "source": [
    "grouped_eod_weekly = eod.groupby(['CIF_ID']).agg({'TRAN_DATE_BAL': ['mean', 'median']}).reset_index()\n",
    "grouped_eod_weekly.columns = ['_'.join(col).strip() for col in grouped_eod_weekly.columns.values]\n",
    "grouped_eod_weekly.rename(columns={'CIF_ID_': 'CIF_ID'}, inplace=True)\n",
    "\n",
    "grouped_eod_mean_median = grouped_eod_weekly.groupby('CIF_ID').agg({\n",
    "    'TRAN_DATE_BAL_mean': ['mean', 'median']\n",
    "}).reset_index()\n",
    "grouped_eod_mean_median.columns = ['_'.join(col).strip() for col in grouped_eod_mean_median.columns.values]\n",
    "\n",
    "grouped_eod_mean_median.rename(columns={\n",
    "    'CIF_ID_': 'CIF_ID',\n",
    "    'TRAN_DATE_BAL_mean_mean': 'avg_eod_bal_3_weeks',\n",
    "    'TRAN_DATE_BAL_mean_median': 'median_eod_bal_3_weeks'\n",
    "}, inplace=True)"
   ]
  },
  {
   "cell_type": "code",
   "execution_count": 52,
   "id": "cdcba1b0",
   "metadata": {},
   "outputs": [
    {
     "data": {
      "text/plain": [
       "(366, 3)"
      ]
     },
     "execution_count": 52,
     "metadata": {},
     "output_type": "execute_result"
    }
   ],
   "source": [
    "grouped_eod_mean_median.shape"
   ]
  },
  {
   "cell_type": "code",
   "execution_count": 53,
   "id": "50d5f8da",
   "metadata": {},
   "outputs": [
    {
     "data": {
      "text/html": [
       "<div>\n",
       "<style scoped>\n",
       "    .dataframe tbody tr th:only-of-type {\n",
       "        vertical-align: middle;\n",
       "    }\n",
       "\n",
       "    .dataframe tbody tr th {\n",
       "        vertical-align: top;\n",
       "    }\n",
       "\n",
       "    .dataframe thead th {\n",
       "        text-align: right;\n",
       "    }\n",
       "</style>\n",
       "<table border=\"1\" class=\"dataframe\">\n",
       "  <thead>\n",
       "    <tr style=\"text-align: right;\">\n",
       "      <th></th>\n",
       "      <th>CIF_ID</th>\n",
       "      <th>avg_eod_bal_3_weeks</th>\n",
       "      <th>median_eod_bal_3_weeks</th>\n",
       "    </tr>\n",
       "  </thead>\n",
       "  <tbody>\n",
       "    <tr>\n",
       "      <th>83</th>\n",
       "      <td>0163235</td>\n",
       "      <td>3000.0</td>\n",
       "      <td>3000.0</td>\n",
       "    </tr>\n",
       "  </tbody>\n",
       "</table>\n",
       "</div>"
      ],
      "text/plain": [
       "     CIF_ID  avg_eod_bal_3_weeks  median_eod_bal_3_weeks\n",
       "83  0163235               3000.0                  3000.0"
      ]
     },
     "execution_count": 53,
     "metadata": {},
     "output_type": "execute_result"
    }
   ],
   "source": [
    "grouped_eod_mean_median.sample()"
   ]
  },
  {
   "cell_type": "markdown",
   "id": "6df8c2f9",
   "metadata": {},
   "source": [
    "## Loan and Non Loan "
   ]
  },
  {
   "cell_type": "code",
   "execution_count": 54,
   "id": "32bc864d",
   "metadata": {},
   "outputs": [],
   "source": [
    "loan = loan.rename(columns={'LOAN_ACCT_PRIOR': 'no_of_loan_accounts'})"
   ]
  },
  {
   "cell_type": "code",
   "execution_count": 55,
   "id": "7ace8666",
   "metadata": {},
   "outputs": [
    {
     "data": {
      "text/plain": [
       "Index(['CIF_ID', 'no_of_loan_accounts'], dtype='object')"
      ]
     },
     "execution_count": 55,
     "metadata": {},
     "output_type": "execute_result"
    }
   ],
   "source": [
    "loan.columns"
   ]
  },
  {
   "cell_type": "code",
   "execution_count": 56,
   "id": "b3ff6a6e",
   "metadata": {},
   "outputs": [
    {
     "data": {
      "text/html": [
       "<div>\n",
       "<style scoped>\n",
       "    .dataframe tbody tr th:only-of-type {\n",
       "        vertical-align: middle;\n",
       "    }\n",
       "\n",
       "    .dataframe tbody tr th {\n",
       "        vertical-align: top;\n",
       "    }\n",
       "\n",
       "    .dataframe thead th {\n",
       "        text-align: right;\n",
       "    }\n",
       "</style>\n",
       "<table border=\"1\" class=\"dataframe\">\n",
       "  <thead>\n",
       "    <tr style=\"text-align: right;\">\n",
       "      <th></th>\n",
       "      <th>CIF_ID</th>\n",
       "      <th>no_of_loan_accounts</th>\n",
       "    </tr>\n",
       "  </thead>\n",
       "  <tbody>\n",
       "    <tr>\n",
       "      <th>330</th>\n",
       "      <td>0128790</td>\n",
       "      <td>1</td>\n",
       "    </tr>\n",
       "  </tbody>\n",
       "</table>\n",
       "</div>"
      ],
      "text/plain": [
       "      CIF_ID  no_of_loan_accounts\n",
       "330  0128790                    1"
      ]
     },
     "execution_count": 56,
     "metadata": {},
     "output_type": "execute_result"
    }
   ],
   "source": [
    "loan.sample()"
   ]
  },
  {
   "cell_type": "code",
   "execution_count": 57,
   "id": "2165324e",
   "metadata": {},
   "outputs": [
    {
     "data": {
      "text/plain": [
       "CIF_ID                 0\n",
       "no_of_loan_accounts    0\n",
       "dtype: int64"
      ]
     },
     "execution_count": 57,
     "metadata": {},
     "output_type": "execute_result"
    }
   ],
   "source": [
    "loan.isna().sum()"
   ]
  },
  {
   "cell_type": "code",
   "execution_count": 58,
   "id": "2aaf2407",
   "metadata": {},
   "outputs": [],
   "source": [
    "non_loan = non_loan.rename(columns={'NO_OF_NON_LOAN_ACCOUNTS': 'no_of_non_loan_accounts'})"
   ]
  },
  {
   "cell_type": "code",
   "execution_count": 59,
   "id": "6fb4cdf7",
   "metadata": {},
   "outputs": [],
   "source": [
    "loans_df = pd.merge(loan,non_loan,how='left', on='CIF_ID')"
   ]
  },
  {
   "cell_type": "code",
   "execution_count": 60,
   "id": "0f5d8de9",
   "metadata": {},
   "outputs": [],
   "source": [
    "loans_df.fillna(0, inplace=True)"
   ]
  },
  {
   "cell_type": "code",
   "execution_count": 61,
   "id": "9e3da109",
   "metadata": {},
   "outputs": [],
   "source": [
    "loans_df.drop_duplicates(keep='first', inplace=True)"
   ]
  },
  {
   "cell_type": "code",
   "execution_count": 62,
   "id": "82b6c27d",
   "metadata": {},
   "outputs": [
    {
     "data": {
      "text/plain": [
       "Index(['CIF_ID', 'no_of_loan_accounts', 'no_of_non_loan_accounts'], dtype='object')"
      ]
     },
     "execution_count": 62,
     "metadata": {},
     "output_type": "execute_result"
    }
   ],
   "source": [
    "loans_df.columns"
   ]
  },
  {
   "cell_type": "markdown",
   "id": "8763ae3f",
   "metadata": {},
   "source": [
    "## OTG"
   ]
  },
  {
   "cell_type": "code",
   "execution_count": 63,
   "id": "bad426b2",
   "metadata": {},
   "outputs": [
    {
     "data": {
      "text/html": [
       "<div>\n",
       "<style scoped>\n",
       "    .dataframe tbody tr th:only-of-type {\n",
       "        vertical-align: middle;\n",
       "    }\n",
       "\n",
       "    .dataframe tbody tr th {\n",
       "        vertical-align: top;\n",
       "    }\n",
       "\n",
       "    .dataframe thead th {\n",
       "        text-align: right;\n",
       "    }\n",
       "</style>\n",
       "<table border=\"1\" class=\"dataframe\">\n",
       "  <thead>\n",
       "    <tr style=\"text-align: right;\">\n",
       "      <th></th>\n",
       "      <th>CIF_ID</th>\n",
       "      <th>TRAN_ID</th>\n",
       "      <th>DISB_DATE</th>\n",
       "      <th>TRAN_DATE</th>\n",
       "      <th>TRAN_MONTH</th>\n",
       "      <th>TRAN_AMOUNT</th>\n",
       "    </tr>\n",
       "  </thead>\n",
       "  <tbody>\n",
       "    <tr>\n",
       "      <th>836</th>\n",
       "      <td>0393247</td>\n",
       "      <td>S241053</td>\n",
       "      <td>14-JUN-23</td>\n",
       "      <td>30-JAN-24</td>\n",
       "      <td>JAN-24</td>\n",
       "      <td>1200</td>\n",
       "    </tr>\n",
       "  </tbody>\n",
       "</table>\n",
       "</div>"
      ],
      "text/plain": [
       "      CIF_ID  TRAN_ID  DISB_DATE  TRAN_DATE TRAN_MONTH  TRAN_AMOUNT\n",
       "836  0393247  S241053  14-JUN-23  30-JAN-24     JAN-24         1200"
      ]
     },
     "execution_count": 63,
     "metadata": {},
     "output_type": "execute_result"
    }
   ],
   "source": [
    "otg.sample()"
   ]
  },
  {
   "cell_type": "code",
   "execution_count": 64,
   "id": "8ca76efa",
   "metadata": {},
   "outputs": [
    {
     "data": {
      "text/plain": [
       "(1620, 6)"
      ]
     },
     "execution_count": 64,
     "metadata": {},
     "output_type": "execute_result"
    }
   ],
   "source": [
    "otg.shape"
   ]
  },
  {
   "cell_type": "code",
   "execution_count": 65,
   "id": "7e9568fe",
   "metadata": {},
   "outputs": [],
   "source": [
    "otg_unique = otg.groupby(['CIF_ID']).agg({\n",
    "    'TRAN_AMOUNT': ['sum', 'count', 'mean','median','min','max']\n",
    "}).reset_index()\n",
    "otg_unique.columns = ['_'.join(col).strip() for col in otg_unique.columns.values]\n",
    "otg_unique.rename(columns={'CIF_ID_': 'CIF_ID','TRAN_AMOUNT_sum':'OTG_trans_sum', \n",
    "                                 'TRAN_AMOUNT_count': 'OTG_trans_count', 'TRAN_AMOUNT_mean':'OTG_trans_mean',\n",
    "                                 'TRAN_AMOUNT_median':'OTG_trans_median','TRAN_AMOUNT_min': 'min_otgcred_amt',\n",
    "                            'TRAN_AMOUNT_max': 'max_otgcred_amt'}, inplace=True)\n"
   ]
  },
  {
   "cell_type": "code",
   "execution_count": 66,
   "id": "a0b2e838",
   "metadata": {},
   "outputs": [
    {
     "data": {
      "text/html": [
       "<div>\n",
       "<style scoped>\n",
       "    .dataframe tbody tr th:only-of-type {\n",
       "        vertical-align: middle;\n",
       "    }\n",
       "\n",
       "    .dataframe tbody tr th {\n",
       "        vertical-align: top;\n",
       "    }\n",
       "\n",
       "    .dataframe thead th {\n",
       "        text-align: right;\n",
       "    }\n",
       "</style>\n",
       "<table border=\"1\" class=\"dataframe\">\n",
       "  <thead>\n",
       "    <tr style=\"text-align: right;\">\n",
       "      <th></th>\n",
       "      <th>CIF_ID</th>\n",
       "      <th>OTG_trans_sum</th>\n",
       "      <th>OTG_trans_count</th>\n",
       "      <th>OTG_trans_mean</th>\n",
       "      <th>OTG_trans_median</th>\n",
       "      <th>min_otgcred_amt</th>\n",
       "      <th>max_otgcred_amt</th>\n",
       "    </tr>\n",
       "  </thead>\n",
       "  <tbody>\n",
       "    <tr>\n",
       "      <th>101</th>\n",
       "      <td>0382407</td>\n",
       "      <td>26650</td>\n",
       "      <td>10</td>\n",
       "      <td>2665.0</td>\n",
       "      <td>2400.0</td>\n",
       "      <td>300</td>\n",
       "      <td>6000</td>\n",
       "    </tr>\n",
       "  </tbody>\n",
       "</table>\n",
       "</div>"
      ],
      "text/plain": [
       "      CIF_ID  OTG_trans_sum  OTG_trans_count  OTG_trans_mean  \\\n",
       "101  0382407          26650               10          2665.0   \n",
       "\n",
       "     OTG_trans_median  min_otgcred_amt  max_otgcred_amt  \n",
       "101            2400.0              300             6000  "
      ]
     },
     "execution_count": 66,
     "metadata": {},
     "output_type": "execute_result"
    }
   ],
   "source": [
    "otg_unique.sample()"
   ]
  },
  {
   "cell_type": "code",
   "execution_count": 67,
   "id": "9db9b5fa",
   "metadata": {},
   "outputs": [
    {
     "data": {
      "text/plain": [
       "(139, 7)"
      ]
     },
     "execution_count": 67,
     "metadata": {},
     "output_type": "execute_result"
    }
   ],
   "source": [
    "otg_unique.shape"
   ]
  },
  {
   "cell_type": "code",
   "execution_count": 68,
   "id": "51f45d66",
   "metadata": {},
   "outputs": [],
   "source": [
    "otg_unique.drop_duplicates(keep='first',inplace=True)"
   ]
  },
  {
   "cell_type": "code",
   "execution_count": 69,
   "id": "38ad6e17",
   "metadata": {},
   "outputs": [
    {
     "data": {
      "text/plain": [
       "(139, 7)"
      ]
     },
     "execution_count": 69,
     "metadata": {},
     "output_type": "execute_result"
    }
   ],
   "source": [
    "otg_unique.shape"
   ]
  },
  {
   "cell_type": "markdown",
   "id": "e20cbcc8",
   "metadata": {},
   "source": [
    "## Merging files "
   ]
  },
  {
   "cell_type": "code",
   "execution_count": 70,
   "id": "cc6b99fc",
   "metadata": {},
   "outputs": [],
   "source": [
    "final_df_0 = pd.merge(grouped_dr_weekly,grouped_cr_weekly,how='left', on = 'CIF_ID')"
   ]
  },
  {
   "cell_type": "code",
   "execution_count": 71,
   "id": "6ed810e7",
   "metadata": {},
   "outputs": [
    {
     "data": {
      "text/plain": [
       "Index(['CIF_ID', 'Debit_sum', 'Debit_count', 'Debit_mean', 'Debit_median',\n",
       "       'min_debit_amt_3_weeks', 'max_debit_amt_3_weeks', 'Credit_sum',\n",
       "       'Credit_count', 'Credit_median', 'Credit_mean', 'min_cred_amt_3_weeks',\n",
       "       'max_cred_amt_3_weeks'],\n",
       "      dtype='object')"
      ]
     },
     "execution_count": 71,
     "metadata": {},
     "output_type": "execute_result"
    }
   ],
   "source": [
    "final_df_0.columns"
   ]
  },
  {
   "cell_type": "code",
   "execution_count": 72,
   "id": "c674101e",
   "metadata": {},
   "outputs": [
    {
     "data": {
      "text/plain": [
       "348"
      ]
     },
     "execution_count": 72,
     "metadata": {},
     "output_type": "execute_result"
    }
   ],
   "source": [
    "len(final_df_0)"
   ]
  },
  {
   "cell_type": "code",
   "execution_count": 73,
   "id": "57e1fe36",
   "metadata": {},
   "outputs": [],
   "source": [
    "columns_to_drop = ['DISB_DATE']\n",
    "detail = detail.drop(columns=columns_to_drop)"
   ]
  },
  {
   "cell_type": "code",
   "execution_count": 74,
   "id": "ddda1e2d",
   "metadata": {},
   "outputs": [],
   "source": [
    "final_df_1 = pd.merge(detail,otg_unique,how='left', on = 'CIF_ID')"
   ]
  },
  {
   "cell_type": "code",
   "execution_count": 75,
   "id": "9926f9e7",
   "metadata": {},
   "outputs": [],
   "source": [
    "final_df_1 = pd.merge(final_df_1,final_df_0,how='left', on = 'CIF_ID')"
   ]
  },
  {
   "cell_type": "code",
   "execution_count": 76,
   "id": "f5dd13a5",
   "metadata": {},
   "outputs": [],
   "source": [
    "final_df_2 = pd.merge(final_df_1, summary_df, how='left', on = 'CIF_ID')"
   ]
  },
  {
   "cell_type": "code",
   "execution_count": 77,
   "id": "1140ab25",
   "metadata": {},
   "outputs": [],
   "source": [
    "final_df_3 = pd.merge(final_df_2, loans_df, how='left', on = 'CIF_ID')"
   ]
  },
  {
   "cell_type": "code",
   "execution_count": 78,
   "id": "5a0368b2",
   "metadata": {},
   "outputs": [],
   "source": [
    "final_df_3 = pd.merge(final_df_3, grouped_eod_mean_median, how='left', on = 'CIF_ID')"
   ]
  },
  {
   "cell_type": "code",
   "execution_count": 79,
   "id": "11a83eb4",
   "metadata": {},
   "outputs": [],
   "source": [
    "merged_df = final_df_3.copy()"
   ]
  },
  {
   "cell_type": "code",
   "execution_count": 80,
   "id": "243ede9b",
   "metadata": {},
   "outputs": [],
   "source": [
    "merged_df.drop_duplicates(keep='first', inplace=True)"
   ]
  },
  {
   "cell_type": "code",
   "execution_count": 81,
   "id": "d9d7c3e6",
   "metadata": {},
   "outputs": [
    {
     "data": {
      "text/html": [
       "<div>\n",
       "<style scoped>\n",
       "    .dataframe tbody tr th:only-of-type {\n",
       "        vertical-align: middle;\n",
       "    }\n",
       "\n",
       "    .dataframe tbody tr th {\n",
       "        vertical-align: top;\n",
       "    }\n",
       "\n",
       "    .dataframe thead th {\n",
       "        text-align: right;\n",
       "    }\n",
       "</style>\n",
       "<table border=\"1\" class=\"dataframe\">\n",
       "  <thead>\n",
       "    <tr style=\"text-align: right;\">\n",
       "      <th></th>\n",
       "      <th>CIF_ID</th>\n",
       "      <th>CUST_AGE</th>\n",
       "      <th>AGE_WITH_BANK</th>\n",
       "      <th>SEGMENTATION_CLASS</th>\n",
       "      <th>OTG_TRANSACTING</th>\n",
       "      <th>SCHM_CODE</th>\n",
       "      <th>SCHM_DESC</th>\n",
       "      <th>DIS_AMT</th>\n",
       "      <th>REP_PERD_MTHS</th>\n",
       "      <th>DPD_CNTR</th>\n",
       "      <th>FLOW_ID</th>\n",
       "      <th>FLOW_AMT</th>\n",
       "      <th>NO_OF_INSTALLMENTS</th>\n",
       "      <th>DEFAULT_STATUS</th>\n",
       "      <th>OTG_trans_sum</th>\n",
       "      <th>OTG_trans_count</th>\n",
       "      <th>OTG_trans_mean</th>\n",
       "      <th>OTG_trans_median</th>\n",
       "      <th>min_otgcred_amt</th>\n",
       "      <th>max_otgcred_amt</th>\n",
       "      <th>Debit_sum</th>\n",
       "      <th>Debit_count</th>\n",
       "      <th>Debit_mean</th>\n",
       "      <th>Debit_median</th>\n",
       "      <th>min_debit_amt_3_weeks</th>\n",
       "      <th>max_debit_amt_3_weeks</th>\n",
       "      <th>Credit_sum</th>\n",
       "      <th>Credit_count</th>\n",
       "      <th>Credit_median</th>\n",
       "      <th>Credit_mean</th>\n",
       "      <th>min_cred_amt_3_weeks</th>\n",
       "      <th>max_cred_amt_3_weeks</th>\n",
       "      <th>AVG_DEBIT_CREDIT_COUNT_RATIO</th>\n",
       "      <th>MEDIAN_DEBIT_CREDIT_COUNT_RATIO</th>\n",
       "      <th>no_of_loan_accounts</th>\n",
       "      <th>no_of_non_loan_accounts</th>\n",
       "      <th>avg_eod_bal_3_weeks</th>\n",
       "      <th>median_eod_bal_3_weeks</th>\n",
       "    </tr>\n",
       "  </thead>\n",
       "  <tbody>\n",
       "    <tr>\n",
       "      <th>1479</th>\n",
       "      <td>0123759</td>\n",
       "      <td>51</td>\n",
       "      <td>8</td>\n",
       "      <td>BL05</td>\n",
       "      <td>N</td>\n",
       "      <td>LAL06</td>\n",
       "      <td>HOUSING LOAN - GEN PUBLIC - LCY</td>\n",
       "      <td>116043180.0</td>\n",
       "      <td>180</td>\n",
       "      <td>0</td>\n",
       "      <td>EIDEM</td>\n",
       "      <td>7550740.0</td>\n",
       "      <td>4</td>\n",
       "      <td>0</td>\n",
       "      <td>NaN</td>\n",
       "      <td>NaN</td>\n",
       "      <td>NaN</td>\n",
       "      <td>NaN</td>\n",
       "      <td>NaN</td>\n",
       "      <td>NaN</td>\n",
       "      <td>NaN</td>\n",
       "      <td>NaN</td>\n",
       "      <td>NaN</td>\n",
       "      <td>NaN</td>\n",
       "      <td>NaN</td>\n",
       "      <td>NaN</td>\n",
       "      <td>NaN</td>\n",
       "      <td>NaN</td>\n",
       "      <td>NaN</td>\n",
       "      <td>NaN</td>\n",
       "      <td>NaN</td>\n",
       "      <td>NaN</td>\n",
       "      <td>NaN</td>\n",
       "      <td>NaN</td>\n",
       "      <td>1</td>\n",
       "      <td>3.0</td>\n",
       "      <td>NaN</td>\n",
       "      <td>NaN</td>\n",
       "    </tr>\n",
       "  </tbody>\n",
       "</table>\n",
       "</div>"
      ],
      "text/plain": [
       "       CIF_ID  CUST_AGE  AGE_WITH_BANK SEGMENTATION_CLASS OTG_TRANSACTING  \\\n",
       "1479  0123759        51              8               BL05               N   \n",
       "\n",
       "     SCHM_CODE                        SCHM_DESC     DIS_AMT  REP_PERD_MTHS  \\\n",
       "1479     LAL06  HOUSING LOAN - GEN PUBLIC - LCY 116043180.0            180   \n",
       "\n",
       "      DPD_CNTR FLOW_ID  FLOW_AMT  NO_OF_INSTALLMENTS  DEFAULT_STATUS  \\\n",
       "1479         0   EIDEM 7550740.0                   4               0   \n",
       "\n",
       "      OTG_trans_sum  OTG_trans_count  OTG_trans_mean  OTG_trans_median  \\\n",
       "1479            NaN              NaN             NaN               NaN   \n",
       "\n",
       "      min_otgcred_amt  max_otgcred_amt  Debit_sum  Debit_count  Debit_mean  \\\n",
       "1479              NaN              NaN        NaN          NaN         NaN   \n",
       "\n",
       "      Debit_median  min_debit_amt_3_weeks  max_debit_amt_3_weeks  Credit_sum  \\\n",
       "1479           NaN                    NaN                    NaN         NaN   \n",
       "\n",
       "      Credit_count  Credit_median  Credit_mean  min_cred_amt_3_weeks  \\\n",
       "1479           NaN            NaN          NaN                   NaN   \n",
       "\n",
       "      max_cred_amt_3_weeks  AVG_DEBIT_CREDIT_COUNT_RATIO  \\\n",
       "1479                   NaN                           NaN   \n",
       "\n",
       "      MEDIAN_DEBIT_CREDIT_COUNT_RATIO  no_of_loan_accounts  \\\n",
       "1479                              NaN                    1   \n",
       "\n",
       "      no_of_non_loan_accounts  avg_eod_bal_3_weeks  median_eod_bal_3_weeks  \n",
       "1479                      3.0                  NaN                     NaN  "
      ]
     },
     "execution_count": 81,
     "metadata": {},
     "output_type": "execute_result"
    }
   ],
   "source": [
    "merged_df.sample()"
   ]
  },
  {
   "cell_type": "code",
   "execution_count": 82,
   "id": "4a310e16",
   "metadata": {},
   "outputs": [
    {
     "data": {
      "text/plain": [
       "(1654, 38)"
      ]
     },
     "execution_count": 82,
     "metadata": {},
     "output_type": "execute_result"
    }
   ],
   "source": [
    "merged_df.shape"
   ]
  },
  {
   "cell_type": "markdown",
   "id": "37b63d69",
   "metadata": {},
   "source": [
    "# EDA"
   ]
  },
  {
   "cell_type": "code",
   "execution_count": 83,
   "id": "e95d3a40",
   "metadata": {},
   "outputs": [],
   "source": [
    "merged_df['DEFAULT_STATUS'] = merged_df['DEFAULT_STATUS'].map({0: 'performing', 1: 'non_performing'})"
   ]
  },
  {
   "cell_type": "code",
   "execution_count": 84,
   "id": "ed1c56fa",
   "metadata": {},
   "outputs": [
    {
     "data": {
      "text/plain": [
       "performing        1448\n",
       "non_performing     206\n",
       "Name: DEFAULT_STATUS, dtype: int64"
      ]
     },
     "execution_count": 84,
     "metadata": {},
     "output_type": "execute_result"
    }
   ],
   "source": [
    "merged_df['DEFAULT_STATUS'].value_counts()"
   ]
  },
  {
   "cell_type": "code",
   "execution_count": 85,
   "id": "ce39c427",
   "metadata": {},
   "outputs": [],
   "source": [
    "def age_group(age):\n",
    "    if age <= 17:  \n",
    "        return \"Minor\"\n",
    "    elif age <= 27: \n",
    "        return \"Young Adult\"\n",
    "    elif age <= 34:  \n",
    "        return \"Adult\"\n",
    "    elif age <= 45: \n",
    "        return \"Mid-aged\"\n",
    "    \n",
    "    elif age <= 64:  \n",
    "        return \"Senior\"\n",
    "    else:  \n",
    "        return \"Elderly\"\n",
    "\n",
    "merged_df['AGE_GROUP'] = merged_df['CUST_AGE'].apply(lambda x: age_group(x))"
   ]
  },
  {
   "cell_type": "code",
   "execution_count": 86,
   "id": "fdca2451",
   "metadata": {},
   "outputs": [],
   "source": [
    "feature2_cols = [\"OTG_TRANSACTING\"]"
   ]
  },
  {
   "cell_type": "code",
   "execution_count": 87,
   "id": "799d7d9a",
   "metadata": {},
   "outputs": [
    {
     "name": "stdout",
     "output_type": "stream",
     "text": [
      "OTG_TRANSACTING    N    Y\n",
      "AGE_GROUP                \n",
      "Adult             67  278\n",
      "Elderly           56   15\n",
      "Mid-aged         236  346\n",
      "Senior           301  246\n",
      "Young Adult       38   71\n"
     ]
    }
   ],
   "source": [
    "age_otg_analysis = merged_df.groupby(['AGE_GROUP', 'OTG_TRANSACTING'])['CIF_ID'].count().unstack()\n",
    "\n",
    "print(age_otg_analysis)"
   ]
  },
  {
   "cell_type": "code",
   "execution_count": 88,
   "id": "4ec60fd7",
   "metadata": {},
   "outputs": [],
   "source": [
    "columns_of_interest = ['min_cred_amt_3_weeks', 'max_cred_amt_3_weeks', 'avg_cred_amt_3_weeks',\n",
    "                       'median_cred_amt_3_weeks', 'avg_weekly_cred_count_3_weeks',\n",
    "                       'avg_eod_bal_3_weeks', 'median_eod_bal_3_weeks', 'min_debit_amt_3_weeks',\n",
    "                       'max_debit_amt_3_weeks', 'avg_debit_amt_3_weeks', 'median_debit_amt_3_weeks',\n",
    "                       'avg_weekly_debit_count_3_weeks','AVG_WEEKLY_DEBIT_CREDIT_COUNT_RATIO',\n",
    "                       'MEDIAN_WEEKLY_DEBIT_CREDIT_COUNT_RATIO']\n"
   ]
  },
  {
   "cell_type": "markdown",
   "id": "95c78b2d",
   "metadata": {},
   "source": [
    "### CREDIT TO DEBIT RATIO"
   ]
  },
  {
   "cell_type": "code",
   "execution_count": 89,
   "id": "e5962006",
   "metadata": {},
   "outputs": [
    {
     "data": {
      "text/html": [
       "<div>\n",
       "<style scoped>\n",
       "    .dataframe tbody tr th:only-of-type {\n",
       "        vertical-align: middle;\n",
       "    }\n",
       "\n",
       "    .dataframe tbody tr th {\n",
       "        vertical-align: top;\n",
       "    }\n",
       "\n",
       "    .dataframe thead th {\n",
       "        text-align: right;\n",
       "    }\n",
       "</style>\n",
       "<table border=\"1\" class=\"dataframe\">\n",
       "  <thead>\n",
       "    <tr style=\"text-align: right;\">\n",
       "      <th></th>\n",
       "      <th>CIF_ID</th>\n",
       "      <th>CUST_AGE</th>\n",
       "      <th>AGE_WITH_BANK</th>\n",
       "      <th>SEGMENTATION_CLASS</th>\n",
       "      <th>OTG_TRANSACTING</th>\n",
       "      <th>SCHM_CODE</th>\n",
       "      <th>SCHM_DESC</th>\n",
       "      <th>DIS_AMT</th>\n",
       "      <th>REP_PERD_MTHS</th>\n",
       "      <th>DPD_CNTR</th>\n",
       "      <th>FLOW_ID</th>\n",
       "      <th>FLOW_AMT</th>\n",
       "      <th>NO_OF_INSTALLMENTS</th>\n",
       "      <th>DEFAULT_STATUS</th>\n",
       "      <th>OTG_trans_sum</th>\n",
       "      <th>OTG_trans_count</th>\n",
       "      <th>OTG_trans_mean</th>\n",
       "      <th>OTG_trans_median</th>\n",
       "      <th>min_otgcred_amt</th>\n",
       "      <th>max_otgcred_amt</th>\n",
       "      <th>Debit_sum</th>\n",
       "      <th>Debit_count</th>\n",
       "      <th>Debit_mean</th>\n",
       "      <th>Debit_median</th>\n",
       "      <th>min_debit_amt_3_weeks</th>\n",
       "      <th>max_debit_amt_3_weeks</th>\n",
       "      <th>Credit_sum</th>\n",
       "      <th>Credit_count</th>\n",
       "      <th>Credit_median</th>\n",
       "      <th>Credit_mean</th>\n",
       "      <th>min_cred_amt_3_weeks</th>\n",
       "      <th>max_cred_amt_3_weeks</th>\n",
       "      <th>AVG_DEBIT_CREDIT_COUNT_RATIO</th>\n",
       "      <th>MEDIAN_DEBIT_CREDIT_COUNT_RATIO</th>\n",
       "      <th>no_of_loan_accounts</th>\n",
       "      <th>no_of_non_loan_accounts</th>\n",
       "      <th>avg_eod_bal_3_weeks</th>\n",
       "      <th>median_eod_bal_3_weeks</th>\n",
       "      <th>AGE_GROUP</th>\n",
       "    </tr>\n",
       "  </thead>\n",
       "  <tbody>\n",
       "    <tr>\n",
       "      <th>1632</th>\n",
       "      <td>0428039</td>\n",
       "      <td>46</td>\n",
       "      <td>0</td>\n",
       "      <td>BL03</td>\n",
       "      <td>N</td>\n",
       "      <td>LAL27</td>\n",
       "      <td>WORK PLACE BANKING FACILITY</td>\n",
       "      <td>960000.0</td>\n",
       "      <td>72</td>\n",
       "      <td>0</td>\n",
       "      <td>EIDEM</td>\n",
       "      <td>20825.0</td>\n",
       "      <td>1</td>\n",
       "      <td>performing</td>\n",
       "      <td>NaN</td>\n",
       "      <td>NaN</td>\n",
       "      <td>NaN</td>\n",
       "      <td>NaN</td>\n",
       "      <td>NaN</td>\n",
       "      <td>NaN</td>\n",
       "      <td>NaN</td>\n",
       "      <td>NaN</td>\n",
       "      <td>NaN</td>\n",
       "      <td>NaN</td>\n",
       "      <td>NaN</td>\n",
       "      <td>NaN</td>\n",
       "      <td>NaN</td>\n",
       "      <td>NaN</td>\n",
       "      <td>NaN</td>\n",
       "      <td>NaN</td>\n",
       "      <td>NaN</td>\n",
       "      <td>NaN</td>\n",
       "      <td>NaN</td>\n",
       "      <td>NaN</td>\n",
       "      <td>2</td>\n",
       "      <td>2.0</td>\n",
       "      <td>NaN</td>\n",
       "      <td>NaN</td>\n",
       "      <td>Senior</td>\n",
       "    </tr>\n",
       "  </tbody>\n",
       "</table>\n",
       "</div>"
      ],
      "text/plain": [
       "       CIF_ID  CUST_AGE  AGE_WITH_BANK SEGMENTATION_CLASS OTG_TRANSACTING  \\\n",
       "1632  0428039        46              0               BL03               N   \n",
       "\n",
       "     SCHM_CODE                    SCHM_DESC  DIS_AMT  REP_PERD_MTHS  DPD_CNTR  \\\n",
       "1632     LAL27  WORK PLACE BANKING FACILITY 960000.0             72         0   \n",
       "\n",
       "     FLOW_ID  FLOW_AMT  NO_OF_INSTALLMENTS DEFAULT_STATUS  OTG_trans_sum  \\\n",
       "1632   EIDEM   20825.0                   1     performing            NaN   \n",
       "\n",
       "      OTG_trans_count  OTG_trans_mean  OTG_trans_median  min_otgcred_amt  \\\n",
       "1632              NaN             NaN               NaN              NaN   \n",
       "\n",
       "      max_otgcred_amt  Debit_sum  Debit_count  Debit_mean  Debit_median  \\\n",
       "1632              NaN        NaN          NaN         NaN           NaN   \n",
       "\n",
       "      min_debit_amt_3_weeks  max_debit_amt_3_weeks  Credit_sum  Credit_count  \\\n",
       "1632                    NaN                    NaN         NaN           NaN   \n",
       "\n",
       "      Credit_median  Credit_mean  min_cred_amt_3_weeks  max_cred_amt_3_weeks  \\\n",
       "1632            NaN          NaN                   NaN                   NaN   \n",
       "\n",
       "      AVG_DEBIT_CREDIT_COUNT_RATIO  MEDIAN_DEBIT_CREDIT_COUNT_RATIO  \\\n",
       "1632                           NaN                              NaN   \n",
       "\n",
       "      no_of_loan_accounts  no_of_non_loan_accounts  avg_eod_bal_3_weeks  \\\n",
       "1632                    2                      2.0                  NaN   \n",
       "\n",
       "      median_eod_bal_3_weeks AGE_GROUP  \n",
       "1632                     NaN    Senior  "
      ]
     },
     "execution_count": 89,
     "metadata": {},
     "output_type": "execute_result"
    }
   ],
   "source": [
    "merged_df.sample()"
   ]
  },
  {
   "cell_type": "code",
   "execution_count": 90,
   "id": "79e6650f",
   "metadata": {},
   "outputs": [],
   "source": [
    "merged_df['avg_credit_to_debit_amt_ratio_3_weeks'] = merged_df['Credit_mean'] / merged_df['Debit_mean']\n",
    "merged_df['median_credit_to_debit_ratio_3_weeks'] = merged_df['Credit_median'] / merged_df['Debit_median']"
   ]
  },
  {
   "cell_type": "code",
   "execution_count": 91,
   "id": "eea9c8aa",
   "metadata": {},
   "outputs": [],
   "source": [
    "status_mapping = {'performing': 0, 'non_performing': 1}\n",
    "\n",
    "merged_df['DEFAULT_STATUS_ENCODED'] = merged_df['DEFAULT_STATUS'].map(status_mapping)\n"
   ]
  },
  {
   "cell_type": "code",
   "execution_count": 92,
   "id": "8cb2bbc5",
   "metadata": {},
   "outputs": [
    {
     "data": {
      "text/plain": [
       "0    1448\n",
       "1     206\n",
       "Name: DEFAULT_STATUS_ENCODED, dtype: int64"
      ]
     },
     "execution_count": 92,
     "metadata": {},
     "output_type": "execute_result"
    }
   ],
   "source": [
    "merged_df['DEFAULT_STATUS_ENCODED'].value_counts()"
   ]
  },
  {
   "cell_type": "code",
   "execution_count": 93,
   "id": "6d2246be",
   "metadata": {},
   "outputs": [],
   "source": [
    "## Helper Functions\n",
    "\n",
    "def transformDate(df, datecol): \n",
    "\n",
    "    \"\"\"\n",
    "    function to transform the datefield into a datetime object, and generate associated date elements such as day,week,month,year etc.\n",
    "    Args: Dataframe, datefield\n",
    "    returns: Dataframe\n",
    "    \"\"\"\n",
    "    df[datecol] = pd.to_datetime(df[datecol])\n",
    "    df['Day'] = df[datecol].dt.day_name()\n",
    "    df['Week'] = df[datecol].dt.week\n",
    "    df['MonthName'] = df[datecol].dt.month_name()\n",
    "    df['Year'] = df[datecol].dt.year\n",
    "\n",
    "    return df\n",
    "\n",
    "## Distribution plots for categorical variables\n",
    "def univ_analysis(categ_cols, data):\n",
    "    \"\"\"\n",
    "    Function to generate countplot of categorical variables.\n",
    "    Args: categ_cols (a list of all the categorical fields), & the corresponding dataframe\n",
    "    returns: countplots of all the categorical fields passed in.\n",
    "    \"\"\"\n",
    "    for i in categ_cols:\n",
    "        plt.figure(figsize=(12,6))\n",
    "        if data[i].nunique()>10:\n",
    "      # data[i].value_counts()[:10].plot(kind = 'bar')\n",
    "            ax = (data[i].value_counts(ascending=False)[:10]/data[i].notnull().sum()*100).plot(kind='bar')\n",
    "            ax.set_yticks(np.arange(0,110,10))\n",
    "            ax2 = ax.twinx()\n",
    "            ax2.set_yticks(np.arange(0,110,10)*data[i].notnull().sum()/100)\n",
    "\n",
    "            for p in ax.patches:\n",
    "                ax.annotate('{:.2f}%'.format(p.get_height()), (p.get_x()+0.15, p.get_height()+1))\n",
    "\n",
    "            plt.title(i+'_Distribution')\n",
    "            plt.show()\n",
    "            plt.savefig(i+'_Distribution.png')\n",
    "\n",
    "        else:\n",
    "            ncount = data[i].notnull().sum()\n",
    "            ax = sns.countplot(x=i, data=data)\n",
    "            plt.xticks(rotation=90)\n",
    "            plt.title(i + '_Distribution')\n",
    "\n",
    "            # Make twin axis\n",
    "            ax2=ax.twinx()\n",
    "\n",
    "            # Switch so count axis is on right, frequency on left\n",
    "            ax2.yaxis.tick_left()\n",
    "            ax.yaxis.tick_right()\n",
    "\n",
    "            # Also switch the labels over\n",
    "            ax.yaxis.set_label_position('right')\n",
    "            ax2.yaxis.set_label_position('left')\n",
    "\n",
    "            for p in ax.patches:\n",
    "                x=p.get_bbox().get_points()[:,0]\n",
    "                y=p.get_bbox().get_points()[1,1]\n",
    "                ax.annotate('{:.1f}%'.format(100.*y/ncount), (x.mean(), y), \n",
    "                        ha='center', va='bottom') # set the alignment of the text\n",
    "\n",
    "            # Use a LinearLocator to ensure the correct number of ticks\n",
    "            ax.yaxis.set_major_locator(ticker.LinearLocator(11))\n",
    "\n",
    "            # Fix the frequency range to 0-100\n",
    "            ax2.set_ylim(0,100)\n",
    "            ax.set_ylim(0,ncount)\n",
    "\n",
    "            # And use a MultipleLocator to ensure a tick spacing of 10\n",
    "            ax2.yaxis.set_major_locator(ticker.MultipleLocator(10))\n",
    "\n",
    "            # Need to turn the grid on ax2 off, otherwise the gridlines end up on top of the bars\n",
    "            ax2.grid(None)\n",
    "            plt.show()\n",
    "\n",
    "            # fig = plt.figure()\n",
    "            # return fig\n",
    "\n",
    "\n",
    "## Continuous Variables Distribution Plots\n",
    "\n",
    "def hist_plot(df, vals):\n",
    "    \"\"\"\n",
    "      Function to generate density plot.\n",
    "      Args: dataframe, & variable (continuous)\n",
    "      returns: density plot.\n",
    "    \"\"\"\n",
    "    # sns.set(style=\"whitegrid\", palette='Blues_r')\n",
    "    sns.histplot(df[vals])\n",
    "    plt.title('Histogram of ' + vals)\n",
    "    plt.show()"
   ]
  },
  {
   "cell_type": "code",
   "execution_count": 94,
   "id": "2958eb8d",
   "metadata": {},
   "outputs": [
    {
     "data": {
      "text/plain": [
       "(124, 21)"
      ]
     },
     "execution_count": 94,
     "metadata": {},
     "output_type": "execute_result"
    }
   ],
   "source": [
    "merged_df['CUST_AGE'].max(), merged_df['CUST_AGE'].min()"
   ]
  },
  {
   "cell_type": "code",
   "execution_count": 95,
   "id": "30cada7d",
   "metadata": {},
   "outputs": [],
   "source": [
    "merged_df['cust_age_bin_tmp'] = pd.cut(merged_df['CUST_AGE'], bins=6)\n",
    "bin_edges = merged_df['cust_age_bin_tmp'].cat.categories\n",
    "labels = [f\"{int(bin.left) + 1}-{int(bin.right)}\" for bin in bin_edges]\n",
    "merged_df['cust_age_bin'] = pd.cut(merged_df['CUST_AGE'], bins=6, labels=labels)\n",
    "merged_df.drop('cust_age_bin_tmp', axis=1, inplace=True)"
   ]
  },
  {
   "cell_type": "code",
   "execution_count": 96,
   "id": "392d2686",
   "metadata": {},
   "outputs": [
    {
     "data": {
      "text/plain": [
       "['56-72', '39-55', '21-38', '73-89', '107-124']\n",
       "Categories (6, object): ['21-38' < '39-55' < '56-72' < '73-89' < '90-106' < '107-124']"
      ]
     },
     "execution_count": 96,
     "metadata": {},
     "output_type": "execute_result"
    }
   ],
   "source": [
    "merged_df['cust_age_bin'].unique()"
   ]
  },
  {
   "cell_type": "code",
   "execution_count": 97,
   "id": "818d3a80",
   "metadata": {},
   "outputs": [],
   "source": [
    "categ_cols = ['first_otg_trans_bin', 'number_of_inactive_weeks_otg_bin',\n",
    "              'MARITALSTATUS','OTG_TRANSACTING', 'AGE_GROUP','cust_age_bin','age_with_bank_bin']"
   ]
  },
  {
   "cell_type": "markdown",
   "id": "73d8a986",
   "metadata": {},
   "source": [
    "# Modelling"
   ]
  },
  {
   "cell_type": "code",
   "execution_count": 98,
   "id": "b461eda8",
   "metadata": {},
   "outputs": [],
   "source": [
    "df = merged_df.copy()"
   ]
  },
  {
   "cell_type": "code",
   "execution_count": 99,
   "id": "bf801d46",
   "metadata": {},
   "outputs": [
    {
     "data": {
      "text/plain": [
       "Index(['CIF_ID', 'CUST_AGE', 'AGE_WITH_BANK', 'SEGMENTATION_CLASS',\n",
       "       'OTG_TRANSACTING', 'SCHM_CODE', 'SCHM_DESC', 'DIS_AMT', 'REP_PERD_MTHS',\n",
       "       'DPD_CNTR', 'FLOW_ID', 'FLOW_AMT', 'NO_OF_INSTALLMENTS',\n",
       "       'DEFAULT_STATUS', 'OTG_trans_sum', 'OTG_trans_count', 'OTG_trans_mean',\n",
       "       'OTG_trans_median', 'min_otgcred_amt', 'max_otgcred_amt', 'Debit_sum',\n",
       "       'Debit_count', 'Debit_mean', 'Debit_median', 'min_debit_amt_3_weeks',\n",
       "       'max_debit_amt_3_weeks', 'Credit_sum', 'Credit_count', 'Credit_median',\n",
       "       'Credit_mean', 'min_cred_amt_3_weeks', 'max_cred_amt_3_weeks',\n",
       "       'AVG_DEBIT_CREDIT_COUNT_RATIO', 'MEDIAN_DEBIT_CREDIT_COUNT_RATIO',\n",
       "       'no_of_loan_accounts', 'no_of_non_loan_accounts', 'avg_eod_bal_3_weeks',\n",
       "       'median_eod_bal_3_weeks', 'AGE_GROUP',\n",
       "       'avg_credit_to_debit_amt_ratio_3_weeks',\n",
       "       'median_credit_to_debit_ratio_3_weeks', 'DEFAULT_STATUS_ENCODED',\n",
       "       'cust_age_bin'],\n",
       "      dtype='object')"
      ]
     },
     "execution_count": 99,
     "metadata": {},
     "output_type": "execute_result"
    }
   ],
   "source": [
    "df.columns"
   ]
  },
  {
   "cell_type": "code",
   "execution_count": 100,
   "id": "efc7f0f3",
   "metadata": {},
   "outputs": [
    {
     "data": {
      "text/plain": [
       "(1654, 43)"
      ]
     },
     "execution_count": 100,
     "metadata": {},
     "output_type": "execute_result"
    }
   ],
   "source": [
    "df.shape"
   ]
  },
  {
   "cell_type": "code",
   "execution_count": 101,
   "id": "f8377ab8",
   "metadata": {},
   "outputs": [],
   "source": [
    "df = df.drop_duplicates(subset='CIF_ID',keep='first')"
   ]
  },
  {
   "cell_type": "code",
   "execution_count": 102,
   "id": "17699637",
   "metadata": {},
   "outputs": [
    {
     "data": {
      "text/plain": [
       "0"
      ]
     },
     "execution_count": 102,
     "metadata": {},
     "output_type": "execute_result"
    }
   ],
   "source": [
    "df.OTG_TRANSACTING.isna().sum()"
   ]
  },
  {
   "cell_type": "code",
   "execution_count": 103,
   "id": "6925f2b4",
   "metadata": {},
   "outputs": [],
   "source": [
    "df.drop(columns = ['DPD_CNTR','SCHM_CODE','DEFAULT_STATUS',\n",
    "                   'AGE_GROUP','cust_age_bin'], inplace =True)"
   ]
  },
  {
   "cell_type": "code",
   "execution_count": 104,
   "id": "a5224548",
   "metadata": {},
   "outputs": [
    {
     "data": {
      "text/html": [
       "<div>\n",
       "<style scoped>\n",
       "    .dataframe tbody tr th:only-of-type {\n",
       "        vertical-align: middle;\n",
       "    }\n",
       "\n",
       "    .dataframe tbody tr th {\n",
       "        vertical-align: top;\n",
       "    }\n",
       "\n",
       "    .dataframe thead th {\n",
       "        text-align: right;\n",
       "    }\n",
       "</style>\n",
       "<table border=\"1\" class=\"dataframe\">\n",
       "  <thead>\n",
       "    <tr style=\"text-align: right;\">\n",
       "      <th></th>\n",
       "      <th>CIF_ID</th>\n",
       "      <th>CUST_AGE</th>\n",
       "      <th>AGE_WITH_BANK</th>\n",
       "      <th>SEGMENTATION_CLASS</th>\n",
       "      <th>OTG_TRANSACTING</th>\n",
       "      <th>SCHM_DESC</th>\n",
       "      <th>DIS_AMT</th>\n",
       "      <th>REP_PERD_MTHS</th>\n",
       "      <th>FLOW_ID</th>\n",
       "      <th>FLOW_AMT</th>\n",
       "      <th>NO_OF_INSTALLMENTS</th>\n",
       "      <th>OTG_trans_sum</th>\n",
       "      <th>OTG_trans_count</th>\n",
       "      <th>OTG_trans_mean</th>\n",
       "      <th>OTG_trans_median</th>\n",
       "      <th>min_otgcred_amt</th>\n",
       "      <th>max_otgcred_amt</th>\n",
       "      <th>Debit_sum</th>\n",
       "      <th>Debit_count</th>\n",
       "      <th>Debit_mean</th>\n",
       "      <th>Debit_median</th>\n",
       "      <th>min_debit_amt_3_weeks</th>\n",
       "      <th>max_debit_amt_3_weeks</th>\n",
       "      <th>Credit_sum</th>\n",
       "      <th>Credit_count</th>\n",
       "      <th>Credit_median</th>\n",
       "      <th>Credit_mean</th>\n",
       "      <th>min_cred_amt_3_weeks</th>\n",
       "      <th>max_cred_amt_3_weeks</th>\n",
       "      <th>AVG_DEBIT_CREDIT_COUNT_RATIO</th>\n",
       "      <th>MEDIAN_DEBIT_CREDIT_COUNT_RATIO</th>\n",
       "      <th>no_of_loan_accounts</th>\n",
       "      <th>no_of_non_loan_accounts</th>\n",
       "      <th>avg_eod_bal_3_weeks</th>\n",
       "      <th>median_eod_bal_3_weeks</th>\n",
       "      <th>avg_credit_to_debit_amt_ratio_3_weeks</th>\n",
       "      <th>median_credit_to_debit_ratio_3_weeks</th>\n",
       "      <th>DEFAULT_STATUS_ENCODED</th>\n",
       "    </tr>\n",
       "  </thead>\n",
       "  <tbody>\n",
       "    <tr>\n",
       "      <th>1424</th>\n",
       "      <td>0441121</td>\n",
       "      <td>37</td>\n",
       "      <td>0</td>\n",
       "      <td>BL03</td>\n",
       "      <td>Y</td>\n",
       "      <td>WORK PLACE BANKING FACILITY</td>\n",
       "      <td>550000.0</td>\n",
       "      <td>60</td>\n",
       "      <td>EIDEM</td>\n",
       "      <td>13669.0</td>\n",
       "      <td>1</td>\n",
       "      <td>NaN</td>\n",
       "      <td>NaN</td>\n",
       "      <td>NaN</td>\n",
       "      <td>NaN</td>\n",
       "      <td>NaN</td>\n",
       "      <td>NaN</td>\n",
       "      <td>NaN</td>\n",
       "      <td>NaN</td>\n",
       "      <td>NaN</td>\n",
       "      <td>NaN</td>\n",
       "      <td>NaN</td>\n",
       "      <td>NaN</td>\n",
       "      <td>NaN</td>\n",
       "      <td>NaN</td>\n",
       "      <td>NaN</td>\n",
       "      <td>NaN</td>\n",
       "      <td>NaN</td>\n",
       "      <td>NaN</td>\n",
       "      <td>NaN</td>\n",
       "      <td>NaN</td>\n",
       "      <td>1</td>\n",
       "      <td>3.0</td>\n",
       "      <td>NaN</td>\n",
       "      <td>NaN</td>\n",
       "      <td>NaN</td>\n",
       "      <td>NaN</td>\n",
       "      <td>0</td>\n",
       "    </tr>\n",
       "  </tbody>\n",
       "</table>\n",
       "</div>"
      ],
      "text/plain": [
       "       CIF_ID  CUST_AGE  AGE_WITH_BANK SEGMENTATION_CLASS OTG_TRANSACTING  \\\n",
       "1424  0441121        37              0               BL03               Y   \n",
       "\n",
       "                        SCHM_DESC  DIS_AMT  REP_PERD_MTHS FLOW_ID  FLOW_AMT  \\\n",
       "1424  WORK PLACE BANKING FACILITY 550000.0             60   EIDEM   13669.0   \n",
       "\n",
       "      NO_OF_INSTALLMENTS  OTG_trans_sum  OTG_trans_count  OTG_trans_mean  \\\n",
       "1424                   1            NaN              NaN             NaN   \n",
       "\n",
       "      OTG_trans_median  min_otgcred_amt  max_otgcred_amt  Debit_sum  \\\n",
       "1424               NaN              NaN              NaN        NaN   \n",
       "\n",
       "      Debit_count  Debit_mean  Debit_median  min_debit_amt_3_weeks  \\\n",
       "1424          NaN         NaN           NaN                    NaN   \n",
       "\n",
       "      max_debit_amt_3_weeks  Credit_sum  Credit_count  Credit_median  \\\n",
       "1424                    NaN         NaN           NaN            NaN   \n",
       "\n",
       "      Credit_mean  min_cred_amt_3_weeks  max_cred_amt_3_weeks  \\\n",
       "1424          NaN                   NaN                   NaN   \n",
       "\n",
       "      AVG_DEBIT_CREDIT_COUNT_RATIO  MEDIAN_DEBIT_CREDIT_COUNT_RATIO  \\\n",
       "1424                           NaN                              NaN   \n",
       "\n",
       "      no_of_loan_accounts  no_of_non_loan_accounts  avg_eod_bal_3_weeks  \\\n",
       "1424                    1                      3.0                  NaN   \n",
       "\n",
       "      median_eod_bal_3_weeks  avg_credit_to_debit_amt_ratio_3_weeks  \\\n",
       "1424                     NaN                                    NaN   \n",
       "\n",
       "      median_credit_to_debit_ratio_3_weeks  DEFAULT_STATUS_ENCODED  \n",
       "1424                                   NaN                       0  "
      ]
     },
     "execution_count": 104,
     "metadata": {},
     "output_type": "execute_result"
    }
   ],
   "source": [
    "df.sample()"
   ]
  },
  {
   "cell_type": "code",
   "execution_count": 105,
   "id": "738a3a6d",
   "metadata": {},
   "outputs": [],
   "source": [
    "otg_columns = otg_unique.columns.to_list()"
   ]
  },
  {
   "cell_type": "code",
   "execution_count": 106,
   "id": "5154370b",
   "metadata": {},
   "outputs": [
    {
     "name": "stdout",
     "output_type": "stream",
     "text": [
      "<class 'pandas.core.frame.DataFrame'>\n",
      "Int64Index: 1517 entries, 0 to 1653\n",
      "Data columns (total 7 columns):\n",
      " #   Column            Non-Null Count  Dtype  \n",
      "---  ------            --------------  -----  \n",
      " 0   CIF_ID            1517 non-null   object \n",
      " 1   OTG_trans_sum     139 non-null    float64\n",
      " 2   OTG_trans_count   139 non-null    float64\n",
      " 3   OTG_trans_mean    139 non-null    float64\n",
      " 4   OTG_trans_median  139 non-null    float64\n",
      " 5   min_otgcred_amt   139 non-null    float64\n",
      " 6   max_otgcred_amt   139 non-null    float64\n",
      "dtypes: float64(6), object(1)\n",
      "memory usage: 94.8+ KB\n"
     ]
    }
   ],
   "source": [
    "df[otg_columns].info()"
   ]
  },
  {
   "cell_type": "code",
   "execution_count": 107,
   "id": "4998df05",
   "metadata": {},
   "outputs": [],
   "source": [
    "df[otg_columns] = df[otg_columns].fillna(0)\n"
   ]
  },
  {
   "cell_type": "code",
   "execution_count": 108,
   "id": "0c097714",
   "metadata": {},
   "outputs": [],
   "source": [
    "def map_schm(x):\n",
    "    key_list = ['TERM LOAN- EMI- LCY', 'SHORT TERM LOAN - LCY',\n",
    "       'WORK PLACE BANKING FACILITY', 'HOUSING LOAN - GEN PUBLIC - LCY',\n",
    "       'HOUSING LOAN - GEN PUBLIC - FCY', 'STOCK FINANCE LOAN - LCY',\n",
    "       'ASSET FINANCE PUBLIC- EMI - LCY',\n",
    "       'GOVERNMENT SCHEME WORK PLACE BANKING FACILITY',\n",
    "       'HIRE PURCHASE -GROUP COMPANIES - LCY', 'TERM LOAN- NON EMI - FCY']\n",
    "    value_list = [1, 2, 3, 4, 5, 6, 7, 8, 9, 10]\n",
    "\n",
    "    if x in key_list:\n",
    "        value_index = key_list.index(x)\n",
    "        return value_list[value_index]\n",
    "    else:\n",
    "        return 12 \n",
    "\n",
    "df['schm_code_encoded'] = df['SCHM_DESC'].map(lambda x: map_schm(x))\n"
   ]
  },
  {
   "cell_type": "code",
   "execution_count": 109,
   "id": "6f354967",
   "metadata": {},
   "outputs": [
    {
     "data": {
      "text/html": [
       "<div>\n",
       "<style scoped>\n",
       "    .dataframe tbody tr th:only-of-type {\n",
       "        vertical-align: middle;\n",
       "    }\n",
       "\n",
       "    .dataframe tbody tr th {\n",
       "        vertical-align: top;\n",
       "    }\n",
       "\n",
       "    .dataframe thead th {\n",
       "        text-align: right;\n",
       "    }\n",
       "</style>\n",
       "<table border=\"1\" class=\"dataframe\">\n",
       "  <thead>\n",
       "    <tr style=\"text-align: right;\">\n",
       "      <th></th>\n",
       "      <th>CIF_ID</th>\n",
       "      <th>CUST_AGE</th>\n",
       "      <th>AGE_WITH_BANK</th>\n",
       "      <th>SEGMENTATION_CLASS</th>\n",
       "      <th>OTG_TRANSACTING</th>\n",
       "      <th>SCHM_DESC</th>\n",
       "      <th>DIS_AMT</th>\n",
       "      <th>REP_PERD_MTHS</th>\n",
       "      <th>FLOW_ID</th>\n",
       "      <th>FLOW_AMT</th>\n",
       "      <th>NO_OF_INSTALLMENTS</th>\n",
       "      <th>OTG_trans_sum</th>\n",
       "      <th>OTG_trans_count</th>\n",
       "      <th>OTG_trans_mean</th>\n",
       "      <th>OTG_trans_median</th>\n",
       "      <th>min_otgcred_amt</th>\n",
       "      <th>max_otgcred_amt</th>\n",
       "      <th>Debit_sum</th>\n",
       "      <th>Debit_count</th>\n",
       "      <th>Debit_mean</th>\n",
       "      <th>Debit_median</th>\n",
       "      <th>min_debit_amt_3_weeks</th>\n",
       "      <th>max_debit_amt_3_weeks</th>\n",
       "      <th>Credit_sum</th>\n",
       "      <th>Credit_count</th>\n",
       "      <th>Credit_median</th>\n",
       "      <th>Credit_mean</th>\n",
       "      <th>min_cred_amt_3_weeks</th>\n",
       "      <th>max_cred_amt_3_weeks</th>\n",
       "      <th>AVG_DEBIT_CREDIT_COUNT_RATIO</th>\n",
       "      <th>MEDIAN_DEBIT_CREDIT_COUNT_RATIO</th>\n",
       "      <th>no_of_loan_accounts</th>\n",
       "      <th>no_of_non_loan_accounts</th>\n",
       "      <th>avg_eod_bal_3_weeks</th>\n",
       "      <th>median_eod_bal_3_weeks</th>\n",
       "      <th>avg_credit_to_debit_amt_ratio_3_weeks</th>\n",
       "      <th>median_credit_to_debit_ratio_3_weeks</th>\n",
       "      <th>DEFAULT_STATUS_ENCODED</th>\n",
       "      <th>schm_code_encoded</th>\n",
       "    </tr>\n",
       "  </thead>\n",
       "  <tbody>\n",
       "    <tr>\n",
       "      <th>1142</th>\n",
       "      <td>0386875</td>\n",
       "      <td>26</td>\n",
       "      <td>0</td>\n",
       "      <td>BL03</td>\n",
       "      <td>Y</td>\n",
       "      <td>WORK PLACE BANKING FACILITY</td>\n",
       "      <td>550000.0</td>\n",
       "      <td>48</td>\n",
       "      <td>EIDEM</td>\n",
       "      <td>30060.0</td>\n",
       "      <td>2</td>\n",
       "      <td>0.0</td>\n",
       "      <td>0.0</td>\n",
       "      <td>0.0</td>\n",
       "      <td>0.0</td>\n",
       "      <td>0.0</td>\n",
       "      <td>0.0</td>\n",
       "      <td>254.7</td>\n",
       "      <td>2.0</td>\n",
       "      <td>127.4</td>\n",
       "      <td>127.4</td>\n",
       "      <td>38.0</td>\n",
       "      <td>216.7</td>\n",
       "      <td>15030.0</td>\n",
       "      <td>1.0</td>\n",
       "      <td>15030.0</td>\n",
       "      <td>15030.0</td>\n",
       "      <td>15030.0</td>\n",
       "      <td>15030.0</td>\n",
       "      <td>2.0</td>\n",
       "      <td>2.0</td>\n",
       "      <td>1</td>\n",
       "      <td>2.0</td>\n",
       "      <td>7406.6</td>\n",
       "      <td>7406.6</td>\n",
       "      <td>118.0</td>\n",
       "      <td>118.0</td>\n",
       "      <td>0</td>\n",
       "      <td>3</td>\n",
       "    </tr>\n",
       "  </tbody>\n",
       "</table>\n",
       "</div>"
      ],
      "text/plain": [
       "       CIF_ID  CUST_AGE  AGE_WITH_BANK SEGMENTATION_CLASS OTG_TRANSACTING  \\\n",
       "1142  0386875        26              0               BL03               Y   \n",
       "\n",
       "                        SCHM_DESC  DIS_AMT  REP_PERD_MTHS FLOW_ID  FLOW_AMT  \\\n",
       "1142  WORK PLACE BANKING FACILITY 550000.0             48   EIDEM   30060.0   \n",
       "\n",
       "      NO_OF_INSTALLMENTS  OTG_trans_sum  OTG_trans_count  OTG_trans_mean  \\\n",
       "1142                   2            0.0              0.0             0.0   \n",
       "\n",
       "      OTG_trans_median  min_otgcred_amt  max_otgcred_amt  Debit_sum  \\\n",
       "1142               0.0              0.0              0.0      254.7   \n",
       "\n",
       "      Debit_count  Debit_mean  Debit_median  min_debit_amt_3_weeks  \\\n",
       "1142          2.0       127.4         127.4                   38.0   \n",
       "\n",
       "      max_debit_amt_3_weeks  Credit_sum  Credit_count  Credit_median  \\\n",
       "1142                  216.7     15030.0           1.0        15030.0   \n",
       "\n",
       "      Credit_mean  min_cred_amt_3_weeks  max_cred_amt_3_weeks  \\\n",
       "1142      15030.0               15030.0               15030.0   \n",
       "\n",
       "      AVG_DEBIT_CREDIT_COUNT_RATIO  MEDIAN_DEBIT_CREDIT_COUNT_RATIO  \\\n",
       "1142                           2.0                              2.0   \n",
       "\n",
       "      no_of_loan_accounts  no_of_non_loan_accounts  avg_eod_bal_3_weeks  \\\n",
       "1142                    1                      2.0               7406.6   \n",
       "\n",
       "      median_eod_bal_3_weeks  avg_credit_to_debit_amt_ratio_3_weeks  \\\n",
       "1142                  7406.6                                  118.0   \n",
       "\n",
       "      median_credit_to_debit_ratio_3_weeks  DEFAULT_STATUS_ENCODED  \\\n",
       "1142                                 118.0                       0   \n",
       "\n",
       "      schm_code_encoded  \n",
       "1142                  3  "
      ]
     },
     "execution_count": 109,
     "metadata": {},
     "output_type": "execute_result"
    }
   ],
   "source": [
    "df.sample()"
   ]
  },
  {
   "cell_type": "code",
   "execution_count": 110,
   "id": "3d25c0e9",
   "metadata": {},
   "outputs": [
    {
     "data": {
      "text/plain": [
       "WORK PLACE BANKING FACILITY                      569\n",
       "TERM LOAN- EMI- LCY                              322\n",
       "HOUSING LOAN - GEN PUBLIC - LCY                  317\n",
       "GOVERNMENT SCHEME WORK PLACE BANKING FACILITY    207\n",
       "STOCK FINANCE LOAN - LCY                         170\n",
       "SHORT TERM LOAN - LCY                             30\n",
       "HOUSING LOAN - GEN PUBLIC - FCY                   22\n",
       "ASSET FINANCE PUBLIC- EMI - LCY                    9\n",
       "TERM LOAN- NON EMI - FCY                           5\n",
       "HIRE PURCHASE -GROUP COMPANIES - LCY               3\n",
       "Name: SCHM_DESC, dtype: int64"
      ]
     },
     "execution_count": 110,
     "metadata": {},
     "output_type": "execute_result"
    }
   ],
   "source": [
    "merged_df.SCHM_DESC.value_counts()"
   ]
  },
  {
   "cell_type": "code",
   "execution_count": 111,
   "id": "f5f6e1cd",
   "metadata": {},
   "outputs": [],
   "source": [
    "del df['SCHM_DESC']"
   ]
  },
  {
   "cell_type": "code",
   "execution_count": 112,
   "id": "a3646202",
   "metadata": {},
   "outputs": [],
   "source": [
    "mapping = {'BL05': 1, 'BL03': 0}\n",
    "\n",
    "df['SEGMENTATION_CLASS_ENCODED'] = df['SEGMENTATION_CLASS'].map(mapping)\n"
   ]
  },
  {
   "cell_type": "code",
   "execution_count": 113,
   "id": "dd404636",
   "metadata": {},
   "outputs": [],
   "source": [
    "del df['SEGMENTATION_CLASS']"
   ]
  },
  {
   "cell_type": "code",
   "execution_count": 114,
   "id": "dd3ee406",
   "metadata": {},
   "outputs": [],
   "source": [
    "mapping = {'N': 0, 'Y': 1}\n",
    "\n",
    "df['OTG_TRANSACTING_ENCODED'] = df['OTG_TRANSACTING'].map(mapping)\n"
   ]
  },
  {
   "cell_type": "code",
   "execution_count": 115,
   "id": "a7fde525",
   "metadata": {},
   "outputs": [],
   "source": [
    "del df['OTG_TRANSACTING']"
   ]
  },
  {
   "cell_type": "code",
   "execution_count": 116,
   "id": "04474aa0",
   "metadata": {},
   "outputs": [],
   "source": [
    "df = df.fillna(0)"
   ]
  },
  {
   "cell_type": "code",
   "execution_count": 117,
   "id": "7c28efa9",
   "metadata": {},
   "outputs": [],
   "source": [
    "df_correct = df.copy()"
   ]
  },
  {
   "cell_type": "code",
   "execution_count": 118,
   "id": "e7da4416",
   "metadata": {},
   "outputs": [
    {
     "data": {
      "text/plain": [
       "(1517, 38)"
      ]
     },
     "execution_count": 118,
     "metadata": {},
     "output_type": "execute_result"
    }
   ],
   "source": [
    "df_correct.shape"
   ]
  },
  {
   "cell_type": "code",
   "execution_count": 119,
   "id": "ba6529c0",
   "metadata": {},
   "outputs": [
    {
     "data": {
      "text/plain": [
       "1517"
      ]
     },
     "execution_count": 119,
     "metadata": {},
     "output_type": "execute_result"
    }
   ],
   "source": [
    "df_correct.CIF_ID.nunique()"
   ]
  },
  {
   "cell_type": "code",
   "execution_count": 120,
   "id": "4e906873",
   "metadata": {},
   "outputs": [
    {
     "data": {
      "text/plain": [
       "Index(['CIF_ID', 'CUST_AGE', 'AGE_WITH_BANK', 'DIS_AMT', 'REP_PERD_MTHS',\n",
       "       'FLOW_ID', 'FLOW_AMT', 'NO_OF_INSTALLMENTS', 'OTG_trans_sum',\n",
       "       'OTG_trans_count', 'OTG_trans_mean', 'OTG_trans_median',\n",
       "       'min_otgcred_amt', 'max_otgcred_amt', 'Debit_sum', 'Debit_count',\n",
       "       'Debit_mean', 'Debit_median', 'min_debit_amt_3_weeks',\n",
       "       'max_debit_amt_3_weeks', 'Credit_sum', 'Credit_count', 'Credit_median',\n",
       "       'Credit_mean', 'min_cred_amt_3_weeks', 'max_cred_amt_3_weeks',\n",
       "       'AVG_DEBIT_CREDIT_COUNT_RATIO', 'MEDIAN_DEBIT_CREDIT_COUNT_RATIO',\n",
       "       'no_of_loan_accounts', 'no_of_non_loan_accounts', 'avg_eod_bal_3_weeks',\n",
       "       'median_eod_bal_3_weeks', 'avg_credit_to_debit_amt_ratio_3_weeks',\n",
       "       'median_credit_to_debit_ratio_3_weeks', 'DEFAULT_STATUS_ENCODED',\n",
       "       'schm_code_encoded', 'SEGMENTATION_CLASS_ENCODED',\n",
       "       'OTG_TRANSACTING_ENCODED'],\n",
       "      dtype='object')"
      ]
     },
     "execution_count": 120,
     "metadata": {},
     "output_type": "execute_result"
    }
   ],
   "source": [
    "df_correct.columns"
   ]
  },
  {
   "cell_type": "code",
   "execution_count": 121,
   "id": "31fe4d70",
   "metadata": {},
   "outputs": [],
   "source": [
    "df_correct.drop(columns=['Debit_mean', 'Credit_mean', 'Debit_median','Credit_median',\n",
    "                         'Debit_count', 'Credit_count','max_cred_amt_3_weeks', 'min_cred_amt_3_weeks', 'Credit_sum'\n",
    "                         , 'Debit_sum','min_debit_amt_3_weeks', 'max_debit_amt_3_weeks','MEDIAN_DEBIT_CREDIT_COUNT_RATIO'\n",
    "                        ,'median_eod_bal_3_weeks','max_debit_amt_3_weeks',\n",
    "                        'OTG_trans_median','median_eod_bal_3_weeks','min_otgcred_amt','median_credit_to_debit_ratio_3_weeks',\n",
    "                         'OTG_trans_sum', 'max_otgcred_amt'],inplace = True)\n"
   ]
  },
  {
   "cell_type": "code",
   "execution_count": 122,
   "id": "7c30379e",
   "metadata": {},
   "outputs": [],
   "source": [
    "from sklearn.ensemble import RandomForestClassifier\n",
    "from sklearn.model_selection import train_test_split\n",
    "from sklearn.metrics import classification_report, accuracy_score\n",
    "import numpy as np\n",
    "\n",
    "X = df_correct.drop('DEFAULT_STATUS_ENCODED', axis=1)\n",
    "y = df_correct['DEFAULT_STATUS_ENCODED']\n",
    "\n",
    "X = pd.get_dummies(X)\n",
    "\n",
    "X_train, X_test, y_train, y_test = train_test_split(X, y, test_size=0.2, random_state=42)\n"
   ]
  },
  {
   "cell_type": "code",
   "execution_count": 123,
   "id": "6e3ed1e7",
   "metadata": {},
   "outputs": [],
   "source": [
    "# top_features = sorted_feature_importance.head(20).index\n",
    "\n",
    "# correlation_matrix = df_correct[top_features].corr()\n",
    "\n",
    "\n",
    "# plt.figure(figsize=(18, 14))\n",
    "# sns.heatmap(correlation_matrix, annot=True, fmt='.2f', cmap='coolwarm')\n",
    "# plt.title(\"Correlation Matrix of Top Features\")\n",
    "# plt.show()\n"
   ]
  },
  {
   "cell_type": "code",
   "execution_count": 124,
   "id": "3550d738",
   "metadata": {},
   "outputs": [
    {
     "data": {
      "text/html": [
       "<div>\n",
       "<style scoped>\n",
       "    .dataframe tbody tr th:only-of-type {\n",
       "        vertical-align: middle;\n",
       "    }\n",
       "\n",
       "    .dataframe tbody tr th {\n",
       "        vertical-align: top;\n",
       "    }\n",
       "\n",
       "    .dataframe thead th {\n",
       "        text-align: right;\n",
       "    }\n",
       "</style>\n",
       "<table border=\"1\" class=\"dataframe\">\n",
       "  <thead>\n",
       "    <tr style=\"text-align: right;\">\n",
       "      <th></th>\n",
       "      <th>CIF_ID</th>\n",
       "      <th>CUST_AGE</th>\n",
       "      <th>AGE_WITH_BANK</th>\n",
       "      <th>DIS_AMT</th>\n",
       "      <th>REP_PERD_MTHS</th>\n",
       "      <th>FLOW_ID</th>\n",
       "      <th>FLOW_AMT</th>\n",
       "      <th>NO_OF_INSTALLMENTS</th>\n",
       "      <th>OTG_trans_count</th>\n",
       "      <th>OTG_trans_mean</th>\n",
       "      <th>AVG_DEBIT_CREDIT_COUNT_RATIO</th>\n",
       "      <th>no_of_loan_accounts</th>\n",
       "      <th>no_of_non_loan_accounts</th>\n",
       "      <th>avg_eod_bal_3_weeks</th>\n",
       "      <th>avg_credit_to_debit_amt_ratio_3_weeks</th>\n",
       "      <th>DEFAULT_STATUS_ENCODED</th>\n",
       "      <th>schm_code_encoded</th>\n",
       "      <th>SEGMENTATION_CLASS_ENCODED</th>\n",
       "      <th>OTG_TRANSACTING_ENCODED</th>\n",
       "    </tr>\n",
       "  </thead>\n",
       "  <tbody>\n",
       "    <tr>\n",
       "      <th>1239</th>\n",
       "      <td>0065670</td>\n",
       "      <td>49</td>\n",
       "      <td>11</td>\n",
       "      <td>6500000.0</td>\n",
       "      <td>60</td>\n",
       "      <td>EIDEM</td>\n",
       "      <td>158213.0</td>\n",
       "      <td>1</td>\n",
       "      <td>0.0</td>\n",
       "      <td>0.0</td>\n",
       "      <td>0.0</td>\n",
       "      <td>6</td>\n",
       "      <td>3.0</td>\n",
       "      <td>0.0</td>\n",
       "      <td>0.0</td>\n",
       "      <td>0</td>\n",
       "      <td>1</td>\n",
       "      <td>1</td>\n",
       "      <td>1</td>\n",
       "    </tr>\n",
       "  </tbody>\n",
       "</table>\n",
       "</div>"
      ],
      "text/plain": [
       "       CIF_ID  CUST_AGE  AGE_WITH_BANK   DIS_AMT  REP_PERD_MTHS FLOW_ID  \\\n",
       "1239  0065670        49             11 6500000.0             60   EIDEM   \n",
       "\n",
       "      FLOW_AMT  NO_OF_INSTALLMENTS  OTG_trans_count  OTG_trans_mean  \\\n",
       "1239  158213.0                   1              0.0             0.0   \n",
       "\n",
       "      AVG_DEBIT_CREDIT_COUNT_RATIO  no_of_loan_accounts  \\\n",
       "1239                           0.0                    6   \n",
       "\n",
       "      no_of_non_loan_accounts  avg_eod_bal_3_weeks  \\\n",
       "1239                      3.0                  0.0   \n",
       "\n",
       "      avg_credit_to_debit_amt_ratio_3_weeks  DEFAULT_STATUS_ENCODED  \\\n",
       "1239                                    0.0                       0   \n",
       "\n",
       "      schm_code_encoded  SEGMENTATION_CLASS_ENCODED  OTG_TRANSACTING_ENCODED  \n",
       "1239                  1                           1                        1  "
      ]
     },
     "execution_count": 124,
     "metadata": {},
     "output_type": "execute_result"
    }
   ],
   "source": [
    "df_correct.sample()"
   ]
  },
  {
   "cell_type": "code",
   "execution_count": 125,
   "id": "f839bfb4",
   "metadata": {},
   "outputs": [
    {
     "data": {
      "text/html": [
       "<div>\n",
       "<style scoped>\n",
       "    .dataframe tbody tr th:only-of-type {\n",
       "        vertical-align: middle;\n",
       "    }\n",
       "\n",
       "    .dataframe tbody tr th {\n",
       "        vertical-align: top;\n",
       "    }\n",
       "\n",
       "    .dataframe thead th {\n",
       "        text-align: right;\n",
       "    }\n",
       "</style>\n",
       "<table border=\"1\" class=\"dataframe\">\n",
       "  <thead>\n",
       "    <tr style=\"text-align: right;\">\n",
       "      <th></th>\n",
       "      <th>CIF_ID</th>\n",
       "      <th>TRAN_ID</th>\n",
       "      <th>PART_TRAN_TYPE</th>\n",
       "      <th>TRAN_CRNCY_CODE</th>\n",
       "      <th>TRAN_DATE</th>\n",
       "      <th>CONVERTED_AMOUNT</th>\n",
       "    </tr>\n",
       "  </thead>\n",
       "  <tbody>\n",
       "    <tr>\n",
       "      <th>2581</th>\n",
       "      <td>0084469</td>\n",
       "      <td>S38423</td>\n",
       "      <td>C</td>\n",
       "      <td>KES</td>\n",
       "      <td>19-JAN-24</td>\n",
       "      <td>1070.0</td>\n",
       "    </tr>\n",
       "  </tbody>\n",
       "</table>\n",
       "</div>"
      ],
      "text/plain": [
       "       CIF_ID    TRAN_ID PART_TRAN_TYPE TRAN_CRNCY_CODE  TRAN_DATE  \\\n",
       "2581  0084469     S38423              C             KES  19-JAN-24   \n",
       "\n",
       "      CONVERTED_AMOUNT  \n",
       "2581            1070.0  "
      ]
     },
     "execution_count": 125,
     "metadata": {},
     "output_type": "execute_result"
    }
   ],
   "source": [
    "trans.sample()"
   ]
  },
  {
   "cell_type": "code",
   "execution_count": 126,
   "id": "c6a381a3",
   "metadata": {},
   "outputs": [],
   "source": [
    "# upper_triangle = correlation_matrix.where(np.triu(np.ones(correlation_matrix.shape), k=1).astype(bool))\n",
    "# top_correlations = upper_triangle.unstack().dropna().abs().sort_values(ascending=False).head(10)\n",
    "# print(top_correlations)\n"
   ]
  },
  {
   "cell_type": "code",
   "execution_count": 127,
   "id": "1dd57dde",
   "metadata": {},
   "outputs": [],
   "source": [
    "numerical_columns = df_correct.select_dtypes(include=['int64', 'float64', 'uint64']).columns\n",
    "numerical_columns = numerical_columns.drop('DEFAULT_STATUS_ENCODED')\n"
   ]
  },
  {
   "cell_type": "code",
   "execution_count": 128,
   "id": "cc1f65a6",
   "metadata": {},
   "outputs": [
    {
     "name": "stdout",
     "output_type": "stream",
     "text": [
      "<class 'pandas.core.frame.DataFrame'>\n",
      "Int64Index: 1517 entries, 0 to 1653\n",
      "Data columns (total 19 columns):\n",
      " #   Column                                 Non-Null Count  Dtype  \n",
      "---  ------                                 --------------  -----  \n",
      " 0   CIF_ID                                 1517 non-null   object \n",
      " 1   CUST_AGE                               1517 non-null   int64  \n",
      " 2   AGE_WITH_BANK                          1517 non-null   int64  \n",
      " 3   DIS_AMT                                1517 non-null   float64\n",
      " 4   REP_PERD_MTHS                          1517 non-null   int64  \n",
      " 5   FLOW_ID                                1517 non-null   object \n",
      " 6   FLOW_AMT                               1517 non-null   float64\n",
      " 7   NO_OF_INSTALLMENTS                     1517 non-null   int64  \n",
      " 8   OTG_trans_count                        1517 non-null   float64\n",
      " 9   OTG_trans_mean                         1517 non-null   float64\n",
      " 10  AVG_DEBIT_CREDIT_COUNT_RATIO           1517 non-null   float64\n",
      " 11  no_of_loan_accounts                    1517 non-null   int64  \n",
      " 12  no_of_non_loan_accounts                1517 non-null   float64\n",
      " 13  avg_eod_bal_3_weeks                    1517 non-null   float64\n",
      " 14  avg_credit_to_debit_amt_ratio_3_weeks  1517 non-null   float64\n",
      " 15  DEFAULT_STATUS_ENCODED                 1517 non-null   int64  \n",
      " 16  schm_code_encoded                      1517 non-null   int64  \n",
      " 17  SEGMENTATION_CLASS_ENCODED             1517 non-null   int64  \n",
      " 18  OTG_TRANSACTING_ENCODED                1517 non-null   int64  \n",
      "dtypes: float64(8), int64(9), object(2)\n",
      "memory usage: 237.0+ KB\n"
     ]
    }
   ],
   "source": [
    "df_correct.info()"
   ]
  },
  {
   "cell_type": "code",
   "execution_count": 129,
   "id": "68a275b3",
   "metadata": {},
   "outputs": [],
   "source": [
    "y_true = df_correct['DEFAULT_STATUS_ENCODED']"
   ]
  },
  {
   "cell_type": "code",
   "execution_count": 130,
   "id": "aa2294c3",
   "metadata": {},
   "outputs": [],
   "source": [
    "df2 = df_correct.copy()"
   ]
  },
  {
   "cell_type": "code",
   "execution_count": 136,
   "id": "6d326187",
   "metadata": {},
   "outputs": [],
   "source": [
    "import pickle\n",
    "\n",
    "with open('hyperperameterw_01.sav', 'rb') as file:\n",
    "    model = pickle.load(file)"
   ]
  },
  {
   "cell_type": "code",
   "execution_count": 132,
   "id": "8e5a80f4",
   "metadata": {},
   "outputs": [],
   "source": [
    "y_true = df2['DEFAULT_STATUS_ENCODED']"
   ]
  },
  {
   "cell_type": "code",
   "execution_count": 133,
   "id": "42e55f09",
   "metadata": {},
   "outputs": [],
   "source": [
    "cif_ids = df2['CIF_ID']"
   ]
  },
  {
   "cell_type": "code",
   "execution_count": 140,
   "id": "9f32a33c",
   "metadata": {},
   "outputs": [],
   "source": [
    "\n",
    "selected_columns = ['REP_PERD_MTHS', 'DIS_AMT', 'avg_credit_to_debit_amt_ratio_3_weeks',\n",
    "       'schm_code_encoded', 'avg_eod_bal_3_weeks',\n",
    "       'AVG_DEBIT_CREDIT_COUNT_RATIO', 'FLOW_AMT', 'CUST_AGE',\n",
    "       'no_of_loan_accounts']\n",
    "df2.fillna(0, inplace=True)\n",
    "\n",
    "X_selected = df2[selected_columns]\n",
    "\n",
    "predictions = model.predict(X_selected)\n",
    "probabilities = model.predict_proba(X_selected)"
   ]
  },
  {
   "cell_type": "code",
   "execution_count": 141,
   "id": "acda29b7",
   "metadata": {},
   "outputs": [],
   "source": [
    "results = pd.DataFrame({\n",
    "    'CIF_ID': cif_ids,\n",
    "    'Predictions': predictions,\n",
    "    'Probabilities': probabilities[:, 1],  \n",
    "    #'y_true': y_true \n",
    "})"
   ]
  },
  {
   "cell_type": "code",
   "execution_count": 147,
   "id": "d57630d9",
   "metadata": {},
   "outputs": [],
   "source": [
    "conf_matrix = confusion_matrix(y_true, predictions)\n"
   ]
  },
  {
   "cell_type": "code",
   "execution_count": 148,
   "id": "4614429b",
   "metadata": {},
   "outputs": [
    {
     "data": {
      "image/png": "[encoded data removed]",
      "text/plain": [
       "<Figure size 576x432 with 2 Axes>"
      ]
     },
     "metadata": {
      "needs_background": "light"
     },
     "output_type": "display_data"
    }
   ],
   "source": [
    "fig, ax = plt.subplots(figsize=(8, 6))\n",
    "sns.heatmap(conf_matrix, annot=True, fmt='d', cmap='Blues', ax=ax)\n",
    "\n",
    "label_font = {'size':'14'}\n",
    "ax.set_xlabel('Predicted labels', fontdict=label_font)\n",
    "ax.set_ylabel('True labels', fontdict=label_font)\n",
    "ax.set_title('Confusion Matrix', fontdict={'size':'16'})\n",
    "tick_marks = np.arange(len(np.unique(y_true))) + 0.5\n",
    "plt.xticks(tick_marks, np.unique(y_true), rotation=45)\n",
    "plt.yticks(tick_marks, np.unique(y_true), rotation=0)\n",
    "\n",
    "plt.show()\n"
   ]
  },
  {
   "cell_type": "code",
   "execution_count": 149,
   "id": "ba9cceaf",
   "metadata": {},
   "outputs": [],
   "source": [
    "test_df  = df2[['CIF_ID','REP_PERD_MTHS', 'DIS_AMT', 'avg_credit_to_debit_amt_ratio_3_weeks',\n",
    "       'schm_code_encoded', 'avg_eod_bal_3_weeks',\n",
    "       'AVG_DEBIT_CREDIT_COUNT_RATIO', 'FLOW_AMT', 'CUST_AGE',\n",
    "       'no_of_loan_accounts','DEFAULT_STATUS_ENCODED']]"
   ]
  },
  {
   "cell_type": "code",
   "execution_count": 150,
   "id": "925c1844",
   "metadata": {},
   "outputs": [],
   "source": [
    "result_df = test_df.merge(results, how='left', on='CIF_ID')"
   ]
  },
  {
   "cell_type": "code",
   "execution_count": 151,
   "id": "394d84ea",
   "metadata": {},
   "outputs": [
    {
     "data": {
      "text/html": [
       "<div>\n",
       "<style scoped>\n",
       "    .dataframe tbody tr th:only-of-type {\n",
       "        vertical-align: middle;\n",
       "    }\n",
       "\n",
       "    .dataframe tbody tr th {\n",
       "        vertical-align: top;\n",
       "    }\n",
       "\n",
       "    .dataframe thead th {\n",
       "        text-align: right;\n",
       "    }\n",
       "</style>\n",
       "<table border=\"1\" class=\"dataframe\">\n",
       "  <thead>\n",
       "    <tr style=\"text-align: right;\">\n",
       "      <th></th>\n",
       "      <th>CIF_ID</th>\n",
       "      <th>REP_PERD_MTHS</th>\n",
       "      <th>DIS_AMT</th>\n",
       "      <th>avg_credit_to_debit_amt_ratio_3_weeks</th>\n",
       "      <th>schm_code_encoded</th>\n",
       "      <th>avg_eod_bal_3_weeks</th>\n",
       "      <th>AVG_DEBIT_CREDIT_COUNT_RATIO</th>\n",
       "      <th>FLOW_AMT</th>\n",
       "      <th>CUST_AGE</th>\n",
       "      <th>no_of_loan_accounts</th>\n",
       "      <th>DEFAULT_STATUS_ENCODED</th>\n",
       "      <th>Predictions</th>\n",
       "      <th>Probabilities</th>\n",
       "    </tr>\n",
       "  </thead>\n",
       "  <tbody>\n",
       "    <tr>\n",
       "      <th>1213</th>\n",
       "      <td>0373010</td>\n",
       "      <td>0</td>\n",
       "      <td>850000.0</td>\n",
       "      <td>0.0</td>\n",
       "      <td>6</td>\n",
       "      <td>0.0</td>\n",
       "      <td>0.0</td>\n",
       "      <td>850000.0</td>\n",
       "      <td>43</td>\n",
       "      <td>18</td>\n",
       "      <td>0</td>\n",
       "      <td>0</td>\n",
       "      <td>0.4</td>\n",
       "    </tr>\n",
       "  </tbody>\n",
       "</table>\n",
       "</div>"
      ],
      "text/plain": [
       "       CIF_ID  REP_PERD_MTHS  DIS_AMT  avg_credit_to_debit_amt_ratio_3_weeks  \\\n",
       "1213  0373010              0 850000.0                                    0.0   \n",
       "\n",
       "      schm_code_encoded  avg_eod_bal_3_weeks  AVG_DEBIT_CREDIT_COUNT_RATIO  \\\n",
       "1213                  6                  0.0                           0.0   \n",
       "\n",
       "      FLOW_AMT  CUST_AGE  no_of_loan_accounts  DEFAULT_STATUS_ENCODED  \\\n",
       "1213  850000.0        43                   18                       0   \n",
       "\n",
       "      Predictions  Probabilities  \n",
       "1213            0            0.4  "
      ]
     },
     "execution_count": 151,
     "metadata": {},
     "output_type": "execute_result"
    }
   ],
   "source": [
    "result_df.sample()"
   ]
  },
  {
   "cell_type": "code",
   "execution_count": 155,
   "id": "1ba51553",
   "metadata": {},
   "outputs": [],
   "source": [
    "result_df.to_csv('ALLCUSTLOANS_scores.csv', index = False)"
   ]
  },
  {
   "cell_type": "code",
   "execution_count": 153,
   "id": "a61eac8e",
   "metadata": {},
   "outputs": [],
   "source": [
    "hypthesisdf = result_df.copy()"
   ]
  },
  {
   "cell_type": "code",
   "execution_count": 154,
   "id": "9397acda",
   "metadata": {},
   "outputs": [
    {
     "data": {
      "text/html": [
       "<div>\n",
       "<style scoped>\n",
       "    .dataframe tbody tr th:only-of-type {\n",
       "        vertical-align: middle;\n",
       "    }\n",
       "\n",
       "    .dataframe tbody tr th {\n",
       "        vertical-align: top;\n",
       "    }\n",
       "\n",
       "    .dataframe thead th {\n",
       "        text-align: right;\n",
       "    }\n",
       "</style>\n",
       "<table border=\"1\" class=\"dataframe\">\n",
       "  <thead>\n",
       "    <tr style=\"text-align: right;\">\n",
       "      <th></th>\n",
       "      <th>REP_PERD_MTHS</th>\n",
       "      <th>DIS_AMT</th>\n",
       "      <th>avg_credit_to_debit_amt_ratio_3_weeks</th>\n",
       "      <th>schm_code_encoded</th>\n",
       "      <th>avg_eod_bal_3_weeks</th>\n",
       "      <th>AVG_DEBIT_CREDIT_COUNT_RATIO</th>\n",
       "      <th>FLOW_AMT</th>\n",
       "      <th>CUST_AGE</th>\n",
       "      <th>no_of_loan_accounts</th>\n",
       "      <th>DEFAULT_STATUS_ENCODED</th>\n",
       "      <th>Predictions</th>\n",
       "      <th>Probabilities</th>\n",
       "    </tr>\n",
       "  </thead>\n",
       "  <tbody>\n",
       "    <tr>\n",
       "      <th>count</th>\n",
       "      <td>589.0</td>\n",
       "      <td>589.0</td>\n",
       "      <td>589.0</td>\n",
       "      <td>589.0</td>\n",
       "      <td>589.0</td>\n",
       "      <td>589.0</td>\n",
       "      <td>589.0</td>\n",
       "      <td>589.0</td>\n",
       "      <td>589.0</td>\n",
       "      <td>589.0</td>\n",
       "      <td>589.0</td>\n",
       "      <td>589.0</td>\n",
       "    </tr>\n",
       "    <tr>\n",
       "      <th>mean</th>\n",
       "      <td>95.9</td>\n",
       "      <td>9815993.0</td>\n",
       "      <td>0.2</td>\n",
       "      <td>3.3</td>\n",
       "      <td>24357.7</td>\n",
       "      <td>0.2</td>\n",
       "      <td>417599.1</td>\n",
       "      <td>45.4</td>\n",
       "      <td>1.6</td>\n",
       "      <td>0.2</td>\n",
       "      <td>1.0</td>\n",
       "      <td>0.6</td>\n",
       "    </tr>\n",
       "    <tr>\n",
       "      <th>std</th>\n",
       "      <td>65.9</td>\n",
       "      <td>15313199.2</td>\n",
       "      <td>0.7</td>\n",
       "      <td>1.4</td>\n",
       "      <td>242868.0</td>\n",
       "      <td>1.0</td>\n",
       "      <td>2332675.4</td>\n",
       "      <td>11.3</td>\n",
       "      <td>1.1</td>\n",
       "      <td>0.4</td>\n",
       "      <td>0.0</td>\n",
       "      <td>0.1</td>\n",
       "    </tr>\n",
       "    <tr>\n",
       "      <th>min</th>\n",
       "      <td>0.0</td>\n",
       "      <td>100.0</td>\n",
       "      <td>0.0</td>\n",
       "      <td>1.0</td>\n",
       "      <td>-1758488.8</td>\n",
       "      <td>0.0</td>\n",
       "      <td>38.0</td>\n",
       "      <td>22.0</td>\n",
       "      <td>1.0</td>\n",
       "      <td>0.0</td>\n",
       "      <td>1.0</td>\n",
       "      <td>0.5</td>\n",
       "    </tr>\n",
       "    <tr>\n",
       "      <th>25%</th>\n",
       "      <td>48.0</td>\n",
       "      <td>1925149.0</td>\n",
       "      <td>0.0</td>\n",
       "      <td>3.0</td>\n",
       "      <td>0.0</td>\n",
       "      <td>0.0</td>\n",
       "      <td>77656.0</td>\n",
       "      <td>38.0</td>\n",
       "      <td>1.0</td>\n",
       "      <td>0.0</td>\n",
       "      <td>1.0</td>\n",
       "      <td>0.6</td>\n",
       "    </tr>\n",
       "    <tr>\n",
       "      <th>50%</th>\n",
       "      <td>72.0</td>\n",
       "      <td>5916993.8</td>\n",
       "      <td>0.0</td>\n",
       "      <td>4.0</td>\n",
       "      <td>0.0</td>\n",
       "      <td>0.0</td>\n",
       "      <td>145062.0</td>\n",
       "      <td>44.0</td>\n",
       "      <td>1.0</td>\n",
       "      <td>0.0</td>\n",
       "      <td>1.0</td>\n",
       "      <td>0.7</td>\n",
       "    </tr>\n",
       "    <tr>\n",
       "      <th>75%</th>\n",
       "      <td>156.0</td>\n",
       "      <td>11500000.0</td>\n",
       "      <td>0.0</td>\n",
       "      <td>4.0</td>\n",
       "      <td>0.0</td>\n",
       "      <td>0.0</td>\n",
       "      <td>256715.0</td>\n",
       "      <td>52.0</td>\n",
       "      <td>2.0</td>\n",
       "      <td>0.0</td>\n",
       "      <td>1.0</td>\n",
       "      <td>0.7</td>\n",
       "    </tr>\n",
       "    <tr>\n",
       "      <th>max</th>\n",
       "      <td>240.0</td>\n",
       "      <td>150000000.0</td>\n",
       "      <td>12.0</td>\n",
       "      <td>6.0</td>\n",
       "      <td>3055067.1</td>\n",
       "      <td>19.0</td>\n",
       "      <td>50075041.7</td>\n",
       "      <td>124.0</td>\n",
       "      <td>6.0</td>\n",
       "      <td>1.0</td>\n",
       "      <td>1.0</td>\n",
       "      <td>0.9</td>\n",
       "    </tr>\n",
       "  </tbody>\n",
       "</table>\n",
       "</div>"
      ],
      "text/plain": [
       "       REP_PERD_MTHS     DIS_AMT  avg_credit_to_debit_amt_ratio_3_weeks  \\\n",
       "count          589.0       589.0                                  589.0   \n",
       "mean            95.9   9815993.0                                    0.2   \n",
       "std             65.9  15313199.2                                    0.7   \n",
       "min              0.0       100.0                                    0.0   \n",
       "25%             48.0   1925149.0                                    0.0   \n",
       "50%             72.0   5916993.8                                    0.0   \n",
       "75%            156.0  11500000.0                                    0.0   \n",
       "max            240.0 150000000.0                                   12.0   \n",
       "\n",
       "       schm_code_encoded  avg_eod_bal_3_weeks  AVG_DEBIT_CREDIT_COUNT_RATIO  \\\n",
       "count              589.0                589.0                         589.0   \n",
       "mean                 3.3              24357.7                           0.2   \n",
       "std                  1.4             242868.0                           1.0   \n",
       "min                  1.0           -1758488.8                           0.0   \n",
       "25%                  3.0                  0.0                           0.0   \n",
       "50%                  4.0                  0.0                           0.0   \n",
       "75%                  4.0                  0.0                           0.0   \n",
       "max                  6.0            3055067.1                          19.0   \n",
       "\n",
       "        FLOW_AMT  CUST_AGE  no_of_loan_accounts  DEFAULT_STATUS_ENCODED  \\\n",
       "count      589.0     589.0                589.0                   589.0   \n",
       "mean    417599.1      45.4                  1.6                     0.2   \n",
       "std    2332675.4      11.3                  1.1                     0.4   \n",
       "min         38.0      22.0                  1.0                     0.0   \n",
       "25%      77656.0      38.0                  1.0                     0.0   \n",
       "50%     145062.0      44.0                  1.0                     0.0   \n",
       "75%     256715.0      52.0                  2.0                     0.0   \n",
       "max   50075041.7     124.0                  6.0                     1.0   \n",
       "\n",
       "       Predictions  Probabilities  \n",
       "count        589.0          589.0  \n",
       "mean           1.0            0.6  \n",
       "std            0.0            0.1  \n",
       "min            1.0            0.5  \n",
       "25%            1.0            0.6  \n",
       "50%            1.0            0.7  \n",
       "75%            1.0            0.7  \n",
       "max            1.0            0.9  "
      ]
     },
     "execution_count": 154,
     "metadata": {},
     "output_type": "execute_result"
    }
   ],
   "source": [
    "hypthesisdf[hypthesisdf['Predictions'] == 1].describe()"
   ]
  },
  {
   "cell_type": "code",
   "execution_count": 159,
   "id": "a50f4812",
   "metadata": {},
   "outputs": [
    {
     "data": {
      "image/png": "[encoded data removed]",
      "text/plain": [
       "<Figure size 576x432 with 2 Axes>"
      ]
     },
     "metadata": {
      "needs_background": "light"
     },
     "output_type": "display_data"
    }
   ],
   "source": [
    "def adjust_predictions(row):\n",
    "    if (row['DEFAULT_STATUS_ENCODED'] == 1 and row['Probabilities'] <= 0.5 and\n",
    "        row['avg_eod_bal_3_weeks'] < 1500 and\n",
    "        row['avg_credit_to_debit_amt_ratio_3_weeks'] == 0 and\n",
    "        row['AVG_DEBIT_CREDIT_COUNT_RATIO'] == 0):\n",
    "        return 1\n",
    "    elif (row['DEFAULT_STATUS_ENCODED'] == 0 and row['Probabilities'] > 0.5 and\n",
    "          row['schm_code_encoded'] in [4, 3] and \n",
    "          row['avg_credit_to_debit_amt_ratio_3_weeks'] < 1):\n",
    "        return 0\n",
    "    elif (row['DEFAULT_STATUS_ENCODED'] == 0 and row['Probabilities'] > 0.5 and\n",
    "          row['avg_credit_to_debit_amt_ratio_3_weeks'] == 0  and \n",
    "          row['avg_eod_bal_3_weeks'] == 0 ):\n",
    "        return 0\n",
    "    else:\n",
    "        return row['Predictions']\n",
    "\n",
    "hypthesisdf['adjusted_prediction'] = hypthesisdf.apply(adjust_predictions, axis=1)\n",
    "hypthesisdf['adjusted_prediction'] = hypthesisdf['adjusted_prediction'].astype(int)\n",
    "hypthesisdf.fillna(0, inplace=True)\n",
    "hypthesisdf['Predictions'] = hypthesisdf['adjusted_prediction']\n",
    "hypthesisdf['Predictions'] = hypthesisdf['Predictions'].astype(int)\n",
    "cm = confusion_matrix(hypthesisdf['DEFAULT_STATUS_ENCODED'], hypthesisdf['Predictions'])\n",
    "\n",
    "plt.figure(figsize=(8, 6))\n",
    "sns.heatmap(cm, annot=True, cmap='Blues', fmt='d')\n",
    "plt.title('Confusion Matrix')\n",
    "plt.xlabel('Predicted Labels')\n",
    "plt.ylabel('True Labels')\n",
    "plt.show()"
   ]
  },
  {
   "cell_type": "code",
   "execution_count": 161,
   "id": "5835fdb5",
   "metadata": {},
   "outputs": [
    {
     "name": "stdout",
     "output_type": "stream",
     "text": [
      "              precision    recall  f1-score   support\n",
      "\n",
      "           0       1.00      0.97      0.98      1345\n",
      "           1       0.80      0.97      0.88       172\n",
      "\n",
      "    accuracy                           0.97      1517\n",
      "   macro avg       0.90      0.97      0.93      1517\n",
      "weighted avg       0.97      0.97      0.97      1517\n",
      "\n"
     ]
    }
   ],
   "source": [
    "from sklearn.metrics import classification_report\n",
    "report = classification_report(hypthesisdf['DEFAULT_STATUS_ENCODED'], hypthesisdf['Predictions'])\n",
    "\n",
    "print(report)\n"
   ]
  },
  {
   "cell_type": "code",
   "execution_count": 162,
   "id": "37d9da03",
   "metadata": {},
   "outputs": [],
   "source": [
    "import oracledb as orc\n",
    "\n",
    "########################################################################\n",
    "##########     CREATE CLASS FOR INSERTING INTO DB.   ###################\n",
    "########################################################################\n",
    "class DataMigration:\n",
    "    def __init__(self):\n",
    "        pass\n",
    "    \n",
    "    def writePandas(self,table_name,\n",
    "                 columns,sourcedataframe,batch_size = 10000,\n",
    "                 renamed_columns={}):\n",
    "        currrow=None\n",
    "        try:\n",
    "            # c = props.ProcessDataDbToFile()\n",
    "            # conn = c.get_db_conn()\n",
    "            pddata=sourcedataframe\n",
    "            pddata.rename(columns=renamed_columns, inplace=True)\n",
    "            print(pddata.shape)\n",
    "            print(pddata.head(3))\n",
    "            \n",
    "            connection = orc.connect(user='analytics', password='icub3pr0d2018#', dsn='192.168.202.75:1521/icubeprd')\n",
    "            with connection.cursor() as cur:\n",
    "                i=0\n",
    "                colnanmesstr=\"(\"\n",
    "                placeholder=\"(\"\n",
    "                for col in columns:\n",
    "                    if i==0:\n",
    "                        placeholder=placeholder+\":v\"+str(i)\n",
    "                        colnanmesstr = colnanmesstr + col\n",
    "                    else:\n",
    "                        placeholder = placeholder + \",:v\" + str(i)\n",
    "                        colnanmesstr = colnanmesstr + \",\" + col\n",
    "                    i=i+1\n",
    "                placeholder = placeholder + \")\"\n",
    "                colnanmesstr=colnanmesstr+\")\"\n",
    "                sql = f\"\"\"insert into {table_name} {colnanmesstr} values {placeholder}\"\"\"\n",
    "                insertdata = []\n",
    "                try:\n",
    "\n",
    "                    # Predefine the memory areas to match the table definition\n",
    "                    cur.setinputsizes(None, 25)\n",
    "                    # Adjust the batch size to meet your memory and performance requirements\n",
    "                    # batch_size = 10000\n",
    "                    for record in pddata.itertuples(index=False):\n",
    "                        row=record._asdict()\n",
    "                        record_insert = tuple(row[col] for col in columns)\n",
    "                        # print(record_insert)\n",
    "                        insertdata.append(record_insert)\n",
    "                        if len(insertdata) % batch_size == 0:\n",
    "                            # print(insertdata)\n",
    "                            cur.executemany(sql, insertdata)\n",
    "                            insertdata = []\n",
    "                            connection.commit()\n",
    "                        # print(row)\n",
    "                    if insertdata:\n",
    "                        cur.executemany(sql, insertdata)\n",
    "                    connection.commit()\n",
    "                    # conn.close()\n",
    "                    print(\"end---\",pddata.shape)\n",
    "                except Exception as e:\n",
    "                    print(e)\n",
    "                    print(insertdata)\n",
    "                    raise e\n",
    "        except Exception as e:\n",
    "            print(\"overall\",e)\n",
    "            # conn.rollback()\n",
    "            raise e\n"
   ]
  },
  {
   "cell_type": "code",
   "execution_count": 163,
   "id": "9fac5592",
   "metadata": {},
   "outputs": [],
   "source": [
    "from datetime import datetime\n",
    "batch_no = datetime.today().strftime('%Y%m')\n",
    "\n",
    "batch_no = int(batch_no) - 1\n",
    "\n",
    "hypthesisdf[\"BATCH_NO\"] = batch_no"
   ]
  },
  {
   "cell_type": "code",
   "execution_count": 166,
   "id": "86d5a66c",
   "metadata": {},
   "outputs": [
    {
     "data": {
      "text/plain": [
       "Index(['CIF_ID', 'REP_PERD_MTHS', 'DIS_AMT',\n",
       "       'avg_credit_to_debit_amt_ratio_3_weeks', 'schm_code_encoded',\n",
       "       'avg_eod_bal_3_weeks', 'AVG_DEBIT_CREDIT_COUNT_RATIO', 'FLOW_AMT',\n",
       "       'CUST_AGE', 'no_of_loan_accounts', 'DEFAULT_STATUS_ENCODED',\n",
       "       'Predictions', 'Probabilities', 'adjusted_prediction', 'BATCH_NO'],\n",
       "      dtype='object')"
      ]
     },
     "execution_count": 166,
     "metadata": {},
     "output_type": "execute_result"
    }
   ],
   "source": [
    "hypthesisdf.columns"
   ]
  },
  {
   "cell_type": "code",
   "execution_count": 168,
   "id": "4500609a",
   "metadata": {},
   "outputs": [
    {
     "name": "stdout",
     "output_type": "stream",
     "text": [
      "<class 'pandas.core.frame.DataFrame'>\n",
      "Int64Index: 1517 entries, 0 to 1516\n",
      "Data columns (total 15 columns):\n",
      " #   Column                                 Non-Null Count  Dtype  \n",
      "---  ------                                 --------------  -----  \n",
      " 0   CIF_ID                                 1517 non-null   object \n",
      " 1   REP_PERD_MTHS                          1517 non-null   int64  \n",
      " 2   DIS_AMT                                1517 non-null   float64\n",
      " 3   avg_credit_to_debit_amt_ratio_3_weeks  1517 non-null   float64\n",
      " 4   schm_code_encoded                      1517 non-null   int64  \n",
      " 5   avg_eod_bal_3_weeks                    1517 non-null   float64\n",
      " 6   AVG_DEBIT_CREDIT_COUNT_RATIO           1517 non-null   float64\n",
      " 7   FLOW_AMT                               1517 non-null   float64\n",
      " 8   CUST_AGE                               1517 non-null   int64  \n",
      " 9   no_of_loan_accounts                    1517 non-null   int64  \n",
      " 10  DEFAULT_STATUS_ENCODED                 1517 non-null   int64  \n",
      " 11  Predictions                            1517 non-null   int64  \n",
      " 12  Probabilities                          1517 non-null   float64\n",
      " 13  adjusted_prediction                    1517 non-null   int64  \n",
      " 14  BATCH_NO                               1517 non-null   int64  \n",
      "dtypes: float64(6), int64(8), object(1)\n",
      "memory usage: 189.6+ KB\n"
     ]
    }
   ],
   "source": [
    "hypthesisdf.info()"
   ]
  },
  {
   "cell_type": "code",
   "execution_count": 169,
   "id": "8c21ab6c",
   "metadata": {},
   "outputs": [],
   "source": [
    "cols = ['CIF_ID', 'REP_PERD_MTHS', 'DIS_AMT',\n",
    "       'avg_credit_to_debit_amt_ratio_3_weeks', 'schm_code_encoded',\n",
    "       'avg_eod_bal_3_weeks', 'AVG_DEBIT_CREDIT_COUNT_RATIO', 'FLOW_AMT',\n",
    "       'CUST_AGE', 'no_of_loan_accounts', 'DEFAULT_STATUS_ENCODED',\n",
    "       'Predictions', 'Probabilities', 'adjusted_prediction', 'BATCH_NO']"
   ]
  },
  {
   "cell_type": "code",
   "execution_count": 170,
   "id": "398bb806",
   "metadata": {},
   "outputs": [
    {
     "name": "stdout",
     "output_type": "stream",
     "text": [
      "(1517, 15)\n",
      "    CIF_ID  REP_PERD_MTHS     DIS_AMT  avg_credit_to_debit_amt_ratio_3_weeks  \\\n",
      "0  0001596             24   3000000.0                                    8.1   \n",
      "1  0001726            180 100000000.0                                    0.0   \n",
      "2  0008874             12   7000000.0                                    2.8   \n",
      "\n",
      "   schm_code_encoded  avg_eod_bal_3_weeks  AVG_DEBIT_CREDIT_COUNT_RATIO  \\\n",
      "0                  1             189102.5                           2.0   \n",
      "1                  4                  0.0                           0.0   \n",
      "2                  1               2752.1                           3.0   \n",
      "\n",
      "   FLOW_AMT  CUST_AGE  no_of_loan_accounts  DEFAULT_STATUS_ENCODED  \\\n",
      "0  146882.0        68                    4                       0   \n",
      "1 1408845.0        49                    1                       0   \n",
      "2 1410094.0        66                    1                       0   \n",
      "\n",
      "   Predictions  Probabilities  adjusted_prediction  BATCH_NO  \n",
      "0            0            0.3                    0    202401  \n",
      "1            0            0.8                    0    202401  \n",
      "2            1            0.5                    1    202401  \n",
      "end--- (1517, 15)\n"
     ]
    }
   ],
   "source": [
    "########################################################################\n",
    "##########     USING THE CLASS TO INSERT.   ############################\n",
    "########################################################################\n",
    "writer = DataMigration()\n",
    "writer.writePandas(table_name=\"EWS_LOANS_SCORE\",columns=cols,\n",
    "                   sourcedataframe=hypthesisdf)"
   ]
  },
  {
   "cell_type": "code",
   "execution_count": null,
   "id": "dac03e74",
   "metadata": {},
   "outputs": [],
   "source": []
  },
  {
   "cell_type": "code",
   "execution_count": null,
   "id": "9402f67e",
   "metadata": {},
   "outputs": [],
   "source": []
  },
  {
   "cell_type": "code",
   "execution_count": null,
   "id": "b94e0199",
   "metadata": {},
   "outputs": [],
   "source": []
  }
 ],
 "metadata": {
  "kernelspec": {
   "display_name": "Python 3 (ipykernel)",
   "language": "python",
   "name": "python3"
  },
  "language_info": {
   "codemirror_mode": {
    "name": "ipython",
    "version": 3
   },
   "file_extension": ".py",
   "mimetype": "text/x-python",
   "name": "python",
   "nbconvert_exporter": "python",
   "pygments_lexer": "ipython3",
   "version": "3.9.12"
  }
 },
 "nbformat": 4,
 "nbformat_minor": 5
}
