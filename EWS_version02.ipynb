{
 "cells": [
  {
   "cell_type": "code",
   "execution_count": 1,
   "id": "1a0a7b5a",
   "metadata": {},
   "outputs": [],
   "source": [
    "# Imports\n",
    "\n",
    "import warnings\n",
    "\n",
    "warnings.filterwarnings(\"ignore\")\n",
    "\n",
    "import pandas as pd\n",
    "import numpy as np\n",
    "import datetime as dt\n",
    "from collections import Counter  \n",
    "from sklearn.metrics import confusion_matrix\n",
    "import calendar\n",
    "from dateutil import relativedelta\n",
    "import operator\n",
    "import os\n",
    "import random\n",
    "from functools import reduce\n",
    "import matplotlib.pyplot as plt\n",
    "import seaborn as sns\n",
    "from itertools import combinations\n",
    "import warnings\n",
    "import matplotlib.ticker as ticker\n",
    "warnings.filterwarnings('ignore')\n",
    "pd.set_option('display.max_columns', None)\n",
    "pd.set_option('display.max_rows', None)\n",
    "pd.set_option('display.float_format', lambda x: f'%.{len(str(x%1))-2}f' % x)\n",
    "pd.set_option('display.max_colwidth', None)\n",
    "%matplotlib inline"
   ]
  },
  {
   "cell_type": "code",
   "execution_count": 2,
   "id": "3ba3d302",
   "metadata": {},
   "outputs": [],
   "source": [
    "#Read the necesarry data files\n",
    "\n",
    "detail = pd.read_csv('detail_retail_new.csv',converters={'CIF_ID':str})\n",
    "non_loan = pd.read_csv('CS_NON_LOAN_ACC_RETAIL_2_2_1.csv',converters={'CIF_ID':str})\n",
    "loan = pd.read_csv('CS_LOAN_ACC_RETAIL_2_2_1.csv',converters={'CIF_ID':str})\n",
    "trans = pd.read_csv('CS_TRANS_RETAIL_2.csv',converters={'CIF_ID':str})\n",
    "eod = pd.read_csv('CS_EOD_RETAIL.csv',converters={'CIF_ID':str})\n",
    "otg = pd.read_csv('CS_OTG_RETAIL.csv',converters={'CIF_ID':str})"
   ]
  },
  {
   "cell_type": "code",
   "execution_count": 3,
   "id": "433f413c",
   "metadata": {},
   "outputs": [
    {
     "data": {
      "text/plain": [
       "(319562, 8)"
      ]
     },
     "execution_count": 3,
     "metadata": {},
     "output_type": "execute_result"
    }
   ],
   "source": [
    "trans.shape"
   ]
  },
  {
   "cell_type": "code",
   "execution_count": 4,
   "id": "d91bb195",
   "metadata": {},
   "outputs": [
    {
     "name": "stdout",
     "output_type": "stream",
     "text": [
      "DataFrame 1 - Shape: (636, 21), Unique IDs: 515\n",
      "DataFrame 2 - Shape: (681, 2), Unique IDs: 681\n",
      "DataFrame 3 - Shape: (582, 2), Unique IDs: 582\n",
      "DataFrame 4 - Shape: (319562, 8), Unique IDs: 533\n",
      "DataFrame 5 - Shape: (9297, 3), Unique IDs: 679\n",
      "DataFrame 6 - Shape: (6671, 6), Unique IDs: 686\n"
     ]
    }
   ],
   "source": [
    "dfs = [detail, non_loan, loan, trans, eod, otg ]\n",
    "\n",
    "for i, df in enumerate(dfs, start=1):\n",
    "    print(f\"DataFrame {i} - Shape: {df.shape}, Unique IDs: {df['CIF_ID'].nunique()}\")"
   ]
  },
  {
   "cell_type": "code",
   "execution_count": 5,
   "id": "65765a20",
   "metadata": {},
   "outputs": [
    {
     "data": {
      "text/html": [
       "<div>\n",
       "<style scoped>\n",
       "    .dataframe tbody tr th:only-of-type {\n",
       "        vertical-align: middle;\n",
       "    }\n",
       "\n",
       "    .dataframe tbody tr th {\n",
       "        vertical-align: top;\n",
       "    }\n",
       "\n",
       "    .dataframe thead th {\n",
       "        text-align: right;\n",
       "    }\n",
       "</style>\n",
       "<table border=\"1\" class=\"dataframe\">\n",
       "  <thead>\n",
       "    <tr style=\"text-align: right;\">\n",
       "      <th></th>\n",
       "      <th>CIF_ID</th>\n",
       "      <th>ACID</th>\n",
       "      <th>CUST_AGE</th>\n",
       "      <th>AGE_WITH_BANK</th>\n",
       "      <th>SEGMENTATION_CLASS</th>\n",
       "      <th>CUSTOMERINCOME</th>\n",
       "      <th>SECTOR</th>\n",
       "      <th>SUBSECTOR</th>\n",
       "      <th>SECURED_FLG</th>\n",
       "      <th>PHYSICALADDRESS</th>\n",
       "      <th>MARITALSTATUS</th>\n",
       "      <th>OTG_TRANSACTING</th>\n",
       "      <th>SCHM_CODE</th>\n",
       "      <th>SCHM_DESC</th>\n",
       "      <th>DIS_AMT</th>\n",
       "      <th>DISB_DATE_3WK</th>\n",
       "      <th>DISB_DATE</th>\n",
       "      <th>REP_PERD_MTHS</th>\n",
       "      <th>DPD_CNTR</th>\n",
       "      <th>FLOW_AMT</th>\n",
       "      <th>NO_OF_INSTALLMENTS</th>\n",
       "    </tr>\n",
       "  </thead>\n",
       "  <tbody>\n",
       "    <tr>\n",
       "      <th>489</th>\n",
       "      <td>0110447</td>\n",
       "      <td>IM21718085</td>\n",
       "      <td>52</td>\n",
       "      <td>8</td>\n",
       "      <td>BL03</td>\n",
       "      <td>NaN</td>\n",
       "      <td>ANY OTHER ACTIVITIES</td>\n",
       "      <td>ALL OTHER ACTIVITIES NOT UNDER  ENTPR OR SCPS</td>\n",
       "      <td>N</td>\n",
       "      <td>UMOJA ESTATE</td>\n",
       "      <td>NaN</td>\n",
       "      <td>N</td>\n",
       "      <td>LAL02</td>\n",
       "      <td>TERM LOAN- EMI- LCY</td>\n",
       "      <td>1500000.0</td>\n",
       "      <td>19-JAN-23</td>\n",
       "      <td>29-DEC-22</td>\n",
       "      <td>48</td>\n",
       "      <td>34</td>\n",
       "      <td>45233.0</td>\n",
       "      <td>1</td>\n",
       "    </tr>\n",
       "  </tbody>\n",
       "</table>\n",
       "</div>"
      ],
      "text/plain": [
       "      CIF_ID        ACID  CUST_AGE  AGE_WITH_BANK SEGMENTATION_CLASS  \\\n",
       "489  0110447  IM21718085        52              8               BL03   \n",
       "\n",
       "     CUSTOMERINCOME                SECTOR  \\\n",
       "489             NaN  ANY OTHER ACTIVITIES   \n",
       "\n",
       "                                         SUBSECTOR SECURED_FLG  \\\n",
       "489  ALL OTHER ACTIVITIES NOT UNDER  ENTPR OR SCPS           N   \n",
       "\n",
       "    PHYSICALADDRESS MARITALSTATUS OTG_TRANSACTING SCHM_CODE  \\\n",
       "489    UMOJA ESTATE           NaN               N     LAL02   \n",
       "\n",
       "               SCHM_DESC   DIS_AMT DISB_DATE_3WK  DISB_DATE  REP_PERD_MTHS  \\\n",
       "489  TERM LOAN- EMI- LCY 1500000.0     19-JAN-23  29-DEC-22             48   \n",
       "\n",
       "     DPD_CNTR  FLOW_AMT  NO_OF_INSTALLMENTS  \n",
       "489        34   45233.0                   1  "
      ]
     },
     "execution_count": 5,
     "metadata": {},
     "output_type": "execute_result"
    }
   ],
   "source": [
    "detail.sample()"
   ]
  },
  {
   "cell_type": "code",
   "execution_count": 6,
   "id": "5e987b53",
   "metadata": {},
   "outputs": [],
   "source": [
    "columns_to_drop = ['CUSTOMERINCOME', 'SECTOR', 'SUBSECTOR', 'SECURED_FLG', \n",
    "                   'PHYSICALADDRESS','MARITALSTATUS','DISB_DATE_3WK']\n",
    "detail.drop(columns=columns_to_drop, inplace=True)"
   ]
  },
  {
   "cell_type": "code",
   "execution_count": 7,
   "id": "8af3d1af",
   "metadata": {},
   "outputs": [
    {
     "data": {
      "text/html": [
       "<div>\n",
       "<style scoped>\n",
       "    .dataframe tbody tr th:only-of-type {\n",
       "        vertical-align: middle;\n",
       "    }\n",
       "\n",
       "    .dataframe tbody tr th {\n",
       "        vertical-align: top;\n",
       "    }\n",
       "\n",
       "    .dataframe thead th {\n",
       "        text-align: right;\n",
       "    }\n",
       "</style>\n",
       "<table border=\"1\" class=\"dataframe\">\n",
       "  <thead>\n",
       "    <tr style=\"text-align: right;\">\n",
       "      <th></th>\n",
       "      <th>CIF_ID</th>\n",
       "      <th>ACID</th>\n",
       "      <th>CUST_AGE</th>\n",
       "      <th>AGE_WITH_BANK</th>\n",
       "      <th>SEGMENTATION_CLASS</th>\n",
       "      <th>OTG_TRANSACTING</th>\n",
       "      <th>SCHM_CODE</th>\n",
       "      <th>SCHM_DESC</th>\n",
       "      <th>DIS_AMT</th>\n",
       "      <th>DISB_DATE</th>\n",
       "      <th>REP_PERD_MTHS</th>\n",
       "      <th>DPD_CNTR</th>\n",
       "      <th>FLOW_AMT</th>\n",
       "      <th>NO_OF_INSTALLMENTS</th>\n",
       "    </tr>\n",
       "  </thead>\n",
       "  <tbody>\n",
       "    <tr>\n",
       "      <th>10</th>\n",
       "      <td>0089464</td>\n",
       "      <td>IM21781204</td>\n",
       "      <td>47</td>\n",
       "      <td>9</td>\n",
       "      <td>BL03</td>\n",
       "      <td>N</td>\n",
       "      <td>LAL27</td>\n",
       "      <td>WORK PLACE BANKING FACILITY</td>\n",
       "      <td>2900000.0</td>\n",
       "      <td>27-JUN-23</td>\n",
       "      <td>60</td>\n",
       "      <td>0</td>\n",
       "      <td>137982.0</td>\n",
       "      <td>2</td>\n",
       "    </tr>\n",
       "  </tbody>\n",
       "</table>\n",
       "</div>"
      ],
      "text/plain": [
       "     CIF_ID        ACID  CUST_AGE  AGE_WITH_BANK SEGMENTATION_CLASS  \\\n",
       "10  0089464  IM21781204        47              9               BL03   \n",
       "\n",
       "   OTG_TRANSACTING SCHM_CODE                    SCHM_DESC   DIS_AMT  \\\n",
       "10               N     LAL27  WORK PLACE BANKING FACILITY 2900000.0   \n",
       "\n",
       "    DISB_DATE  REP_PERD_MTHS  DPD_CNTR  FLOW_AMT  NO_OF_INSTALLMENTS  \n",
       "10  27-JUN-23             60         0  137982.0                   2  "
      ]
     },
     "execution_count": 7,
     "metadata": {},
     "output_type": "execute_result"
    }
   ],
   "source": [
    "detail.sample()"
   ]
  },
  {
   "cell_type": "code",
   "execution_count": 8,
   "id": "e226e8fb",
   "metadata": {},
   "outputs": [],
   "source": [
    "# detail['FLOW_AMT'] == 0 are new loans and have not paid instalments on their loans yet \n",
    "detail = detail[~(detail['FLOW_AMT'] == 0)]\n"
   ]
  },
  {
   "cell_type": "code",
   "execution_count": 9,
   "id": "1dcb5d60",
   "metadata": {},
   "outputs": [
    {
     "name": "stdout",
     "output_type": "stream",
     "text": [
      "Number of 0's (DPD_CNTR < 60): 570\n",
      "Number of 1's (DPD_CNTR >= 60): 66\n"
     ]
    }
   ],
   "source": [
    "# Default on a loan has been described as 60 days past instalment payment date\n",
    "detail['DEFAULT_STATUS'] = (detail['DPD_CNTR'] >= 60).astype(int)\n",
    "default_status_counts = detail['DEFAULT_STATUS'].value_counts()\n",
    "\n",
    "print(\"Number of 0's (DPD_CNTR < 60):\", default_status_counts[0])\n",
    "print(\"Number of 1's (DPD_CNTR >= 60):\", default_status_counts[1])"
   ]
  },
  {
   "cell_type": "markdown",
   "id": "0a9885fe",
   "metadata": {},
   "source": [
    "## TRANSACTIONS"
   ]
  },
  {
   "cell_type": "code",
   "execution_count": 10,
   "id": "4567209a",
   "metadata": {},
   "outputs": [],
   "source": [
    "detail.drop('ACID', inplace=True,axis=1)\n",
    "trans.drop('ACID',inplace=True,axis=1)"
   ]
  },
  {
   "cell_type": "code",
   "execution_count": 11,
   "id": "9bc5d7c9",
   "metadata": {},
   "outputs": [
    {
     "data": {
      "text/html": [
       "<div>\n",
       "<style scoped>\n",
       "    .dataframe tbody tr th:only-of-type {\n",
       "        vertical-align: middle;\n",
       "    }\n",
       "\n",
       "    .dataframe tbody tr th {\n",
       "        vertical-align: top;\n",
       "    }\n",
       "\n",
       "    .dataframe thead th {\n",
       "        text-align: right;\n",
       "    }\n",
       "</style>\n",
       "<table border=\"1\" class=\"dataframe\">\n",
       "  <thead>\n",
       "    <tr style=\"text-align: right;\">\n",
       "      <th></th>\n",
       "      <th>CIF_ID</th>\n",
       "      <th>TRAN_ID</th>\n",
       "      <th>PART_TRAN_TYPE</th>\n",
       "      <th>TRAN_CRNCY_CODE</th>\n",
       "      <th>TRAN_DATE</th>\n",
       "      <th>ORIGINAL_AMOUNT</th>\n",
       "      <th>CONVERTED_AMOUNT</th>\n",
       "    </tr>\n",
       "  </thead>\n",
       "  <tbody>\n",
       "    <tr>\n",
       "      <th>285055</th>\n",
       "      <td>0021631</td>\n",
       "      <td>S76529</td>\n",
       "      <td>C</td>\n",
       "      <td>KES</td>\n",
       "      <td>07-JUN-23</td>\n",
       "      <td>300000.0</td>\n",
       "      <td>300000.0</td>\n",
       "    </tr>\n",
       "  </tbody>\n",
       "</table>\n",
       "</div>"
      ],
      "text/plain": [
       "         CIF_ID    TRAN_ID PART_TRAN_TYPE TRAN_CRNCY_CODE  TRAN_DATE  \\\n",
       "285055  0021631     S76529              C             KES  07-JUN-23   \n",
       "\n",
       "        ORIGINAL_AMOUNT  CONVERTED_AMOUNT  \n",
       "285055         300000.0          300000.0  "
      ]
     },
     "execution_count": 11,
     "metadata": {},
     "output_type": "execute_result"
    }
   ],
   "source": [
    "trans.sample()"
   ]
  },
  {
   "cell_type": "code",
   "execution_count": 12,
   "id": "cafe2664",
   "metadata": {},
   "outputs": [],
   "source": [
    "df_detail_trans = pd.merge(detail,trans,on='CIF_ID', how='left')"
   ]
  },
  {
   "cell_type": "code",
   "execution_count": 13,
   "id": "70d63abf",
   "metadata": {},
   "outputs": [],
   "source": [
    "# df_detail_trans.drop(['SEGMENTATION_CLASS', 'SCHM_CODE'], axis=1, inplace=True)"
   ]
  },
  {
   "cell_type": "code",
   "execution_count": 14,
   "id": "e7e3efd3",
   "metadata": {},
   "outputs": [
    {
     "data": {
      "text/plain": [
       "BL03    497\n",
       "BL05    139\n",
       "Name: SEGMENTATION_CLASS, dtype: int64"
      ]
     },
     "execution_count": 14,
     "metadata": {},
     "output_type": "execute_result"
    }
   ],
   "source": [
    "detail.SEGMENTATION_CLASS.value_counts()"
   ]
  },
  {
   "cell_type": "code",
   "execution_count": 15,
   "id": "b66fbb7e",
   "metadata": {},
   "outputs": [],
   "source": [
    "schm_code_counts = detail['SCHM_CODE'].value_counts()\n"
   ]
  },
  {
   "cell_type": "code",
   "execution_count": 16,
   "id": "c34d455d",
   "metadata": {
    "scrolled": false
   },
   "outputs": [],
   "source": [
    "# import plotly.express as px\n",
    "# fig = px.bar(schm_code_counts, x=schm_code_counts.index, y=schm_code_counts.values, \n",
    "#              labels={'SCHM_CODE': 'Scheme Code', 'count': 'Count'},\n",
    "#              title='Value Counts of Scheme Codes')\n",
    "\n",
    "# fig.show()"
   ]
  },
  {
   "cell_type": "code",
   "execution_count": 17,
   "id": "79a580e2",
   "metadata": {},
   "outputs": [
    {
     "data": {
      "text/plain": [
       "array([148, 145, 124, 106,  55,  46,   5,   4,   2,   1])"
      ]
     },
     "execution_count": 17,
     "metadata": {},
     "output_type": "execute_result"
    }
   ],
   "source": [
    "schm_code_counts.values"
   ]
  },
  {
   "cell_type": "code",
   "execution_count": 18,
   "id": "07de792b",
   "metadata": {},
   "outputs": [],
   "source": [
    "debit_trans = trans[trans['PART_TRAN_TYPE'] == 'D']\n",
    "credit_trans = trans[trans['PART_TRAN_TYPE'] == 'C']\n"
   ]
  },
  {
   "cell_type": "code",
   "execution_count": 19,
   "id": "bb935844",
   "metadata": {},
   "outputs": [
    {
     "data": {
      "text/plain": [
       "(150523, 7)"
      ]
     },
     "execution_count": 19,
     "metadata": {},
     "output_type": "execute_result"
    }
   ],
   "source": [
    "debit_trans.shape"
   ]
  },
  {
   "cell_type": "code",
   "execution_count": 20,
   "id": "ee6e1997",
   "metadata": {},
   "outputs": [],
   "source": [
    "credit_trans['UNIQUE_ID'] = [x + '_' + y for x,y in zip(credit_trans['CIF_ID'],credit_trans['TRAN_ID'])]\n",
    "debit_trans['UNIQUE_ID'] = [x + '_' + y for x,y in zip(debit_trans['CIF_ID'],debit_trans['TRAN_ID'])]\n",
    "credit_trans = credit_trans[~credit_trans['UNIQUE_ID'].isin(debit_trans['UNIQUE_ID'])]"
   ]
  },
  {
   "cell_type": "code",
   "execution_count": 21,
   "id": "84306854",
   "metadata": {},
   "outputs": [],
   "source": [
    "credit_trans.drop('UNIQUE_ID',inplace=True,axis=1)\n"
   ]
  },
  {
   "cell_type": "code",
   "execution_count": 22,
   "id": "c29e387c",
   "metadata": {},
   "outputs": [],
   "source": [
    "grouped_debits = debit_trans.groupby(['CIF_ID']).size().reset_index(name='DEBIT_COUNT')\n",
    "grouped_credits = credit_trans.groupby(['CIF_ID']).size().reset_index(name='CREDIT_COUNT')"
   ]
  },
  {
   "cell_type": "code",
   "execution_count": 23,
   "id": "08234a24",
   "metadata": {},
   "outputs": [
    {
     "data": {
      "text/plain": [
       "(533, 2)"
      ]
     },
     "execution_count": 23,
     "metadata": {},
     "output_type": "execute_result"
    }
   ],
   "source": [
    "grouped_debits.shape"
   ]
  },
  {
   "cell_type": "code",
   "execution_count": 24,
   "id": "3d19343e",
   "metadata": {},
   "outputs": [
    {
     "data": {
      "text/html": [
       "<div>\n",
       "<style scoped>\n",
       "    .dataframe tbody tr th:only-of-type {\n",
       "        vertical-align: middle;\n",
       "    }\n",
       "\n",
       "    .dataframe tbody tr th {\n",
       "        vertical-align: top;\n",
       "    }\n",
       "\n",
       "    .dataframe thead th {\n",
       "        text-align: right;\n",
       "    }\n",
       "</style>\n",
       "<table border=\"1\" class=\"dataframe\">\n",
       "  <thead>\n",
       "    <tr style=\"text-align: right;\">\n",
       "      <th></th>\n",
       "      <th>CIF_ID</th>\n",
       "      <th>DEBIT_COUNT</th>\n",
       "    </tr>\n",
       "  </thead>\n",
       "  <tbody>\n",
       "    <tr>\n",
       "      <th>233</th>\n",
       "      <td>0374977</td>\n",
       "      <td>184</td>\n",
       "    </tr>\n",
       "  </tbody>\n",
       "</table>\n",
       "</div>"
      ],
      "text/plain": [
       "      CIF_ID  DEBIT_COUNT\n",
       "233  0374977          184"
      ]
     },
     "execution_count": 24,
     "metadata": {},
     "output_type": "execute_result"
    }
   ],
   "source": [
    "grouped_debits.sample()"
   ]
  },
  {
   "cell_type": "code",
   "execution_count": 25,
   "id": "c57bdeac",
   "metadata": {},
   "outputs": [],
   "source": [
    "merged_df = grouped_debits.merge(grouped_credits, on=['CIF_ID'], how='left').fillna(0)"
   ]
  },
  {
   "cell_type": "code",
   "execution_count": 26,
   "id": "687064c0",
   "metadata": {},
   "outputs": [
    {
     "data": {
      "text/plain": [
       "(533, 3)"
      ]
     },
     "execution_count": 26,
     "metadata": {},
     "output_type": "execute_result"
    }
   ],
   "source": [
    "merged_df.shape"
   ]
  },
  {
   "cell_type": "code",
   "execution_count": 27,
   "id": "db7658a9",
   "metadata": {},
   "outputs": [
    {
     "data": {
      "text/html": [
       "<div>\n",
       "<style scoped>\n",
       "    .dataframe tbody tr th:only-of-type {\n",
       "        vertical-align: middle;\n",
       "    }\n",
       "\n",
       "    .dataframe tbody tr th {\n",
       "        vertical-align: top;\n",
       "    }\n",
       "\n",
       "    .dataframe thead th {\n",
       "        text-align: right;\n",
       "    }\n",
       "</style>\n",
       "<table border=\"1\" class=\"dataframe\">\n",
       "  <thead>\n",
       "    <tr style=\"text-align: right;\">\n",
       "      <th></th>\n",
       "      <th>CIF_ID</th>\n",
       "      <th>DEBIT_COUNT</th>\n",
       "      <th>CREDIT_COUNT</th>\n",
       "    </tr>\n",
       "  </thead>\n",
       "  <tbody>\n",
       "    <tr>\n",
       "      <th>442</th>\n",
       "      <td>0392766</td>\n",
       "      <td>22</td>\n",
       "      <td>7.0</td>\n",
       "    </tr>\n",
       "  </tbody>\n",
       "</table>\n",
       "</div>"
      ],
      "text/plain": [
       "      CIF_ID  DEBIT_COUNT  CREDIT_COUNT\n",
       "442  0392766           22           7.0"
      ]
     },
     "execution_count": 27,
     "metadata": {},
     "output_type": "execute_result"
    }
   ],
   "source": [
    "merged_df.sample()"
   ]
  },
  {
   "cell_type": "code",
   "execution_count": 28,
   "id": "13a72f61",
   "metadata": {},
   "outputs": [],
   "source": [
    "pd.set_option('display.float_format', '{:.1f}'.format)\n",
    "merged_df['DEBIT_CREDIT_COUNT_RATIO_3weeks'] = merged_df['DEBIT_COUNT'] / merged_df['CREDIT_COUNT'].replace(0, 1)\n"
   ]
  },
  {
   "cell_type": "code",
   "execution_count": 29,
   "id": "7bff74ea",
   "metadata": {},
   "outputs": [
    {
     "data": {
      "text/html": [
       "<div>\n",
       "<style scoped>\n",
       "    .dataframe tbody tr th:only-of-type {\n",
       "        vertical-align: middle;\n",
       "    }\n",
       "\n",
       "    .dataframe tbody tr th {\n",
       "        vertical-align: top;\n",
       "    }\n",
       "\n",
       "    .dataframe thead th {\n",
       "        text-align: right;\n",
       "    }\n",
       "</style>\n",
       "<table border=\"1\" class=\"dataframe\">\n",
       "  <thead>\n",
       "    <tr style=\"text-align: right;\">\n",
       "      <th></th>\n",
       "      <th>CIF_ID</th>\n",
       "      <th>DEBIT_COUNT</th>\n",
       "      <th>CREDIT_COUNT</th>\n",
       "      <th>DEBIT_CREDIT_COUNT_RATIO_3weeks</th>\n",
       "    </tr>\n",
       "  </thead>\n",
       "  <tbody>\n",
       "    <tr>\n",
       "      <th>14</th>\n",
       "      <td>0045484</td>\n",
       "      <td>107</td>\n",
       "      <td>40.0</td>\n",
       "      <td>2.7</td>\n",
       "    </tr>\n",
       "  </tbody>\n",
       "</table>\n",
       "</div>"
      ],
      "text/plain": [
       "     CIF_ID  DEBIT_COUNT  CREDIT_COUNT  DEBIT_CREDIT_COUNT_RATIO_3weeks\n",
       "14  0045484          107          40.0                              2.7"
      ]
     },
     "execution_count": 29,
     "metadata": {},
     "output_type": "execute_result"
    }
   ],
   "source": [
    "merged_df.sample()"
   ]
  },
  {
   "cell_type": "code",
   "execution_count": 30,
   "id": "e8dd872b",
   "metadata": {},
   "outputs": [],
   "source": [
    "summary_df = merged_df.groupby('CIF_ID')['DEBIT_CREDIT_COUNT_RATIO_3weeks'].agg(['mean', 'median']).reset_index()\n",
    "summary_df.rename(columns={'mean': 'AVG_DEBIT_CREDIT_COUNT_RATIO', 'median': 'MEDIAN_DEBIT_CREDIT_COUNT_RATIO'}, inplace=True)\n"
   ]
  },
  {
   "cell_type": "code",
   "execution_count": 31,
   "id": "61507823",
   "metadata": {},
   "outputs": [
    {
     "data": {
      "text/html": [
       "<div>\n",
       "<style scoped>\n",
       "    .dataframe tbody tr th:only-of-type {\n",
       "        vertical-align: middle;\n",
       "    }\n",
       "\n",
       "    .dataframe tbody tr th {\n",
       "        vertical-align: top;\n",
       "    }\n",
       "\n",
       "    .dataframe thead th {\n",
       "        text-align: right;\n",
       "    }\n",
       "</style>\n",
       "<table border=\"1\" class=\"dataframe\">\n",
       "  <thead>\n",
       "    <tr style=\"text-align: right;\">\n",
       "      <th></th>\n",
       "      <th>CIF_ID</th>\n",
       "      <th>AVG_DEBIT_CREDIT_COUNT_RATIO</th>\n",
       "      <th>MEDIAN_DEBIT_CREDIT_COUNT_RATIO</th>\n",
       "    </tr>\n",
       "  </thead>\n",
       "  <tbody>\n",
       "    <tr>\n",
       "      <th>23</th>\n",
       "      <td>0057586</td>\n",
       "      <td>9.3</td>\n",
       "      <td>9.3</td>\n",
       "    </tr>\n",
       "  </tbody>\n",
       "</table>\n",
       "</div>"
      ],
      "text/plain": [
       "     CIF_ID  AVG_DEBIT_CREDIT_COUNT_RATIO  MEDIAN_DEBIT_CREDIT_COUNT_RATIO\n",
       "23  0057586                           9.3                              9.3"
      ]
     },
     "execution_count": 31,
     "metadata": {},
     "output_type": "execute_result"
    }
   ],
   "source": [
    "summary_df.sample()"
   ]
  },
  {
   "cell_type": "code",
   "execution_count": 32,
   "id": "beb30a6d",
   "metadata": {},
   "outputs": [
    {
     "data": {
      "text/plain": [
       "(533, 3)"
      ]
     },
     "execution_count": 32,
     "metadata": {},
     "output_type": "execute_result"
    }
   ],
   "source": [
    "summary_df.shape"
   ]
  },
  {
   "cell_type": "code",
   "execution_count": 33,
   "id": "30e5b0a7",
   "metadata": {},
   "outputs": [],
   "source": [
    "trans_cr = trans[trans['PART_TRAN_TYPE'] == 'C']\n",
    "trans_dr = trans[trans['PART_TRAN_TYPE'] == 'D']"
   ]
  },
  {
   "cell_type": "code",
   "execution_count": 34,
   "id": "7dc27d26",
   "metadata": {},
   "outputs": [],
   "source": [
    "trans_cr['UNIQUE_ID'] = [x + '_' + y for x,y in zip(trans_cr['CIF_ID'],trans_cr['TRAN_ID'])]\n",
    "trans_dr['UNIQUE_ID'] = [x + '_' + y for x,y in zip(trans_dr['CIF_ID'],trans_dr['TRAN_ID'])]\n",
    "trans_cr = trans_cr[~trans_cr['UNIQUE_ID'].isin(trans_dr['UNIQUE_ID'])]"
   ]
  },
  {
   "cell_type": "code",
   "execution_count": 35,
   "id": "2c29f62d",
   "metadata": {},
   "outputs": [],
   "source": [
    "trans_cr.drop('UNIQUE_ID',inplace=True,axis=1)\n",
    "trans_dr.drop('UNIQUE_ID',inplace=True,axis=1)"
   ]
  },
  {
   "cell_type": "code",
   "execution_count": 36,
   "id": "51090263",
   "metadata": {},
   "outputs": [
    {
     "data": {
      "text/plain": [
       "(150523, 7)"
      ]
     },
     "execution_count": 36,
     "metadata": {},
     "output_type": "execute_result"
    }
   ],
   "source": [
    "trans_dr.shape"
   ]
  },
  {
   "cell_type": "code",
   "execution_count": 37,
   "id": "17a1d818",
   "metadata": {},
   "outputs": [
    {
     "data": {
      "text/html": [
       "<div>\n",
       "<style scoped>\n",
       "    .dataframe tbody tr th:only-of-type {\n",
       "        vertical-align: middle;\n",
       "    }\n",
       "\n",
       "    .dataframe tbody tr th {\n",
       "        vertical-align: top;\n",
       "    }\n",
       "\n",
       "    .dataframe thead th {\n",
       "        text-align: right;\n",
       "    }\n",
       "</style>\n",
       "<table border=\"1\" class=\"dataframe\">\n",
       "  <thead>\n",
       "    <tr style=\"text-align: right;\">\n",
       "      <th></th>\n",
       "      <th>CIF_ID</th>\n",
       "      <th>CUST_AGE</th>\n",
       "      <th>AGE_WITH_BANK</th>\n",
       "      <th>SEGMENTATION_CLASS</th>\n",
       "      <th>OTG_TRANSACTING</th>\n",
       "      <th>SCHM_CODE</th>\n",
       "      <th>SCHM_DESC</th>\n",
       "      <th>DIS_AMT</th>\n",
       "      <th>DISB_DATE</th>\n",
       "      <th>REP_PERD_MTHS</th>\n",
       "      <th>DPD_CNTR</th>\n",
       "      <th>FLOW_AMT</th>\n",
       "      <th>NO_OF_INSTALLMENTS</th>\n",
       "      <th>DEFAULT_STATUS</th>\n",
       "    </tr>\n",
       "  </thead>\n",
       "  <tbody>\n",
       "    <tr>\n",
       "      <th>561</th>\n",
       "      <td>0391890</td>\n",
       "      <td>50</td>\n",
       "      <td>0</td>\n",
       "      <td>BL03</td>\n",
       "      <td>N</td>\n",
       "      <td>LAL32</td>\n",
       "      <td>GOVERNMENT SCHEME WORK PLACE BANKING FACILITY</td>\n",
       "      <td>1625000.0</td>\n",
       "      <td>06-APR-23</td>\n",
       "      <td>84</td>\n",
       "      <td>0</td>\n",
       "      <td>58683.3</td>\n",
       "      <td>2</td>\n",
       "      <td>0</td>\n",
       "    </tr>\n",
       "  </tbody>\n",
       "</table>\n",
       "</div>"
      ],
      "text/plain": [
       "      CIF_ID  CUST_AGE  AGE_WITH_BANK SEGMENTATION_CLASS OTG_TRANSACTING  \\\n",
       "561  0391890        50              0               BL03               N   \n",
       "\n",
       "    SCHM_CODE                                      SCHM_DESC   DIS_AMT  \\\n",
       "561     LAL32  GOVERNMENT SCHEME WORK PLACE BANKING FACILITY 1625000.0   \n",
       "\n",
       "     DISB_DATE  REP_PERD_MTHS  DPD_CNTR  FLOW_AMT  NO_OF_INSTALLMENTS  \\\n",
       "561  06-APR-23             84         0   58683.3                   2   \n",
       "\n",
       "     DEFAULT_STATUS  \n",
       "561               0  "
      ]
     },
     "execution_count": 37,
     "metadata": {},
     "output_type": "execute_result"
    }
   ],
   "source": [
    "detail.sample()"
   ]
  },
  {
   "cell_type": "code",
   "execution_count": 38,
   "id": "c494237e",
   "metadata": {},
   "outputs": [],
   "source": [
    "trans_cr = pd.merge(trans_cr,detail[['CIF_ID']],\n",
    "                   how='left',on='CIF_ID')\n",
    "trans_dr = pd.merge(trans_dr,detail[['CIF_ID']],\n",
    "                   how='left',on='CIF_ID')"
   ]
  },
  {
   "cell_type": "code",
   "execution_count": null,
   "id": "a7034849",
   "metadata": {},
   "outputs": [],
   "source": []
  },
  {
   "cell_type": "markdown",
   "id": "7a0cb340",
   "metadata": {},
   "source": [
    "## CREDIT AGGREGATIONS"
   ]
  },
  {
   "cell_type": "code",
   "execution_count": 39,
   "id": "20b848f2",
   "metadata": {},
   "outputs": [
    {
     "data": {
      "text/plain": [
       "(620463, 7)"
      ]
     },
     "execution_count": 39,
     "metadata": {},
     "output_type": "execute_result"
    }
   ],
   "source": [
    "trans_cr.shape"
   ]
  },
  {
   "cell_type": "code",
   "execution_count": 40,
   "id": "1e031bf4",
   "metadata": {},
   "outputs": [
    {
     "data": {
      "text/html": [
       "<div>\n",
       "<style scoped>\n",
       "    .dataframe tbody tr th:only-of-type {\n",
       "        vertical-align: middle;\n",
       "    }\n",
       "\n",
       "    .dataframe tbody tr th {\n",
       "        vertical-align: top;\n",
       "    }\n",
       "\n",
       "    .dataframe thead th {\n",
       "        text-align: right;\n",
       "    }\n",
       "</style>\n",
       "<table border=\"1\" class=\"dataframe\">\n",
       "  <thead>\n",
       "    <tr style=\"text-align: right;\">\n",
       "      <th></th>\n",
       "      <th>CIF_ID</th>\n",
       "      <th>Credit_sum</th>\n",
       "      <th>Credit_count</th>\n",
       "      <th>Credit_median</th>\n",
       "      <th>Credit_mean</th>\n",
       "      <th>min_cred_amt_3_weeks</th>\n",
       "      <th>max_cred_amt_3_weeks</th>\n",
       "    </tr>\n",
       "  </thead>\n",
       "  <tbody>\n",
       "    <tr>\n",
       "      <th>310</th>\n",
       "      <td>0381116</td>\n",
       "      <td>805744.0</td>\n",
       "      <td>7</td>\n",
       "      <td>31635.0</td>\n",
       "      <td>115106.3</td>\n",
       "      <td>1000.0</td>\n",
       "      <td>616393.4</td>\n",
       "    </tr>\n",
       "    <tr>\n",
       "      <th>82</th>\n",
       "      <td>0130645</td>\n",
       "      <td>33365323.1</td>\n",
       "      <td>83</td>\n",
       "      <td>200000.0</td>\n",
       "      <td>401991.8</td>\n",
       "      <td>10.0</td>\n",
       "      <td>12500000.0</td>\n",
       "    </tr>\n",
       "    <tr>\n",
       "      <th>358</th>\n",
       "      <td>0385181</td>\n",
       "      <td>1081374.0</td>\n",
       "      <td>5</td>\n",
       "      <td>59925.0</td>\n",
       "      <td>216274.8</td>\n",
       "      <td>47436.0</td>\n",
       "      <td>852200.0</td>\n",
       "    </tr>\n",
       "    <tr>\n",
       "      <th>494</th>\n",
       "      <td>0399485</td>\n",
       "      <td>453002.0</td>\n",
       "      <td>4</td>\n",
       "      <td>39360.5</td>\n",
       "      <td>113250.5</td>\n",
       "      <td>23973.0</td>\n",
       "      <td>350308.0</td>\n",
       "    </tr>\n",
       "  </tbody>\n",
       "</table>\n",
       "</div>"
      ],
      "text/plain": [
       "      CIF_ID  Credit_sum  Credit_count  Credit_median  Credit_mean  \\\n",
       "310  0381116    805744.0             7        31635.0     115106.3   \n",
       "82   0130645  33365323.1            83       200000.0     401991.8   \n",
       "358  0385181   1081374.0             5        59925.0     216274.8   \n",
       "494  0399485    453002.0             4        39360.5     113250.5   \n",
       "\n",
       "     min_cred_amt_3_weeks  max_cred_amt_3_weeks  \n",
       "310                1000.0              616393.4  \n",
       "82                   10.0            12500000.0  \n",
       "358               47436.0              852200.0  \n",
       "494               23973.0              350308.0  "
      ]
     },
     "execution_count": 40,
     "metadata": {},
     "output_type": "execute_result"
    }
   ],
   "source": [
    "grouped_cr_weekly = trans_cr.groupby(['CIF_ID']).agg({\n",
    "    'CONVERTED_AMOUNT': ['sum', 'count','median','mean','min','max']\n",
    "}).reset_index()\n",
    "grouped_cr_weekly.columns = ['_'.join(col).strip() for col in grouped_cr_weekly.columns.values]\n",
    "grouped_cr_weekly.rename(columns={'CIF_ID_': 'CIF_ID','CONVERTED_AMOUNT_sum':'Credit_sum' ,\n",
    "                                 'CONVERTED_AMOUNT_count':'Credit_count', 'CONVERTED_AMOUNT_median':'Credit_median',\n",
    "                                 'CONVERTED_AMOUNT_mean':'Credit_mean', 'CONVERTED_AMOUNT_min': 'min_cred_amt_3_weeks',\n",
    "                            'CONVERTED_AMOUNT_max': 'max_cred_amt_3_weeks'}, inplace=True)\n",
    "\n",
    "grouped_cr_weekly.sample(4)"
   ]
  },
  {
   "cell_type": "code",
   "execution_count": 41,
   "id": "424f16ce",
   "metadata": {},
   "outputs": [
    {
     "data": {
      "text/plain": [
       "(532, 7)"
      ]
     },
     "execution_count": 41,
     "metadata": {},
     "output_type": "execute_result"
    }
   ],
   "source": [
    "grouped_cr_weekly.shape"
   ]
  },
  {
   "cell_type": "code",
   "execution_count": 42,
   "id": "4bec9c85",
   "metadata": {},
   "outputs": [],
   "source": [
    "grouped_cr_weekly.drop_duplicates(keep='first',inplace=True)"
   ]
  },
  {
   "cell_type": "code",
   "execution_count": 43,
   "id": "935600d1",
   "metadata": {},
   "outputs": [
    {
     "data": {
      "text/plain": [
       "(532, 7)"
      ]
     },
     "execution_count": 43,
     "metadata": {},
     "output_type": "execute_result"
    }
   ],
   "source": [
    "grouped_cr_weekly.shape"
   ]
  },
  {
   "cell_type": "markdown",
   "id": "0a3a666d",
   "metadata": {},
   "source": [
    "## DEBIT AGGREGATIONS"
   ]
  },
  {
   "cell_type": "code",
   "execution_count": 44,
   "id": "64437d27",
   "metadata": {},
   "outputs": [
    {
     "data": {
      "text/html": [
       "<div>\n",
       "<style scoped>\n",
       "    .dataframe tbody tr th:only-of-type {\n",
       "        vertical-align: middle;\n",
       "    }\n",
       "\n",
       "    .dataframe tbody tr th {\n",
       "        vertical-align: top;\n",
       "    }\n",
       "\n",
       "    .dataframe thead th {\n",
       "        text-align: right;\n",
       "    }\n",
       "</style>\n",
       "<table border=\"1\" class=\"dataframe\">\n",
       "  <thead>\n",
       "    <tr style=\"text-align: right;\">\n",
       "      <th></th>\n",
       "      <th>CIF_ID</th>\n",
       "      <th>Debit_sum</th>\n",
       "      <th>Debit_count</th>\n",
       "      <th>Debit_mean</th>\n",
       "      <th>Debit_median</th>\n",
       "      <th>min_debit_amt_3_weeks</th>\n",
       "      <th>max_debit_amt_3_weeks</th>\n",
       "    </tr>\n",
       "  </thead>\n",
       "  <tbody>\n",
       "    <tr>\n",
       "      <th>270</th>\n",
       "      <td>0379109</td>\n",
       "      <td>244175.0</td>\n",
       "      <td>26</td>\n",
       "      <td>9391.3</td>\n",
       "      <td>338.5</td>\n",
       "      <td>2.5</td>\n",
       "      <td>89861.5</td>\n",
       "    </tr>\n",
       "  </tbody>\n",
       "</table>\n",
       "</div>"
      ],
      "text/plain": [
       "      CIF_ID  Debit_sum  Debit_count  Debit_mean  Debit_median  \\\n",
       "270  0379109   244175.0           26      9391.3         338.5   \n",
       "\n",
       "     min_debit_amt_3_weeks  max_debit_amt_3_weeks  \n",
       "270                    2.5                89861.5  "
      ]
     },
     "execution_count": 44,
     "metadata": {},
     "output_type": "execute_result"
    }
   ],
   "source": [
    "grouped_dr_weekly = trans_dr.groupby(['CIF_ID']).agg({\n",
    "    'CONVERTED_AMOUNT': ['sum', 'count', 'mean','median','min','max']\n",
    "}).reset_index()\n",
    "grouped_dr_weekly.columns = ['_'.join(col).strip() for col in grouped_dr_weekly.columns.values]\n",
    "grouped_dr_weekly.rename(columns={'CIF_ID_': 'CIF_ID','CONVERTED_AMOUNT_sum':'Debit_sum', \n",
    "                                 'CONVERTED_AMOUNT_count': 'Debit_count', 'CONVERTED_AMOUNT_mean':'Debit_mean',\n",
    "                                 'CONVERTED_AMOUNT_median':'Debit_median','CONVERTED_AMOUNT_min': 'min_debit_amt_3_weeks',\n",
    "                            'CONVERTED_AMOUNT_max': 'max_debit_amt_3_weeks'}, inplace=True)\n",
    "\n",
    "grouped_dr_weekly.sample()"
   ]
  },
  {
   "cell_type": "code",
   "execution_count": 45,
   "id": "fab21d3a",
   "metadata": {},
   "outputs": [
    {
     "data": {
      "text/plain": [
       "(533, 7)"
      ]
     },
     "execution_count": 45,
     "metadata": {},
     "output_type": "execute_result"
    }
   ],
   "source": [
    "grouped_dr_weekly.shape"
   ]
  },
  {
   "cell_type": "code",
   "execution_count": 46,
   "id": "1c0da0bd",
   "metadata": {},
   "outputs": [],
   "source": [
    "grouped_dr_weekly.drop_duplicates(keep='first',inplace=True)"
   ]
  },
  {
   "cell_type": "code",
   "execution_count": 47,
   "id": "a24ec4a1",
   "metadata": {},
   "outputs": [
    {
     "data": {
      "text/plain": [
       "(533, 7)"
      ]
     },
     "execution_count": 47,
     "metadata": {},
     "output_type": "execute_result"
    }
   ],
   "source": [
    "grouped_dr_weekly.shape"
   ]
  },
  {
   "cell_type": "markdown",
   "id": "f340e582",
   "metadata": {},
   "source": [
    "## End of Day Balances(EOD)"
   ]
  },
  {
   "cell_type": "code",
   "execution_count": 48,
   "id": "6ed96ea4",
   "metadata": {},
   "outputs": [
    {
     "data": {
      "text/plain": [
       "Index(['CIF_ID', 'EOD_DATE', 'TRAN_DATE_BAL'], dtype='object')"
      ]
     },
     "execution_count": 48,
     "metadata": {},
     "output_type": "execute_result"
    }
   ],
   "source": [
    "eod.columns"
   ]
  },
  {
   "cell_type": "code",
   "execution_count": 49,
   "id": "135408ca",
   "metadata": {},
   "outputs": [
    {
     "data": {
      "text/html": [
       "<div>\n",
       "<style scoped>\n",
       "    .dataframe tbody tr th:only-of-type {\n",
       "        vertical-align: middle;\n",
       "    }\n",
       "\n",
       "    .dataframe tbody tr th {\n",
       "        vertical-align: top;\n",
       "    }\n",
       "\n",
       "    .dataframe thead th {\n",
       "        text-align: right;\n",
       "    }\n",
       "</style>\n",
       "<table border=\"1\" class=\"dataframe\">\n",
       "  <thead>\n",
       "    <tr style=\"text-align: right;\">\n",
       "      <th></th>\n",
       "      <th>CIF_ID</th>\n",
       "      <th>EOD_DATE</th>\n",
       "      <th>TRAN_DATE_BAL</th>\n",
       "    </tr>\n",
       "  </thead>\n",
       "  <tbody>\n",
       "    <tr>\n",
       "      <th>131</th>\n",
       "      <td>0374086</td>\n",
       "      <td>24-NOV-22</td>\n",
       "      <td>344.2</td>\n",
       "    </tr>\n",
       "  </tbody>\n",
       "</table>\n",
       "</div>"
      ],
      "text/plain": [
       "      CIF_ID   EOD_DATE  TRAN_DATE_BAL\n",
       "131  0374086  24-NOV-22          344.2"
      ]
     },
     "execution_count": 49,
     "metadata": {},
     "output_type": "execute_result"
    }
   ],
   "source": [
    "eod.sample()"
   ]
  },
  {
   "cell_type": "code",
   "execution_count": 50,
   "id": "6f022e31",
   "metadata": {},
   "outputs": [],
   "source": [
    "eod['EOD_DATE'] = pd.to_datetime(eod['EOD_DATE'])\n",
    "\n",
    "# eod['TRAN_WEEK'] = eod['EOD_DATE'].dt.strftime('%U')\n",
    "\n"
   ]
  },
  {
   "cell_type": "code",
   "execution_count": 51,
   "id": "cd6241c7",
   "metadata": {},
   "outputs": [],
   "source": [
    "grouped_eod_weekly = eod.groupby(['CIF_ID']).agg({'TRAN_DATE_BAL': ['mean', 'median']}).reset_index()\n",
    "grouped_eod_weekly.columns = ['_'.join(col).strip() for col in grouped_eod_weekly.columns.values]\n",
    "grouped_eod_weekly.rename(columns={'CIF_ID_': 'CIF_ID'}, inplace=True)\n",
    "\n",
    "grouped_eod_mean_median = grouped_eod_weekly.groupby('CIF_ID').agg({\n",
    "    'TRAN_DATE_BAL_mean': ['mean', 'median']\n",
    "}).reset_index()\n",
    "grouped_eod_mean_median.columns = ['_'.join(col).strip() for col in grouped_eod_mean_median.columns.values]\n",
    "\n",
    "grouped_eod_mean_median.rename(columns={\n",
    "    'CIF_ID_': 'CIF_ID',\n",
    "    'TRAN_DATE_BAL_mean_mean': 'avg_eod_bal_3_weeks',\n",
    "    'TRAN_DATE_BAL_mean_median': 'median_eod_bal_3_weeks'\n",
    "}, inplace=True)"
   ]
  },
  {
   "cell_type": "code",
   "execution_count": 52,
   "id": "cdcba1b0",
   "metadata": {},
   "outputs": [
    {
     "data": {
      "text/plain": [
       "(679, 3)"
      ]
     },
     "execution_count": 52,
     "metadata": {},
     "output_type": "execute_result"
    }
   ],
   "source": [
    "grouped_eod_mean_median.shape"
   ]
  },
  {
   "cell_type": "code",
   "execution_count": 53,
   "id": "50d5f8da",
   "metadata": {},
   "outputs": [
    {
     "data": {
      "text/html": [
       "<div>\n",
       "<style scoped>\n",
       "    .dataframe tbody tr th:only-of-type {\n",
       "        vertical-align: middle;\n",
       "    }\n",
       "\n",
       "    .dataframe tbody tr th {\n",
       "        vertical-align: top;\n",
       "    }\n",
       "\n",
       "    .dataframe thead th {\n",
       "        text-align: right;\n",
       "    }\n",
       "</style>\n",
       "<table border=\"1\" class=\"dataframe\">\n",
       "  <thead>\n",
       "    <tr style=\"text-align: right;\">\n",
       "      <th></th>\n",
       "      <th>CIF_ID</th>\n",
       "      <th>avg_eod_bal_3_weeks</th>\n",
       "      <th>median_eod_bal_3_weeks</th>\n",
       "    </tr>\n",
       "  </thead>\n",
       "  <tbody>\n",
       "    <tr>\n",
       "      <th>188</th>\n",
       "      <td>0311390</td>\n",
       "      <td>3046862.0</td>\n",
       "      <td>3046862.0</td>\n",
       "    </tr>\n",
       "  </tbody>\n",
       "</table>\n",
       "</div>"
      ],
      "text/plain": [
       "      CIF_ID  avg_eod_bal_3_weeks  median_eod_bal_3_weeks\n",
       "188  0311390            3046862.0               3046862.0"
      ]
     },
     "execution_count": 53,
     "metadata": {},
     "output_type": "execute_result"
    }
   ],
   "source": [
    "grouped_eod_mean_median.sample()"
   ]
  },
  {
   "cell_type": "markdown",
   "id": "6df8c2f9",
   "metadata": {},
   "source": [
    "## Loan and Non Loan "
   ]
  },
  {
   "cell_type": "code",
   "execution_count": 54,
   "id": "32bc864d",
   "metadata": {},
   "outputs": [],
   "source": [
    "loan = loan.rename(columns={'LOAN_ACCOUNTS': 'no_of_loan_accounts'})"
   ]
  },
  {
   "cell_type": "code",
   "execution_count": null,
   "id": "783cbe5d",
   "metadata": {},
   "outputs": [],
   "source": []
  },
  {
   "cell_type": "code",
   "execution_count": 55,
   "id": "7ace8666",
   "metadata": {},
   "outputs": [
    {
     "data": {
      "text/plain": [
       "Index(['CIF_ID', 'no_of_loan_accounts'], dtype='object')"
      ]
     },
     "execution_count": 55,
     "metadata": {},
     "output_type": "execute_result"
    }
   ],
   "source": [
    "loan.columns"
   ]
  },
  {
   "cell_type": "code",
   "execution_count": 56,
   "id": "b3ff6a6e",
   "metadata": {},
   "outputs": [
    {
     "data": {
      "text/html": [
       "<div>\n",
       "<style scoped>\n",
       "    .dataframe tbody tr th:only-of-type {\n",
       "        vertical-align: middle;\n",
       "    }\n",
       "\n",
       "    .dataframe tbody tr th {\n",
       "        vertical-align: top;\n",
       "    }\n",
       "\n",
       "    .dataframe thead th {\n",
       "        text-align: right;\n",
       "    }\n",
       "</style>\n",
       "<table border=\"1\" class=\"dataframe\">\n",
       "  <thead>\n",
       "    <tr style=\"text-align: right;\">\n",
       "      <th></th>\n",
       "      <th>CIF_ID</th>\n",
       "      <th>no_of_loan_accounts</th>\n",
       "    </tr>\n",
       "  </thead>\n",
       "  <tbody>\n",
       "    <tr>\n",
       "      <th>334</th>\n",
       "      <td>0382534</td>\n",
       "      <td>1</td>\n",
       "    </tr>\n",
       "  </tbody>\n",
       "</table>\n",
       "</div>"
      ],
      "text/plain": [
       "      CIF_ID  no_of_loan_accounts\n",
       "334  0382534                    1"
      ]
     },
     "execution_count": 56,
     "metadata": {},
     "output_type": "execute_result"
    }
   ],
   "source": [
    "loan.sample()"
   ]
  },
  {
   "cell_type": "code",
   "execution_count": 57,
   "id": "2165324e",
   "metadata": {},
   "outputs": [
    {
     "data": {
      "text/plain": [
       "CIF_ID                 0\n",
       "no_of_loan_accounts    0\n",
       "dtype: int64"
      ]
     },
     "execution_count": 57,
     "metadata": {},
     "output_type": "execute_result"
    }
   ],
   "source": [
    "loan.isna().sum()"
   ]
  },
  {
   "cell_type": "code",
   "execution_count": 58,
   "id": "2aaf2407",
   "metadata": {},
   "outputs": [],
   "source": [
    "non_loan = non_loan.rename(columns={'NO_OF_NON_LOAN_ACCOUNTS': 'no_of_non_loan_accounts'})"
   ]
  },
  {
   "cell_type": "code",
   "execution_count": 59,
   "id": "6fb4cdf7",
   "metadata": {},
   "outputs": [],
   "source": [
    "loans_df = pd.merge(loan,non_loan,how='left', on='CIF_ID')"
   ]
  },
  {
   "cell_type": "code",
   "execution_count": 60,
   "id": "0f5d8de9",
   "metadata": {},
   "outputs": [],
   "source": [
    "loans_df.fillna(0, inplace=True)"
   ]
  },
  {
   "cell_type": "code",
   "execution_count": 61,
   "id": "9e3da109",
   "metadata": {},
   "outputs": [],
   "source": [
    "loans_df.drop_duplicates(keep='first', inplace=True)"
   ]
  },
  {
   "cell_type": "code",
   "execution_count": 62,
   "id": "82b6c27d",
   "metadata": {},
   "outputs": [
    {
     "data": {
      "text/plain": [
       "Index(['CIF_ID', 'no_of_loan_accounts', 'no_of_non_loan_accounts'], dtype='object')"
      ]
     },
     "execution_count": 62,
     "metadata": {},
     "output_type": "execute_result"
    }
   ],
   "source": [
    "loans_df.columns"
   ]
  },
  {
   "cell_type": "markdown",
   "id": "8763ae3f",
   "metadata": {},
   "source": [
    "## OTG"
   ]
  },
  {
   "cell_type": "code",
   "execution_count": 63,
   "id": "bad426b2",
   "metadata": {},
   "outputs": [
    {
     "data": {
      "text/html": [
       "<div>\n",
       "<style scoped>\n",
       "    .dataframe tbody tr th:only-of-type {\n",
       "        vertical-align: middle;\n",
       "    }\n",
       "\n",
       "    .dataframe tbody tr th {\n",
       "        vertical-align: top;\n",
       "    }\n",
       "\n",
       "    .dataframe thead th {\n",
       "        text-align: right;\n",
       "    }\n",
       "</style>\n",
       "<table border=\"1\" class=\"dataframe\">\n",
       "  <thead>\n",
       "    <tr style=\"text-align: right;\">\n",
       "      <th></th>\n",
       "      <th>CIF_ID</th>\n",
       "      <th>TRAN_ID</th>\n",
       "      <th>DISB_DATE</th>\n",
       "      <th>TRAN_DATE</th>\n",
       "      <th>TRAN_MONTH</th>\n",
       "      <th>TRAN_AMOUNT</th>\n",
       "    </tr>\n",
       "  </thead>\n",
       "  <tbody>\n",
       "    <tr>\n",
       "      <th>1230</th>\n",
       "      <td>0361796</td>\n",
       "      <td>S47426</td>\n",
       "      <td>05-APR-23</td>\n",
       "      <td>22-APR-23</td>\n",
       "      <td>APR-23</td>\n",
       "      <td>1000.0</td>\n",
       "    </tr>\n",
       "  </tbody>\n",
       "</table>\n",
       "</div>"
      ],
      "text/plain": [
       "       CIF_ID TRAN_ID  DISB_DATE  TRAN_DATE TRAN_MONTH  TRAN_AMOUNT\n",
       "1230  0361796  S47426  05-APR-23  22-APR-23     APR-23       1000.0"
      ]
     },
     "execution_count": 63,
     "metadata": {},
     "output_type": "execute_result"
    }
   ],
   "source": [
    "otg.sample()"
   ]
  },
  {
   "cell_type": "code",
   "execution_count": 64,
   "id": "8ca76efa",
   "metadata": {},
   "outputs": [
    {
     "data": {
      "text/plain": [
       "(6671, 6)"
      ]
     },
     "execution_count": 64,
     "metadata": {},
     "output_type": "execute_result"
    }
   ],
   "source": [
    "otg.shape"
   ]
  },
  {
   "cell_type": "code",
   "execution_count": 65,
   "id": "7e9568fe",
   "metadata": {},
   "outputs": [],
   "source": [
    "otg_unique = otg.groupby(['CIF_ID']).agg({\n",
    "    'TRAN_AMOUNT': ['sum', 'count', 'mean','median','min','max']\n",
    "}).reset_index()\n",
    "otg_unique.columns = ['_'.join(col).strip() for col in otg_unique.columns.values]\n",
    "otg_unique.rename(columns={'CIF_ID_': 'CIF_ID','TRAN_AMOUNT_sum':'OTG_trans_sum', \n",
    "                                 'TRAN_AMOUNT_count': 'OTG_trans_count', 'TRAN_AMOUNT_mean':'OTG_trans_mean',\n",
    "                                 'TRAN_AMOUNT_median':'OTG_trans_median','TRAN_AMOUNT_min': 'min_otgcred_amt',\n",
    "                            'TRAN_AMOUNT_max': 'max_otgcred_amt'}, inplace=True)\n"
   ]
  },
  {
   "cell_type": "code",
   "execution_count": 66,
   "id": "a0b2e838",
   "metadata": {},
   "outputs": [
    {
     "data": {
      "text/html": [
       "<div>\n",
       "<style scoped>\n",
       "    .dataframe tbody tr th:only-of-type {\n",
       "        vertical-align: middle;\n",
       "    }\n",
       "\n",
       "    .dataframe tbody tr th {\n",
       "        vertical-align: top;\n",
       "    }\n",
       "\n",
       "    .dataframe thead th {\n",
       "        text-align: right;\n",
       "    }\n",
       "</style>\n",
       "<table border=\"1\" class=\"dataframe\">\n",
       "  <thead>\n",
       "    <tr style=\"text-align: right;\">\n",
       "      <th></th>\n",
       "      <th>CIF_ID</th>\n",
       "      <th>OTG_trans_sum</th>\n",
       "      <th>OTG_trans_count</th>\n",
       "      <th>OTG_trans_mean</th>\n",
       "      <th>OTG_trans_median</th>\n",
       "      <th>min_otgcred_amt</th>\n",
       "      <th>max_otgcred_amt</th>\n",
       "    </tr>\n",
       "  </thead>\n",
       "  <tbody>\n",
       "    <tr>\n",
       "      <th>511</th>\n",
       "      <td>0386184</td>\n",
       "      <td>9695.0</td>\n",
       "      <td>5</td>\n",
       "      <td>1939.0</td>\n",
       "      <td>1995.0</td>\n",
       "      <td>200.0</td>\n",
       "      <td>4800.0</td>\n",
       "    </tr>\n",
       "  </tbody>\n",
       "</table>\n",
       "</div>"
      ],
      "text/plain": [
       "      CIF_ID  OTG_trans_sum  OTG_trans_count  OTG_trans_mean  \\\n",
       "511  0386184         9695.0                5          1939.0   \n",
       "\n",
       "     OTG_trans_median  min_otgcred_amt  max_otgcred_amt  \n",
       "511            1995.0            200.0           4800.0  "
      ]
     },
     "execution_count": 66,
     "metadata": {},
     "output_type": "execute_result"
    }
   ],
   "source": [
    "otg_unique.sample()"
   ]
  },
  {
   "cell_type": "code",
   "execution_count": 67,
   "id": "9db9b5fa",
   "metadata": {},
   "outputs": [
    {
     "data": {
      "text/plain": [
       "(686, 7)"
      ]
     },
     "execution_count": 67,
     "metadata": {},
     "output_type": "execute_result"
    }
   ],
   "source": [
    "otg_unique.shape"
   ]
  },
  {
   "cell_type": "code",
   "execution_count": 68,
   "id": "51f45d66",
   "metadata": {},
   "outputs": [],
   "source": [
    "otg_unique.drop_duplicates(keep='first',inplace=True)"
   ]
  },
  {
   "cell_type": "code",
   "execution_count": 69,
   "id": "38ad6e17",
   "metadata": {},
   "outputs": [
    {
     "data": {
      "text/plain": [
       "(686, 7)"
      ]
     },
     "execution_count": 69,
     "metadata": {},
     "output_type": "execute_result"
    }
   ],
   "source": [
    "otg_unique.shape"
   ]
  },
  {
   "cell_type": "markdown",
   "id": "e20cbcc8",
   "metadata": {},
   "source": [
    "## Merging files "
   ]
  },
  {
   "cell_type": "code",
   "execution_count": 70,
   "id": "cc6b99fc",
   "metadata": {},
   "outputs": [],
   "source": [
    "final_df_0 = pd.merge(grouped_dr_weekly,grouped_cr_weekly,how='left', on = 'CIF_ID')"
   ]
  },
  {
   "cell_type": "code",
   "execution_count": 71,
   "id": "6ed810e7",
   "metadata": {},
   "outputs": [
    {
     "data": {
      "text/plain": [
       "Index(['CIF_ID', 'Debit_sum', 'Debit_count', 'Debit_mean', 'Debit_median',\n",
       "       'min_debit_amt_3_weeks', 'max_debit_amt_3_weeks', 'Credit_sum',\n",
       "       'Credit_count', 'Credit_median', 'Credit_mean', 'min_cred_amt_3_weeks',\n",
       "       'max_cred_amt_3_weeks'],\n",
       "      dtype='object')"
      ]
     },
     "execution_count": 71,
     "metadata": {},
     "output_type": "execute_result"
    }
   ],
   "source": [
    "final_df_0.columns"
   ]
  },
  {
   "cell_type": "code",
   "execution_count": 72,
   "id": "c674101e",
   "metadata": {},
   "outputs": [
    {
     "data": {
      "text/plain": [
       "533"
      ]
     },
     "execution_count": 72,
     "metadata": {},
     "output_type": "execute_result"
    }
   ],
   "source": [
    "len(final_df_0)"
   ]
  },
  {
   "cell_type": "code",
   "execution_count": 73,
   "id": "57e1fe36",
   "metadata": {},
   "outputs": [],
   "source": [
    "columns_to_drop = ['DISB_DATE']\n",
    "detail = detail.drop(columns=columns_to_drop)"
   ]
  },
  {
   "cell_type": "code",
   "execution_count": 74,
   "id": "ddda1e2d",
   "metadata": {},
   "outputs": [],
   "source": [
    "final_df_1 = pd.merge(detail,otg_unique,how='left', on = 'CIF_ID')"
   ]
  },
  {
   "cell_type": "code",
   "execution_count": 75,
   "id": "9926f9e7",
   "metadata": {},
   "outputs": [],
   "source": [
    "final_df_1 = pd.merge(final_df_1,final_df_0,how='left', on = 'CIF_ID')"
   ]
  },
  {
   "cell_type": "code",
   "execution_count": 76,
   "id": "f5dd13a5",
   "metadata": {},
   "outputs": [],
   "source": [
    "final_df_2 = pd.merge(final_df_1, summary_df, how='left', on = 'CIF_ID')"
   ]
  },
  {
   "cell_type": "code",
   "execution_count": 77,
   "id": "1140ab25",
   "metadata": {},
   "outputs": [],
   "source": [
    "final_df_3 = pd.merge(final_df_2, loans_df, how='left', on = 'CIF_ID')"
   ]
  },
  {
   "cell_type": "code",
   "execution_count": 78,
   "id": "5a0368b2",
   "metadata": {},
   "outputs": [],
   "source": [
    "final_df_3 = pd.merge(final_df_3, grouped_eod_mean_median, how='left', on = 'CIF_ID')"
   ]
  },
  {
   "cell_type": "code",
   "execution_count": 79,
   "id": "11a83eb4",
   "metadata": {},
   "outputs": [],
   "source": [
    "merged_df = final_df_3.copy()"
   ]
  },
  {
   "cell_type": "code",
   "execution_count": 80,
   "id": "243ede9b",
   "metadata": {},
   "outputs": [],
   "source": [
    "merged_df.drop_duplicates(keep='first', inplace=True)"
   ]
  },
  {
   "cell_type": "code",
   "execution_count": 81,
   "id": "d9d7c3e6",
   "metadata": {},
   "outputs": [
    {
     "data": {
      "text/html": [
       "<div>\n",
       "<style scoped>\n",
       "    .dataframe tbody tr th:only-of-type {\n",
       "        vertical-align: middle;\n",
       "    }\n",
       "\n",
       "    .dataframe tbody tr th {\n",
       "        vertical-align: top;\n",
       "    }\n",
       "\n",
       "    .dataframe thead th {\n",
       "        text-align: right;\n",
       "    }\n",
       "</style>\n",
       "<table border=\"1\" class=\"dataframe\">\n",
       "  <thead>\n",
       "    <tr style=\"text-align: right;\">\n",
       "      <th></th>\n",
       "      <th>CIF_ID</th>\n",
       "      <th>CUST_AGE</th>\n",
       "      <th>AGE_WITH_BANK</th>\n",
       "      <th>SEGMENTATION_CLASS</th>\n",
       "      <th>OTG_TRANSACTING</th>\n",
       "      <th>SCHM_CODE</th>\n",
       "      <th>SCHM_DESC</th>\n",
       "      <th>DIS_AMT</th>\n",
       "      <th>REP_PERD_MTHS</th>\n",
       "      <th>DPD_CNTR</th>\n",
       "      <th>FLOW_AMT</th>\n",
       "      <th>NO_OF_INSTALLMENTS</th>\n",
       "      <th>DEFAULT_STATUS</th>\n",
       "      <th>OTG_trans_sum</th>\n",
       "      <th>OTG_trans_count</th>\n",
       "      <th>OTG_trans_mean</th>\n",
       "      <th>OTG_trans_median</th>\n",
       "      <th>min_otgcred_amt</th>\n",
       "      <th>max_otgcred_amt</th>\n",
       "      <th>Debit_sum</th>\n",
       "      <th>Debit_count</th>\n",
       "      <th>Debit_mean</th>\n",
       "      <th>Debit_median</th>\n",
       "      <th>min_debit_amt_3_weeks</th>\n",
       "      <th>max_debit_amt_3_weeks</th>\n",
       "      <th>Credit_sum</th>\n",
       "      <th>Credit_count</th>\n",
       "      <th>Credit_median</th>\n",
       "      <th>Credit_mean</th>\n",
       "      <th>min_cred_amt_3_weeks</th>\n",
       "      <th>max_cred_amt_3_weeks</th>\n",
       "      <th>AVG_DEBIT_CREDIT_COUNT_RATIO</th>\n",
       "      <th>MEDIAN_DEBIT_CREDIT_COUNT_RATIO</th>\n",
       "      <th>no_of_loan_accounts</th>\n",
       "      <th>no_of_non_loan_accounts</th>\n",
       "      <th>avg_eod_bal_3_weeks</th>\n",
       "      <th>median_eod_bal_3_weeks</th>\n",
       "    </tr>\n",
       "  </thead>\n",
       "  <tbody>\n",
       "    <tr>\n",
       "      <th>498</th>\n",
       "      <td>0199383</td>\n",
       "      <td>49</td>\n",
       "      <td>4</td>\n",
       "      <td>BL03</td>\n",
       "      <td>N</td>\n",
       "      <td>LAL02</td>\n",
       "      <td>TERM LOAN- EMI- LCY</td>\n",
       "      <td>600000.0</td>\n",
       "      <td>18</td>\n",
       "      <td>0</td>\n",
       "      <td>38745.0</td>\n",
       "      <td>1</td>\n",
       "      <td>0</td>\n",
       "      <td>0.0</td>\n",
       "      <td>0</td>\n",
       "      <td>NaN</td>\n",
       "      <td>NaN</td>\n",
       "      <td>NaN</td>\n",
       "      <td>NaN</td>\n",
       "      <td>3435331.4</td>\n",
       "      <td>254.0</td>\n",
       "      <td>13524.9</td>\n",
       "      <td>100.0</td>\n",
       "      <td>0.2</td>\n",
       "      <td>300000.0</td>\n",
       "      <td>2945971.0</td>\n",
       "      <td>205.0</td>\n",
       "      <td>300.0</td>\n",
       "      <td>14370.6</td>\n",
       "      <td>10.0</td>\n",
       "      <td>600000.0</td>\n",
       "      <td>1.2</td>\n",
       "      <td>1.2</td>\n",
       "      <td>1</td>\n",
       "      <td>1.0</td>\n",
       "      <td>246473.4</td>\n",
       "      <td>246473.4</td>\n",
       "    </tr>\n",
       "  </tbody>\n",
       "</table>\n",
       "</div>"
      ],
      "text/plain": [
       "      CIF_ID  CUST_AGE  AGE_WITH_BANK SEGMENTATION_CLASS OTG_TRANSACTING  \\\n",
       "498  0199383        49              4               BL03               N   \n",
       "\n",
       "    SCHM_CODE            SCHM_DESC  DIS_AMT  REP_PERD_MTHS  DPD_CNTR  \\\n",
       "498     LAL02  TERM LOAN- EMI- LCY 600000.0             18         0   \n",
       "\n",
       "     FLOW_AMT  NO_OF_INSTALLMENTS  DEFAULT_STATUS  OTG_trans_sum  \\\n",
       "498   38745.0                   1               0            0.0   \n",
       "\n",
       "     OTG_trans_count  OTG_trans_mean  OTG_trans_median  min_otgcred_amt  \\\n",
       "498                0             NaN               NaN              NaN   \n",
       "\n",
       "     max_otgcred_amt  Debit_sum  Debit_count  Debit_mean  Debit_median  \\\n",
       "498              NaN  3435331.4        254.0     13524.9         100.0   \n",
       "\n",
       "     min_debit_amt_3_weeks  max_debit_amt_3_weeks  Credit_sum  Credit_count  \\\n",
       "498                    0.2               300000.0   2945971.0         205.0   \n",
       "\n",
       "     Credit_median  Credit_mean  min_cred_amt_3_weeks  max_cred_amt_3_weeks  \\\n",
       "498          300.0      14370.6                  10.0              600000.0   \n",
       "\n",
       "     AVG_DEBIT_CREDIT_COUNT_RATIO  MEDIAN_DEBIT_CREDIT_COUNT_RATIO  \\\n",
       "498                           1.2                              1.2   \n",
       "\n",
       "     no_of_loan_accounts  no_of_non_loan_accounts  avg_eod_bal_3_weeks  \\\n",
       "498                    1                      1.0             246473.4   \n",
       "\n",
       "     median_eod_bal_3_weeks  \n",
       "498                246473.4  "
      ]
     },
     "execution_count": 81,
     "metadata": {},
     "output_type": "execute_result"
    }
   ],
   "source": [
    "merged_df.sample()"
   ]
  },
  {
   "cell_type": "code",
   "execution_count": 82,
   "id": "4a310e16",
   "metadata": {},
   "outputs": [
    {
     "data": {
      "text/plain": [
       "(604, 37)"
      ]
     },
     "execution_count": 82,
     "metadata": {},
     "output_type": "execute_result"
    }
   ],
   "source": [
    "merged_df.shape"
   ]
  },
  {
   "cell_type": "markdown",
   "id": "37b63d69",
   "metadata": {},
   "source": [
    "# EDA"
   ]
  },
  {
   "cell_type": "code",
   "execution_count": 83,
   "id": "e95d3a40",
   "metadata": {},
   "outputs": [],
   "source": [
    "merged_df['DEFAULT_STATUS'] = merged_df['DEFAULT_STATUS'].map({0: 'performing', 1: 'non_performing'})"
   ]
  },
  {
   "cell_type": "code",
   "execution_count": 84,
   "id": "ed1c56fa",
   "metadata": {},
   "outputs": [
    {
     "data": {
      "text/plain": [
       "performing        538\n",
       "non_performing     66\n",
       "Name: DEFAULT_STATUS, dtype: int64"
      ]
     },
     "execution_count": 84,
     "metadata": {},
     "output_type": "execute_result"
    }
   ],
   "source": [
    "merged_df['DEFAULT_STATUS'].value_counts()"
   ]
  },
  {
   "cell_type": "code",
   "execution_count": 85,
   "id": "ce39c427",
   "metadata": {},
   "outputs": [],
   "source": [
    "def age_group(age):\n",
    "    if age <= 17:  \n",
    "        return \"Minor\"\n",
    "    elif age <= 27: \n",
    "        return \"Young Adult\"\n",
    "    elif age <= 34:  \n",
    "        return \"Adult\"\n",
    "    elif age <= 45: \n",
    "        return \"Mid-aged\"\n",
    "    \n",
    "    elif age <= 64:  \n",
    "        return \"Senior\"\n",
    "    else:  \n",
    "        return \"Elderly\"\n",
    "\n",
    "merged_df['AGE_GROUP'] = merged_df['CUST_AGE'].apply(lambda x: age_group(x))"
   ]
  },
  {
   "cell_type": "code",
   "execution_count": 86,
   "id": "fdca2451",
   "metadata": {},
   "outputs": [],
   "source": [
    "feature2_cols = [\"OTG_TRANSACTING\"]"
   ]
  },
  {
   "cell_type": "code",
   "execution_count": 87,
   "id": "799d7d9a",
   "metadata": {},
   "outputs": [
    {
     "name": "stdout",
     "output_type": "stream",
     "text": [
      "OTG_TRANSACTING    N    Y\n",
      "AGE_GROUP                \n",
      "Adult             61  103\n",
      "Elderly           14    9\n",
      "Mid-aged         110  108\n",
      "Senior            95   69\n",
      "Young Adult       13   22\n"
     ]
    }
   ],
   "source": [
    "age_otg_analysis = merged_df.groupby(['AGE_GROUP', 'OTG_TRANSACTING'])['CIF_ID'].count().unstack()\n",
    "\n",
    "print(age_otg_analysis)"
   ]
  },
  {
   "cell_type": "code",
   "execution_count": 88,
   "id": "4ec60fd7",
   "metadata": {},
   "outputs": [],
   "source": [
    "columns_of_interest = ['min_cred_amt_3_weeks', 'max_cred_amt_3_weeks', 'avg_cred_amt_3_weeks',\n",
    "                       'median_cred_amt_3_weeks', 'avg_weekly_cred_count_3_weeks',\n",
    "                       'avg_eod_bal_3_weeks', 'median_eod_bal_3_weeks', 'min_debit_amt_3_weeks',\n",
    "                       'max_debit_amt_3_weeks', 'avg_debit_amt_3_weeks', 'median_debit_amt_3_weeks',\n",
    "                       'avg_weekly_debit_count_3_weeks','AVG_WEEKLY_DEBIT_CREDIT_COUNT_RATIO',\n",
    "                       'MEDIAN_WEEKLY_DEBIT_CREDIT_COUNT_RATIO']\n"
   ]
  },
  {
   "cell_type": "markdown",
   "id": "95c78b2d",
   "metadata": {},
   "source": [
    "### CREDIT TO DEBIT RATIO"
   ]
  },
  {
   "cell_type": "code",
   "execution_count": 89,
   "id": "e5962006",
   "metadata": {},
   "outputs": [
    {
     "data": {
      "text/html": [
       "<div>\n",
       "<style scoped>\n",
       "    .dataframe tbody tr th:only-of-type {\n",
       "        vertical-align: middle;\n",
       "    }\n",
       "\n",
       "    .dataframe tbody tr th {\n",
       "        vertical-align: top;\n",
       "    }\n",
       "\n",
       "    .dataframe thead th {\n",
       "        text-align: right;\n",
       "    }\n",
       "</style>\n",
       "<table border=\"1\" class=\"dataframe\">\n",
       "  <thead>\n",
       "    <tr style=\"text-align: right;\">\n",
       "      <th></th>\n",
       "      <th>CIF_ID</th>\n",
       "      <th>CUST_AGE</th>\n",
       "      <th>AGE_WITH_BANK</th>\n",
       "      <th>SEGMENTATION_CLASS</th>\n",
       "      <th>OTG_TRANSACTING</th>\n",
       "      <th>SCHM_CODE</th>\n",
       "      <th>SCHM_DESC</th>\n",
       "      <th>DIS_AMT</th>\n",
       "      <th>REP_PERD_MTHS</th>\n",
       "      <th>DPD_CNTR</th>\n",
       "      <th>FLOW_AMT</th>\n",
       "      <th>NO_OF_INSTALLMENTS</th>\n",
       "      <th>DEFAULT_STATUS</th>\n",
       "      <th>OTG_trans_sum</th>\n",
       "      <th>OTG_trans_count</th>\n",
       "      <th>OTG_trans_mean</th>\n",
       "      <th>OTG_trans_median</th>\n",
       "      <th>min_otgcred_amt</th>\n",
       "      <th>max_otgcred_amt</th>\n",
       "      <th>Debit_sum</th>\n",
       "      <th>Debit_count</th>\n",
       "      <th>Debit_mean</th>\n",
       "      <th>Debit_median</th>\n",
       "      <th>min_debit_amt_3_weeks</th>\n",
       "      <th>max_debit_amt_3_weeks</th>\n",
       "      <th>Credit_sum</th>\n",
       "      <th>Credit_count</th>\n",
       "      <th>Credit_median</th>\n",
       "      <th>Credit_mean</th>\n",
       "      <th>min_cred_amt_3_weeks</th>\n",
       "      <th>max_cred_amt_3_weeks</th>\n",
       "      <th>AVG_DEBIT_CREDIT_COUNT_RATIO</th>\n",
       "      <th>MEDIAN_DEBIT_CREDIT_COUNT_RATIO</th>\n",
       "      <th>no_of_loan_accounts</th>\n",
       "      <th>no_of_non_loan_accounts</th>\n",
       "      <th>avg_eod_bal_3_weeks</th>\n",
       "      <th>median_eod_bal_3_weeks</th>\n",
       "      <th>AGE_GROUP</th>\n",
       "    </tr>\n",
       "  </thead>\n",
       "  <tbody>\n",
       "    <tr>\n",
       "      <th>19</th>\n",
       "      <td>0148488</td>\n",
       "      <td>38</td>\n",
       "      <td>6</td>\n",
       "      <td>BL05</td>\n",
       "      <td>N</td>\n",
       "      <td>LAL06</td>\n",
       "      <td>HOUSING LOAN - GEN PUBLIC - LCY</td>\n",
       "      <td>22500000.0</td>\n",
       "      <td>180</td>\n",
       "      <td>0</td>\n",
       "      <td>345358.0</td>\n",
       "      <td>1</td>\n",
       "      <td>performing</td>\n",
       "      <td>0.0</td>\n",
       "      <td>0</td>\n",
       "      <td>NaN</td>\n",
       "      <td>NaN</td>\n",
       "      <td>NaN</td>\n",
       "      <td>NaN</td>\n",
       "      <td>19119799.7</td>\n",
       "      <td>111.0</td>\n",
       "      <td>172250.4</td>\n",
       "      <td>20000.0</td>\n",
       "      <td>70.0</td>\n",
       "      <td>1676137.0</td>\n",
       "      <td>19003698.2</td>\n",
       "      <td>40.0</td>\n",
       "      <td>325000.0</td>\n",
       "      <td>475092.5</td>\n",
       "      <td>19796.2</td>\n",
       "      <td>2000000.0</td>\n",
       "      <td>2.8</td>\n",
       "      <td>2.8</td>\n",
       "      <td>1</td>\n",
       "      <td>3.0</td>\n",
       "      <td>298040.3</td>\n",
       "      <td>298040.3</td>\n",
       "      <td>Mid-aged</td>\n",
       "    </tr>\n",
       "  </tbody>\n",
       "</table>\n",
       "</div>"
      ],
      "text/plain": [
       "     CIF_ID  CUST_AGE  AGE_WITH_BANK SEGMENTATION_CLASS OTG_TRANSACTING  \\\n",
       "19  0148488        38              6               BL05               N   \n",
       "\n",
       "   SCHM_CODE                        SCHM_DESC    DIS_AMT  REP_PERD_MTHS  \\\n",
       "19     LAL06  HOUSING LOAN - GEN PUBLIC - LCY 22500000.0            180   \n",
       "\n",
       "    DPD_CNTR  FLOW_AMT  NO_OF_INSTALLMENTS DEFAULT_STATUS  OTG_trans_sum  \\\n",
       "19         0  345358.0                   1     performing            0.0   \n",
       "\n",
       "    OTG_trans_count  OTG_trans_mean  OTG_trans_median  min_otgcred_amt  \\\n",
       "19                0             NaN               NaN              NaN   \n",
       "\n",
       "    max_otgcred_amt  Debit_sum  Debit_count  Debit_mean  Debit_median  \\\n",
       "19              NaN 19119799.7        111.0    172250.4       20000.0   \n",
       "\n",
       "    min_debit_amt_3_weeks  max_debit_amt_3_weeks  Credit_sum  Credit_count  \\\n",
       "19                   70.0              1676137.0  19003698.2          40.0   \n",
       "\n",
       "    Credit_median  Credit_mean  min_cred_amt_3_weeks  max_cred_amt_3_weeks  \\\n",
       "19       325000.0     475092.5               19796.2             2000000.0   \n",
       "\n",
       "    AVG_DEBIT_CREDIT_COUNT_RATIO  MEDIAN_DEBIT_CREDIT_COUNT_RATIO  \\\n",
       "19                           2.8                              2.8   \n",
       "\n",
       "    no_of_loan_accounts  no_of_non_loan_accounts  avg_eod_bal_3_weeks  \\\n",
       "19                    1                      3.0             298040.3   \n",
       "\n",
       "    median_eod_bal_3_weeks AGE_GROUP  \n",
       "19                298040.3  Mid-aged  "
      ]
     },
     "execution_count": 89,
     "metadata": {},
     "output_type": "execute_result"
    }
   ],
   "source": [
    "merged_df.sample()"
   ]
  },
  {
   "cell_type": "code",
   "execution_count": 90,
   "id": "79e6650f",
   "metadata": {},
   "outputs": [],
   "source": [
    "merged_df['avg_credit_to_debit_amt_ratio_3_weeks'] = merged_df['Credit_mean'] / merged_df['Debit_mean']\n",
    "merged_df['median_credit_to_debit_ratio_3_weeks'] = merged_df['Credit_median'] / merged_df['Debit_median']"
   ]
  },
  {
   "cell_type": "code",
   "execution_count": 91,
   "id": "eea9c8aa",
   "metadata": {},
   "outputs": [],
   "source": [
    "status_mapping = {'performing': 0, 'non_performing': 1}\n",
    "\n",
    "merged_df['DEFAULT_STATUS_ENCODED'] = merged_df['DEFAULT_STATUS'].map(status_mapping)\n"
   ]
  },
  {
   "cell_type": "code",
   "execution_count": 92,
   "id": "8cb2bbc5",
   "metadata": {},
   "outputs": [
    {
     "data": {
      "text/plain": [
       "0    538\n",
       "1     66\n",
       "Name: DEFAULT_STATUS_ENCODED, dtype: int64"
      ]
     },
     "execution_count": 92,
     "metadata": {},
     "output_type": "execute_result"
    }
   ],
   "source": [
    "merged_df['DEFAULT_STATUS_ENCODED'].value_counts()"
   ]
  },
  {
   "cell_type": "code",
   "execution_count": 93,
   "id": "6d2246be",
   "metadata": {},
   "outputs": [],
   "source": [
    "## Helper Functions\n",
    "\n",
    "def transformDate(df, datecol): \n",
    "\n",
    "    \"\"\"\n",
    "    function to transform the datefield into a datetime object, and generate associated date elements such as day,week,month,year etc.\n",
    "    Args: Dataframe, datefield\n",
    "    returns: Dataframe\n",
    "    \"\"\"\n",
    "    df[datecol] = pd.to_datetime(df[datecol])\n",
    "    df['Day'] = df[datecol].dt.day_name()\n",
    "    df['Week'] = df[datecol].dt.week\n",
    "    df['MonthName'] = df[datecol].dt.month_name()\n",
    "    df['Year'] = df[datecol].dt.year\n",
    "\n",
    "    return df\n",
    "\n",
    "## Distribution plots for categorical variables\n",
    "def univ_analysis(categ_cols, data):\n",
    "    \"\"\"\n",
    "    Function to generate countplot of categorical variables.\n",
    "    Args: categ_cols (a list of all the categorical fields), & the corresponding dataframe\n",
    "    returns: countplots of all the categorical fields passed in.\n",
    "    \"\"\"\n",
    "    for i in categ_cols:\n",
    "        plt.figure(figsize=(12,6))\n",
    "        if data[i].nunique()>10:\n",
    "      # data[i].value_counts()[:10].plot(kind = 'bar')\n",
    "            ax = (data[i].value_counts(ascending=False)[:10]/data[i].notnull().sum()*100).plot(kind='bar')\n",
    "            ax.set_yticks(np.arange(0,110,10))\n",
    "            ax2 = ax.twinx()\n",
    "            ax2.set_yticks(np.arange(0,110,10)*data[i].notnull().sum()/100)\n",
    "\n",
    "            for p in ax.patches:\n",
    "                ax.annotate('{:.2f}%'.format(p.get_height()), (p.get_x()+0.15, p.get_height()+1))\n",
    "\n",
    "            plt.title(i+'_Distribution')\n",
    "            plt.show()\n",
    "            plt.savefig(i+'_Distribution.png')\n",
    "\n",
    "        else:\n",
    "            ncount = data[i].notnull().sum()\n",
    "            ax = sns.countplot(x=i, data=data)\n",
    "            plt.xticks(rotation=90)\n",
    "            plt.title(i + '_Distribution')\n",
    "\n",
    "            # Make twin axis\n",
    "            ax2=ax.twinx()\n",
    "\n",
    "            # Switch so count axis is on right, frequency on left\n",
    "            ax2.yaxis.tick_left()\n",
    "            ax.yaxis.tick_right()\n",
    "\n",
    "            # Also switch the labels over\n",
    "            ax.yaxis.set_label_position('right')\n",
    "            ax2.yaxis.set_label_position('left')\n",
    "\n",
    "            for p in ax.patches:\n",
    "                x=p.get_bbox().get_points()[:,0]\n",
    "                y=p.get_bbox().get_points()[1,1]\n",
    "                ax.annotate('{:.1f}%'.format(100.*y/ncount), (x.mean(), y), \n",
    "                        ha='center', va='bottom') # set the alignment of the text\n",
    "\n",
    "            # Use a LinearLocator to ensure the correct number of ticks\n",
    "            ax.yaxis.set_major_locator(ticker.LinearLocator(11))\n",
    "\n",
    "            # Fix the frequency range to 0-100\n",
    "            ax2.set_ylim(0,100)\n",
    "            ax.set_ylim(0,ncount)\n",
    "\n",
    "            # And use a MultipleLocator to ensure a tick spacing of 10\n",
    "            ax2.yaxis.set_major_locator(ticker.MultipleLocator(10))\n",
    "\n",
    "            # Need to turn the grid on ax2 off, otherwise the gridlines end up on top of the bars\n",
    "            ax2.grid(None)\n",
    "            plt.show()\n",
    "\n",
    "            # fig = plt.figure()\n",
    "            # return fig\n",
    "\n",
    "\n",
    "## Continuous Variables Distribution Plots\n",
    "\n",
    "def hist_plot(df, vals):\n",
    "    \"\"\"\n",
    "      Function to generate density plot.\n",
    "      Args: dataframe, & variable (continuous)\n",
    "      returns: density plot.\n",
    "    \"\"\"\n",
    "    # sns.set(style=\"whitegrid\", palette='Blues_r')\n",
    "    sns.histplot(df[vals])\n",
    "    plt.title('Histogram of ' + vals)\n",
    "    plt.show()"
   ]
  },
  {
   "cell_type": "code",
   "execution_count": 94,
   "id": "2958eb8d",
   "metadata": {},
   "outputs": [
    {
     "data": {
      "text/plain": [
       "(82, 21)"
      ]
     },
     "execution_count": 94,
     "metadata": {},
     "output_type": "execute_result"
    }
   ],
   "source": [
    "merged_df['CUST_AGE'].max(), merged_df['CUST_AGE'].min()"
   ]
  },
  {
   "cell_type": "code",
   "execution_count": 95,
   "id": "30cada7d",
   "metadata": {},
   "outputs": [],
   "source": [
    "merged_df['cust_age_bin_tmp'] = pd.cut(merged_df['CUST_AGE'], bins=6)\n",
    "bin_edges = merged_df['cust_age_bin_tmp'].cat.categories\n",
    "labels = [f\"{int(bin.left) + 1}-{int(bin.right)}\" for bin in bin_edges]\n",
    "merged_df['cust_age_bin'] = pd.cut(merged_df['CUST_AGE'], bins=6, labels=labels)\n",
    "merged_df.drop('cust_age_bin_tmp', axis=1, inplace=True)"
   ]
  },
  {
   "cell_type": "code",
   "execution_count": 96,
   "id": "392d2686",
   "metadata": {},
   "outputs": [
    {
     "data": {
      "text/plain": [
       "['42-51', '62-71', '32-41', '52-61', '21-31', '72-82']\n",
       "Categories (6, object): ['21-31' < '32-41' < '42-51' < '52-61' < '62-71' < '72-82']"
      ]
     },
     "execution_count": 96,
     "metadata": {},
     "output_type": "execute_result"
    }
   ],
   "source": [
    "merged_df['cust_age_bin'].unique()"
   ]
  },
  {
   "cell_type": "code",
   "execution_count": 97,
   "id": "818d3a80",
   "metadata": {},
   "outputs": [],
   "source": [
    "categ_cols = ['first_otg_trans_bin', 'number_of_inactive_weeks_otg_bin',\n",
    "              'MARITALSTATUS','OTG_TRANSACTING', 'AGE_GROUP','cust_age_bin','age_with_bank_bin']"
   ]
  },
  {
   "cell_type": "markdown",
   "id": "73d8a986",
   "metadata": {},
   "source": [
    "# Modelling"
   ]
  },
  {
   "cell_type": "code",
   "execution_count": 98,
   "id": "b461eda8",
   "metadata": {},
   "outputs": [],
   "source": [
    "df = merged_df.copy()"
   ]
  },
  {
   "cell_type": "code",
   "execution_count": 99,
   "id": "bf801d46",
   "metadata": {},
   "outputs": [
    {
     "data": {
      "text/plain": [
       "Index(['CIF_ID', 'CUST_AGE', 'AGE_WITH_BANK', 'SEGMENTATION_CLASS',\n",
       "       'OTG_TRANSACTING', 'SCHM_CODE', 'SCHM_DESC', 'DIS_AMT', 'REP_PERD_MTHS',\n",
       "       'DPD_CNTR', 'FLOW_AMT', 'NO_OF_INSTALLMENTS', 'DEFAULT_STATUS',\n",
       "       'OTG_trans_sum', 'OTG_trans_count', 'OTG_trans_mean',\n",
       "       'OTG_trans_median', 'min_otgcred_amt', 'max_otgcred_amt', 'Debit_sum',\n",
       "       'Debit_count', 'Debit_mean', 'Debit_median', 'min_debit_amt_3_weeks',\n",
       "       'max_debit_amt_3_weeks', 'Credit_sum', 'Credit_count', 'Credit_median',\n",
       "       'Credit_mean', 'min_cred_amt_3_weeks', 'max_cred_amt_3_weeks',\n",
       "       'AVG_DEBIT_CREDIT_COUNT_RATIO', 'MEDIAN_DEBIT_CREDIT_COUNT_RATIO',\n",
       "       'no_of_loan_accounts', 'no_of_non_loan_accounts', 'avg_eod_bal_3_weeks',\n",
       "       'median_eod_bal_3_weeks', 'AGE_GROUP',\n",
       "       'avg_credit_to_debit_amt_ratio_3_weeks',\n",
       "       'median_credit_to_debit_ratio_3_weeks', 'DEFAULT_STATUS_ENCODED',\n",
       "       'cust_age_bin'],\n",
       "      dtype='object')"
      ]
     },
     "execution_count": 99,
     "metadata": {},
     "output_type": "execute_result"
    }
   ],
   "source": [
    "df.columns"
   ]
  },
  {
   "cell_type": "code",
   "execution_count": 100,
   "id": "efc7f0f3",
   "metadata": {},
   "outputs": [
    {
     "data": {
      "text/plain": [
       "(604, 42)"
      ]
     },
     "execution_count": 100,
     "metadata": {},
     "output_type": "execute_result"
    }
   ],
   "source": [
    "df.shape"
   ]
  },
  {
   "cell_type": "code",
   "execution_count": 101,
   "id": "f8377ab8",
   "metadata": {},
   "outputs": [],
   "source": [
    "df = df.drop_duplicates(subset='CIF_ID',keep='first')"
   ]
  },
  {
   "cell_type": "code",
   "execution_count": 102,
   "id": "17699637",
   "metadata": {},
   "outputs": [
    {
     "data": {
      "text/plain": [
       "0"
      ]
     },
     "execution_count": 102,
     "metadata": {},
     "output_type": "execute_result"
    }
   ],
   "source": [
    "df.OTG_TRANSACTING.isna().sum()"
   ]
  },
  {
   "cell_type": "code",
   "execution_count": 103,
   "id": "6925f2b4",
   "metadata": {},
   "outputs": [],
   "source": [
    "df.drop(columns = ['DPD_CNTR','SCHM_CODE','DEFAULT_STATUS',\n",
    "                   'AGE_GROUP','cust_age_bin'], inplace =True)"
   ]
  },
  {
   "cell_type": "code",
   "execution_count": 104,
   "id": "a5224548",
   "metadata": {},
   "outputs": [
    {
     "data": {
      "text/html": [
       "<div>\n",
       "<style scoped>\n",
       "    .dataframe tbody tr th:only-of-type {\n",
       "        vertical-align: middle;\n",
       "    }\n",
       "\n",
       "    .dataframe tbody tr th {\n",
       "        vertical-align: top;\n",
       "    }\n",
       "\n",
       "    .dataframe thead th {\n",
       "        text-align: right;\n",
       "    }\n",
       "</style>\n",
       "<table border=\"1\" class=\"dataframe\">\n",
       "  <thead>\n",
       "    <tr style=\"text-align: right;\">\n",
       "      <th></th>\n",
       "      <th>CIF_ID</th>\n",
       "      <th>CUST_AGE</th>\n",
       "      <th>AGE_WITH_BANK</th>\n",
       "      <th>SEGMENTATION_CLASS</th>\n",
       "      <th>OTG_TRANSACTING</th>\n",
       "      <th>SCHM_DESC</th>\n",
       "      <th>DIS_AMT</th>\n",
       "      <th>REP_PERD_MTHS</th>\n",
       "      <th>FLOW_AMT</th>\n",
       "      <th>NO_OF_INSTALLMENTS</th>\n",
       "      <th>OTG_trans_sum</th>\n",
       "      <th>OTG_trans_count</th>\n",
       "      <th>OTG_trans_mean</th>\n",
       "      <th>OTG_trans_median</th>\n",
       "      <th>min_otgcred_amt</th>\n",
       "      <th>max_otgcred_amt</th>\n",
       "      <th>Debit_sum</th>\n",
       "      <th>Debit_count</th>\n",
       "      <th>Debit_mean</th>\n",
       "      <th>Debit_median</th>\n",
       "      <th>min_debit_amt_3_weeks</th>\n",
       "      <th>max_debit_amt_3_weeks</th>\n",
       "      <th>Credit_sum</th>\n",
       "      <th>Credit_count</th>\n",
       "      <th>Credit_median</th>\n",
       "      <th>Credit_mean</th>\n",
       "      <th>min_cred_amt_3_weeks</th>\n",
       "      <th>max_cred_amt_3_weeks</th>\n",
       "      <th>AVG_DEBIT_CREDIT_COUNT_RATIO</th>\n",
       "      <th>MEDIAN_DEBIT_CREDIT_COUNT_RATIO</th>\n",
       "      <th>no_of_loan_accounts</th>\n",
       "      <th>no_of_non_loan_accounts</th>\n",
       "      <th>avg_eod_bal_3_weeks</th>\n",
       "      <th>median_eod_bal_3_weeks</th>\n",
       "      <th>avg_credit_to_debit_amt_ratio_3_weeks</th>\n",
       "      <th>median_credit_to_debit_ratio_3_weeks</th>\n",
       "      <th>DEFAULT_STATUS_ENCODED</th>\n",
       "    </tr>\n",
       "  </thead>\n",
       "  <tbody>\n",
       "    <tr>\n",
       "      <th>25</th>\n",
       "      <td>0311797</td>\n",
       "      <td>35</td>\n",
       "      <td>3</td>\n",
       "      <td>BL05</td>\n",
       "      <td>Y</td>\n",
       "      <td>HOUSING LOAN - GEN PUBLIC - LCY</td>\n",
       "      <td>16000000.0</td>\n",
       "      <td>84</td>\n",
       "      <td>314248.0</td>\n",
       "      <td>1</td>\n",
       "      <td>170571.0</td>\n",
       "      <td>12</td>\n",
       "      <td>14214.2</td>\n",
       "      <td>11500.0</td>\n",
       "      <td>2000.0</td>\n",
       "      <td>50000.0</td>\n",
       "      <td>15509316.2</td>\n",
       "      <td>136.0</td>\n",
       "      <td>114039.1</td>\n",
       "      <td>4025.0</td>\n",
       "      <td>12.0</td>\n",
       "      <td>1300000.0</td>\n",
       "      <td>14794771.0</td>\n",
       "      <td>45.0</td>\n",
       "      <td>250000.0</td>\n",
       "      <td>328772.7</td>\n",
       "      <td>50000.0</td>\n",
       "      <td>1300000.0</td>\n",
       "      <td>3.0</td>\n",
       "      <td>3.0</td>\n",
       "      <td>1</td>\n",
       "      <td>2.0</td>\n",
       "      <td>102592.2</td>\n",
       "      <td>102592.2</td>\n",
       "      <td>2.9</td>\n",
       "      <td>62.1</td>\n",
       "      <td>0</td>\n",
       "    </tr>\n",
       "  </tbody>\n",
       "</table>\n",
       "</div>"
      ],
      "text/plain": [
       "     CIF_ID  CUST_AGE  AGE_WITH_BANK SEGMENTATION_CLASS OTG_TRANSACTING  \\\n",
       "25  0311797        35              3               BL05               Y   \n",
       "\n",
       "                          SCHM_DESC    DIS_AMT  REP_PERD_MTHS  FLOW_AMT  \\\n",
       "25  HOUSING LOAN - GEN PUBLIC - LCY 16000000.0             84  314248.0   \n",
       "\n",
       "    NO_OF_INSTALLMENTS  OTG_trans_sum  OTG_trans_count  OTG_trans_mean  \\\n",
       "25                   1       170571.0               12         14214.2   \n",
       "\n",
       "    OTG_trans_median  min_otgcred_amt  max_otgcred_amt  Debit_sum  \\\n",
       "25           11500.0           2000.0          50000.0 15509316.2   \n",
       "\n",
       "    Debit_count  Debit_mean  Debit_median  min_debit_amt_3_weeks  \\\n",
       "25        136.0    114039.1        4025.0                   12.0   \n",
       "\n",
       "    max_debit_amt_3_weeks  Credit_sum  Credit_count  Credit_median  \\\n",
       "25              1300000.0  14794771.0          45.0       250000.0   \n",
       "\n",
       "    Credit_mean  min_cred_amt_3_weeks  max_cred_amt_3_weeks  \\\n",
       "25     328772.7               50000.0             1300000.0   \n",
       "\n",
       "    AVG_DEBIT_CREDIT_COUNT_RATIO  MEDIAN_DEBIT_CREDIT_COUNT_RATIO  \\\n",
       "25                           3.0                              3.0   \n",
       "\n",
       "    no_of_loan_accounts  no_of_non_loan_accounts  avg_eod_bal_3_weeks  \\\n",
       "25                    1                      2.0             102592.2   \n",
       "\n",
       "    median_eod_bal_3_weeks  avg_credit_to_debit_amt_ratio_3_weeks  \\\n",
       "25                102592.2                                    2.9   \n",
       "\n",
       "    median_credit_to_debit_ratio_3_weeks  DEFAULT_STATUS_ENCODED  \n",
       "25                                  62.1                       0  "
      ]
     },
     "execution_count": 104,
     "metadata": {},
     "output_type": "execute_result"
    }
   ],
   "source": [
    "df.sample()"
   ]
  },
  {
   "cell_type": "code",
   "execution_count": 105,
   "id": "738a3a6d",
   "metadata": {},
   "outputs": [],
   "source": [
    "otg_columns = otg_unique.columns.to_list()"
   ]
  },
  {
   "cell_type": "code",
   "execution_count": 106,
   "id": "5154370b",
   "metadata": {},
   "outputs": [
    {
     "name": "stdout",
     "output_type": "stream",
     "text": [
      "<class 'pandas.core.frame.DataFrame'>\n",
      "Int64Index: 515 entries, 0 to 635\n",
      "Data columns (total 7 columns):\n",
      " #   Column            Non-Null Count  Dtype  \n",
      "---  ------            --------------  -----  \n",
      " 0   CIF_ID            515 non-null    object \n",
      " 1   OTG_trans_sum     515 non-null    float64\n",
      " 2   OTG_trans_count   515 non-null    int64  \n",
      " 3   OTG_trans_mean    237 non-null    float64\n",
      " 4   OTG_trans_median  237 non-null    float64\n",
      " 5   min_otgcred_amt   237 non-null    float64\n",
      " 6   max_otgcred_amt   237 non-null    float64\n",
      "dtypes: float64(5), int64(1), object(1)\n",
      "memory usage: 32.2+ KB\n"
     ]
    }
   ],
   "source": [
    "df[otg_columns].info()"
   ]
  },
  {
   "cell_type": "code",
   "execution_count": 107,
   "id": "4998df05",
   "metadata": {},
   "outputs": [],
   "source": [
    "df[otg_columns] = df[otg_columns].fillna(0)\n"
   ]
  },
  {
   "cell_type": "code",
   "execution_count": 108,
   "id": "0c097714",
   "metadata": {},
   "outputs": [],
   "source": [
    "def map_schm(x):\n",
    "    key_list = ['TERM LOAN- EMI- LCY', 'SHORT TERM LOAN - LCY',\n",
    "       'WORK PLACE BANKING FACILITY', 'HOUSING LOAN - GEN PUBLIC - LCY',\n",
    "       'HOUSING LOAN - GEN PUBLIC - FCY', 'STOCK FINANCE LOAN - LCY',\n",
    "       'ASSET FINANCE PUBLIC- EMI - LCY',\n",
    "       'GOVERNMENT SCHEME WORK PLACE BANKING FACILITY',\n",
    "       'HIRE PURCHASE -GROUP COMPANIES - LCY', 'TERM LOAN- NON EMI - FCY']\n",
    "    value_list = [1, 2, 3, 4, 5, 6, 7, 8, 9, 10]\n",
    "\n",
    "    if x in key_list:\n",
    "        value_index = key_list.index(x)\n",
    "        return value_list[value_index]\n",
    "    else:\n",
    "        return 12 \n",
    "\n",
    "df['schm_code_encoded'] = df['SCHM_DESC'].map(lambda x: map_schm(x))\n"
   ]
  },
  {
   "cell_type": "code",
   "execution_count": 109,
   "id": "6f354967",
   "metadata": {},
   "outputs": [
    {
     "data": {
      "text/html": [
       "<div>\n",
       "<style scoped>\n",
       "    .dataframe tbody tr th:only-of-type {\n",
       "        vertical-align: middle;\n",
       "    }\n",
       "\n",
       "    .dataframe tbody tr th {\n",
       "        vertical-align: top;\n",
       "    }\n",
       "\n",
       "    .dataframe thead th {\n",
       "        text-align: right;\n",
       "    }\n",
       "</style>\n",
       "<table border=\"1\" class=\"dataframe\">\n",
       "  <thead>\n",
       "    <tr style=\"text-align: right;\">\n",
       "      <th></th>\n",
       "      <th>CIF_ID</th>\n",
       "      <th>CUST_AGE</th>\n",
       "      <th>AGE_WITH_BANK</th>\n",
       "      <th>SEGMENTATION_CLASS</th>\n",
       "      <th>OTG_TRANSACTING</th>\n",
       "      <th>SCHM_DESC</th>\n",
       "      <th>DIS_AMT</th>\n",
       "      <th>REP_PERD_MTHS</th>\n",
       "      <th>FLOW_AMT</th>\n",
       "      <th>NO_OF_INSTALLMENTS</th>\n",
       "      <th>OTG_trans_sum</th>\n",
       "      <th>OTG_trans_count</th>\n",
       "      <th>OTG_trans_mean</th>\n",
       "      <th>OTG_trans_median</th>\n",
       "      <th>min_otgcred_amt</th>\n",
       "      <th>max_otgcred_amt</th>\n",
       "      <th>Debit_sum</th>\n",
       "      <th>Debit_count</th>\n",
       "      <th>Debit_mean</th>\n",
       "      <th>Debit_median</th>\n",
       "      <th>min_debit_amt_3_weeks</th>\n",
       "      <th>max_debit_amt_3_weeks</th>\n",
       "      <th>Credit_sum</th>\n",
       "      <th>Credit_count</th>\n",
       "      <th>Credit_median</th>\n",
       "      <th>Credit_mean</th>\n",
       "      <th>min_cred_amt_3_weeks</th>\n",
       "      <th>max_cred_amt_3_weeks</th>\n",
       "      <th>AVG_DEBIT_CREDIT_COUNT_RATIO</th>\n",
       "      <th>MEDIAN_DEBIT_CREDIT_COUNT_RATIO</th>\n",
       "      <th>no_of_loan_accounts</th>\n",
       "      <th>no_of_non_loan_accounts</th>\n",
       "      <th>avg_eod_bal_3_weeks</th>\n",
       "      <th>median_eod_bal_3_weeks</th>\n",
       "      <th>avg_credit_to_debit_amt_ratio_3_weeks</th>\n",
       "      <th>median_credit_to_debit_ratio_3_weeks</th>\n",
       "      <th>DEFAULT_STATUS_ENCODED</th>\n",
       "      <th>schm_code_encoded</th>\n",
       "    </tr>\n",
       "  </thead>\n",
       "  <tbody>\n",
       "    <tr>\n",
       "      <th>136</th>\n",
       "      <td>0374973</td>\n",
       "      <td>29</td>\n",
       "      <td>1</td>\n",
       "      <td>BL03</td>\n",
       "      <td>N</td>\n",
       "      <td>SHORT TERM LOAN - LCY</td>\n",
       "      <td>101440.0</td>\n",
       "      <td>0</td>\n",
       "      <td>101440.0</td>\n",
       "      <td>2</td>\n",
       "      <td>0.0</td>\n",
       "      <td>0</td>\n",
       "      <td>0.0</td>\n",
       "      <td>0.0</td>\n",
       "      <td>0.0</td>\n",
       "      <td>0.0</td>\n",
       "      <td>798064400.0</td>\n",
       "      <td>23800.0</td>\n",
       "      <td>33532.1</td>\n",
       "      <td>270.0</td>\n",
       "      <td>0.0</td>\n",
       "      <td>236250.0</td>\n",
       "      <td>724070400.0</td>\n",
       "      <td>17400.0</td>\n",
       "      <td>31526.0</td>\n",
       "      <td>41613.2</td>\n",
       "      <td>1.0</td>\n",
       "      <td>166130.0</td>\n",
       "      <td>1.4</td>\n",
       "      <td>1.4</td>\n",
       "      <td>13</td>\n",
       "      <td>1.0</td>\n",
       "      <td>136.9</td>\n",
       "      <td>136.9</td>\n",
       "      <td>1.2</td>\n",
       "      <td>116.8</td>\n",
       "      <td>0</td>\n",
       "      <td>2</td>\n",
       "    </tr>\n",
       "  </tbody>\n",
       "</table>\n",
       "</div>"
      ],
      "text/plain": [
       "      CIF_ID  CUST_AGE  AGE_WITH_BANK SEGMENTATION_CLASS OTG_TRANSACTING  \\\n",
       "136  0374973        29              1               BL03               N   \n",
       "\n",
       "                 SCHM_DESC  DIS_AMT  REP_PERD_MTHS  FLOW_AMT  \\\n",
       "136  SHORT TERM LOAN - LCY 101440.0              0  101440.0   \n",
       "\n",
       "     NO_OF_INSTALLMENTS  OTG_trans_sum  OTG_trans_count  OTG_trans_mean  \\\n",
       "136                   2            0.0                0             0.0   \n",
       "\n",
       "     OTG_trans_median  min_otgcred_amt  max_otgcred_amt   Debit_sum  \\\n",
       "136               0.0              0.0              0.0 798064400.0   \n",
       "\n",
       "     Debit_count  Debit_mean  Debit_median  min_debit_amt_3_weeks  \\\n",
       "136      23800.0     33532.1         270.0                    0.0   \n",
       "\n",
       "     max_debit_amt_3_weeks  Credit_sum  Credit_count  Credit_median  \\\n",
       "136               236250.0 724070400.0       17400.0        31526.0   \n",
       "\n",
       "     Credit_mean  min_cred_amt_3_weeks  max_cred_amt_3_weeks  \\\n",
       "136      41613.2                   1.0              166130.0   \n",
       "\n",
       "     AVG_DEBIT_CREDIT_COUNT_RATIO  MEDIAN_DEBIT_CREDIT_COUNT_RATIO  \\\n",
       "136                           1.4                              1.4   \n",
       "\n",
       "     no_of_loan_accounts  no_of_non_loan_accounts  avg_eod_bal_3_weeks  \\\n",
       "136                   13                      1.0                136.9   \n",
       "\n",
       "     median_eod_bal_3_weeks  avg_credit_to_debit_amt_ratio_3_weeks  \\\n",
       "136                   136.9                                    1.2   \n",
       "\n",
       "     median_credit_to_debit_ratio_3_weeks  DEFAULT_STATUS_ENCODED  \\\n",
       "136                                 116.8                       0   \n",
       "\n",
       "     schm_code_encoded  \n",
       "136                  2  "
      ]
     },
     "execution_count": 109,
     "metadata": {},
     "output_type": "execute_result"
    }
   ],
   "source": [
    "df.sample()"
   ]
  },
  {
   "cell_type": "code",
   "execution_count": 110,
   "id": "3d25c0e9",
   "metadata": {},
   "outputs": [
    {
     "data": {
      "text/plain": [
       "GOVERNMENT SCHEME WORK PLACE BANKING FACILITY    145\n",
       "WORK PLACE BANKING FACILITY                      124\n",
       "SHORT TERM LOAN - LCY                            116\n",
       "TERM LOAN- EMI- LCY                              106\n",
       "HOUSING LOAN - GEN PUBLIC - LCY                   55\n",
       "STOCK FINANCE LOAN - LCY                          46\n",
       "ASSET FINANCE PUBLIC- EMI - LCY                    5\n",
       "HOUSING LOAN - GEN PUBLIC - FCY                    4\n",
       "HIRE PURCHASE -GROUP COMPANIES - LCY               2\n",
       "TERM LOAN- NON EMI - FCY                           1\n",
       "Name: SCHM_DESC, dtype: int64"
      ]
     },
     "execution_count": 110,
     "metadata": {},
     "output_type": "execute_result"
    }
   ],
   "source": [
    "merged_df.SCHM_DESC.value_counts()"
   ]
  },
  {
   "cell_type": "code",
   "execution_count": 111,
   "id": "f5f6e1cd",
   "metadata": {},
   "outputs": [],
   "source": [
    "del df['SCHM_DESC']"
   ]
  },
  {
   "cell_type": "code",
   "execution_count": 112,
   "id": "a3646202",
   "metadata": {},
   "outputs": [],
   "source": [
    "mapping = {'BL05': 1, 'BL03': 0}\n",
    "\n",
    "df['SEGMENTATION_CLASS_ENCODED'] = df['SEGMENTATION_CLASS'].map(mapping)\n"
   ]
  },
  {
   "cell_type": "code",
   "execution_count": 113,
   "id": "dd404636",
   "metadata": {},
   "outputs": [],
   "source": [
    "del df['SEGMENTATION_CLASS']"
   ]
  },
  {
   "cell_type": "code",
   "execution_count": 114,
   "id": "dd3ee406",
   "metadata": {},
   "outputs": [],
   "source": [
    "mapping = {'N': 0, 'Y': 1}\n",
    "\n",
    "df['OTG_TRANSACTING_ENCODED'] = df['OTG_TRANSACTING'].map(mapping)\n"
   ]
  },
  {
   "cell_type": "code",
   "execution_count": 115,
   "id": "a7fde525",
   "metadata": {},
   "outputs": [],
   "source": [
    "del df['OTG_TRANSACTING']"
   ]
  },
  {
   "cell_type": "code",
   "execution_count": 116,
   "id": "04474aa0",
   "metadata": {},
   "outputs": [],
   "source": [
    "df = df.fillna(0)"
   ]
  },
  {
   "cell_type": "code",
   "execution_count": 117,
   "id": "7c28efa9",
   "metadata": {},
   "outputs": [],
   "source": [
    "df_correct = df.copy()"
   ]
  },
  {
   "cell_type": "code",
   "execution_count": 118,
   "id": "e7da4416",
   "metadata": {},
   "outputs": [
    {
     "data": {
      "text/plain": [
       "(515, 37)"
      ]
     },
     "execution_count": 118,
     "metadata": {},
     "output_type": "execute_result"
    }
   ],
   "source": [
    "df_correct.shape"
   ]
  },
  {
   "cell_type": "code",
   "execution_count": 119,
   "id": "ba6529c0",
   "metadata": {},
   "outputs": [
    {
     "data": {
      "text/plain": [
       "515"
      ]
     },
     "execution_count": 119,
     "metadata": {},
     "output_type": "execute_result"
    }
   ],
   "source": [
    "df_correct.CIF_ID.nunique()"
   ]
  },
  {
   "cell_type": "code",
   "execution_count": 120,
   "id": "4e906873",
   "metadata": {},
   "outputs": [
    {
     "data": {
      "text/plain": [
       "Index(['CIF_ID', 'CUST_AGE', 'AGE_WITH_BANK', 'DIS_AMT', 'REP_PERD_MTHS',\n",
       "       'FLOW_AMT', 'NO_OF_INSTALLMENTS', 'OTG_trans_sum', 'OTG_trans_count',\n",
       "       'OTG_trans_mean', 'OTG_trans_median', 'min_otgcred_amt',\n",
       "       'max_otgcred_amt', 'Debit_sum', 'Debit_count', 'Debit_mean',\n",
       "       'Debit_median', 'min_debit_amt_3_weeks', 'max_debit_amt_3_weeks',\n",
       "       'Credit_sum', 'Credit_count', 'Credit_median', 'Credit_mean',\n",
       "       'min_cred_amt_3_weeks', 'max_cred_amt_3_weeks',\n",
       "       'AVG_DEBIT_CREDIT_COUNT_RATIO', 'MEDIAN_DEBIT_CREDIT_COUNT_RATIO',\n",
       "       'no_of_loan_accounts', 'no_of_non_loan_accounts', 'avg_eod_bal_3_weeks',\n",
       "       'median_eod_bal_3_weeks', 'avg_credit_to_debit_amt_ratio_3_weeks',\n",
       "       'median_credit_to_debit_ratio_3_weeks', 'DEFAULT_STATUS_ENCODED',\n",
       "       'schm_code_encoded', 'SEGMENTATION_CLASS_ENCODED',\n",
       "       'OTG_TRANSACTING_ENCODED'],\n",
       "      dtype='object')"
      ]
     },
     "execution_count": 120,
     "metadata": {},
     "output_type": "execute_result"
    }
   ],
   "source": [
    "df_correct.columns"
   ]
  },
  {
   "cell_type": "code",
   "execution_count": 121,
   "id": "31fe4d70",
   "metadata": {},
   "outputs": [],
   "source": [
    "df_correct.drop(columns=['Debit_mean', 'Credit_mean', 'Debit_median','Credit_median',\n",
    "                         'Debit_count', 'Credit_count','max_cred_amt_3_weeks', 'min_cred_amt_3_weeks', 'Credit_sum'\n",
    "                         , 'Debit_sum','min_debit_amt_3_weeks', 'max_debit_amt_3_weeks','MEDIAN_DEBIT_CREDIT_COUNT_RATIO'\n",
    "                        ,'median_eod_bal_3_weeks','max_debit_amt_3_weeks',\n",
    "                        'OTG_trans_median','median_eod_bal_3_weeks','min_otgcred_amt','median_credit_to_debit_ratio_3_weeks',\n",
    "                         'OTG_trans_sum', 'max_otgcred_amt'],inplace = True)\n"
   ]
  },
  {
   "cell_type": "code",
   "execution_count": 122,
   "id": "7c30379e",
   "metadata": {},
   "outputs": [],
   "source": [
    "from sklearn.ensemble import RandomForestClassifier\n",
    "from sklearn.model_selection import train_test_split\n",
    "from sklearn.metrics import classification_report, accuracy_score\n",
    "import numpy as np\n",
    "\n",
    "X = df_correct.drop('DEFAULT_STATUS_ENCODED', axis=1)\n",
    "y = df_correct['DEFAULT_STATUS_ENCODED']\n",
    "\n",
    "X = pd.get_dummies(X)\n",
    "\n",
    "X_train, X_test, y_train, y_test = train_test_split(X, y, test_size=0.2, random_state=42)\n"
   ]
  },
  {
   "cell_type": "code",
   "execution_count": 123,
   "id": "6e3ed1e7",
   "metadata": {},
   "outputs": [],
   "source": [
    "# top_features = sorted_feature_importance.head(20).index\n",
    "\n",
    "# correlation_matrix = df_correct[top_features].corr()\n",
    "\n",
    "\n",
    "# plt.figure(figsize=(18, 14))\n",
    "# sns.heatmap(correlation_matrix, annot=True, fmt='.2f', cmap='coolwarm')\n",
    "# plt.title(\"Correlation Matrix of Top Features\")\n",
    "# plt.show()\n"
   ]
  },
  {
   "cell_type": "code",
   "execution_count": 124,
   "id": "3550d738",
   "metadata": {},
   "outputs": [
    {
     "data": {
      "text/html": [
       "<div>\n",
       "<style scoped>\n",
       "    .dataframe tbody tr th:only-of-type {\n",
       "        vertical-align: middle;\n",
       "    }\n",
       "\n",
       "    .dataframe tbody tr th {\n",
       "        vertical-align: top;\n",
       "    }\n",
       "\n",
       "    .dataframe thead th {\n",
       "        text-align: right;\n",
       "    }\n",
       "</style>\n",
       "<table border=\"1\" class=\"dataframe\">\n",
       "  <thead>\n",
       "    <tr style=\"text-align: right;\">\n",
       "      <th></th>\n",
       "      <th>CIF_ID</th>\n",
       "      <th>CUST_AGE</th>\n",
       "      <th>AGE_WITH_BANK</th>\n",
       "      <th>DIS_AMT</th>\n",
       "      <th>REP_PERD_MTHS</th>\n",
       "      <th>FLOW_AMT</th>\n",
       "      <th>NO_OF_INSTALLMENTS</th>\n",
       "      <th>OTG_trans_count</th>\n",
       "      <th>OTG_trans_mean</th>\n",
       "      <th>AVG_DEBIT_CREDIT_COUNT_RATIO</th>\n",
       "      <th>no_of_loan_accounts</th>\n",
       "      <th>no_of_non_loan_accounts</th>\n",
       "      <th>avg_eod_bal_3_weeks</th>\n",
       "      <th>avg_credit_to_debit_amt_ratio_3_weeks</th>\n",
       "      <th>DEFAULT_STATUS_ENCODED</th>\n",
       "      <th>schm_code_encoded</th>\n",
       "      <th>SEGMENTATION_CLASS_ENCODED</th>\n",
       "      <th>OTG_TRANSACTING_ENCODED</th>\n",
       "    </tr>\n",
       "  </thead>\n",
       "  <tbody>\n",
       "    <tr>\n",
       "      <th>634</th>\n",
       "      <td>0403098</td>\n",
       "      <td>27</td>\n",
       "      <td>0</td>\n",
       "      <td>100000.0</td>\n",
       "      <td>84</td>\n",
       "      <td>3694.0</td>\n",
       "      <td>2</td>\n",
       "      <td>0</td>\n",
       "      <td>0.0</td>\n",
       "      <td>3.7</td>\n",
       "      <td>1</td>\n",
       "      <td>2.0</td>\n",
       "      <td>15084.5</td>\n",
       "      <td>3.9</td>\n",
       "      <td>0</td>\n",
       "      <td>8</td>\n",
       "      <td>0</td>\n",
       "      <td>0</td>\n",
       "    </tr>\n",
       "  </tbody>\n",
       "</table>\n",
       "</div>"
      ],
      "text/plain": [
       "      CIF_ID  CUST_AGE  AGE_WITH_BANK  DIS_AMT  REP_PERD_MTHS  FLOW_AMT  \\\n",
       "634  0403098        27              0 100000.0             84    3694.0   \n",
       "\n",
       "     NO_OF_INSTALLMENTS  OTG_trans_count  OTG_trans_mean  \\\n",
       "634                   2                0             0.0   \n",
       "\n",
       "     AVG_DEBIT_CREDIT_COUNT_RATIO  no_of_loan_accounts  \\\n",
       "634                           3.7                    1   \n",
       "\n",
       "     no_of_non_loan_accounts  avg_eod_bal_3_weeks  \\\n",
       "634                      2.0              15084.5   \n",
       "\n",
       "     avg_credit_to_debit_amt_ratio_3_weeks  DEFAULT_STATUS_ENCODED  \\\n",
       "634                                    3.9                       0   \n",
       "\n",
       "     schm_code_encoded  SEGMENTATION_CLASS_ENCODED  OTG_TRANSACTING_ENCODED  \n",
       "634                  8                           0                        0  "
      ]
     },
     "execution_count": 124,
     "metadata": {},
     "output_type": "execute_result"
    }
   ],
   "source": [
    "df_correct.sample()"
   ]
  },
  {
   "cell_type": "code",
   "execution_count": 125,
   "id": "f839bfb4",
   "metadata": {},
   "outputs": [
    {
     "data": {
      "text/html": [
       "<div>\n",
       "<style scoped>\n",
       "    .dataframe tbody tr th:only-of-type {\n",
       "        vertical-align: middle;\n",
       "    }\n",
       "\n",
       "    .dataframe tbody tr th {\n",
       "        vertical-align: top;\n",
       "    }\n",
       "\n",
       "    .dataframe thead th {\n",
       "        text-align: right;\n",
       "    }\n",
       "</style>\n",
       "<table border=\"1\" class=\"dataframe\">\n",
       "  <thead>\n",
       "    <tr style=\"text-align: right;\">\n",
       "      <th></th>\n",
       "      <th>CIF_ID</th>\n",
       "      <th>TRAN_ID</th>\n",
       "      <th>PART_TRAN_TYPE</th>\n",
       "      <th>TRAN_CRNCY_CODE</th>\n",
       "      <th>TRAN_DATE</th>\n",
       "      <th>ORIGINAL_AMOUNT</th>\n",
       "      <th>CONVERTED_AMOUNT</th>\n",
       "    </tr>\n",
       "  </thead>\n",
       "  <tbody>\n",
       "    <tr>\n",
       "      <th>13158</th>\n",
       "      <td>0071754</td>\n",
       "      <td>S370872</td>\n",
       "      <td>C</td>\n",
       "      <td>KES</td>\n",
       "      <td>14-FEB-22</td>\n",
       "      <td>50.0</td>\n",
       "      <td>50.0</td>\n",
       "    </tr>\n",
       "  </tbody>\n",
       "</table>\n",
       "</div>"
      ],
      "text/plain": [
       "        CIF_ID    TRAN_ID PART_TRAN_TYPE TRAN_CRNCY_CODE  TRAN_DATE  \\\n",
       "13158  0071754    S370872              C             KES  14-FEB-22   \n",
       "\n",
       "       ORIGINAL_AMOUNT  CONVERTED_AMOUNT  \n",
       "13158             50.0              50.0  "
      ]
     },
     "execution_count": 125,
     "metadata": {},
     "output_type": "execute_result"
    }
   ],
   "source": [
    "trans.sample()"
   ]
  },
  {
   "cell_type": "code",
   "execution_count": 126,
   "id": "c6a381a3",
   "metadata": {},
   "outputs": [],
   "source": [
    "# upper_triangle = correlation_matrix.where(np.triu(np.ones(correlation_matrix.shape), k=1).astype(bool))\n",
    "# top_correlations = upper_triangle.unstack().dropna().abs().sort_values(ascending=False).head(10)\n",
    "# print(top_correlations)\n"
   ]
  },
  {
   "cell_type": "code",
   "execution_count": 127,
   "id": "1dd57dde",
   "metadata": {},
   "outputs": [],
   "source": [
    "numerical_columns = df_correct.select_dtypes(include=['int64', 'float64', 'uint64']).columns\n",
    "numerical_columns = numerical_columns.drop('DEFAULT_STATUS_ENCODED')\n"
   ]
  },
  {
   "cell_type": "code",
   "execution_count": 128,
   "id": "cc1f65a6",
   "metadata": {},
   "outputs": [
    {
     "name": "stdout",
     "output_type": "stream",
     "text": [
      "<class 'pandas.core.frame.DataFrame'>\n",
      "Int64Index: 515 entries, 0 to 635\n",
      "Data columns (total 18 columns):\n",
      " #   Column                                 Non-Null Count  Dtype  \n",
      "---  ------                                 --------------  -----  \n",
      " 0   CIF_ID                                 515 non-null    object \n",
      " 1   CUST_AGE                               515 non-null    int64  \n",
      " 2   AGE_WITH_BANK                          515 non-null    int64  \n",
      " 3   DIS_AMT                                515 non-null    float64\n",
      " 4   REP_PERD_MTHS                          515 non-null    int64  \n",
      " 5   FLOW_AMT                               515 non-null    float64\n",
      " 6   NO_OF_INSTALLMENTS                     515 non-null    int64  \n",
      " 7   OTG_trans_count                        515 non-null    int64  \n",
      " 8   OTG_trans_mean                         515 non-null    float64\n",
      " 9   AVG_DEBIT_CREDIT_COUNT_RATIO           515 non-null    float64\n",
      " 10  no_of_loan_accounts                    515 non-null    int64  \n",
      " 11  no_of_non_loan_accounts                515 non-null    float64\n",
      " 12  avg_eod_bal_3_weeks                    515 non-null    float64\n",
      " 13  avg_credit_to_debit_amt_ratio_3_weeks  515 non-null    float64\n",
      " 14  DEFAULT_STATUS_ENCODED                 515 non-null    int64  \n",
      " 15  schm_code_encoded                      515 non-null    int64  \n",
      " 16  SEGMENTATION_CLASS_ENCODED             515 non-null    int64  \n",
      " 17  OTG_TRANSACTING_ENCODED                515 non-null    int64  \n",
      "dtypes: float64(7), int64(10), object(1)\n",
      "memory usage: 76.4+ KB\n"
     ]
    }
   ],
   "source": [
    "df_correct.info()"
   ]
  },
  {
   "cell_type": "code",
   "execution_count": 129,
   "id": "68a275b3",
   "metadata": {},
   "outputs": [],
   "source": [
    "y_true = df_correct['DEFAULT_STATUS_ENCODED']"
   ]
  },
  {
   "cell_type": "code",
   "execution_count": 130,
   "id": "aa2294c3",
   "metadata": {},
   "outputs": [],
   "source": [
    "df2 = df_correct.copy()"
   ]
  },
  {
   "cell_type": "code",
   "execution_count": 131,
   "id": "19768f00",
   "metadata": {},
   "outputs": [
    {
     "data": {
      "image/png": "[encoded data removed]",
      "text/plain": [
       "<Figure size 432x288 with 1 Axes>"
      ]
     },
     "metadata": {
      "needs_background": "light"
     },
     "output_type": "display_data"
    }
   ],
   "source": [
    "from sklearn.ensemble import RandomForestClassifier\n",
    "\n",
    "X = df2[numerical_columns].fillna(0)\n",
    "y = df2['DEFAULT_STATUS_ENCODED']\n",
    "\n",
    "rf = RandomForestClassifier(n_estimators=100, random_state=42)\n",
    "rf.fit(X, y)\n",
    "\n",
    "feature_importances = rf.feature_importances_\n",
    "\n",
    "features = pd.DataFrame({\n",
    "    'Feature': X.columns,\n",
    "    'Importance': feature_importances\n",
    "}).sort_values(by='Importance', ascending=False)\n",
    "\n",
    "sns.barplot(x='Importance', y='Feature', data=features)\n",
    "plt.title('Feature Importance')\n",
    "plt.show()\n"
   ]
  },
  {
   "cell_type": "code",
   "execution_count": 132,
   "id": "0c14538f",
   "metadata": {},
   "outputs": [
    {
     "data": {
      "text/html": [
       "<div>\n",
       "<style scoped>\n",
       "    .dataframe tbody tr th:only-of-type {\n",
       "        vertical-align: middle;\n",
       "    }\n",
       "\n",
       "    .dataframe tbody tr th {\n",
       "        vertical-align: top;\n",
       "    }\n",
       "\n",
       "    .dataframe thead th {\n",
       "        text-align: right;\n",
       "    }\n",
       "</style>\n",
       "<table border=\"1\" class=\"dataframe\">\n",
       "  <thead>\n",
       "    <tr style=\"text-align: right;\">\n",
       "      <th></th>\n",
       "      <th>Feature</th>\n",
       "      <th>Importance</th>\n",
       "    </tr>\n",
       "  </thead>\n",
       "  <tbody>\n",
       "    <tr>\n",
       "      <th>3</th>\n",
       "      <td>REP_PERD_MTHS</td>\n",
       "      <td>0.1</td>\n",
       "    </tr>\n",
       "    <tr>\n",
       "      <th>2</th>\n",
       "      <td>DIS_AMT</td>\n",
       "      <td>0.1</td>\n",
       "    </tr>\n",
       "    <tr>\n",
       "      <th>12</th>\n",
       "      <td>avg_credit_to_debit_amt_ratio_3_weeks</td>\n",
       "      <td>0.1</td>\n",
       "    </tr>\n",
       "    <tr>\n",
       "      <th>13</th>\n",
       "      <td>schm_code_encoded</td>\n",
       "      <td>0.1</td>\n",
       "    </tr>\n",
       "    <tr>\n",
       "      <th>11</th>\n",
       "      <td>avg_eod_bal_3_weeks</td>\n",
       "      <td>0.1</td>\n",
       "    </tr>\n",
       "    <tr>\n",
       "      <th>8</th>\n",
       "      <td>AVG_DEBIT_CREDIT_COUNT_RATIO</td>\n",
       "      <td>0.1</td>\n",
       "    </tr>\n",
       "    <tr>\n",
       "      <th>4</th>\n",
       "      <td>FLOW_AMT</td>\n",
       "      <td>0.1</td>\n",
       "    </tr>\n",
       "    <tr>\n",
       "      <th>0</th>\n",
       "      <td>CUST_AGE</td>\n",
       "      <td>0.1</td>\n",
       "    </tr>\n",
       "    <tr>\n",
       "      <th>9</th>\n",
       "      <td>no_of_loan_accounts</td>\n",
       "      <td>0.1</td>\n",
       "    </tr>\n",
       "    <tr>\n",
       "      <th>1</th>\n",
       "      <td>AGE_WITH_BANK</td>\n",
       "      <td>0.0</td>\n",
       "    </tr>\n",
       "    <tr>\n",
       "      <th>10</th>\n",
       "      <td>no_of_non_loan_accounts</td>\n",
       "      <td>0.0</td>\n",
       "    </tr>\n",
       "    <tr>\n",
       "      <th>7</th>\n",
       "      <td>OTG_trans_mean</td>\n",
       "      <td>0.0</td>\n",
       "    </tr>\n",
       "    <tr>\n",
       "      <th>6</th>\n",
       "      <td>OTG_trans_count</td>\n",
       "      <td>0.0</td>\n",
       "    </tr>\n",
       "    <tr>\n",
       "      <th>5</th>\n",
       "      <td>NO_OF_INSTALLMENTS</td>\n",
       "      <td>0.0</td>\n",
       "    </tr>\n",
       "    <tr>\n",
       "      <th>15</th>\n",
       "      <td>OTG_TRANSACTING_ENCODED</td>\n",
       "      <td>0.0</td>\n",
       "    </tr>\n",
       "    <tr>\n",
       "      <th>14</th>\n",
       "      <td>SEGMENTATION_CLASS_ENCODED</td>\n",
       "      <td>0.0</td>\n",
       "    </tr>\n",
       "  </tbody>\n",
       "</table>\n",
       "</div>"
      ],
      "text/plain": [
       "                                  Feature  Importance\n",
       "3                           REP_PERD_MTHS         0.1\n",
       "2                                 DIS_AMT         0.1\n",
       "12  avg_credit_to_debit_amt_ratio_3_weeks         0.1\n",
       "13                      schm_code_encoded         0.1\n",
       "11                    avg_eod_bal_3_weeks         0.1\n",
       "8            AVG_DEBIT_CREDIT_COUNT_RATIO         0.1\n",
       "4                                FLOW_AMT         0.1\n",
       "0                                CUST_AGE         0.1\n",
       "9                     no_of_loan_accounts         0.1\n",
       "1                           AGE_WITH_BANK         0.0\n",
       "10                no_of_non_loan_accounts         0.0\n",
       "7                          OTG_trans_mean         0.0\n",
       "6                         OTG_trans_count         0.0\n",
       "5                      NO_OF_INSTALLMENTS         0.0\n",
       "15                OTG_TRANSACTING_ENCODED         0.0\n",
       "14             SEGMENTATION_CLASS_ENCODED         0.0"
      ]
     },
     "execution_count": 132,
     "metadata": {},
     "output_type": "execute_result"
    }
   ],
   "source": [
    "features.head(20)"
   ]
  },
  {
   "cell_type": "code",
   "execution_count": 133,
   "id": "5f444e62",
   "metadata": {},
   "outputs": [],
   "source": [
    "X = df2.drop(['DEFAULT_STATUS_ENCODED'], axis=1) \n",
    "y = df2['DEFAULT_STATUS_ENCODED'] \n",
    "top_features = features.head(9)['Feature'].tolist()"
   ]
  },
  {
   "cell_type": "code",
   "execution_count": 134,
   "id": "47942c43",
   "metadata": {},
   "outputs": [
    {
     "data": {
      "text/plain": [
       "0    452\n",
       "1     63\n",
       "Name: DEFAULT_STATUS_ENCODED, dtype: int64"
      ]
     },
     "execution_count": 134,
     "metadata": {},
     "output_type": "execute_result"
    }
   ],
   "source": [
    "df2.DEFAULT_STATUS_ENCODED.value_counts()"
   ]
  },
  {
   "cell_type": "code",
   "execution_count": 135,
   "id": "d24676e5",
   "metadata": {},
   "outputs": [
    {
     "name": "stdout",
     "output_type": "stream",
     "text": [
      "0    100\n",
      "1     54\n",
      "Name: DEFAULT_STATUS_ENCODED, dtype: int64\n"
     ]
    }
   ],
   "source": [
    "df_majority = df2[df2.DEFAULT_STATUS_ENCODED == 0]\n",
    "df_minority = df2[df2.DEFAULT_STATUS_ENCODED == 1]\n",
    "\n",
    "df_majority_sampled = df_majority.sample(n=100, random_state=123)\n",
    "df_minority_sampled = df_minority.sample(n=54, random_state=123)\n",
    "\n",
    "df_sampled = pd.concat([df_majority_sampled, df_minority_sampled])\n",
    "\n",
    "print(df_sampled.DEFAULT_STATUS_ENCODED.value_counts())"
   ]
  },
  {
   "cell_type": "code",
   "execution_count": 136,
   "id": "7875d4ed",
   "metadata": {},
   "outputs": [],
   "source": [
    "cif_ids = df_sampled['CIF_ID']"
   ]
  },
  {
   "cell_type": "code",
   "execution_count": 137,
   "id": "9467cdec",
   "metadata": {},
   "outputs": [],
   "source": [
    "df_sampled.set_index('CIF_ID', inplace=True)"
   ]
  },
  {
   "cell_type": "code",
   "execution_count": 138,
   "id": "bf25b586",
   "metadata": {},
   "outputs": [
    {
     "data": {
      "text/plain": [
       "Index(['CUST_AGE', 'AGE_WITH_BANK', 'DIS_AMT', 'REP_PERD_MTHS', 'FLOW_AMT',\n",
       "       'NO_OF_INSTALLMENTS', 'OTG_trans_count', 'OTG_trans_mean',\n",
       "       'AVG_DEBIT_CREDIT_COUNT_RATIO', 'no_of_loan_accounts',\n",
       "       'no_of_non_loan_accounts', 'avg_eod_bal_3_weeks',\n",
       "       'avg_credit_to_debit_amt_ratio_3_weeks', 'DEFAULT_STATUS_ENCODED',\n",
       "       'schm_code_encoded', 'SEGMENTATION_CLASS_ENCODED',\n",
       "       'OTG_TRANSACTING_ENCODED'],\n",
       "      dtype='object')"
      ]
     },
     "execution_count": 138,
     "metadata": {},
     "output_type": "execute_result"
    }
   ],
   "source": [
    "df_sampled.columns"
   ]
  },
  {
   "cell_type": "code",
   "execution_count": 153,
   "id": "a603ec71",
   "metadata": {},
   "outputs": [
    {
     "name": "stdout",
     "output_type": "stream",
     "text": [
      "Accuracy: 0.9354838709677419\n",
      "              precision    recall  f1-score   support\n",
      "\n",
      "           0       0.91      1.00      0.95        20\n",
      "           1       1.00      0.82      0.90        11\n",
      "\n",
      "    accuracy                           0.94        31\n",
      "   macro avg       0.95      0.91      0.93        31\n",
      "weighted avg       0.94      0.94      0.93        31\n",
      "\n",
      "[[20  0]\n",
      " [ 2  9]]\n"
     ]
    }
   ],
   "source": [
    "df_sampled.fillna(0, inplace=True)\n",
    "\n",
    "# Correctly dropping 'DEFAULT_STATUS_ENCODED' before selecting top features\n",
    "df_sampled_modified = df_sampled.drop(['DEFAULT_STATUS_ENCODED'], axis=1)\n",
    "X_selected = df_sampled_modified[top_features]\n",
    "\n",
    "y_selected = df_sampled['DEFAULT_STATUS_ENCODED']\n",
    "\n",
    "from sklearn.model_selection import train_test_split\n",
    "X_train, X_test, y_train, y_test = train_test_split(X_selected, y_selected, test_size=0.20, random_state=42, stratify=y_selected)\n",
    "\n",
    "from sklearn.ensemble import RandomForestClassifier\n",
    "from sklearn.metrics import classification_report, confusion_matrix, accuracy_score\n",
    "\n",
    "# Ensure any missing values are filled in the split datasets (might be redundant if df_sampled had no NaNs after filling)\n",
    "X_train = X_train.fillna(0)\n",
    "X_test = X_test.fillna(0)\n",
    "\n",
    "rf_clf = RandomForestClassifier(n_estimators=100, random_state=42)\n",
    "rf_clf.fit(X_train, y_train) \n",
    "y_pred = rf_clf.predict(X_test)\n",
    "\n",
    "print(\"Accuracy:\", accuracy_score(y_test, y_pred))\n",
    "print(classification_report(y_test, y_pred))\n",
    "print(confusion_matrix(y_test, y_pred))\n"
   ]
  },
  {
   "cell_type": "code",
   "execution_count": 140,
   "id": "0f00eb1c",
   "metadata": {},
   "outputs": [
    {
     "data": {
      "text/html": [
       "<style>#sk-container-id-1 {color: black;background-color: white;}#sk-container-id-1 pre{padding: 0;}#sk-container-id-1 div.sk-toggleable {background-color: white;}#sk-container-id-1 label.sk-toggleable__label {cursor: pointer;display: block;width: 100%;margin-bottom: 0;padding: 0.3em;box-sizing: border-box;text-align: center;}#sk-container-id-1 label.sk-toggleable__label-arrow:before {content: \"▸\";float: left;margin-right: 0.25em;color: #696969;}#sk-container-id-1 label.sk-toggleable__label-arrow:hover:before {color: black;}#sk-container-id-1 div.sk-estimator:hover label.sk-toggleable__label-arrow:before {color: black;}#sk-container-id-1 div.sk-toggleable__content {max-height: 0;max-width: 0;overflow: hidden;text-align: left;background-color: #f0f8ff;}#sk-container-id-1 div.sk-toggleable__content pre {margin: 0.2em;color: black;border-radius: 0.25em;background-color: #f0f8ff;}#sk-container-id-1 input.sk-toggleable__control:checked~div.sk-toggleable__content {max-height: 200px;max-width: 100%;overflow: auto;}#sk-container-id-1 input.sk-toggleable__control:checked~label.sk-toggleable__label-arrow:before {content: \"▾\";}#sk-container-id-1 div.sk-estimator input.sk-toggleable__control:checked~label.sk-toggleable__label {background-color: #d4ebff;}#sk-container-id-1 div.sk-label input.sk-toggleable__control:checked~label.sk-toggleable__label {background-color: #d4ebff;}#sk-container-id-1 input.sk-hidden--visually {border: 0;clip: rect(1px 1px 1px 1px);clip: rect(1px, 1px, 1px, 1px);height: 1px;margin: -1px;overflow: hidden;padding: 0;position: absolute;width: 1px;}#sk-container-id-1 div.sk-estimator {font-family: monospace;background-color: #f0f8ff;border: 1px dotted black;border-radius: 0.25em;box-sizing: border-box;margin-bottom: 0.5em;}#sk-container-id-1 div.sk-estimator:hover {background-color: #d4ebff;}#sk-container-id-1 div.sk-parallel-item::after {content: \"\";width: 100%;border-bottom: 1px solid gray;flex-grow: 1;}#sk-container-id-1 div.sk-label:hover label.sk-toggleable__label {background-color: #d4ebff;}#sk-container-id-1 div.sk-serial::before {content: \"\";position: absolute;border-left: 1px solid gray;box-sizing: border-box;top: 0;bottom: 0;left: 50%;z-index: 0;}#sk-container-id-1 div.sk-serial {display: flex;flex-direction: column;align-items: center;background-color: white;padding-right: 0.2em;padding-left: 0.2em;position: relative;}#sk-container-id-1 div.sk-item {position: relative;z-index: 1;}#sk-container-id-1 div.sk-parallel {display: flex;align-items: stretch;justify-content: center;background-color: white;position: relative;}#sk-container-id-1 div.sk-item::before, #sk-container-id-1 div.sk-parallel-item::before {content: \"\";position: absolute;border-left: 1px solid gray;box-sizing: border-box;top: 0;bottom: 0;left: 50%;z-index: -1;}#sk-container-id-1 div.sk-parallel-item {display: flex;flex-direction: column;z-index: 1;position: relative;background-color: white;}#sk-container-id-1 div.sk-parallel-item:first-child::after {align-self: flex-end;width: 50%;}#sk-container-id-1 div.sk-parallel-item:last-child::after {align-self: flex-start;width: 50%;}#sk-container-id-1 div.sk-parallel-item:only-child::after {width: 0;}#sk-container-id-1 div.sk-dashed-wrapped {border: 1px dashed gray;margin: 0 0.4em 0.5em 0.4em;box-sizing: border-box;padding-bottom: 0.4em;background-color: white;}#sk-container-id-1 div.sk-label label {font-family: monospace;font-weight: bold;display: inline-block;line-height: 1.2em;}#sk-container-id-1 div.sk-label-container {text-align: center;}#sk-container-id-1 div.sk-container {/* jupyter's `normalize.less` sets `[hidden] { display: none; }` but bootstrap.min.css set `[hidden] { display: none !important; }` so we also need the `!important` here to be able to override the default hidden behavior on the sphinx rendered scikit-learn.org. See: https://github.com/scikit-learn/scikit-learn/issues/21755 */display: inline-block !important;position: relative;}#sk-container-id-1 div.sk-text-repr-fallback {display: none;}</style><div id=\"sk-container-id-1\" class=\"sk-top-container\"><div class=\"sk-text-repr-fallback\"><pre>RandomForestClassifier(random_state=42)</pre><b>In a Jupyter environment, please rerun this cell to show the HTML representation or trust the notebook. <br />On GitHub, the HTML representation is unable to render, please try loading this page with nbviewer.org.</b></div><div class=\"sk-container\" hidden><div class=\"sk-item\"><div class=\"sk-estimator sk-toggleable\"><input class=\"sk-toggleable__control sk-hidden--visually\" id=\"sk-estimator-id-1\" type=\"checkbox\" checked><label for=\"sk-estimator-id-1\" class=\"sk-toggleable__label sk-toggleable__label-arrow\">RandomForestClassifier</label><div class=\"sk-toggleable__content\"><pre>RandomForestClassifier(random_state=42)</pre></div></div></div></div></div>"
      ],
      "text/plain": [
       "RandomForestClassifier(random_state=42)"
      ]
     },
     "execution_count": 140,
     "metadata": {},
     "output_type": "execute_result"
    }
   ],
   "source": [
    "from sklearn.ensemble import RandomForestClassifier\n",
    "from sklearn.metrics import classification_report, confusion_matrix, accuracy_score\n",
    "X_train = X_train.fillna(0)\n",
    "X_test = X_test.fillna(0)\n",
    "rf_clf = RandomForestClassifier(n_estimators=100, random_state=42)\n",
    "\n",
    "rf_clf.fit(X_train, y_train)"
   ]
  },
  {
   "cell_type": "code",
   "execution_count": 154,
   "id": "812c53b5",
   "metadata": {},
   "outputs": [
    {
     "data": {
      "text/plain": [
       "Index(['REP_PERD_MTHS', 'DIS_AMT', 'avg_credit_to_debit_amt_ratio_3_weeks',\n",
       "       'schm_code_encoded', 'avg_eod_bal_3_weeks',\n",
       "       'AVG_DEBIT_CREDIT_COUNT_RATIO', 'FLOW_AMT', 'CUST_AGE',\n",
       "       'no_of_loan_accounts'],\n",
       "      dtype='object')"
      ]
     },
     "execution_count": 154,
     "metadata": {},
     "output_type": "execute_result"
    }
   ],
   "source": [
    "X_selected.columns"
   ]
  },
  {
   "cell_type": "code",
   "execution_count": 141,
   "id": "a98f9fd2",
   "metadata": {},
   "outputs": [
    {
     "name": "stdout",
     "output_type": "stream",
     "text": [
      "Accuracy: 0.9354838709677419\n",
      "              precision    recall  f1-score   support\n",
      "\n",
      "           0       0.91      1.00      0.95        20\n",
      "           1       1.00      0.82      0.90        11\n",
      "\n",
      "    accuracy                           0.94        31\n",
      "   macro avg       0.95      0.91      0.93        31\n",
      "weighted avg       0.94      0.94      0.93        31\n",
      "\n",
      "[[20  0]\n",
      " [ 2  9]]\n"
     ]
    }
   ],
   "source": [
    "\n",
    "y_pred = rf_clf.predict(X_test)\n",
    "\n",
    "print(\"Accuracy:\", accuracy_score(y_test, y_pred))\n",
    "print(classification_report(y_test, y_pred))\n",
    "print(confusion_matrix(y_test, y_pred))\n"
   ]
  },
  {
   "cell_type": "code",
   "execution_count": 142,
   "id": "98863649",
   "metadata": {},
   "outputs": [
    {
     "data": {
      "image/png": "[encoded data removed]",
      "text/plain": [
       "<Figure size 576x432 with 2 Axes>"
      ]
     },
     "metadata": {
      "needs_background": "light"
     },
     "output_type": "display_data"
    }
   ],
   "source": [
    "from sklearn.metrics import confusion_matrix\n",
    "\n",
    "cm = confusion_matrix(y_test, y_pred)\n",
    "\n",
    "# Create a heatmap for the confusion matrix\n",
    "plt.figure(figsize=(8, 6))\n",
    "sns.heatmap(cm, annot=True, cmap='Blues', fmt='d')\n",
    "plt.title('Confusion Matrix')\n",
    "plt.xlabel('Predicted Labels')\n",
    "plt.ylabel('True Labels')\n",
    "plt.show()"
   ]
  },
  {
   "cell_type": "code",
   "execution_count": 143,
   "id": "f1058ac2",
   "metadata": {},
   "outputs": [],
   "source": [
    "import pickle\n",
    "filename = 'Nohyperparameter_01.sav'\n",
    "pickle.dump(rf_clf, open(filename, 'wb'))\n"
   ]
  },
  {
   "cell_type": "markdown",
   "id": "d88fdfc1",
   "metadata": {},
   "source": [
    "# HYPERPARAMETER TUNING "
   ]
  },
  {
   "cell_type": "code",
   "execution_count": 144,
   "id": "a766bb08",
   "metadata": {},
   "outputs": [
    {
     "name": "stderr",
     "output_type": "stream",
     "text": [
      "/Users/asha.anab/opt/anaconda3/lib/python3.9/site-packages/sklearn/ensemble/_forest.py:424: FutureWarning: `max_features='auto'` has been deprecated in 1.1 and will be removed in 1.3. To keep the past behaviour, explicitly set `max_features='sqrt'` or remove this parameter as it is also the default value for RandomForestClassifiers and ExtraTreesClassifiers.\n",
      "  warn(\n",
      "/Users/asha.anab/opt/anaconda3/lib/python3.9/site-packages/sklearn/ensemble/_forest.py:424: FutureWarning: `max_features='auto'` has been deprecated in 1.1 and will be removed in 1.3. To keep the past behaviour, explicitly set `max_features='sqrt'` or remove this parameter as it is also the default value for RandomForestClassifiers and ExtraTreesClassifiers.\n",
      "  warn(\n",
      "/Users/asha.anab/opt/anaconda3/lib/python3.9/site-packages/sklearn/ensemble/_forest.py:424: FutureWarning: `max_features='auto'` has been deprecated in 1.1 and will be removed in 1.3. To keep the past behaviour, explicitly set `max_features='sqrt'` or remove this parameter as it is also the default value for RandomForestClassifiers and ExtraTreesClassifiers.\n",
      "  warn(\n",
      "/Users/asha.anab/opt/anaconda3/lib/python3.9/site-packages/sklearn/ensemble/_forest.py:424: FutureWarning: `max_features='auto'` has been deprecated in 1.1 and will be removed in 1.3. To keep the past behaviour, explicitly set `max_features='sqrt'` or remove this parameter as it is also the default value for RandomForestClassifiers and ExtraTreesClassifiers.\n",
      "  warn(\n",
      "/Users/asha.anab/opt/anaconda3/lib/python3.9/site-packages/sklearn/ensemble/_forest.py:424: FutureWarning: `max_features='auto'` has been deprecated in 1.1 and will be removed in 1.3. To keep the past behaviour, explicitly set `max_features='sqrt'` or remove this parameter as it is also the default value for RandomForestClassifiers and ExtraTreesClassifiers.\n",
      "  warn(\n",
      "/Users/asha.anab/opt/anaconda3/lib/python3.9/site-packages/sklearn/ensemble/_forest.py:424: FutureWarning: `max_features='auto'` has been deprecated in 1.1 and will be removed in 1.3. To keep the past behaviour, explicitly set `max_features='sqrt'` or remove this parameter as it is also the default value for RandomForestClassifiers and ExtraTreesClassifiers.\n",
      "  warn(\n",
      "/Users/asha.anab/opt/anaconda3/lib/python3.9/site-packages/sklearn/ensemble/_forest.py:424: FutureWarning: `max_features='auto'` has been deprecated in 1.1 and will be removed in 1.3. To keep the past behaviour, explicitly set `max_features='sqrt'` or remove this parameter as it is also the default value for RandomForestClassifiers and ExtraTreesClassifiers.\n",
      "  warn(\n",
      "/Users/asha.anab/opt/anaconda3/lib/python3.9/site-packages/sklearn/ensemble/_forest.py:424: FutureWarning: `max_features='auto'` has been deprecated in 1.1 and will be removed in 1.3. To keep the past behaviour, explicitly set `max_features='sqrt'` or remove this parameter as it is also the default value for RandomForestClassifiers and ExtraTreesClassifiers.\n",
      "  warn(\n",
      "/Users/asha.anab/opt/anaconda3/lib/python3.9/site-packages/sklearn/ensemble/_forest.py:424: FutureWarning: `max_features='auto'` has been deprecated in 1.1 and will be removed in 1.3. To keep the past behaviour, explicitly set `max_features='sqrt'` or remove this parameter as it is also the default value for RandomForestClassifiers and ExtraTreesClassifiers.\n",
      "  warn(\n",
      "/Users/asha.anab/opt/anaconda3/lib/python3.9/site-packages/sklearn/ensemble/_forest.py:424: FutureWarning: `max_features='auto'` has been deprecated in 1.1 and will be removed in 1.3. To keep the past behaviour, explicitly set `max_features='sqrt'` or remove this parameter as it is also the default value for RandomForestClassifiers and ExtraTreesClassifiers.\n",
      "  warn(\n",
      "/Users/asha.anab/opt/anaconda3/lib/python3.9/site-packages/sklearn/ensemble/_forest.py:424: FutureWarning: `max_features='auto'` has been deprecated in 1.1 and will be removed in 1.3. To keep the past behaviour, explicitly set `max_features='sqrt'` or remove this parameter as it is also the default value for RandomForestClassifiers and ExtraTreesClassifiers.\n",
      "  warn(\n",
      "/Users/asha.anab/opt/anaconda3/lib/python3.9/site-packages/sklearn/ensemble/_forest.py:424: FutureWarning: `max_features='auto'` has been deprecated in 1.1 and will be removed in 1.3. To keep the past behaviour, explicitly set `max_features='sqrt'` or remove this parameter as it is also the default value for RandomForestClassifiers and ExtraTreesClassifiers.\n",
      "  warn(\n",
      "/Users/asha.anab/opt/anaconda3/lib/python3.9/site-packages/sklearn/ensemble/_forest.py:424: FutureWarning: `max_features='auto'` has been deprecated in 1.1 and will be removed in 1.3. To keep the past behaviour, explicitly set `max_features='sqrt'` or remove this parameter as it is also the default value for RandomForestClassifiers and ExtraTreesClassifiers.\n",
      "  warn(\n",
      "/Users/asha.anab/opt/anaconda3/lib/python3.9/site-packages/sklearn/ensemble/_forest.py:424: FutureWarning: `max_features='auto'` has been deprecated in 1.1 and will be removed in 1.3. To keep the past behaviour, explicitly set `max_features='sqrt'` or remove this parameter as it is also the default value for RandomForestClassifiers and ExtraTreesClassifiers.\n",
      "  warn(\n",
      "/Users/asha.anab/opt/anaconda3/lib/python3.9/site-packages/sklearn/ensemble/_forest.py:424: FutureWarning: `max_features='auto'` has been deprecated in 1.1 and will be removed in 1.3. To keep the past behaviour, explicitly set `max_features='sqrt'` or remove this parameter as it is also the default value for RandomForestClassifiers and ExtraTreesClassifiers.\n",
      "  warn(\n",
      "/Users/asha.anab/opt/anaconda3/lib/python3.9/site-packages/sklearn/ensemble/_forest.py:424: FutureWarning: `max_features='auto'` has been deprecated in 1.1 and will be removed in 1.3. To keep the past behaviour, explicitly set `max_features='sqrt'` or remove this parameter as it is also the default value for RandomForestClassifiers and ExtraTreesClassifiers.\n",
      "  warn(\n",
      "/Users/asha.anab/opt/anaconda3/lib/python3.9/site-packages/sklearn/ensemble/_forest.py:424: FutureWarning: `max_features='auto'` has been deprecated in 1.1 and will be removed in 1.3. To keep the past behaviour, explicitly set `max_features='sqrt'` or remove this parameter as it is also the default value for RandomForestClassifiers and ExtraTreesClassifiers.\n",
      "  warn(\n",
      "/Users/asha.anab/opt/anaconda3/lib/python3.9/site-packages/sklearn/ensemble/_forest.py:424: FutureWarning: `max_features='auto'` has been deprecated in 1.1 and will be removed in 1.3. To keep the past behaviour, explicitly set `max_features='sqrt'` or remove this parameter as it is also the default value for RandomForestClassifiers and ExtraTreesClassifiers.\n",
      "  warn(\n",
      "/Users/asha.anab/opt/anaconda3/lib/python3.9/site-packages/sklearn/ensemble/_forest.py:424: FutureWarning: `max_features='auto'` has been deprecated in 1.1 and will be removed in 1.3. To keep the past behaviour, explicitly set `max_features='sqrt'` or remove this parameter as it is also the default value for RandomForestClassifiers and ExtraTreesClassifiers.\n",
      "  warn(\n",
      "/Users/asha.anab/opt/anaconda3/lib/python3.9/site-packages/sklearn/ensemble/_forest.py:424: FutureWarning: `max_features='auto'` has been deprecated in 1.1 and will be removed in 1.3. To keep the past behaviour, explicitly set `max_features='sqrt'` or remove this parameter as it is also the default value for RandomForestClassifiers and ExtraTreesClassifiers.\n",
      "  warn(\n",
      "/Users/asha.anab/opt/anaconda3/lib/python3.9/site-packages/sklearn/ensemble/_forest.py:424: FutureWarning: `max_features='auto'` has been deprecated in 1.1 and will be removed in 1.3. To keep the past behaviour, explicitly set `max_features='sqrt'` or remove this parameter as it is also the default value for RandomForestClassifiers and ExtraTreesClassifiers.\n",
      "  warn(\n",
      "/Users/asha.anab/opt/anaconda3/lib/python3.9/site-packages/sklearn/ensemble/_forest.py:424: FutureWarning: `max_features='auto'` has been deprecated in 1.1 and will be removed in 1.3. To keep the past behaviour, explicitly set `max_features='sqrt'` or remove this parameter as it is also the default value for RandomForestClassifiers and ExtraTreesClassifiers.\n",
      "  warn(\n",
      "/Users/asha.anab/opt/anaconda3/lib/python3.9/site-packages/sklearn/ensemble/_forest.py:424: FutureWarning: `max_features='auto'` has been deprecated in 1.1 and will be removed in 1.3. To keep the past behaviour, explicitly set `max_features='sqrt'` or remove this parameter as it is also the default value for RandomForestClassifiers and ExtraTreesClassifiers.\n",
      "  warn(\n",
      "/Users/asha.anab/opt/anaconda3/lib/python3.9/site-packages/sklearn/ensemble/_forest.py:424: FutureWarning: `max_features='auto'` has been deprecated in 1.1 and will be removed in 1.3. To keep the past behaviour, explicitly set `max_features='sqrt'` or remove this parameter as it is also the default value for RandomForestClassifiers and ExtraTreesClassifiers.\n",
      "  warn(\n",
      "/Users/asha.anab/opt/anaconda3/lib/python3.9/site-packages/sklearn/ensemble/_forest.py:424: FutureWarning: `max_features='auto'` has been deprecated in 1.1 and will be removed in 1.3. To keep the past behaviour, explicitly set `max_features='sqrt'` or remove this parameter as it is also the default value for RandomForestClassifiers and ExtraTreesClassifiers.\n",
      "  warn(\n",
      "/Users/asha.anab/opt/anaconda3/lib/python3.9/site-packages/sklearn/ensemble/_forest.py:424: FutureWarning: `max_features='auto'` has been deprecated in 1.1 and will be removed in 1.3. To keep the past behaviour, explicitly set `max_features='sqrt'` or remove this parameter as it is also the default value for RandomForestClassifiers and ExtraTreesClassifiers.\n",
      "  warn(\n",
      "/Users/asha.anab/opt/anaconda3/lib/python3.9/site-packages/sklearn/ensemble/_forest.py:424: FutureWarning: `max_features='auto'` has been deprecated in 1.1 and will be removed in 1.3. To keep the past behaviour, explicitly set `max_features='sqrt'` or remove this parameter as it is also the default value for RandomForestClassifiers and ExtraTreesClassifiers.\n",
      "  warn(\n",
      "/Users/asha.anab/opt/anaconda3/lib/python3.9/site-packages/sklearn/ensemble/_forest.py:424: FutureWarning: `max_features='auto'` has been deprecated in 1.1 and will be removed in 1.3. To keep the past behaviour, explicitly set `max_features='sqrt'` or remove this parameter as it is also the default value for RandomForestClassifiers and ExtraTreesClassifiers.\n",
      "  warn(\n",
      "/Users/asha.anab/opt/anaconda3/lib/python3.9/site-packages/sklearn/ensemble/_forest.py:424: FutureWarning: `max_features='auto'` has been deprecated in 1.1 and will be removed in 1.3. To keep the past behaviour, explicitly set `max_features='sqrt'` or remove this parameter as it is also the default value for RandomForestClassifiers and ExtraTreesClassifiers.\n",
      "  warn(\n",
      "/Users/asha.anab/opt/anaconda3/lib/python3.9/site-packages/sklearn/ensemble/_forest.py:424: FutureWarning: `max_features='auto'` has been deprecated in 1.1 and will be removed in 1.3. To keep the past behaviour, explicitly set `max_features='sqrt'` or remove this parameter as it is also the default value for RandomForestClassifiers and ExtraTreesClassifiers.\n",
      "  warn(\n",
      "/Users/asha.anab/opt/anaconda3/lib/python3.9/site-packages/sklearn/ensemble/_forest.py:424: FutureWarning: `max_features='auto'` has been deprecated in 1.1 and will be removed in 1.3. To keep the past behaviour, explicitly set `max_features='sqrt'` or remove this parameter as it is also the default value for RandomForestClassifiers and ExtraTreesClassifiers.\n",
      "  warn(\n",
      "/Users/asha.anab/opt/anaconda3/lib/python3.9/site-packages/sklearn/ensemble/_forest.py:424: FutureWarning: `max_features='auto'` has been deprecated in 1.1 and will be removed in 1.3. To keep the past behaviour, explicitly set `max_features='sqrt'` or remove this parameter as it is also the default value for RandomForestClassifiers and ExtraTreesClassifiers.\n",
      "  warn(\n",
      "/Users/asha.anab/opt/anaconda3/lib/python3.9/site-packages/sklearn/ensemble/_forest.py:424: FutureWarning: `max_features='auto'` has been deprecated in 1.1 and will be removed in 1.3. To keep the past behaviour, explicitly set `max_features='sqrt'` or remove this parameter as it is also the default value for RandomForestClassifiers and ExtraTreesClassifiers.\n",
      "  warn(\n",
      "/Users/asha.anab/opt/anaconda3/lib/python3.9/site-packages/sklearn/ensemble/_forest.py:424: FutureWarning: `max_features='auto'` has been deprecated in 1.1 and will be removed in 1.3. To keep the past behaviour, explicitly set `max_features='sqrt'` or remove this parameter as it is also the default value for RandomForestClassifiers and ExtraTreesClassifiers.\n",
      "  warn(\n",
      "/Users/asha.anab/opt/anaconda3/lib/python3.9/site-packages/sklearn/ensemble/_forest.py:424: FutureWarning: `max_features='auto'` has been deprecated in 1.1 and will be removed in 1.3. To keep the past behaviour, explicitly set `max_features='sqrt'` or remove this parameter as it is also the default value for RandomForestClassifiers and ExtraTreesClassifiers.\n",
      "  warn(\n",
      "/Users/asha.anab/opt/anaconda3/lib/python3.9/site-packages/sklearn/ensemble/_forest.py:424: FutureWarning: `max_features='auto'` has been deprecated in 1.1 and will be removed in 1.3. To keep the past behaviour, explicitly set `max_features='sqrt'` or remove this parameter as it is also the default value for RandomForestClassifiers and ExtraTreesClassifiers.\n",
      "  warn(\n",
      "/Users/asha.anab/opt/anaconda3/lib/python3.9/site-packages/sklearn/ensemble/_forest.py:424: FutureWarning: `max_features='auto'` has been deprecated in 1.1 and will be removed in 1.3. To keep the past behaviour, explicitly set `max_features='sqrt'` or remove this parameter as it is also the default value for RandomForestClassifiers and ExtraTreesClassifiers.\n",
      "  warn(\n",
      "/Users/asha.anab/opt/anaconda3/lib/python3.9/site-packages/sklearn/ensemble/_forest.py:424: FutureWarning: `max_features='auto'` has been deprecated in 1.1 and will be removed in 1.3. To keep the past behaviour, explicitly set `max_features='sqrt'` or remove this parameter as it is also the default value for RandomForestClassifiers and ExtraTreesClassifiers.\n",
      "  warn(\n",
      "/Users/asha.anab/opt/anaconda3/lib/python3.9/site-packages/sklearn/ensemble/_forest.py:424: FutureWarning: `max_features='auto'` has been deprecated in 1.1 and will be removed in 1.3. To keep the past behaviour, explicitly set `max_features='sqrt'` or remove this parameter as it is also the default value for RandomForestClassifiers and ExtraTreesClassifiers.\n",
      "  warn(\n",
      "/Users/asha.anab/opt/anaconda3/lib/python3.9/site-packages/sklearn/ensemble/_forest.py:424: FutureWarning: `max_features='auto'` has been deprecated in 1.1 and will be removed in 1.3. To keep the past behaviour, explicitly set `max_features='sqrt'` or remove this parameter as it is also the default value for RandomForestClassifiers and ExtraTreesClassifiers.\n",
      "  warn(\n",
      "/Users/asha.anab/opt/anaconda3/lib/python3.9/site-packages/sklearn/ensemble/_forest.py:424: FutureWarning: `max_features='auto'` has been deprecated in 1.1 and will be removed in 1.3. To keep the past behaviour, explicitly set `max_features='sqrt'` or remove this parameter as it is also the default value for RandomForestClassifiers and ExtraTreesClassifiers.\n",
      "  warn(\n",
      "/Users/asha.anab/opt/anaconda3/lib/python3.9/site-packages/sklearn/ensemble/_forest.py:424: FutureWarning: `max_features='auto'` has been deprecated in 1.1 and will be removed in 1.3. To keep the past behaviour, explicitly set `max_features='sqrt'` or remove this parameter as it is also the default value for RandomForestClassifiers and ExtraTreesClassifiers.\n",
      "  warn(\n",
      "/Users/asha.anab/opt/anaconda3/lib/python3.9/site-packages/sklearn/ensemble/_forest.py:424: FutureWarning: `max_features='auto'` has been deprecated in 1.1 and will be removed in 1.3. To keep the past behaviour, explicitly set `max_features='sqrt'` or remove this parameter as it is also the default value for RandomForestClassifiers and ExtraTreesClassifiers.\n",
      "  warn(\n",
      "/Users/asha.anab/opt/anaconda3/lib/python3.9/site-packages/sklearn/ensemble/_forest.py:424: FutureWarning: `max_features='auto'` has been deprecated in 1.1 and will be removed in 1.3. To keep the past behaviour, explicitly set `max_features='sqrt'` or remove this parameter as it is also the default value for RandomForestClassifiers and ExtraTreesClassifiers.\n",
      "  warn(\n",
      "/Users/asha.anab/opt/anaconda3/lib/python3.9/site-packages/sklearn/ensemble/_forest.py:424: FutureWarning: `max_features='auto'` has been deprecated in 1.1 and will be removed in 1.3. To keep the past behaviour, explicitly set `max_features='sqrt'` or remove this parameter as it is also the default value for RandomForestClassifiers and ExtraTreesClassifiers.\n",
      "  warn(\n",
      "/Users/asha.anab/opt/anaconda3/lib/python3.9/site-packages/sklearn/ensemble/_forest.py:424: FutureWarning: `max_features='auto'` has been deprecated in 1.1 and will be removed in 1.3. To keep the past behaviour, explicitly set `max_features='sqrt'` or remove this parameter as it is also the default value for RandomForestClassifiers and ExtraTreesClassifiers.\n",
      "  warn(\n",
      "/Users/asha.anab/opt/anaconda3/lib/python3.9/site-packages/sklearn/ensemble/_forest.py:424: FutureWarning: `max_features='auto'` has been deprecated in 1.1 and will be removed in 1.3. To keep the past behaviour, explicitly set `max_features='sqrt'` or remove this parameter as it is also the default value for RandomForestClassifiers and ExtraTreesClassifiers.\n",
      "  warn(\n",
      "/Users/asha.anab/opt/anaconda3/lib/python3.9/site-packages/sklearn/ensemble/_forest.py:424: FutureWarning: `max_features='auto'` has been deprecated in 1.1 and will be removed in 1.3. To keep the past behaviour, explicitly set `max_features='sqrt'` or remove this parameter as it is also the default value for RandomForestClassifiers and ExtraTreesClassifiers.\n",
      "  warn(\n",
      "/Users/asha.anab/opt/anaconda3/lib/python3.9/site-packages/sklearn/ensemble/_forest.py:424: FutureWarning: `max_features='auto'` has been deprecated in 1.1 and will be removed in 1.3. To keep the past behaviour, explicitly set `max_features='sqrt'` or remove this parameter as it is also the default value for RandomForestClassifiers and ExtraTreesClassifiers.\n",
      "  warn(\n",
      "/Users/asha.anab/opt/anaconda3/lib/python3.9/site-packages/sklearn/ensemble/_forest.py:424: FutureWarning: `max_features='auto'` has been deprecated in 1.1 and will be removed in 1.3. To keep the past behaviour, explicitly set `max_features='sqrt'` or remove this parameter as it is also the default value for RandomForestClassifiers and ExtraTreesClassifiers.\n",
      "  warn(\n",
      "/Users/asha.anab/opt/anaconda3/lib/python3.9/site-packages/sklearn/ensemble/_forest.py:424: FutureWarning: `max_features='auto'` has been deprecated in 1.1 and will be removed in 1.3. To keep the past behaviour, explicitly set `max_features='sqrt'` or remove this parameter as it is also the default value for RandomForestClassifiers and ExtraTreesClassifiers.\n",
      "  warn(\n",
      "/Users/asha.anab/opt/anaconda3/lib/python3.9/site-packages/sklearn/ensemble/_forest.py:424: FutureWarning: `max_features='auto'` has been deprecated in 1.1 and will be removed in 1.3. To keep the past behaviour, explicitly set `max_features='sqrt'` or remove this parameter as it is also the default value for RandomForestClassifiers and ExtraTreesClassifiers.\n",
      "  warn(\n",
      "/Users/asha.anab/opt/anaconda3/lib/python3.9/site-packages/sklearn/ensemble/_forest.py:424: FutureWarning: `max_features='auto'` has been deprecated in 1.1 and will be removed in 1.3. To keep the past behaviour, explicitly set `max_features='sqrt'` or remove this parameter as it is also the default value for RandomForestClassifiers and ExtraTreesClassifiers.\n",
      "  warn(\n",
      "/Users/asha.anab/opt/anaconda3/lib/python3.9/site-packages/sklearn/ensemble/_forest.py:424: FutureWarning: `max_features='auto'` has been deprecated in 1.1 and will be removed in 1.3. To keep the past behaviour, explicitly set `max_features='sqrt'` or remove this parameter as it is also the default value for RandomForestClassifiers and ExtraTreesClassifiers.\n",
      "  warn(\n",
      "/Users/asha.anab/opt/anaconda3/lib/python3.9/site-packages/sklearn/ensemble/_forest.py:424: FutureWarning: `max_features='auto'` has been deprecated in 1.1 and will be removed in 1.3. To keep the past behaviour, explicitly set `max_features='sqrt'` or remove this parameter as it is also the default value for RandomForestClassifiers and ExtraTreesClassifiers.\n",
      "  warn(\n",
      "/Users/asha.anab/opt/anaconda3/lib/python3.9/site-packages/sklearn/ensemble/_forest.py:424: FutureWarning: `max_features='auto'` has been deprecated in 1.1 and will be removed in 1.3. To keep the past behaviour, explicitly set `max_features='sqrt'` or remove this parameter as it is also the default value for RandomForestClassifiers and ExtraTreesClassifiers.\n",
      "  warn(\n",
      "/Users/asha.anab/opt/anaconda3/lib/python3.9/site-packages/sklearn/ensemble/_forest.py:424: FutureWarning: `max_features='auto'` has been deprecated in 1.1 and will be removed in 1.3. To keep the past behaviour, explicitly set `max_features='sqrt'` or remove this parameter as it is also the default value for RandomForestClassifiers and ExtraTreesClassifiers.\n",
      "  warn(\n",
      "/Users/asha.anab/opt/anaconda3/lib/python3.9/site-packages/sklearn/ensemble/_forest.py:424: FutureWarning: `max_features='auto'` has been deprecated in 1.1 and will be removed in 1.3. To keep the past behaviour, explicitly set `max_features='sqrt'` or remove this parameter as it is also the default value for RandomForestClassifiers and ExtraTreesClassifiers.\n",
      "  warn(\n",
      "/Users/asha.anab/opt/anaconda3/lib/python3.9/site-packages/sklearn/ensemble/_forest.py:424: FutureWarning: `max_features='auto'` has been deprecated in 1.1 and will be removed in 1.3. To keep the past behaviour, explicitly set `max_features='sqrt'` or remove this parameter as it is also the default value for RandomForestClassifiers and ExtraTreesClassifiers.\n",
      "  warn(\n",
      "/Users/asha.anab/opt/anaconda3/lib/python3.9/site-packages/sklearn/ensemble/_forest.py:424: FutureWarning: `max_features='auto'` has been deprecated in 1.1 and will be removed in 1.3. To keep the past behaviour, explicitly set `max_features='sqrt'` or remove this parameter as it is also the default value for RandomForestClassifiers and ExtraTreesClassifiers.\n",
      "  warn(\n",
      "/Users/asha.anab/opt/anaconda3/lib/python3.9/site-packages/sklearn/ensemble/_forest.py:424: FutureWarning: `max_features='auto'` has been deprecated in 1.1 and will be removed in 1.3. To keep the past behaviour, explicitly set `max_features='sqrt'` or remove this parameter as it is also the default value for RandomForestClassifiers and ExtraTreesClassifiers.\n",
      "  warn(\n",
      "/Users/asha.anab/opt/anaconda3/lib/python3.9/site-packages/sklearn/ensemble/_forest.py:424: FutureWarning: `max_features='auto'` has been deprecated in 1.1 and will be removed in 1.3. To keep the past behaviour, explicitly set `max_features='sqrt'` or remove this parameter as it is also the default value for RandomForestClassifiers and ExtraTreesClassifiers.\n",
      "  warn(\n",
      "/Users/asha.anab/opt/anaconda3/lib/python3.9/site-packages/sklearn/ensemble/_forest.py:424: FutureWarning: `max_features='auto'` has been deprecated in 1.1 and will be removed in 1.3. To keep the past behaviour, explicitly set `max_features='sqrt'` or remove this parameter as it is also the default value for RandomForestClassifiers and ExtraTreesClassifiers.\n",
      "  warn(\n",
      "/Users/asha.anab/opt/anaconda3/lib/python3.9/site-packages/sklearn/ensemble/_forest.py:424: FutureWarning: `max_features='auto'` has been deprecated in 1.1 and will be removed in 1.3. To keep the past behaviour, explicitly set `max_features='sqrt'` or remove this parameter as it is also the default value for RandomForestClassifiers and ExtraTreesClassifiers.\n",
      "  warn(\n",
      "/Users/asha.anab/opt/anaconda3/lib/python3.9/site-packages/sklearn/ensemble/_forest.py:424: FutureWarning: `max_features='auto'` has been deprecated in 1.1 and will be removed in 1.3. To keep the past behaviour, explicitly set `max_features='sqrt'` or remove this parameter as it is also the default value for RandomForestClassifiers and ExtraTreesClassifiers.\n",
      "  warn(\n",
      "/Users/asha.anab/opt/anaconda3/lib/python3.9/site-packages/sklearn/ensemble/_forest.py:424: FutureWarning: `max_features='auto'` has been deprecated in 1.1 and will be removed in 1.3. To keep the past behaviour, explicitly set `max_features='sqrt'` or remove this parameter as it is also the default value for RandomForestClassifiers and ExtraTreesClassifiers.\n",
      "  warn(\n",
      "/Users/asha.anab/opt/anaconda3/lib/python3.9/site-packages/sklearn/ensemble/_forest.py:424: FutureWarning: `max_features='auto'` has been deprecated in 1.1 and will be removed in 1.3. To keep the past behaviour, explicitly set `max_features='sqrt'` or remove this parameter as it is also the default value for RandomForestClassifiers and ExtraTreesClassifiers.\n",
      "  warn(\n",
      "/Users/asha.anab/opt/anaconda3/lib/python3.9/site-packages/sklearn/ensemble/_forest.py:424: FutureWarning: `max_features='auto'` has been deprecated in 1.1 and will be removed in 1.3. To keep the past behaviour, explicitly set `max_features='sqrt'` or remove this parameter as it is also the default value for RandomForestClassifiers and ExtraTreesClassifiers.\n",
      "  warn(\n",
      "/Users/asha.anab/opt/anaconda3/lib/python3.9/site-packages/sklearn/ensemble/_forest.py:424: FutureWarning: `max_features='auto'` has been deprecated in 1.1 and will be removed in 1.3. To keep the past behaviour, explicitly set `max_features='sqrt'` or remove this parameter as it is also the default value for RandomForestClassifiers and ExtraTreesClassifiers.\n",
      "  warn(\n",
      "/Users/asha.anab/opt/anaconda3/lib/python3.9/site-packages/sklearn/ensemble/_forest.py:424: FutureWarning: `max_features='auto'` has been deprecated in 1.1 and will be removed in 1.3. To keep the past behaviour, explicitly set `max_features='sqrt'` or remove this parameter as it is also the default value for RandomForestClassifiers and ExtraTreesClassifiers.\n",
      "  warn(\n",
      "/Users/asha.anab/opt/anaconda3/lib/python3.9/site-packages/sklearn/ensemble/_forest.py:424: FutureWarning: `max_features='auto'` has been deprecated in 1.1 and will be removed in 1.3. To keep the past behaviour, explicitly set `max_features='sqrt'` or remove this parameter as it is also the default value for RandomForestClassifiers and ExtraTreesClassifiers.\n",
      "  warn(\n",
      "/Users/asha.anab/opt/anaconda3/lib/python3.9/site-packages/sklearn/ensemble/_forest.py:424: FutureWarning: `max_features='auto'` has been deprecated in 1.1 and will be removed in 1.3. To keep the past behaviour, explicitly set `max_features='sqrt'` or remove this parameter as it is also the default value for RandomForestClassifiers and ExtraTreesClassifiers.\n",
      "  warn(\n",
      "/Users/asha.anab/opt/anaconda3/lib/python3.9/site-packages/sklearn/ensemble/_forest.py:424: FutureWarning: `max_features='auto'` has been deprecated in 1.1 and will be removed in 1.3. To keep the past behaviour, explicitly set `max_features='sqrt'` or remove this parameter as it is also the default value for RandomForestClassifiers and ExtraTreesClassifiers.\n",
      "  warn(\n",
      "/Users/asha.anab/opt/anaconda3/lib/python3.9/site-packages/sklearn/ensemble/_forest.py:424: FutureWarning: `max_features='auto'` has been deprecated in 1.1 and will be removed in 1.3. To keep the past behaviour, explicitly set `max_features='sqrt'` or remove this parameter as it is also the default value for RandomForestClassifiers and ExtraTreesClassifiers.\n",
      "  warn(\n",
      "/Users/asha.anab/opt/anaconda3/lib/python3.9/site-packages/sklearn/ensemble/_forest.py:424: FutureWarning: `max_features='auto'` has been deprecated in 1.1 and will be removed in 1.3. To keep the past behaviour, explicitly set `max_features='sqrt'` or remove this parameter as it is also the default value for RandomForestClassifiers and ExtraTreesClassifiers.\n",
      "  warn(\n",
      "/Users/asha.anab/opt/anaconda3/lib/python3.9/site-packages/sklearn/ensemble/_forest.py:424: FutureWarning: `max_features='auto'` has been deprecated in 1.1 and will be removed in 1.3. To keep the past behaviour, explicitly set `max_features='sqrt'` or remove this parameter as it is also the default value for RandomForestClassifiers and ExtraTreesClassifiers.\n",
      "  warn(\n",
      "/Users/asha.anab/opt/anaconda3/lib/python3.9/site-packages/sklearn/ensemble/_forest.py:424: FutureWarning: `max_features='auto'` has been deprecated in 1.1 and will be removed in 1.3. To keep the past behaviour, explicitly set `max_features='sqrt'` or remove this parameter as it is also the default value for RandomForestClassifiers and ExtraTreesClassifiers.\n",
      "  warn(\n",
      "/Users/asha.anab/opt/anaconda3/lib/python3.9/site-packages/sklearn/ensemble/_forest.py:424: FutureWarning: `max_features='auto'` has been deprecated in 1.1 and will be removed in 1.3. To keep the past behaviour, explicitly set `max_features='sqrt'` or remove this parameter as it is also the default value for RandomForestClassifiers and ExtraTreesClassifiers.\n",
      "  warn(\n",
      "/Users/asha.anab/opt/anaconda3/lib/python3.9/site-packages/sklearn/ensemble/_forest.py:424: FutureWarning: `max_features='auto'` has been deprecated in 1.1 and will be removed in 1.3. To keep the past behaviour, explicitly set `max_features='sqrt'` or remove this parameter as it is also the default value for RandomForestClassifiers and ExtraTreesClassifiers.\n",
      "  warn(\n",
      "/Users/asha.anab/opt/anaconda3/lib/python3.9/site-packages/sklearn/ensemble/_forest.py:424: FutureWarning: `max_features='auto'` has been deprecated in 1.1 and will be removed in 1.3. To keep the past behaviour, explicitly set `max_features='sqrt'` or remove this parameter as it is also the default value for RandomForestClassifiers and ExtraTreesClassifiers.\n",
      "  warn(\n",
      "/Users/asha.anab/opt/anaconda3/lib/python3.9/site-packages/sklearn/ensemble/_forest.py:424: FutureWarning: `max_features='auto'` has been deprecated in 1.1 and will be removed in 1.3. To keep the past behaviour, explicitly set `max_features='sqrt'` or remove this parameter as it is also the default value for RandomForestClassifiers and ExtraTreesClassifiers.\n",
      "  warn(\n",
      "/Users/asha.anab/opt/anaconda3/lib/python3.9/site-packages/sklearn/ensemble/_forest.py:424: FutureWarning: `max_features='auto'` has been deprecated in 1.1 and will be removed in 1.3. To keep the past behaviour, explicitly set `max_features='sqrt'` or remove this parameter as it is also the default value for RandomForestClassifiers and ExtraTreesClassifiers.\n",
      "  warn(\n",
      "/Users/asha.anab/opt/anaconda3/lib/python3.9/site-packages/sklearn/ensemble/_forest.py:424: FutureWarning: `max_features='auto'` has been deprecated in 1.1 and will be removed in 1.3. To keep the past behaviour, explicitly set `max_features='sqrt'` or remove this parameter as it is also the default value for RandomForestClassifiers and ExtraTreesClassifiers.\n",
      "  warn(\n",
      "/Users/asha.anab/opt/anaconda3/lib/python3.9/site-packages/sklearn/ensemble/_forest.py:424: FutureWarning: `max_features='auto'` has been deprecated in 1.1 and will be removed in 1.3. To keep the past behaviour, explicitly set `max_features='sqrt'` or remove this parameter as it is also the default value for RandomForestClassifiers and ExtraTreesClassifiers.\n",
      "  warn(\n",
      "/Users/asha.anab/opt/anaconda3/lib/python3.9/site-packages/sklearn/ensemble/_forest.py:424: FutureWarning: `max_features='auto'` has been deprecated in 1.1 and will be removed in 1.3. To keep the past behaviour, explicitly set `max_features='sqrt'` or remove this parameter as it is also the default value for RandomForestClassifiers and ExtraTreesClassifiers.\n",
      "  warn(\n",
      "/Users/asha.anab/opt/anaconda3/lib/python3.9/site-packages/sklearn/ensemble/_forest.py:424: FutureWarning: `max_features='auto'` has been deprecated in 1.1 and will be removed in 1.3. To keep the past behaviour, explicitly set `max_features='sqrt'` or remove this parameter as it is also the default value for RandomForestClassifiers and ExtraTreesClassifiers.\n",
      "  warn(\n",
      "/Users/asha.anab/opt/anaconda3/lib/python3.9/site-packages/sklearn/ensemble/_forest.py:424: FutureWarning: `max_features='auto'` has been deprecated in 1.1 and will be removed in 1.3. To keep the past behaviour, explicitly set `max_features='sqrt'` or remove this parameter as it is also the default value for RandomForestClassifiers and ExtraTreesClassifiers.\n",
      "  warn(\n",
      "/Users/asha.anab/opt/anaconda3/lib/python3.9/site-packages/sklearn/ensemble/_forest.py:424: FutureWarning: `max_features='auto'` has been deprecated in 1.1 and will be removed in 1.3. To keep the past behaviour, explicitly set `max_features='sqrt'` or remove this parameter as it is also the default value for RandomForestClassifiers and ExtraTreesClassifiers.\n",
      "  warn(\n",
      "/Users/asha.anab/opt/anaconda3/lib/python3.9/site-packages/sklearn/ensemble/_forest.py:424: FutureWarning: `max_features='auto'` has been deprecated in 1.1 and will be removed in 1.3. To keep the past behaviour, explicitly set `max_features='sqrt'` or remove this parameter as it is also the default value for RandomForestClassifiers and ExtraTreesClassifiers.\n",
      "  warn(\n",
      "/Users/asha.anab/opt/anaconda3/lib/python3.9/site-packages/sklearn/ensemble/_forest.py:424: FutureWarning: `max_features='auto'` has been deprecated in 1.1 and will be removed in 1.3. To keep the past behaviour, explicitly set `max_features='sqrt'` or remove this parameter as it is also the default value for RandomForestClassifiers and ExtraTreesClassifiers.\n",
      "  warn(\n",
      "/Users/asha.anab/opt/anaconda3/lib/python3.9/site-packages/sklearn/ensemble/_forest.py:424: FutureWarning: `max_features='auto'` has been deprecated in 1.1 and will be removed in 1.3. To keep the past behaviour, explicitly set `max_features='sqrt'` or remove this parameter as it is also the default value for RandomForestClassifiers and ExtraTreesClassifiers.\n",
      "  warn(\n",
      "/Users/asha.anab/opt/anaconda3/lib/python3.9/site-packages/sklearn/ensemble/_forest.py:424: FutureWarning: `max_features='auto'` has been deprecated in 1.1 and will be removed in 1.3. To keep the past behaviour, explicitly set `max_features='sqrt'` or remove this parameter as it is also the default value for RandomForestClassifiers and ExtraTreesClassifiers.\n",
      "  warn(\n",
      "/Users/asha.anab/opt/anaconda3/lib/python3.9/site-packages/sklearn/ensemble/_forest.py:424: FutureWarning: `max_features='auto'` has been deprecated in 1.1 and will be removed in 1.3. To keep the past behaviour, explicitly set `max_features='sqrt'` or remove this parameter as it is also the default value for RandomForestClassifiers and ExtraTreesClassifiers.\n",
      "  warn(\n",
      "/Users/asha.anab/opt/anaconda3/lib/python3.9/site-packages/sklearn/ensemble/_forest.py:424: FutureWarning: `max_features='auto'` has been deprecated in 1.1 and will be removed in 1.3. To keep the past behaviour, explicitly set `max_features='sqrt'` or remove this parameter as it is also the default value for RandomForestClassifiers and ExtraTreesClassifiers.\n",
      "  warn(\n",
      "/Users/asha.anab/opt/anaconda3/lib/python3.9/site-packages/sklearn/ensemble/_forest.py:424: FutureWarning: `max_features='auto'` has been deprecated in 1.1 and will be removed in 1.3. To keep the past behaviour, explicitly set `max_features='sqrt'` or remove this parameter as it is also the default value for RandomForestClassifiers and ExtraTreesClassifiers.\n",
      "  warn(\n",
      "/Users/asha.anab/opt/anaconda3/lib/python3.9/site-packages/sklearn/ensemble/_forest.py:424: FutureWarning: `max_features='auto'` has been deprecated in 1.1 and will be removed in 1.3. To keep the past behaviour, explicitly set `max_features='sqrt'` or remove this parameter as it is also the default value for RandomForestClassifiers and ExtraTreesClassifiers.\n",
      "  warn(\n",
      "/Users/asha.anab/opt/anaconda3/lib/python3.9/site-packages/sklearn/ensemble/_forest.py:424: FutureWarning: `max_features='auto'` has been deprecated in 1.1 and will be removed in 1.3. To keep the past behaviour, explicitly set `max_features='sqrt'` or remove this parameter as it is also the default value for RandomForestClassifiers and ExtraTreesClassifiers.\n",
      "  warn(\n",
      "/Users/asha.anab/opt/anaconda3/lib/python3.9/site-packages/sklearn/ensemble/_forest.py:424: FutureWarning: `max_features='auto'` has been deprecated in 1.1 and will be removed in 1.3. To keep the past behaviour, explicitly set `max_features='sqrt'` or remove this parameter as it is also the default value for RandomForestClassifiers and ExtraTreesClassifiers.\n",
      "  warn(\n",
      "/Users/asha.anab/opt/anaconda3/lib/python3.9/site-packages/sklearn/ensemble/_forest.py:424: FutureWarning: `max_features='auto'` has been deprecated in 1.1 and will be removed in 1.3. To keep the past behaviour, explicitly set `max_features='sqrt'` or remove this parameter as it is also the default value for RandomForestClassifiers and ExtraTreesClassifiers.\n",
      "  warn(\n",
      "/Users/asha.anab/opt/anaconda3/lib/python3.9/site-packages/sklearn/ensemble/_forest.py:424: FutureWarning: `max_features='auto'` has been deprecated in 1.1 and will be removed in 1.3. To keep the past behaviour, explicitly set `max_features='sqrt'` or remove this parameter as it is also the default value for RandomForestClassifiers and ExtraTreesClassifiers.\n",
      "  warn(\n"
     ]
    },
    {
     "name": "stdout",
     "output_type": "stream",
     "text": [
      "Best parameters: {'class_weight': {0: 0.2, 1: 0.8}, 'max_depth': 6, 'max_features': 'log2', 'min_samples_leaf': 1, 'min_samples_split': 2, 'n_estimators': 271}\n",
      "Best CV score: 0.836\n"
     ]
    }
   ],
   "source": [
    "from sklearn.model_selection import RandomizedSearchCV\n",
    "from sklearn.ensemble import RandomForestClassifier\n",
    "from scipy.stats import randint\n",
    "\n",
    "param_distributions = {\n",
    "    'n_estimators': randint(100, 500),\n",
    "    'max_depth': randint(3, 20),\n",
    "    'min_samples_split': randint(2, 11),\n",
    "    'min_samples_leaf': randint(1, 6),\n",
    "    'class_weight': [{0: 0.4, 1: 0.6}, {0: 0.3, 1: 0.7}, {0: 0.2, 1: 0.8}],\n",
    "    'max_features': ['auto', 'sqrt', 'log2', None]\n",
    "}\n",
    "\n",
    "rf = RandomForestClassifier(random_state=42)\n",
    "\n",
    "random_search = RandomizedSearchCV(rf, param_distributions=param_distributions, n_iter=100, cv=5, verbose=0, random_state=42, n_jobs=-1, scoring='accuracy')\n",
    "\n",
    "random_search.fit(X_train, y_train)\n",
    "\n",
    "print(f\"Best parameters: {random_search.best_params_}\")\n",
    "print(f\"Best CV score: {random_search.best_score_}\")\n"
   ]
  },
  {
   "cell_type": "code",
   "execution_count": 145,
   "id": "11f89786",
   "metadata": {},
   "outputs": [
    {
     "name": "stdout",
     "output_type": "stream",
     "text": [
      "Optimized Model Accuracy: 0.9354838709677419\n",
      "Optimized Classification Report:\n",
      "              precision    recall  f1-score   support\n",
      "\n",
      "           0       0.95      0.95      0.95        20\n",
      "           1       0.91      0.91      0.91        11\n",
      "\n",
      "    accuracy                           0.94        31\n",
      "   macro avg       0.93      0.93      0.93        31\n",
      "weighted avg       0.94      0.94      0.94        31\n",
      "\n",
      "Optimized Confusion Matrix:\n",
      "[[19  1]\n",
      " [ 1 10]]\n"
     ]
    }
   ],
   "source": [
    "rf_optimized = RandomForestClassifier(\n",
    "    n_estimators=271,\n",
    "    max_depth=6,\n",
    "    min_samples_split=2,\n",
    "    class_weight = {0: 0.2, 1: 0.8},\n",
    "    min_samples_leaf=1,\n",
    "    max_features= 'log2',\n",
    "    random_state=42\n",
    ")\n",
    "\n",
    "\n",
    "rf_optimized.fit(X_train, y_train)\n",
    "\n",
    "\n",
    "y_pred_optimized = rf_optimized.predict(X_test)\n",
    "\n",
    "\n",
    "accuracy_optimized = accuracy_score(y_test, y_pred_optimized)\n",
    "class_report_optimized = classification_report(y_test, y_pred_optimized)\n",
    "conf_matrix_optimized = confusion_matrix(y_test, y_pred_optimized)\n",
    "\n",
    "print(f\"Optimized Model Accuracy: {accuracy_optimized}\")\n",
    "print(\"Optimized Classification Report:\")\n",
    "print(class_report_optimized)\n",
    "print(\"Optimized Confusion Matrix:\")\n",
    "print(conf_matrix_optimized)\n"
   ]
  },
  {
   "cell_type": "code",
   "execution_count": 146,
   "id": "d6864d3b",
   "metadata": {},
   "outputs": [
    {
     "data": {
      "image/png": "[encoded data removed]",
      "text/plain": [
       "<Figure size 576x432 with 2 Axes>"
      ]
     },
     "metadata": {
      "needs_background": "light"
     },
     "output_type": "display_data"
    }
   ],
   "source": [
    "from sklearn.metrics import confusion_matrix\n",
    "\n",
    "cm = confusion_matrix(y_test, y_pred_optimized)\n",
    "\n",
    "# Create a heatmap for the confusion matrix\n",
    "plt.figure(figsize=(8, 6))\n",
    "sns.heatmap(cm, annot=True, cmap='Blues', fmt='d')\n",
    "plt.title('Confusion Matrix')\n",
    "plt.xlabel('Predicted Labels')\n",
    "plt.ylabel('True Labels')\n",
    "plt.show()"
   ]
  },
  {
   "cell_type": "code",
   "execution_count": 147,
   "id": "ab389c95",
   "metadata": {},
   "outputs": [],
   "source": [
    "df_sampled.fillna(0, inplace=True)\n",
    "predictions = rf_optimized.predict(X_selected)\n",
    "probabilities = rf_optimized.predict_proba(X_selected)\n"
   ]
  },
  {
   "cell_type": "code",
   "execution_count": 148,
   "id": "c894d19c",
   "metadata": {},
   "outputs": [],
   "source": [
    "results = pd.DataFrame({\n",
    "    'CIF_ID': cif_ids,\n",
    "    'Predictions': predictions,\n",
    "    'Probabilities': probabilities[:, 1],  \n",
    "    #'y_true': y_true \n",
    "})"
   ]
  },
  {
   "cell_type": "code",
   "execution_count": 149,
   "id": "c6bb0979",
   "metadata": {},
   "outputs": [],
   "source": [
    "import pickle\n",
    "filename = 'hyperperameterw_01.sav'\n",
    "pickle.dump(rf_optimized, open(filename, 'wb'))"
   ]
  },
  {
   "cell_type": "code",
   "execution_count": null,
   "id": "b94e0199",
   "metadata": {},
   "outputs": [],
   "source": []
  }
 ],
 "metadata": {
  "kernelspec": {
   "display_name": "Python 3 (ipykernel)",
   "language": "python",
   "name": "python3"
  },
  "language_info": {
   "codemirror_mode": {
    "name": "ipython",
    "version": 3
   },
   "file_extension": ".py",
   "mimetype": "text/x-python",
   "name": "python",
   "nbconvert_exporter": "python",
   "pygments_lexer": "ipython3",
   "version": "3.9.12"
  }
 },
 "nbformat": 4,
 "nbformat_minor": 5
}
